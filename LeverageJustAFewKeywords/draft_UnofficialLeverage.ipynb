{
 "cells": [
  {
   "cell_type": "markdown",
   "source": [
    "# LeverageJustAFewKeywords\r\n",
    "\r\n",
    "https://github.com/aqweteddy/LeverageJustAFewKeywords\r\n",
    "\r\n",
    "This notebook is for making things and code in **unofficial repository** more clear, looking inside the data structure.\r\n",
    "\r\n",
    "**Experiments are run using Colab**"
   ],
   "metadata": {
    "id": "0pFKd_3gBqo5"
   }
  },
  {
   "cell_type": "code",
   "execution_count": null,
   "source": [
    "# from google.colab import drive\r\n",
    "# drive.mount('/content/drive')"
   ],
   "outputs": [],
   "metadata": {
    "id": "jU2BJXR7BwtL"
   }
  },
  {
   "cell_type": "code",
   "execution_count": null,
   "source": [
    "!pip install transformers\r\n",
    "!pip install mittens"
   ],
   "outputs": [
    {
     "output_type": "stream",
     "name": "stdout",
     "text": [
      "Collecting transformers\n",
      "\u001b[?25l  Downloading https://files.pythonhosted.org/packages/b5/d5/c6c23ad75491467a9a84e526ef2364e523d45e2b0fae28a7cbe8689e7e84/transformers-4.8.1-py3-none-any.whl (2.5MB)\n",
      "\u001b[K     |████████████████████████████████| 2.5MB 20.8MB/s \n",
      "\u001b[?25hCollecting sacremoses\n",
      "\u001b[?25l  Downloading https://files.pythonhosted.org/packages/75/ee/67241dc87f266093c533a2d4d3d69438e57d7a90abb216fa076e7d475d4a/sacremoses-0.0.45-py3-none-any.whl (895kB)\n",
      "\u001b[K     |████████████████████████████████| 901kB 38.1MB/s \n",
      "\u001b[?25hRequirement already satisfied: tqdm>=4.27 in /usr/local/lib/python3.7/dist-packages (from transformers) (4.41.1)\n",
      "Collecting huggingface-hub==0.0.12\n",
      "  Downloading https://files.pythonhosted.org/packages/2f/ee/97e253668fda9b17e968b3f97b2f8e53aa0127e8807d24a547687423fe0b/huggingface_hub-0.0.12-py3-none-any.whl\n",
      "Collecting tokenizers<0.11,>=0.10.1\n",
      "\u001b[?25l  Downloading https://files.pythonhosted.org/packages/d4/e2/df3543e8ffdab68f5acc73f613de9c2b155ac47f162e725dcac87c521c11/tokenizers-0.10.3-cp37-cp37m-manylinux_2_5_x86_64.manylinux1_x86_64.manylinux_2_12_x86_64.manylinux2010_x86_64.whl (3.3MB)\n",
      "\u001b[K     |████████████████████████████████| 3.3MB 39.6MB/s \n",
      "\u001b[?25hRequirement already satisfied: packaging in /usr/local/lib/python3.7/dist-packages (from transformers) (20.9)\n",
      "Requirement already satisfied: pyyaml in /usr/local/lib/python3.7/dist-packages (from transformers) (3.13)\n",
      "Requirement already satisfied: requests in /usr/local/lib/python3.7/dist-packages (from transformers) (2.23.0)\n",
      "Requirement already satisfied: numpy>=1.17 in /usr/local/lib/python3.7/dist-packages (from transformers) (1.19.5)\n",
      "Requirement already satisfied: filelock in /usr/local/lib/python3.7/dist-packages (from transformers) (3.0.12)\n",
      "Requirement already satisfied: importlib-metadata; python_version < \"3.8\" in /usr/local/lib/python3.7/dist-packages (from transformers) (4.5.0)\n",
      "Requirement already satisfied: regex!=2019.12.17 in /usr/local/lib/python3.7/dist-packages (from transformers) (2019.12.20)\n",
      "Requirement already satisfied: six in /usr/local/lib/python3.7/dist-packages (from sacremoses->transformers) (1.15.0)\n",
      "Requirement already satisfied: click in /usr/local/lib/python3.7/dist-packages (from sacremoses->transformers) (7.1.2)\n",
      "Requirement already satisfied: joblib in /usr/local/lib/python3.7/dist-packages (from sacremoses->transformers) (1.0.1)\n",
      "Requirement already satisfied: typing-extensions in /usr/local/lib/python3.7/dist-packages (from huggingface-hub==0.0.12->transformers) (3.7.4.3)\n",
      "Requirement already satisfied: pyparsing>=2.0.2 in /usr/local/lib/python3.7/dist-packages (from packaging->transformers) (2.4.7)\n",
      "Requirement already satisfied: chardet<4,>=3.0.2 in /usr/local/lib/python3.7/dist-packages (from requests->transformers) (3.0.4)\n",
      "Requirement already satisfied: urllib3!=1.25.0,!=1.25.1,<1.26,>=1.21.1 in /usr/local/lib/python3.7/dist-packages (from requests->transformers) (1.24.3)\n",
      "Requirement already satisfied: idna<3,>=2.5 in /usr/local/lib/python3.7/dist-packages (from requests->transformers) (2.10)\n",
      "Requirement already satisfied: certifi>=2017.4.17 in /usr/local/lib/python3.7/dist-packages (from requests->transformers) (2021.5.30)\n",
      "Requirement already satisfied: zipp>=0.5 in /usr/local/lib/python3.7/dist-packages (from importlib-metadata; python_version < \"3.8\"->transformers) (3.4.1)\n",
      "Installing collected packages: sacremoses, huggingface-hub, tokenizers, transformers\n",
      "Successfully installed huggingface-hub-0.0.12 sacremoses-0.0.45 tokenizers-0.10.3 transformers-4.8.1\n",
      "Requirement already satisfied: mittens in /usr/local/lib/python3.7/dist-packages (0.2)\n",
      "Requirement already satisfied: numpy in /usr/local/lib/python3.7/dist-packages (from mittens) (1.19.5)\n"
     ]
    }
   ],
   "metadata": {
    "colab": {
     "base_uri": "https://localhost:8080/"
    },
    "executionInfo": {
     "elapsed": 10146,
     "status": "ok",
     "timestamp": 1624847324534,
     "user": {
      "displayName": "吴景培",
      "photoUrl": "https://lh3.googleusercontent.com/a-/AOh14GjtHksei9WdAErhfi3yHKZLj_4XdYflB6cuhnlm=s64",
      "userId": "08596168006669582065"
     },
     "user_tz": -120
    },
    "id": "udW6lfpyB5W0",
    "outputId": "65ce492f-94db-45f8-db2e-b540f96e1c6d"
   }
  },
  {
   "cell_type": "code",
   "execution_count": null,
   "source": [
    "%cd /content/drive/MyDrive/LeverageJustAFewKeywords"
   ],
   "outputs": [
    {
     "output_type": "stream",
     "name": "stdout",
     "text": [
      "/content/drive/MyDrive/LeverageJustAFewKeywords\n"
     ]
    }
   ],
   "metadata": {
    "colab": {
     "base_uri": "https://localhost:8080/"
    },
    "executionInfo": {
     "elapsed": 220,
     "status": "ok",
     "timestamp": 1624847256126,
     "user": {
      "displayName": "吴景培",
      "photoUrl": "https://lh3.googleusercontent.com/a-/AOh14GjtHksei9WdAErhfi3yHKZLj_4XdYflB6cuhnlm=s64",
      "userId": "08596168006669582065"
     },
     "user_tz": -120
    },
    "id": "e8fLK6xJCHGJ",
    "outputId": "c5811ff8-aeed-4a94-84a5-82376347537d"
   }
  },
  {
   "cell_type": "code",
   "execution_count": null,
   "source": [
    "%cd ../LeverageJustAFewKeywords"
   ],
   "outputs": [
    {
     "output_type": "stream",
     "name": "stdout",
     "text": [
      "/content/drive/MyDrive/LeverageJustAFewKeywords\n"
     ]
    }
   ],
   "metadata": {
    "colab": {
     "base_uri": "https://localhost:8080/"
    },
    "executionInfo": {
     "elapsed": 7,
     "status": "ok",
     "timestamp": 1624287279599,
     "user": {
      "displayName": "吴景培",
      "photoUrl": "https://lh3.googleusercontent.com/a-/AOh14GjtHksei9WdAErhfi3yHKZLj_4XdYflB6cuhnlm=s64",
      "userId": "08596168006669582065"
     },
     "user_tz": -120
    },
    "id": "Ssz2Or1tBqo9",
    "outputId": "c4148f0a-4ffa-4fbe-9467-2b9a83193e90"
   }
  },
  {
   "cell_type": "code",
   "execution_count": null,
   "source": [
    "%load_ext autoreload\r\n",
    "%autoreload 2\r\n",
    "import numpy as np"
   ],
   "outputs": [],
   "metadata": {
    "id": "JmRcsJBmBqo_"
   }
  },
  {
   "cell_type": "markdown",
   "source": [
    "# SummaryWriter"
   ],
   "metadata": {}
  },
  {
   "cell_type": "code",
   "execution_count": 1,
   "source": [
    "from tensorboardX import SummaryWriter\r\n",
    "from utils import *"
   ],
   "outputs": [],
   "metadata": {
    "ExecuteTime": {
     "end_time": "2021-07-14T13:17:17.401869Z",
     "start_time": "2021-07-14T13:16:38.541950Z"
    }
   }
  },
  {
   "cell_type": "code",
   "execution_count": 2,
   "source": [
    "log_dir = './experiments'\r\n",
    "writer = SummaryWriter(log_dir)"
   ],
   "outputs": [],
   "metadata": {
    "ExecuteTime": {
     "end_time": "2021-07-14T13:17:17.424855Z",
     "start_time": "2021-07-14T13:17:17.404866Z"
    }
   }
  },
  {
   "cell_type": "code",
   "execution_count": 3,
   "source": [
    "a = [5, 8, 7]\r\n",
    "a_dict = list2dict(a)\r\n",
    "a_dict"
   ],
   "outputs": [
    {
     "output_type": "execute_result",
     "data": {
      "text/plain": [
       "{'0': 5, '1': 8, '2': 7}"
      ]
     },
     "metadata": {},
     "execution_count": 3
    }
   ],
   "metadata": {
    "ExecuteTime": {
     "end_time": "2021-07-14T13:17:17.812630Z",
     "start_time": "2021-07-14T13:17:17.426854Z"
    }
   }
  },
  {
   "cell_type": "code",
   "execution_count": 4,
   "source": [
    "writer.add_scalars('test', a_dict, 0)"
   ],
   "outputs": [],
   "metadata": {
    "ExecuteTime": {
     "end_time": "2021-07-14T13:17:18.233389Z",
     "start_time": "2021-07-14T13:17:17.815630Z"
    }
   }
  },
  {
   "cell_type": "markdown",
   "source": [
    "# word2vec"
   ],
   "metadata": {
    "id": "oYnzM26s3bL1"
   }
  },
  {
   "cell_type": "code",
   "execution_count": null,
   "source": [
    "from train import Trainer\n",
    "from config import hparams"
   ],
   "outputs": [],
   "metadata": {
    "id": "_Nta7ZkX3bL2"
   }
  },
  {
   "cell_type": "code",
   "execution_count": null,
   "source": [
    "trainer = Trainer(hparams, 'cuda')"
   ],
   "outputs": [
    {
     "output_type": "stream",
     "name": "stderr",
     "text": [
      "INFO:root:loading dataset...\n",
      "INFO:gensim.models.utils_any2vec:loading projection weights from ../wv/w2v_corpus_trained.bin\n",
      "INFO:gensim.models.utils_any2vec:loaded (19379, 300) matrix from ../wv/w2v_corpus_trained.bin\n",
      "INFO:gensim.models.utils_any2vec:loading projection weights from ../wv/w2v_corpus_trained.bin\n",
      "asp_category: 9\n",
      "bag_dim: 226\n",
      "loading dataset...\n",
      "INFO:gensim.models.utils_any2vec:loaded (19379, 300) matrix from ../wv/w2v_corpus_trained.bin\n",
      "INFO:root:dataset_size: 588229\n",
      "INFO:root:loading model...\n",
      "asp_category: 9\n",
      "bag_dim: 226\n",
      "length of data: 653; \tlength_of_labels: 653\n",
      "INFO:gensim.models.utils_any2vec:loading projection weights from ../wv/w2v_corpus_trained.bin\n",
      "INFO:gensim.models.utils_any2vec:loaded (19379, 300) matrix from ../wv/w2v_corpus_trained.bin\n"
     ]
    }
   ],
   "metadata": {
    "id": "tj-9UiAC3bL2",
    "outputId": "3dbac209-0bd7-409b-f3e7-f9069ad25dd4"
   }
  },
  {
   "cell_type": "code",
   "execution_count": null,
   "source": [
    "print(trainer.student.emb.weight.shape)\r\n",
    "print(trainer.student.emb.weight[2])"
   ],
   "outputs": [
    {
     "output_type": "stream",
     "name": "stdout",
     "text": [
      "torch.Size([19381, 300])\n",
      "tensor([-0.0046, -0.0121, -0.2932,  0.3288, -0.8590, -1.4005,  0.6807, -0.6227,\n",
      "         0.5384, -0.2821,  0.2095,  1.3155, -0.5457, -0.0148,  0.2519, -0.3193,\n",
      "         1.0681, -0.8513, -0.8479,  1.8756, -1.1531, -0.7611,  0.0174,  0.7811,\n",
      "        -0.1596,  0.5381,  0.3012,  0.1297, -0.2413,  0.0116, -0.0300, -0.0506,\n",
      "        -0.1058, -0.3877,  1.7364, -0.0345,  0.3005, -0.5975,  0.3802, -1.0362,\n",
      "        -1.0269,  1.7519,  0.3192, -0.8838,  0.5075,  0.6185,  0.5142,  0.2189,\n",
      "        -0.9033,  0.1991, -0.4957,  1.3350, -0.9134,  0.4006,  0.1834,  1.0811,\n",
      "        -1.0150, -0.2774, -1.1022,  0.6572,  0.5651,  0.3056,  0.9317, -0.4576,\n",
      "        -0.0701,  0.1628, -0.0856, -0.1371, -0.1364,  0.8349, -1.6454,  1.3656,\n",
      "         0.6754,  0.8125,  0.4574, -1.1769, -0.2916,  0.5010,  0.6634,  1.4547,\n",
      "         0.2387,  0.1275, -0.9204, -0.1685,  0.4335, -0.3054, -0.9092, -2.3319,\n",
      "        -0.4496, -1.7536, -0.0497,  0.0915,  1.1156, -0.2939, -0.1091,  0.8205,\n",
      "         0.1606,  1.1356, -0.5978,  1.2325, -1.0679,  1.5697, -0.4332, -1.6547,\n",
      "        -0.0108,  1.2795, -0.2161,  0.4418, -0.2921,  2.4578, -0.4234, -0.9070,\n",
      "         0.1856,  0.0807, -0.7667,  1.8636,  0.4916,  0.0473, -0.0997, -0.2422,\n",
      "        -0.2724,  0.4500,  0.3514, -0.0884, -0.1641, -0.0267, -0.5554,  1.3888,\n",
      "        -1.8766, -1.5398,  1.2299,  0.4862,  0.4449,  1.5692, -0.0900, -1.5902,\n",
      "        -0.9075, -0.4028,  0.3123, -1.7440,  1.0403, -1.4757,  1.1505, -0.7342,\n",
      "        -1.0434,  0.0620,  0.8392,  0.2279, -0.4709,  0.2061, -1.2260,  0.6194,\n",
      "         0.5599, -0.9925,  0.0606,  0.5641,  1.1520,  0.1755,  0.1507, -0.3159,\n",
      "         0.7041, -0.7598,  0.7487, -0.4658, -0.9583,  1.5280,  0.1547, -0.1234,\n",
      "        -1.2345,  0.5376, -0.2952, -0.5248,  0.4606,  0.1425, -0.8560,  0.2410,\n",
      "         0.1755, -0.8146,  0.7666, -0.6529,  1.6487, -0.2853,  0.1734,  0.4802,\n",
      "        -0.8120, -0.7189,  0.4877, -0.0924,  0.2892,  0.2846,  1.6261,  1.4923,\n",
      "         1.2575,  1.0476,  0.8808, -0.5256, -1.7503, -0.6563,  0.7001, -0.2964,\n",
      "        -1.0878,  0.7740, -1.3540, -0.6999, -0.5327, -0.5109, -0.0531,  1.3798,\n",
      "        -1.3762,  0.4995, -0.1932,  0.0065,  0.4810, -0.2177, -0.6964, -1.0732,\n",
      "        -0.1913, -0.4396, -0.7608,  0.2661,  0.7437, -0.6290,  1.5487,  0.8089,\n",
      "         0.1002,  0.4844,  1.0600,  0.0401,  0.0246,  0.1348,  0.2319, -0.6274,\n",
      "        -0.8208, -0.0316,  1.6627, -0.3406, -0.2281, -0.4608,  0.3246, -0.4081,\n",
      "         0.3421,  0.7515,  0.5868,  0.7127,  0.9375, -0.3759,  0.4653,  1.0542,\n",
      "        -0.6695,  1.2495, -0.5453,  0.8294,  0.8681, -0.0745,  0.7531, -0.1260,\n",
      "        -0.1325, -0.4241, -0.0614, -0.7804,  0.0807, -0.1842,  1.2243,  0.9609,\n",
      "         0.2787, -0.3337,  1.3052,  0.2564,  1.0760,  0.9113, -1.8165, -1.2325,\n",
      "         0.3431, -0.2947, -1.1386,  0.8627, -0.6052,  0.2073, -0.9098, -1.1044,\n",
      "         0.9950, -0.6441, -0.7396, -1.1903,  1.7594, -0.0219,  1.0182, -0.3023,\n",
      "         0.1201, -0.3271, -0.1793,  1.4039,  0.9320,  0.5637, -0.3702,  0.1411,\n",
      "        -0.6572, -1.2454, -0.6171,  0.0596], device='cuda:0',\n",
      "       grad_fn=<SelectBackward>)\n"
     ]
    }
   ],
   "metadata": {
    "id": "MEHnhMDL3bL3",
    "outputId": "f73cf1b9-9a74-45c4-c712-790510860846"
   }
  },
  {
   "cell_type": "markdown",
   "source": [
    "# `train.py`\n"
   ],
   "metadata": {
    "id": "ZbbBHF5KBqo_"
   }
  },
  {
   "cell_type": "markdown",
   "source": [
    "## Teacher Testing"
   ],
   "metadata": {
    "id": "edolELc4JcQ6"
   }
  },
  {
   "cell_type": "code",
   "execution_count": null,
   "source": [
    "# from dataset import TestDataset\r\n",
    "from train import Trainer\r\n",
    "import torch\r\n",
    "from sklearn.metrics import f1_score"
   ],
   "outputs": [],
   "metadata": {
    "id": "rF0TK_aGJU3a"
   }
  },
  {
   "cell_type": "code",
   "execution_count": null,
   "source": [
    "def test(loader, model):\r\n",
    "    score = []\r\n",
    "    result = []\r\n",
    "    ground = []\r\n",
    "    for batch in loader:\r\n",
    "        idx, bow, labels = batch\r\n",
    "        bow = bow.cuda()\r\n",
    "        labels = labels.cuda()\r\n",
    "        model.z = model.reset_z()\r\n",
    "        with torch.no_grad():\r\n",
    "            logits = model.teacher(bow, model.z)\r\n",
    "        result.append(logits.max(-1)[1].cpu())\r\n",
    "        ground.append(labels.max(-1)[1].cpu())\r\n",
    "    result = torch.cat(result, dim=0)\r\n",
    "    ground = torch.cat(ground, dim=0)\r\n",
    "    score = f1_score(ground.numpy(), result.numpy(), average='micro')\r\n",
    "    # print(model.z)\r\n",
    "    return score"
   ],
   "outputs": [],
   "metadata": {
    "id": "ai23clKmKdUe"
   }
  },
  {
   "cell_type": "code",
   "execution_count": null,
   "source": [
    "general_aspect = {'bags_and_cases': 4, 'bluetooth': 6, 'boots': 5, 'keyboards': 7, 'tv': 5, 'vacuums': 5}"
   ],
   "outputs": [],
   "metadata": {
    "id": "UgEvigUWzIMD"
   }
  },
  {
   "cell_type": "code",
   "execution_count": null,
   "source": [
    "domain_range = ['bags_and_cases', 'bluetooth', 'boots', 'keyboards', 'tv', 'vacuums']\n",
    "aspect_name = domain_range[5]\n",
    "hparams = {\n",
    "    'lr': 5e-5,\n",
    "    'batch_size': 64,\n",
    "    'student': {\n",
    "        'pretrained': 'bert-base-uncased',\n",
    "        'pretrained_dim': 768,\n",
    "        'num_aspect': 9,\n",
    "    },\n",
    "    'description': f'{aspect_name} baseline',\n",
    "    'save_dir': f'./ckpt/{aspect_name}',\n",
    "    'train_file': f'./data/{aspect_name}_train.json',\n",
    "    'aspect_init_file': f'./data/{aspect_name}.30.txt',\n",
    "    'test_file': f'./data/{aspect_name}_test.json',\n",
    "    'general_asp': general_aspect[aspect_name],\n",
    "    'maxlen': 40\n",
    "}"
   ],
   "outputs": [],
   "metadata": {
    "id": "psEzVXG1KE8i"
   }
  },
  {
   "cell_type": "code",
   "execution_count": null,
   "source": [
    "trainer = Trainer(hparams, 'cuda')"
   ],
   "outputs": [
    {
     "output_type": "stream",
     "name": "stderr",
     "text": [
      "INFO:root:loading dataset...\n"
     ]
    },
    {
     "output_type": "stream",
     "name": "stdout",
     "text": [
      "asp_category: 9\n",
      "bag_dim: 239\n",
      "loading dataset...\n"
     ]
    },
    {
     "output_type": "stream",
     "name": "stderr",
     "text": [
      "INFO:root:dataset_size: 1465525\n",
      "INFO:root:loading model...\n"
     ]
    },
    {
     "output_type": "stream",
     "name": "stdout",
     "text": [
      "asp_category: 9\n",
      "bag_dim: 239\n",
      "length of data: 741; \tlength_of_labels: 741\n"
     ]
    },
    {
     "output_type": "stream",
     "name": "stderr",
     "text": [
      "Some weights of the model checkpoint at bert-base-uncased were not used when initializing BertModel: ['cls.predictions.transform.LayerNorm.bias', 'cls.predictions.decoder.weight', 'cls.predictions.bias', 'cls.predictions.transform.LayerNorm.weight', 'cls.seq_relationship.weight', 'cls.predictions.transform.dense.bias', 'cls.predictions.transform.dense.weight', 'cls.seq_relationship.bias']\n",
      "- This IS expected if you are initializing BertModel from the checkpoint of a model trained on another task or with another architecture (e.g. initializing a BertForSequenceClassification model from a BertForPreTraining model).\n",
      "- This IS NOT expected if you are initializing BertModel from the checkpoint of a model that you expect to be exactly identical (initializing a BertForSequenceClassification model from a BertForSequenceClassification model).\n"
     ]
    }
   ],
   "metadata": {
    "colab": {
     "base_uri": "https://localhost:8080/"
    },
    "executionInfo": {
     "elapsed": 6315,
     "status": "ok",
     "timestamp": 1622440597933,
     "user": {
      "displayName": "吴景培",
      "photoUrl": "https://lh3.googleusercontent.com/a-/AOh14GjtHksei9WdAErhfi3yHKZLj_4XdYflB6cuhnlm=s64",
      "userId": "08596168006669582065"
     },
     "user_tz": -120
    },
    "id": "xFktkPwuKR-7",
    "outputId": "55e27ffc-d9ba-450e-ca85-9815c10c7409"
   }
  },
  {
   "cell_type": "code",
   "execution_count": null,
   "source": [
    "test(trainer.test_loader, trainer)"
   ],
   "outputs": [
    {
     "output_type": "execute_result",
     "data": {
      "text/plain": [
       "0.5614035087719298"
      ]
     },
     "metadata": {
      "tags": []
     },
     "execution_count": 25
    }
   ],
   "metadata": {
    "colab": {
     "base_uri": "https://localhost:8080/"
    },
    "executionInfo": {
     "elapsed": 676,
     "status": "ok",
     "timestamp": 1622440598595,
     "user": {
      "displayName": "吴景培",
      "photoUrl": "https://lh3.googleusercontent.com/a-/AOh14GjtHksei9WdAErhfi3yHKZLj_4XdYflB6cuhnlm=s64",
      "userId": "08596168006669582065"
     },
     "user_tz": -120
    },
    "id": "JJUOvljxO_W9",
    "outputId": "3c274a40-b28d-4721-ee9e-e13c91db4e6d"
   }
  },
  {
   "cell_type": "markdown",
   "source": [
    "## check gradient"
   ],
   "metadata": {
    "id": "JyEFHTszBqo_"
   }
  },
  {
   "cell_type": "code",
   "execution_count": null,
   "source": [
    "from train import *\n",
    "from torch.utils.data import DataLoader"
   ],
   "outputs": [],
   "metadata": {
    "id": "S78xo_hGBqpA"
   }
  },
  {
   "cell_type": "code",
   "execution_count": null,
   "source": [
    "hparams = {\n",
    "    'lr': 5e-5,\n",
    "    'batch_size': 64,\n",
    "    'student': {\n",
    "        'pretrained': 'bert-base-uncased',\n",
    "        'pretrained_dim': 768,\n",
    "        'num_aspect': 9,\n",
    "    },\n",
    "    'description': 'bags_and_cases baseline',\n",
    "    'save_dir': './ckpt/bags',\n",
    "    'aspect_init_file': './data/bags_and_cases.30.txt',\n",
    "    'train_file': './data/bags_and_cases_train.json',\n",
    "    'test_file': './data/bags_and_cases_test.json',\n",
    "    'general_asp': 4,\n",
    "    'maxlen': 40\n",
    "}"
   ],
   "outputs": [],
   "metadata": {
    "id": "Dbq4mksEBqpA"
   }
  },
  {
   "cell_type": "code",
   "execution_count": null,
   "source": [
    "trainer = Trainer(hparams, 'cuda')"
   ],
   "outputs": [
    {
     "output_type": "stream",
     "name": "stderr",
     "text": [
      "INFO:root:loading dataset...\n"
     ]
    },
    {
     "output_type": "stream",
     "name": "stdout",
     "text": [
      "asp_category: 9\n",
      "bag_dim: 226\n",
      "loading dataset...\n"
     ]
    },
    {
     "output_type": "stream",
     "name": "stderr",
     "text": [
      "INFO:root:dataset_size: 588229\n",
      "INFO:root:loading model...\n"
     ]
    },
    {
     "output_type": "stream",
     "name": "stdout",
     "text": [
      "asp_category: 9\n",
      "bag_dim: 226\n",
      "653 653\n"
     ]
    },
    {
     "output_type": "stream",
     "name": "stderr",
     "text": [
      "Some weights of the model checkpoint at bert-base-uncased were not used when initializing BertModel: ['cls.predictions.decoder.weight', 'cls.predictions.transform.dense.bias', 'cls.seq_relationship.weight', 'cls.predictions.transform.LayerNorm.weight', 'cls.predictions.transform.LayerNorm.bias', 'cls.predictions.bias', 'cls.seq_relationship.bias', 'cls.predictions.transform.dense.weight']\n",
      "- This IS expected if you are initializing BertModel from the checkpoint of a model trained on another task or with another architecture (e.g. initializing a BertForSequenceClassification model from a BertForPreTraining model).\n",
      "- This IS NOT expected if you are initializing BertModel from the checkpoint of a model that you expect to be exactly identical (initializing a BertForSequenceClassification model from a BertForSequenceClassification model).\n"
     ]
    }
   ],
   "metadata": {
    "colab": {
     "base_uri": "https://localhost:8080/"
    },
    "executionInfo": {
     "elapsed": 14920,
     "status": "ok",
     "timestamp": 1622309844972,
     "user": {
      "displayName": "吴景培",
      "photoUrl": "https://lh3.googleusercontent.com/a-/AOh14GjtHksei9WdAErhfi3yHKZLj_4XdYflB6cuhnlm=s64",
      "userId": "08596168006669582065"
     },
     "user_tz": -120
    },
    "id": "ohgEgB9mBqpA",
    "outputId": "4da177df-b5a8-4d37-bca8-23ea45360f9e"
   }
  },
  {
   "cell_type": "code",
   "execution_count": null,
   "source": [
    "loader = DataLoader(trainer.ds, batch_size=64)"
   ],
   "outputs": [],
   "metadata": {
    "id": "rTG_e8CLBqpB"
   }
  },
  {
   "cell_type": "code",
   "execution_count": null,
   "source": [
    "bow, id = next(iter(loader))"
   ],
   "outputs": [],
   "metadata": {
    "id": "-APRJawWBqpB"
   }
  },
  {
   "cell_type": "code",
   "execution_count": null,
   "source": [
    "step_loss = trainer.train_step(bow.cuda(), id.cuda())"
   ],
   "outputs": [
    {
     "output_type": "stream",
     "name": "stdout",
     "text": [
      "\n"
     ]
    }
   ],
   "metadata": {
    "colab": {
     "base_uri": "https://localhost:8080/"
    },
    "executionInfo": {
     "elapsed": 611,
     "status": "ok",
     "timestamp": 1622309852409,
     "user": {
      "displayName": "吴景培",
      "photoUrl": "https://lh3.googleusercontent.com/a-/AOh14GjtHksei9WdAErhfi3yHKZLj_4XdYflB6cuhnlm=s64",
      "userId": "08596168006669582065"
     },
     "user_tz": -120
    },
    "id": "AkEmfc4nBqpB",
    "outputId": "19b42a52-3d9f-4bb9-a81c-d0585a05ee0c"
   }
  },
  {
   "cell_type": "markdown",
   "source": [
    "There is no trainable parameters in teacher."
   ],
   "metadata": {
    "id": "r8r140X1EK0G"
   }
  },
  {
   "cell_type": "code",
   "execution_count": null,
   "source": [
    "for name, weight in trainer.student.named_parameters():\n",
    "    if weight.requires_grad:\n",
    "        if weight.grad == None:\n",
    "            print(name, 'grad none')\n",
    "        else:\n",
    "            print(name, weight.grad.mean())\n",
    "    else:\n",
    "        print(\"don't requires grad: {}\".format(name))"
   ],
   "outputs": [
    {
     "output_type": "stream",
     "name": "stdout",
     "text": [
      "bert.embeddings.word_embeddings.weight tensor(-3.2293e-13, device='cuda:0')\n",
      "bert.embeddings.position_embeddings.weight tensor(-3.1984e-11, device='cuda:0')\n",
      "bert.embeddings.token_type_embeddings.weight tensor(-4.9671e-09, device='cuda:0')\n",
      "bert.embeddings.LayerNorm.weight tensor(0.0125, device='cuda:0')\n",
      "bert.embeddings.LayerNorm.bias tensor(0.0011, device='cuda:0')\n",
      "bert.encoder.layer.0.attention.self.query.weight tensor(-6.6983e-05, device='cuda:0')\n",
      "bert.encoder.layer.0.attention.self.query.bias tensor(0.0021, device='cuda:0')\n",
      "bert.encoder.layer.0.attention.self.key.weight tensor(8.9338e-05, device='cuda:0')\n",
      "bert.encoder.layer.0.attention.self.key.bias tensor(2.7759e-10, device='cuda:0')\n",
      "bert.encoder.layer.0.attention.self.value.weight tensor(-7.1446e-05, device='cuda:0')\n",
      "bert.encoder.layer.0.attention.self.value.bias tensor(-0.0016, device='cuda:0')\n",
      "bert.encoder.layer.0.attention.output.dense.weight tensor(0., device='cuda:0')\n",
      "bert.encoder.layer.0.attention.output.dense.bias tensor(-8.9252e-10, device='cuda:0')\n",
      "bert.encoder.layer.0.attention.output.LayerNorm.weight tensor(0.0063, device='cuda:0')\n",
      "bert.encoder.layer.0.attention.output.LayerNorm.bias tensor(0.0016, device='cuda:0')\n",
      "bert.encoder.layer.0.intermediate.dense.weight tensor(-4.6811e-05, device='cuda:0')\n",
      "bert.encoder.layer.0.intermediate.dense.bias tensor(0.0006, device='cuda:0')\n",
      "bert.encoder.layer.0.output.dense.weight tensor(-1.2935e-11, device='cuda:0')\n",
      "bert.encoder.layer.0.output.dense.bias tensor(-3.2984e-10, device='cuda:0')\n",
      "bert.encoder.layer.0.output.LayerNorm.weight tensor(-0.0027, device='cuda:0')\n",
      "bert.encoder.layer.0.output.LayerNorm.bias tensor(0.0623, device='cuda:0')\n",
      "bert.encoder.layer.1.attention.self.query.weight tensor(2.0860e-05, device='cuda:0')\n",
      "bert.encoder.layer.1.attention.self.query.bias tensor(-0.0012, device='cuda:0')\n",
      "bert.encoder.layer.1.attention.self.key.weight tensor(-1.4270e-06, device='cuda:0')\n",
      "bert.encoder.layer.1.attention.self.key.bias tensor(-6.2132e-11, device='cuda:0')\n",
      "bert.encoder.layer.1.attention.self.value.weight tensor(7.6686e-05, device='cuda:0')\n",
      "bert.encoder.layer.1.attention.self.value.bias tensor(-0.0040, device='cuda:0')\n",
      "bert.encoder.layer.1.attention.output.dense.weight tensor(9.7013e-12, device='cuda:0')\n",
      "bert.encoder.layer.1.attention.output.dense.bias tensor(-1.5522e-10, device='cuda:0')\n",
      "bert.encoder.layer.1.attention.output.LayerNorm.weight tensor(0.0045, device='cuda:0')\n",
      "bert.encoder.layer.1.attention.output.LayerNorm.bias tensor(0.0016, device='cuda:0')\n",
      "bert.encoder.layer.1.intermediate.dense.weight tensor(-4.0927e-05, device='cuda:0')\n",
      "bert.encoder.layer.1.intermediate.dense.bias tensor(0.0005, device='cuda:0')\n",
      "bert.encoder.layer.1.output.dense.weight tensor(1.2935e-11, device='cuda:0')\n",
      "bert.encoder.layer.1.output.dense.bias tensor(-3.1044e-10, device='cuda:0')\n",
      "bert.encoder.layer.1.output.LayerNorm.weight tensor(-0.0050, device='cuda:0')\n",
      "bert.encoder.layer.1.output.LayerNorm.bias tensor(0.0048, device='cuda:0')\n",
      "bert.encoder.layer.2.attention.self.query.weight tensor(9.2961e-06, device='cuda:0')\n",
      "bert.encoder.layer.2.attention.self.query.bias tensor(-0.0005, device='cuda:0')\n",
      "bert.encoder.layer.2.attention.self.key.weight tensor(-1.3242e-06, device='cuda:0')\n",
      "bert.encoder.layer.2.attention.self.key.bias tensor(2.5989e-11, device='cuda:0')\n",
      "bert.encoder.layer.2.attention.self.value.weight tensor(7.2125e-05, device='cuda:0')\n",
      "bert.encoder.layer.2.attention.self.value.bias tensor(-0.0034, device='cuda:0')\n",
      "bert.encoder.layer.2.attention.output.dense.weight tensor(2.1019e-11, device='cuda:0')\n",
      "bert.encoder.layer.2.attention.output.dense.bias tensor(-4.6566e-10, device='cuda:0')\n",
      "bert.encoder.layer.2.attention.output.LayerNorm.weight tensor(0.0020, device='cuda:0')\n",
      "bert.encoder.layer.2.attention.output.LayerNorm.bias tensor(-0.0011, device='cuda:0')\n",
      "bert.encoder.layer.2.intermediate.dense.weight tensor(-4.2461e-06, device='cuda:0')\n",
      "bert.encoder.layer.2.intermediate.dense.bias tensor(0.0002, device='cuda:0')\n",
      "bert.encoder.layer.2.output.dense.weight tensor(-6.4675e-12, device='cuda:0')\n",
      "bert.encoder.layer.2.output.dense.bias tensor(-7.7610e-11, device='cuda:0')\n",
      "bert.encoder.layer.2.output.LayerNorm.weight tensor(0.0010, device='cuda:0')\n",
      "bert.encoder.layer.2.output.LayerNorm.bias tensor(0.0053, device='cuda:0')\n",
      "bert.encoder.layer.3.attention.self.query.weight tensor(7.0112e-07, device='cuda:0')\n",
      "bert.encoder.layer.3.attention.self.query.bias tensor(9.6027e-06, device='cuda:0')\n",
      "bert.encoder.layer.3.attention.self.key.weight tensor(1.8251e-06, device='cuda:0')\n",
      "bert.encoder.layer.3.attention.self.key.bias tensor(7.2115e-11, device='cuda:0')\n",
      "bert.encoder.layer.3.attention.self.value.weight tensor(4.3133e-05, device='cuda:0')\n",
      "bert.encoder.layer.3.attention.self.value.bias tensor(-0.0019, device='cuda:0')\n",
      "bert.encoder.layer.3.attention.output.dense.weight tensor(-9.0949e-12, device='cuda:0')\n",
      "bert.encoder.layer.3.attention.output.dense.bias tensor(-3.8805e-10, device='cuda:0')\n",
      "bert.encoder.layer.3.attention.output.LayerNorm.weight tensor(-0.0002, device='cuda:0')\n",
      "bert.encoder.layer.3.attention.output.LayerNorm.bias tensor(8.6009e-05, device='cuda:0')\n",
      "bert.encoder.layer.3.intermediate.dense.weight tensor(4.4682e-06, device='cuda:0')\n",
      "bert.encoder.layer.3.intermediate.dense.bias tensor(-0.0001, device='cuda:0')\n",
      "bert.encoder.layer.3.output.dense.weight tensor(1.2935e-11, device='cuda:0')\n",
      "bert.encoder.layer.3.output.dense.bias tensor(-3.1044e-10, device='cuda:0')\n",
      "bert.encoder.layer.3.output.LayerNorm.weight tensor(-0.0010, device='cuda:0')\n",
      "bert.encoder.layer.3.output.LayerNorm.bias tensor(0.0060, device='cuda:0')\n",
      "bert.encoder.layer.4.attention.self.query.weight tensor(-9.0793e-06, device='cuda:0')\n",
      "bert.encoder.layer.4.attention.self.query.bias tensor(0.0003, device='cuda:0')\n",
      "bert.encoder.layer.4.attention.self.key.weight tensor(1.6197e-07, device='cuda:0')\n",
      "bert.encoder.layer.4.attention.self.key.bias tensor(4.7123e-11, device='cuda:0')\n",
      "bert.encoder.layer.4.attention.self.value.weight tensor(2.4636e-05, device='cuda:0')\n",
      "bert.encoder.layer.4.attention.self.value.bias tensor(-0.0013, device='cuda:0')\n",
      "bert.encoder.layer.4.attention.output.dense.weight tensor(-1.0105e-11, device='cuda:0')\n",
      "bert.encoder.layer.4.attention.output.dense.bias tensor(7.7610e-11, device='cuda:0')\n",
      "bert.encoder.layer.4.attention.output.LayerNorm.weight tensor(0.0002, device='cuda:0')\n",
      "bert.encoder.layer.4.attention.output.LayerNorm.bias tensor(-0.0007, device='cuda:0')\n",
      "bert.encoder.layer.4.intermediate.dense.weight tensor(2.0891e-06, device='cuda:0')\n",
      "bert.encoder.layer.4.intermediate.dense.bias tensor(-0.0001, device='cuda:0')\n",
      "bert.encoder.layer.4.output.dense.weight tensor(1.6169e-11, device='cuda:0')\n",
      "bert.encoder.layer.4.output.dense.bias tensor(-3.4925e-10, device='cuda:0')\n",
      "bert.encoder.layer.4.output.LayerNorm.weight tensor(-0.0009, device='cuda:0')\n",
      "bert.encoder.layer.4.output.LayerNorm.bias tensor(-0.0069, device='cuda:0')\n",
      "bert.encoder.layer.5.attention.self.query.weight tensor(-5.4219e-06, device='cuda:0')\n",
      "bert.encoder.layer.5.attention.self.query.bias tensor(0.0002, device='cuda:0')\n",
      "bert.encoder.layer.5.attention.self.key.weight tensor(-1.2012e-06, device='cuda:0')\n",
      "bert.encoder.layer.5.attention.self.key.bias tensor(-1.3567e-11, device='cuda:0')\n",
      "bert.encoder.layer.5.attention.self.value.weight tensor(8.7846e-06, device='cuda:0')\n",
      "bert.encoder.layer.5.attention.self.value.bias tensor(-0.0010, device='cuda:0')\n",
      "bert.encoder.layer.5.attention.output.dense.weight tensor(2.8295e-12, device='cuda:0')\n",
      "bert.encoder.layer.5.attention.output.dense.bias tensor(-2.1343e-10, device='cuda:0')\n",
      "bert.encoder.layer.5.attention.output.LayerNorm.weight tensor(-0.0021, device='cuda:0')\n",
      "bert.encoder.layer.5.attention.output.LayerNorm.bias tensor(0.0020, device='cuda:0')\n",
      "bert.encoder.layer.5.intermediate.dense.weight tensor(9.8142e-06, device='cuda:0')\n",
      "bert.encoder.layer.5.intermediate.dense.bias tensor(-0.0004, device='cuda:0')\n",
      "bert.encoder.layer.5.output.dense.weight tensor(-3.2338e-12, device='cuda:0')\n",
      "bert.encoder.layer.5.output.dense.bias tensor(1.5522e-10, device='cuda:0')\n",
      "bert.encoder.layer.5.output.LayerNorm.weight tensor(-0.0009, device='cuda:0')\n",
      "bert.encoder.layer.5.output.LayerNorm.bias tensor(0.0046, device='cuda:0')\n",
      "bert.encoder.layer.6.attention.self.query.weight tensor(-1.1682e-06, device='cuda:0')\n",
      "bert.encoder.layer.6.attention.self.query.bias tensor(4.5819e-05, device='cuda:0')\n",
      "bert.encoder.layer.6.attention.self.key.weight tensor(2.6856e-06, device='cuda:0')\n",
      "bert.encoder.layer.6.attention.self.key.bias tensor(-1.3832e-12, device='cuda:0')\n",
      "bert.encoder.layer.6.attention.self.value.weight tensor(5.7647e-06, device='cuda:0')\n",
      "bert.encoder.layer.6.attention.self.value.bias tensor(-8.6830e-05, device='cuda:0')\n",
      "bert.encoder.layer.6.attention.output.dense.weight tensor(4.2443e-12, device='cuda:0')\n",
      "bert.encoder.layer.6.attention.output.dense.bias tensor(-1.5522e-10, device='cuda:0')\n",
      "bert.encoder.layer.6.attention.output.LayerNorm.weight tensor(0.0001, device='cuda:0')\n",
      "bert.encoder.layer.6.attention.output.LayerNorm.bias tensor(0.0024, device='cuda:0')\n",
      "bert.encoder.layer.6.intermediate.dense.weight tensor(6.1706e-06, device='cuda:0')\n",
      "bert.encoder.layer.6.intermediate.dense.bias tensor(-0.0002, device='cuda:0')\n",
      "bert.encoder.layer.6.output.dense.weight tensor(1.6169e-11, device='cuda:0')\n",
      "bert.encoder.layer.6.output.dense.bias tensor(-2.3283e-10, device='cuda:0')\n",
      "bert.encoder.layer.6.output.LayerNorm.weight tensor(-0.0007, device='cuda:0')\n",
      "bert.encoder.layer.6.output.LayerNorm.bias tensor(0.0048, device='cuda:0')\n",
      "bert.encoder.layer.7.attention.self.query.weight tensor(3.3950e-06, device='cuda:0')\n",
      "bert.encoder.layer.7.attention.self.query.bias tensor(-0.0001, device='cuda:0')\n",
      "bert.encoder.layer.7.attention.self.key.weight tensor(-6.8496e-07, device='cuda:0')\n",
      "bert.encoder.layer.7.attention.self.key.bias tensor(-1.0681e-10, device='cuda:0')\n",
      "bert.encoder.layer.7.attention.self.value.weight tensor(2.9345e-05, device='cuda:0')\n",
      "bert.encoder.layer.7.attention.self.value.bias tensor(-0.0014, device='cuda:0')\n",
      "bert.encoder.layer.7.attention.output.dense.weight tensor(-8.0844e-13, device='cuda:0')\n",
      "bert.encoder.layer.7.attention.output.dense.bias tensor(-8.1491e-10, device='cuda:0')\n",
      "bert.encoder.layer.7.attention.output.LayerNorm.weight tensor(0.0005, device='cuda:0')\n",
      "bert.encoder.layer.7.attention.output.LayerNorm.bias tensor(0.0009, device='cuda:0')\n",
      "bert.encoder.layer.7.intermediate.dense.weight tensor(-1.2276e-07, device='cuda:0')\n",
      "bert.encoder.layer.7.intermediate.dense.bias tensor(-3.5969e-05, device='cuda:0')\n",
      "bert.encoder.layer.7.output.dense.weight tensor(2.7487e-11, device='cuda:0')\n",
      "bert.encoder.layer.7.output.dense.bias tensor(-6.9849e-10, device='cuda:0')\n",
      "bert.encoder.layer.7.output.LayerNorm.weight tensor(0.0006, device='cuda:0')\n",
      "bert.encoder.layer.7.output.LayerNorm.bias tensor(0.0126, device='cuda:0')\n",
      "bert.encoder.layer.8.attention.self.query.weight tensor(-9.9351e-06, device='cuda:0')\n",
      "bert.encoder.layer.8.attention.self.query.bias tensor(0.0003, device='cuda:0')\n",
      "bert.encoder.layer.8.attention.self.key.weight tensor(-2.8063e-06, device='cuda:0')\n",
      "bert.encoder.layer.8.attention.self.key.bias tensor(3.4314e-11, device='cuda:0')\n",
      "bert.encoder.layer.8.attention.self.value.weight tensor(2.6785e-05, device='cuda:0')\n",
      "bert.encoder.layer.8.attention.self.value.bias tensor(-0.0015, device='cuda:0')\n",
      "bert.encoder.layer.8.attention.output.dense.weight tensor(7.8823e-12, device='cuda:0')\n",
      "bert.encoder.layer.8.attention.output.dense.bias tensor(-5.4327e-10, device='cuda:0')\n",
      "bert.encoder.layer.8.attention.output.LayerNorm.weight tensor(0.0002, device='cuda:0')\n",
      "bert.encoder.layer.8.attention.output.LayerNorm.bias tensor(-9.5745e-05, device='cuda:0')\n",
      "bert.encoder.layer.8.intermediate.dense.weight tensor(1.0298e-06, device='cuda:0')\n",
      "bert.encoder.layer.8.intermediate.dense.bias tensor(2.0184e-05, device='cuda:0')\n",
      "bert.encoder.layer.8.output.dense.weight tensor(1.1318e-11, device='cuda:0')\n",
      "bert.encoder.layer.8.output.dense.bias tensor(-7.7610e-11, device='cuda:0')\n",
      "bert.encoder.layer.8.output.LayerNorm.weight tensor(-0.0026, device='cuda:0')\n",
      "bert.encoder.layer.8.output.LayerNorm.bias tensor(0.0032, device='cuda:0')\n",
      "bert.encoder.layer.9.attention.self.query.weight tensor(3.1629e-06, device='cuda:0')\n",
      "bert.encoder.layer.9.attention.self.query.bias tensor(-3.4532e-05, device='cuda:0')\n",
      "bert.encoder.layer.9.attention.self.key.weight tensor(1.2839e-06, device='cuda:0')\n",
      "bert.encoder.layer.9.attention.self.key.bias tensor(9.3820e-11, device='cuda:0')\n",
      "bert.encoder.layer.9.attention.self.value.weight tensor(-2.4716e-05, device='cuda:0')\n",
      "bert.encoder.layer.9.attention.self.value.bias tensor(0.0009, device='cuda:0')\n",
      "bert.encoder.layer.9.attention.output.dense.weight tensor(-1.3743e-11, device='cuda:0')\n",
      "bert.encoder.layer.9.attention.output.dense.bias tensor(-9.3132e-10, device='cuda:0')\n",
      "bert.encoder.layer.9.attention.output.LayerNorm.weight tensor(0.0016, device='cuda:0')\n",
      "bert.encoder.layer.9.attention.output.LayerNorm.bias tensor(0.0011, device='cuda:0')\n",
      "bert.encoder.layer.9.intermediate.dense.weight tensor(-2.9188e-06, device='cuda:0')\n",
      "bert.encoder.layer.9.intermediate.dense.bias tensor(4.1211e-05, device='cuda:0')\n",
      "bert.encoder.layer.9.output.dense.weight tensor(-3.2338e-12, device='cuda:0')\n",
      "bert.encoder.layer.9.output.dense.bias tensor(-1.5522e-10, device='cuda:0')\n",
      "bert.encoder.layer.9.output.LayerNorm.weight tensor(-0.0033, device='cuda:0')\n",
      "bert.encoder.layer.9.output.LayerNorm.bias tensor(0.0006, device='cuda:0')\n",
      "bert.encoder.layer.10.attention.self.query.weight tensor(2.3009e-06, device='cuda:0')\n",
      "bert.encoder.layer.10.attention.self.query.bias tensor(-8.9178e-05, device='cuda:0')\n",
      "bert.encoder.layer.10.attention.self.key.weight tensor(-1.9040e-06, device='cuda:0')\n",
      "bert.encoder.layer.10.attention.self.key.bias tensor(2.9615e-11, device='cuda:0')\n",
      "bert.encoder.layer.10.attention.self.value.weight tensor(-5.7444e-06, device='cuda:0')\n",
      "bert.encoder.layer.10.attention.self.value.bias tensor(0.0008, device='cuda:0')\n",
      "bert.encoder.layer.10.attention.output.dense.weight tensor(1.0914e-11, device='cuda:0')\n",
      "bert.encoder.layer.10.attention.output.dense.bias tensor(-3.1044e-10, device='cuda:0')\n",
      "bert.encoder.layer.10.attention.output.LayerNorm.weight tensor(0.0017, device='cuda:0')\n",
      "bert.encoder.layer.10.attention.output.LayerNorm.bias tensor(-0.0005, device='cuda:0')\n",
      "bert.encoder.layer.10.intermediate.dense.weight tensor(-2.3448e-06, device='cuda:0')\n",
      "bert.encoder.layer.10.intermediate.dense.bias tensor(5.0552e-05, device='cuda:0')\n",
      "bert.encoder.layer.10.output.dense.weight tensor(-1.2935e-11, device='cuda:0')\n",
      "bert.encoder.layer.10.output.dense.bias tensor(0., device='cuda:0')\n",
      "bert.encoder.layer.10.output.LayerNorm.weight tensor(0.0051, device='cuda:0')\n",
      "bert.encoder.layer.10.output.LayerNorm.bias tensor(-0.0072, device='cuda:0')\n",
      "bert.encoder.layer.11.attention.self.query.weight tensor(-2.7417e-06, device='cuda:0')\n",
      "bert.encoder.layer.11.attention.self.query.bias tensor(8.6908e-05, device='cuda:0')\n",
      "bert.encoder.layer.11.attention.self.key.weight tensor(-2.3581e-06, device='cuda:0')\n",
      "bert.encoder.layer.11.attention.self.key.bias tensor(2.3078e-11, device='cuda:0')\n",
      "bert.encoder.layer.11.attention.self.value.weight tensor(4.7503e-06, device='cuda:0')\n",
      "bert.encoder.layer.11.attention.self.value.bias tensor(-5.4396e-06, device='cuda:0')\n",
      "bert.encoder.layer.11.attention.output.dense.weight tensor(6.4675e-12, device='cuda:0')\n",
      "bert.encoder.layer.11.attention.output.dense.bias tensor(1.5522e-10, device='cuda:0')\n",
      "bert.encoder.layer.11.attention.output.LayerNorm.weight tensor(-0.0006, device='cuda:0')\n",
      "bert.encoder.layer.11.attention.output.LayerNorm.bias tensor(-0.0013, device='cuda:0')\n",
      "bert.encoder.layer.11.intermediate.dense.weight tensor(-8.4920e-06, device='cuda:0')\n",
      "bert.encoder.layer.11.intermediate.dense.bias tensor(0.0002, device='cuda:0')\n",
      "bert.encoder.layer.11.output.dense.weight tensor(-1.6169e-12, device='cuda:0')\n",
      "bert.encoder.layer.11.output.dense.bias tensor(0., device='cuda:0')\n",
      "bert.encoder.layer.11.output.LayerNorm.weight tensor(-0.0056, device='cuda:0')\n",
      "bert.encoder.layer.11.output.LayerNorm.bias tensor(0.0014, device='cuda:0')\n",
      "bert.pooler.dense.weight grad none\n",
      "bert.pooler.dense.bias grad none\n",
      "fc.0.weight tensor(-1.2202e-09, device='cuda:0')\n",
      "fc.0.bias tensor(9.9341e-08, device='cuda:0')\n"
     ]
    }
   ],
   "metadata": {
    "colab": {
     "base_uri": "https://localhost:8080/"
    },
    "executionInfo": {
     "elapsed": 357,
     "status": "ok",
     "timestamp": 1622309855295,
     "user": {
      "displayName": "吴景培",
      "photoUrl": "https://lh3.googleusercontent.com/a-/AOh14GjtHksei9WdAErhfi3yHKZLj_4XdYflB6cuhnlm=s64",
      "userId": "08596168006669582065"
     },
     "user_tz": -120
    },
    "id": "-pE2-LOyCbw8",
    "outputId": "a3a066c6-2271-4ff3-b47f-552010a2d62c"
   }
  },
  {
   "cell_type": "markdown",
   "source": [
    "## metrics"
   ],
   "metadata": {
    "id": "W1ANCvJ5kGLe"
   }
  },
  {
   "cell_type": "code",
   "execution_count": null,
   "source": [
    "from sklearn.metrics import recall_score\n",
    "from collections import Counter"
   ],
   "outputs": [],
   "metadata": {
    "id": "AVu59A5QkI_O"
   }
  },
  {
   "cell_type": "code",
   "execution_count": null,
   "source": [
    "y_true = [0, 1, 2, 0, 1, 2]\n",
    "y_pred = [0, 2, 1, 0, 0, 1]\n",
    "print(Counter(y_true))\n",
    "recall_score(y_true, y_pred, average='micro')\n"
   ],
   "outputs": [
    {
     "output_type": "stream",
     "name": "stdout",
     "text": [
      "Counter({0: 2, 1: 2, 2: 2})\n"
     ]
    },
    {
     "output_type": "execute_result",
     "data": {
      "text/plain": [
       "0.3333333333333333"
      ]
     },
     "metadata": {
      "tags": []
     },
     "execution_count": 32
    }
   ],
   "metadata": {
    "colab": {
     "base_uri": "https://localhost:8080/"
    },
    "executionInfo": {
     "elapsed": 235,
     "status": "ok",
     "timestamp": 1624296282960,
     "user": {
      "displayName": "吴景培",
      "photoUrl": "https://lh3.googleusercontent.com/a-/AOh14GjtHksei9WdAErhfi3yHKZLj_4XdYflB6cuhnlm=s64",
      "userId": "08596168006669582065"
     },
     "user_tz": -120
    },
    "id": "-uUGphRrkNyi",
    "outputId": "861c1520-c357-45ec-dc30-6a4f614a984a"
   }
  },
  {
   "cell_type": "code",
   "execution_count": null,
   "source": [
    "y_true = [0, 0, 0, 0, 0, 0]\n",
    "recall_score(y_true, y_pred, average='micro')"
   ],
   "outputs": [
    {
     "output_type": "execute_result",
     "data": {
      "text/plain": [
       "0.5"
      ]
     },
     "metadata": {
      "tags": []
     },
     "execution_count": 28
    }
   ],
   "metadata": {
    "colab": {
     "base_uri": "https://localhost:8080/"
    },
    "executionInfo": {
     "elapsed": 198,
     "status": "ok",
     "timestamp": 1624295773215,
     "user": {
      "displayName": "吴景培",
      "photoUrl": "https://lh3.googleusercontent.com/a-/AOh14GjtHksei9WdAErhfi3yHKZLj_4XdYflB6cuhnlm=s64",
      "userId": "08596168006669582065"
     },
     "user_tz": -120
    },
    "id": "ZfzG8fZCkZ3i",
    "outputId": "4d247633-c749-4ba1-d810-9b84585aa6d1"
   }
  },
  {
   "cell_type": "code",
   "execution_count": null,
   "source": [
    "class_count = Counter(y_true)\n",
    "class_count"
   ],
   "outputs": [
    {
     "output_type": "execute_result",
     "data": {
      "text/plain": [
       "Counter({0: 6})"
      ]
     },
     "metadata": {
      "tags": []
     },
     "execution_count": 31
    }
   ],
   "metadata": {
    "colab": {
     "base_uri": "https://localhost:8080/"
    },
    "executionInfo": {
     "elapsed": 212,
     "status": "ok",
     "timestamp": 1624296260752,
     "user": {
      "displayName": "吴景培",
      "photoUrl": "https://lh3.googleusercontent.com/a-/AOh14GjtHksei9WdAErhfi3yHKZLj_4XdYflB6cuhnlm=s64",
      "userId": "08596168006669582065"
     },
     "user_tz": -120
    },
    "id": "FG2XIpZYmaBJ",
    "outputId": "e0ebcf6c-1a81-4aa7-939e-cf21258fcc6d"
   }
  },
  {
   "cell_type": "markdown",
   "source": [
    "## MISC"
   ],
   "metadata": {
    "id": "X6GQBc2fuxbY"
   }
  },
  {
   "cell_type": "code",
   "execution_count": null,
   "source": [
    "0 / 1e-10"
   ],
   "outputs": [
    {
     "output_type": "execute_result",
     "data": {
      "text/plain": [
       "0.0"
      ]
     },
     "metadata": {
      "tags": []
     },
     "execution_count": 8
    }
   ],
   "metadata": {
    "id": "sOVVryNTBqpC",
    "outputId": "510bd556-ed57-4dd8-db52-c9d1f30df40c"
   }
  },
  {
   "cell_type": "code",
   "execution_count": null,
   "source": [
    "import torch"
   ],
   "outputs": [],
   "metadata": {
    "id": "LsVdMeNj65pL"
   }
  },
  {
   "cell_type": "code",
   "execution_count": null,
   "source": [
    "weights = torch.arange(3)\n",
    "print(weights)\n",
    "weights = torch.pow(2, weights)\n",
    "print(weights)\n",
    "weights = weights / (2 ** len(weights) - 1)\n",
    "print(weights)\n",
    "print(weights.sum())"
   ],
   "outputs": [
    {
     "output_type": "stream",
     "name": "stdout",
     "text": [
      "tensor([0, 1, 2])\n",
      "tensor([1, 2, 4])\n",
      "tensor([0.1429, 0.2857, 0.5714])\n",
      "tensor(1.)\n"
     ]
    }
   ],
   "metadata": {
    "colab": {
     "base_uri": "https://localhost:8080/"
    },
    "executionInfo": {
     "elapsed": 783,
     "status": "ok",
     "timestamp": 1622573794333,
     "user": {
      "displayName": "吴景培",
      "photoUrl": "https://lh3.googleusercontent.com/a-/AOh14GjtHksei9WdAErhfi3yHKZLj_4XdYflB6cuhnlm=s64",
      "userId": "08596168006669582065"
     },
     "user_tz": -120
    },
    "id": "JnxazcaS7FM2",
    "outputId": "51615063-bfe9-4d70-ceb1-d7f766911591"
   }
  },
  {
   "cell_type": "code",
   "execution_count": null,
   "source": [
    "r = torch.arange(12).reshape(3, 4)\n",
    "print(r)\n",
    "r_sum = r.sum(0) # [4]\n",
    "print(r_sum)\n",
    "\n",
    "r_sum = r_sum.view(1, -1) # [1, 4]\n",
    "print(r_sum)\n",
    "print(r/r_sum)"
   ],
   "outputs": [
    {
     "output_type": "stream",
     "name": "stdout",
     "text": [
      "tensor([[ 0,  1,  2,  3],\n",
      "        [ 4,  5,  6,  7],\n",
      "        [ 8,  9, 10, 11]])\n",
      "tensor([12, 15, 18, 21])\n",
      "tensor([[12, 15, 18, 21]])\n",
      "tensor([[0.0000, 0.0667, 0.1111, 0.1429],\n",
      "        [0.3333, 0.3333, 0.3333, 0.3333],\n",
      "        [0.6667, 0.6000, 0.5556, 0.5238]])\n"
     ]
    }
   ],
   "metadata": {
    "colab": {
     "base_uri": "https://localhost:8080/"
    },
    "executionInfo": {
     "elapsed": 342,
     "status": "ok",
     "timestamp": 1622634454306,
     "user": {
      "displayName": "吴景培",
      "photoUrl": "https://lh3.googleusercontent.com/a-/AOh14GjtHksei9WdAErhfi3yHKZLj_4XdYflB6cuhnlm=s64",
      "userId": "08596168006669582065"
     },
     "user_tz": -120
    },
    "id": "S9ZDwv7Nh6kt",
    "outputId": "a3921345-fdb1-4a0a-c8fc-04361cdd4db8"
   }
  },
  {
   "cell_type": "markdown",
   "source": [
    "# `model.py`\n"
   ],
   "metadata": {
    "id": "H-wtnw2CBqpC"
   }
  },
  {
   "cell_type": "markdown",
   "source": [
    "## Student\n"
   ],
   "metadata": {
    "id": "2vkrsuxjTquc"
   }
  },
  {
   "cell_type": "markdown",
   "source": [
    "### tokenizer"
   ],
   "metadata": {
    "id": "HZyv3xKgDLoa"
   }
  },
  {
   "cell_type": "code",
   "execution_count": null,
   "source": [
    "from transformers import BertTokenizerFast"
   ],
   "outputs": [],
   "metadata": {
    "id": "zVre8nxyTsE9"
   }
  },
  {
   "cell_type": "code",
   "execution_count": null,
   "source": [
    "tokenizer = BertTokenizerFast.from_pretrained('bert-base-uncased')"
   ],
   "outputs": [
    {
     "output_type": "display_data",
     "data": {
      "text/plain": [
       "HBox(children=(FloatProgress(value=0.0, description='Downloading', max=231508.0, style=ProgressStyle(descripti…"
      ],
      "application/vnd.jupyter.widget-view+json": {
       "model_id": "f007539d5f0f42f882d914ea33cbd527",
       "version_major": 2,
       "version_minor": 0
      }
     },
     "metadata": {
      "tags": []
     }
    },
    {
     "output_type": "stream",
     "name": "stdout",
     "text": [
      "\n"
     ]
    },
    {
     "output_type": "display_data",
     "data": {
      "text/plain": [
       "HBox(children=(FloatProgress(value=0.0, description='Downloading', max=466062.0, style=ProgressStyle(descripti…"
      ],
      "application/vnd.jupyter.widget-view+json": {
       "model_id": "96daba8d71494b02a8fa288b273b4e3e",
       "version_major": 2,
       "version_minor": 0
      }
     },
     "metadata": {
      "tags": []
     }
    },
    {
     "output_type": "stream",
     "name": "stdout",
     "text": [
      "\n"
     ]
    },
    {
     "output_type": "display_data",
     "data": {
      "text/plain": [
       "HBox(children=(FloatProgress(value=0.0, description='Downloading', max=28.0, style=ProgressStyle(description_w…"
      ],
      "application/vnd.jupyter.widget-view+json": {
       "model_id": "94baac378656497ebb64cc18f3518eed",
       "version_major": 2,
       "version_minor": 0
      }
     },
     "metadata": {
      "tags": []
     }
    },
    {
     "output_type": "stream",
     "name": "stdout",
     "text": [
      "\n"
     ]
    }
   ],
   "metadata": {
    "colab": {
     "base_uri": "https://localhost:8080/",
     "height": 167,
     "referenced_widgets": [
      "f007539d5f0f42f882d914ea33cbd527",
      "4ad6457cfb864ba89c8be6ec532dfce9",
      "3cfad3a3e86d4ff0a36c3b36c5bf85da",
      "e3acbe265a9d45f6bbc33bd4052c8f48",
      "7c1a327a74a544dea912445810609f8e",
      "008db03a0bc041a9a63635f9a4591a26",
      "5cf0fd6c25844fe38fafe4c64dd618f2",
      "3450d0b911ba411f8fb6c185a86a36b4",
      "96daba8d71494b02a8fa288b273b4e3e",
      "95afd7662c5e414bbce9b96c8469740a",
      "daeebdbef68240f68096723616e27edb",
      "efe89587221a4e53a6920a8b2af378da",
      "c0ed7271b73c463785f4a87b301ace85",
      "9724ea83ea6b442c86f6df0cee076ace",
      "79a90a78b3e441a58fd014fd0607ed4f",
      "06bcef6a899c4b1482d8790d4dd178f3",
      "94baac378656497ebb64cc18f3518eed",
      "0edd771931ac4827a573eb8f8f0a64b4",
      "76ece334c4e34c839f059968910f56c0",
      "f78f9bcc5ea4491480d33cae282d027d",
      "a426eda004e648a8806a26863a62e787",
      "d787b4a42a204ea3b254526507f862a7",
      "619607c3ccad48bc940c4def500733cf",
      "5ddeaed8b406424e887bd056f9b80d79"
     ]
    },
    "executionInfo": {
     "elapsed": 7354,
     "status": "ok",
     "timestamp": 1623112842930,
     "user": {
      "displayName": "吴景培",
      "photoUrl": "https://lh3.googleusercontent.com/a-/AOh14GjtHksei9WdAErhfi3yHKZLj_4XdYflB6cuhnlm=s64",
      "userId": "08596168006669582065"
     },
     "user_tz": -120
    },
    "id": "tz-Bpz9nD-2x",
    "outputId": "4f41eb48-a0b7-4868-d16b-31d67ee5c8d6"
   }
  },
  {
   "cell_type": "code",
   "execution_count": null,
   "source": [
    "input_id = tokenizer(\"Hello, I'm a single sentence!\")\n",
    "print(input_id)"
   ],
   "outputs": [
    {
     "output_type": "stream",
     "name": "stdout",
     "text": [
      "{'input_ids': [101, 7592, 1010, 1045, 1005, 1049, 1037, 2309, 6251, 999, 102], 'token_type_ids': [0, 0, 0, 0, 0, 0, 0, 0, 0, 0, 0], 'attention_mask': [1, 1, 1, 1, 1, 1, 1, 1, 1, 1, 1]}\n"
     ]
    }
   ],
   "metadata": {
    "colab": {
     "base_uri": "https://localhost:8080/"
    },
    "executionInfo": {
     "elapsed": 685,
     "status": "ok",
     "timestamp": 1623112862652,
     "user": {
      "displayName": "吴景培",
      "photoUrl": "https://lh3.googleusercontent.com/a-/AOh14GjtHksei9WdAErhfi3yHKZLj_4XdYflB6cuhnlm=s64",
      "userId": "08596168006669582065"
     },
     "user_tz": -120
    },
    "id": "jGkfZnwVEGEf",
    "outputId": "c35b8e3d-c452-4848-d36a-1b0c8dcef2a1"
   }
  },
  {
   "cell_type": "code",
   "execution_count": null,
   "source": [
    "sent = tokenizer.decode(input_id[\"input_ids\"])\n",
    "print(sent)"
   ],
   "outputs": [
    {
     "output_type": "stream",
     "name": "stdout",
     "text": [
      "[CLS] hello, i'm a single sentence! [SEP]\n"
     ]
    }
   ],
   "metadata": {
    "colab": {
     "base_uri": "https://localhost:8080/"
    },
    "executionInfo": {
     "elapsed": 1610,
     "status": "ok",
     "timestamp": 1623112894723,
     "user": {
      "displayName": "吴景培",
      "photoUrl": "https://lh3.googleusercontent.com/a-/AOh14GjtHksei9WdAErhfi3yHKZLj_4XdYflB6cuhnlm=s64",
      "userId": "08596168006669582065"
     },
     "user_tz": -120
    },
    "id": "V8btJn8MEM4A",
    "outputId": "212121b7-e625-4f0a-9d6c-4e89ca95137e"
   }
  },
  {
   "cell_type": "markdown",
   "source": [
    "### model"
   ],
   "metadata": {
    "id": "oJzIfORZDQtv"
   }
  },
  {
   "cell_type": "code",
   "execution_count": null,
   "source": [
    "import torch"
   ],
   "outputs": [],
   "metadata": {
    "id": "dcLv7aGbH7rl"
   }
  },
  {
   "cell_type": "code",
   "execution_count": null,
   "source": [
    "from model import Student"
   ],
   "outputs": [],
   "metadata": {
    "id": "0gZos5nwDSk5"
   }
  },
  {
   "cell_type": "code",
   "execution_count": null,
   "source": [
    "# hparam = {'pretrained': 'word2vec',   # word2vec, glove, bert-base-uncased, \r\n",
    "#         'wv_file': './data/wv/w2v_corpus_trained.bin',     # file for word embeddings\r\n",
    "#         'pretrained_dim': 300,\r\n",
    "#         'num_aspect': 9,\r\n",
    "#         'freeze_emb': True,}\r\n",
    "hparam = {'pretrained': 'bert-base-uncased',   # word2vec, glove, bert-base-uncased, \r\n",
    "        'wv_file': './data/wv/w2v_corpus_trained.bin',     # file for word embeddings\r\n",
    "        'pretrained_dim': 768,\r\n",
    "        'num_aspect': 9,\r\n",
    "        'freeze_emb': 1}\r\n",
    "hparam = {'pretrained': 'bert-base-uncased',   # word2vec, glove, bert-base-uncased, \r\n",
    "        'wv_file': './data/wv/w2v_corpus_trained.bin',     # file for word embeddings\r\n",
    "        'pretrained_dim': 768,\r\n",
    "        'num_aspect': 9,\r\n",
    "        'freeze_emb': 0}"
   ],
   "outputs": [],
   "metadata": {
    "id": "jX4fTNr-EbjX"
   }
  },
  {
   "cell_type": "code",
   "execution_count": null,
   "source": [
    "s = Student(hparam)"
   ],
   "outputs": [
    {
     "output_type": "stream",
     "name": "stderr",
     "text": [
      "Some weights of the model checkpoint at bert-base-uncased were not used when initializing BertModel: ['cls.predictions.transform.dense.bias', 'cls.predictions.transform.dense.weight', 'cls.seq_relationship.weight', 'cls.seq_relationship.bias', 'cls.predictions.transform.LayerNorm.bias', 'cls.predictions.transform.LayerNorm.weight', 'cls.predictions.bias', 'cls.predictions.decoder.weight']\n",
      "- This IS expected if you are initializing BertModel from the checkpoint of a model trained on another task or with another architecture (e.g. initializing a BertForSequenceClassification model from a BertForPreTraining model).\n",
      "- This IS NOT expected if you are initializing BertModel from the checkpoint of a model that you expect to be exactly identical (initializing a BertForSequenceClassification model from a BertForSequenceClassification model).\n"
     ]
    }
   ],
   "metadata": {
    "colab": {
     "base_uri": "https://localhost:8080/"
    },
    "executionInfo": {
     "elapsed": 2761,
     "status": "ok",
     "timestamp": 1624316182960,
     "user": {
      "displayName": "吴景培",
      "photoUrl": "https://lh3.googleusercontent.com/a-/AOh14GjtHksei9WdAErhfi3yHKZLj_4XdYflB6cuhnlm=s64",
      "userId": "08596168006669582065"
     },
     "user_tz": -120
    },
    "id": "w4nTkBWDHVRi",
    "outputId": "a39cd76c-d9cb-4427-bc02-02cc1179d032"
   }
  },
  {
   "cell_type": "code",
   "execution_count": null,
   "source": [
    "print(s.fc)\r\n",
    "for m in s.fc:\r\n",
    "    torch.nn.init.xavier_uniform_(m.weight)\r\n",
    "    torch.nn.init.zeros_(m.bias)"
   ],
   "outputs": [
    {
     "output_type": "stream",
     "name": "stdout",
     "text": [
      "Sequential(\n",
      "  (0): Linear(in_features=300, out_features=9, bias=True)\n",
      ")\n"
     ]
    }
   ],
   "metadata": {
    "colab": {
     "base_uri": "https://localhost:8080/"
    },
    "executionInfo": {
     "elapsed": 232,
     "status": "ok",
     "timestamp": 1624288306142,
     "user": {
      "displayName": "吴景培",
      "photoUrl": "https://lh3.googleusercontent.com/a-/AOh14GjtHksei9WdAErhfi3yHKZLj_4XdYflB6cuhnlm=s64",
      "userId": "08596168006669582065"
     },
     "user_tz": -120
    },
    "id": "baJrTttBHgdb",
    "outputId": "75377631-e1e4-4300-a1bc-ba41eb796839"
   }
  },
  {
   "cell_type": "code",
   "execution_count": null,
   "source": [
    "# check if freezing embedding works well\r\n",
    "for m, param in s.named_parameters():\r\n",
    "    if param.requires_grad == True:\r\n",
    "        print(m)"
   ],
   "outputs": [
    {
     "output_type": "stream",
     "name": "stdout",
     "text": [
      "encoder.embeddings.word_embeddings.weight\n",
      "encoder.embeddings.position_embeddings.weight\n",
      "encoder.embeddings.token_type_embeddings.weight\n",
      "encoder.embeddings.LayerNorm.weight\n",
      "encoder.embeddings.LayerNorm.bias\n",
      "encoder.encoder.layer.0.attention.self.query.weight\n",
      "encoder.encoder.layer.0.attention.self.query.bias\n",
      "encoder.encoder.layer.0.attention.self.key.weight\n",
      "encoder.encoder.layer.0.attention.self.key.bias\n",
      "encoder.encoder.layer.0.attention.self.value.weight\n",
      "encoder.encoder.layer.0.attention.self.value.bias\n",
      "encoder.encoder.layer.0.attention.output.dense.weight\n",
      "encoder.encoder.layer.0.attention.output.dense.bias\n",
      "encoder.encoder.layer.0.attention.output.LayerNorm.weight\n",
      "encoder.encoder.layer.0.attention.output.LayerNorm.bias\n",
      "encoder.encoder.layer.0.intermediate.dense.weight\n",
      "encoder.encoder.layer.0.intermediate.dense.bias\n",
      "encoder.encoder.layer.0.output.dense.weight\n",
      "encoder.encoder.layer.0.output.dense.bias\n",
      "encoder.encoder.layer.0.output.LayerNorm.weight\n",
      "encoder.encoder.layer.0.output.LayerNorm.bias\n",
      "encoder.encoder.layer.1.attention.self.query.weight\n",
      "encoder.encoder.layer.1.attention.self.query.bias\n",
      "encoder.encoder.layer.1.attention.self.key.weight\n",
      "encoder.encoder.layer.1.attention.self.key.bias\n",
      "encoder.encoder.layer.1.attention.self.value.weight\n",
      "encoder.encoder.layer.1.attention.self.value.bias\n",
      "encoder.encoder.layer.1.attention.output.dense.weight\n",
      "encoder.encoder.layer.1.attention.output.dense.bias\n",
      "encoder.encoder.layer.1.attention.output.LayerNorm.weight\n",
      "encoder.encoder.layer.1.attention.output.LayerNorm.bias\n",
      "encoder.encoder.layer.1.intermediate.dense.weight\n",
      "encoder.encoder.layer.1.intermediate.dense.bias\n",
      "encoder.encoder.layer.1.output.dense.weight\n",
      "encoder.encoder.layer.1.output.dense.bias\n",
      "encoder.encoder.layer.1.output.LayerNorm.weight\n",
      "encoder.encoder.layer.1.output.LayerNorm.bias\n",
      "encoder.encoder.layer.2.attention.self.query.weight\n",
      "encoder.encoder.layer.2.attention.self.query.bias\n",
      "encoder.encoder.layer.2.attention.self.key.weight\n",
      "encoder.encoder.layer.2.attention.self.key.bias\n",
      "encoder.encoder.layer.2.attention.self.value.weight\n",
      "encoder.encoder.layer.2.attention.self.value.bias\n",
      "encoder.encoder.layer.2.attention.output.dense.weight\n",
      "encoder.encoder.layer.2.attention.output.dense.bias\n",
      "encoder.encoder.layer.2.attention.output.LayerNorm.weight\n",
      "encoder.encoder.layer.2.attention.output.LayerNorm.bias\n",
      "encoder.encoder.layer.2.intermediate.dense.weight\n",
      "encoder.encoder.layer.2.intermediate.dense.bias\n",
      "encoder.encoder.layer.2.output.dense.weight\n",
      "encoder.encoder.layer.2.output.dense.bias\n",
      "encoder.encoder.layer.2.output.LayerNorm.weight\n",
      "encoder.encoder.layer.2.output.LayerNorm.bias\n",
      "encoder.encoder.layer.3.attention.self.query.weight\n",
      "encoder.encoder.layer.3.attention.self.query.bias\n",
      "encoder.encoder.layer.3.attention.self.key.weight\n",
      "encoder.encoder.layer.3.attention.self.key.bias\n",
      "encoder.encoder.layer.3.attention.self.value.weight\n",
      "encoder.encoder.layer.3.attention.self.value.bias\n",
      "encoder.encoder.layer.3.attention.output.dense.weight\n",
      "encoder.encoder.layer.3.attention.output.dense.bias\n",
      "encoder.encoder.layer.3.attention.output.LayerNorm.weight\n",
      "encoder.encoder.layer.3.attention.output.LayerNorm.bias\n",
      "encoder.encoder.layer.3.intermediate.dense.weight\n",
      "encoder.encoder.layer.3.intermediate.dense.bias\n",
      "encoder.encoder.layer.3.output.dense.weight\n",
      "encoder.encoder.layer.3.output.dense.bias\n",
      "encoder.encoder.layer.3.output.LayerNorm.weight\n",
      "encoder.encoder.layer.3.output.LayerNorm.bias\n",
      "encoder.encoder.layer.4.attention.self.query.weight\n",
      "encoder.encoder.layer.4.attention.self.query.bias\n",
      "encoder.encoder.layer.4.attention.self.key.weight\n",
      "encoder.encoder.layer.4.attention.self.key.bias\n",
      "encoder.encoder.layer.4.attention.self.value.weight\n",
      "encoder.encoder.layer.4.attention.self.value.bias\n",
      "encoder.encoder.layer.4.attention.output.dense.weight\n",
      "encoder.encoder.layer.4.attention.output.dense.bias\n",
      "encoder.encoder.layer.4.attention.output.LayerNorm.weight\n",
      "encoder.encoder.layer.4.attention.output.LayerNorm.bias\n",
      "encoder.encoder.layer.4.intermediate.dense.weight\n",
      "encoder.encoder.layer.4.intermediate.dense.bias\n",
      "encoder.encoder.layer.4.output.dense.weight\n",
      "encoder.encoder.layer.4.output.dense.bias\n",
      "encoder.encoder.layer.4.output.LayerNorm.weight\n",
      "encoder.encoder.layer.4.output.LayerNorm.bias\n",
      "encoder.encoder.layer.5.attention.self.query.weight\n",
      "encoder.encoder.layer.5.attention.self.query.bias\n",
      "encoder.encoder.layer.5.attention.self.key.weight\n",
      "encoder.encoder.layer.5.attention.self.key.bias\n",
      "encoder.encoder.layer.5.attention.self.value.weight\n",
      "encoder.encoder.layer.5.attention.self.value.bias\n",
      "encoder.encoder.layer.5.attention.output.dense.weight\n",
      "encoder.encoder.layer.5.attention.output.dense.bias\n",
      "encoder.encoder.layer.5.attention.output.LayerNorm.weight\n",
      "encoder.encoder.layer.5.attention.output.LayerNorm.bias\n",
      "encoder.encoder.layer.5.intermediate.dense.weight\n",
      "encoder.encoder.layer.5.intermediate.dense.bias\n",
      "encoder.encoder.layer.5.output.dense.weight\n",
      "encoder.encoder.layer.5.output.dense.bias\n",
      "encoder.encoder.layer.5.output.LayerNorm.weight\n",
      "encoder.encoder.layer.5.output.LayerNorm.bias\n",
      "encoder.encoder.layer.6.attention.self.query.weight\n",
      "encoder.encoder.layer.6.attention.self.query.bias\n",
      "encoder.encoder.layer.6.attention.self.key.weight\n",
      "encoder.encoder.layer.6.attention.self.key.bias\n",
      "encoder.encoder.layer.6.attention.self.value.weight\n",
      "encoder.encoder.layer.6.attention.self.value.bias\n",
      "encoder.encoder.layer.6.attention.output.dense.weight\n",
      "encoder.encoder.layer.6.attention.output.dense.bias\n",
      "encoder.encoder.layer.6.attention.output.LayerNorm.weight\n",
      "encoder.encoder.layer.6.attention.output.LayerNorm.bias\n",
      "encoder.encoder.layer.6.intermediate.dense.weight\n",
      "encoder.encoder.layer.6.intermediate.dense.bias\n",
      "encoder.encoder.layer.6.output.dense.weight\n",
      "encoder.encoder.layer.6.output.dense.bias\n",
      "encoder.encoder.layer.6.output.LayerNorm.weight\n",
      "encoder.encoder.layer.6.output.LayerNorm.bias\n",
      "encoder.encoder.layer.7.attention.self.query.weight\n",
      "encoder.encoder.layer.7.attention.self.query.bias\n",
      "encoder.encoder.layer.7.attention.self.key.weight\n",
      "encoder.encoder.layer.7.attention.self.key.bias\n",
      "encoder.encoder.layer.7.attention.self.value.weight\n",
      "encoder.encoder.layer.7.attention.self.value.bias\n",
      "encoder.encoder.layer.7.attention.output.dense.weight\n",
      "encoder.encoder.layer.7.attention.output.dense.bias\n",
      "encoder.encoder.layer.7.attention.output.LayerNorm.weight\n",
      "encoder.encoder.layer.7.attention.output.LayerNorm.bias\n",
      "encoder.encoder.layer.7.intermediate.dense.weight\n",
      "encoder.encoder.layer.7.intermediate.dense.bias\n",
      "encoder.encoder.layer.7.output.dense.weight\n",
      "encoder.encoder.layer.7.output.dense.bias\n",
      "encoder.encoder.layer.7.output.LayerNorm.weight\n",
      "encoder.encoder.layer.7.output.LayerNorm.bias\n",
      "encoder.encoder.layer.8.attention.self.query.weight\n",
      "encoder.encoder.layer.8.attention.self.query.bias\n",
      "encoder.encoder.layer.8.attention.self.key.weight\n",
      "encoder.encoder.layer.8.attention.self.key.bias\n",
      "encoder.encoder.layer.8.attention.self.value.weight\n",
      "encoder.encoder.layer.8.attention.self.value.bias\n",
      "encoder.encoder.layer.8.attention.output.dense.weight\n",
      "encoder.encoder.layer.8.attention.output.dense.bias\n",
      "encoder.encoder.layer.8.attention.output.LayerNorm.weight\n",
      "encoder.encoder.layer.8.attention.output.LayerNorm.bias\n",
      "encoder.encoder.layer.8.intermediate.dense.weight\n",
      "encoder.encoder.layer.8.intermediate.dense.bias\n",
      "encoder.encoder.layer.8.output.dense.weight\n",
      "encoder.encoder.layer.8.output.dense.bias\n",
      "encoder.encoder.layer.8.output.LayerNorm.weight\n",
      "encoder.encoder.layer.8.output.LayerNorm.bias\n",
      "encoder.encoder.layer.9.attention.self.query.weight\n",
      "encoder.encoder.layer.9.attention.self.query.bias\n",
      "encoder.encoder.layer.9.attention.self.key.weight\n",
      "encoder.encoder.layer.9.attention.self.key.bias\n",
      "encoder.encoder.layer.9.attention.self.value.weight\n",
      "encoder.encoder.layer.9.attention.self.value.bias\n",
      "encoder.encoder.layer.9.attention.output.dense.weight\n",
      "encoder.encoder.layer.9.attention.output.dense.bias\n",
      "encoder.encoder.layer.9.attention.output.LayerNorm.weight\n",
      "encoder.encoder.layer.9.attention.output.LayerNorm.bias\n",
      "encoder.encoder.layer.9.intermediate.dense.weight\n",
      "encoder.encoder.layer.9.intermediate.dense.bias\n",
      "encoder.encoder.layer.9.output.dense.weight\n",
      "encoder.encoder.layer.9.output.dense.bias\n",
      "encoder.encoder.layer.9.output.LayerNorm.weight\n",
      "encoder.encoder.layer.9.output.LayerNorm.bias\n",
      "encoder.encoder.layer.10.attention.self.query.weight\n",
      "encoder.encoder.layer.10.attention.self.query.bias\n",
      "encoder.encoder.layer.10.attention.self.key.weight\n",
      "encoder.encoder.layer.10.attention.self.key.bias\n",
      "encoder.encoder.layer.10.attention.self.value.weight\n",
      "encoder.encoder.layer.10.attention.self.value.bias\n",
      "encoder.encoder.layer.10.attention.output.dense.weight\n",
      "encoder.encoder.layer.10.attention.output.dense.bias\n",
      "encoder.encoder.layer.10.attention.output.LayerNorm.weight\n",
      "encoder.encoder.layer.10.attention.output.LayerNorm.bias\n",
      "encoder.encoder.layer.10.intermediate.dense.weight\n",
      "encoder.encoder.layer.10.intermediate.dense.bias\n",
      "encoder.encoder.layer.10.output.dense.weight\n",
      "encoder.encoder.layer.10.output.dense.bias\n",
      "encoder.encoder.layer.10.output.LayerNorm.weight\n",
      "encoder.encoder.layer.10.output.LayerNorm.bias\n",
      "encoder.encoder.layer.11.attention.self.query.weight\n",
      "encoder.encoder.layer.11.attention.self.query.bias\n",
      "encoder.encoder.layer.11.attention.self.key.weight\n",
      "encoder.encoder.layer.11.attention.self.key.bias\n",
      "encoder.encoder.layer.11.attention.self.value.weight\n",
      "encoder.encoder.layer.11.attention.self.value.bias\n",
      "encoder.encoder.layer.11.attention.output.dense.weight\n",
      "encoder.encoder.layer.11.attention.output.dense.bias\n",
      "encoder.encoder.layer.11.attention.output.LayerNorm.weight\n",
      "encoder.encoder.layer.11.attention.output.LayerNorm.bias\n",
      "encoder.encoder.layer.11.intermediate.dense.weight\n",
      "encoder.encoder.layer.11.intermediate.dense.bias\n",
      "encoder.encoder.layer.11.output.dense.weight\n",
      "encoder.encoder.layer.11.output.dense.bias\n",
      "encoder.encoder.layer.11.output.LayerNorm.weight\n",
      "encoder.encoder.layer.11.output.LayerNorm.bias\n",
      "encoder.pooler.dense.weight\n",
      "encoder.pooler.dense.bias\n",
      "fc.0.weight\n",
      "fc.0.bias\n"
     ]
    }
   ],
   "metadata": {
    "colab": {
     "base_uri": "https://localhost:8080/"
    },
    "executionInfo": {
     "elapsed": 206,
     "status": "ok",
     "timestamp": 1624316185557,
     "user": {
      "displayName": "吴景培",
      "photoUrl": "https://lh3.googleusercontent.com/a-/AOh14GjtHksei9WdAErhfi3yHKZLj_4XdYflB6cuhnlm=s64",
      "userId": "08596168006669582065"
     },
     "user_tz": -120
    },
    "id": "c1oo5Gx6LkZ4",
    "outputId": "c1e92596-9d0b-4c2a-fb96-031e54ee395e"
   }
  },
  {
   "cell_type": "markdown",
   "source": [
    "## Teacher\n",
    "\n",
    "Would it be a problem to just assign 1 as appearance times? "
   ],
   "metadata": {
    "id": "UhpU54GJBqpD"
   }
  },
  {
   "cell_type": "code",
   "execution_count": null,
   "source": [
    "from scipy.special import softmax\r\n",
    "import numpy as np\r\n",
    "x = np.zeros(5)\r\n",
    "x[1] = 1\r\n",
    "print('one-hot vector', x)\r\n",
    "m = softmax(x)\r\n",
    "print('after softmax', m)"
   ],
   "outputs": [
    {
     "output_type": "stream",
     "name": "stdout",
     "text": [
      "one-hot vector [0. 1. 0. 0. 0.]\n",
      "after softmax [0.14884758 0.40460968 0.14884758 0.14884758 0.14884758]\n"
     ]
    }
   ],
   "metadata": {
    "colab": {
     "base_uri": "https://localhost:8080/"
    },
    "executionInfo": {
     "elapsed": 365,
     "status": "ok",
     "timestamp": 1622639124641,
     "user": {
      "displayName": "吴景培",
      "photoUrl": "https://lh3.googleusercontent.com/a-/AOh14GjtHksei9WdAErhfi3yHKZLj_4XdYflB6cuhnlm=s64",
      "userId": "08596168006669582065"
     },
     "user_tz": -120
    },
    "id": "S105whtCBqpD",
    "outputId": "ad43592f-d06f-4e21-eeb1-98e8598a325f"
   }
  },
  {
   "cell_type": "code",
   "execution_count": null,
   "source": [
    "# a = torch.rand(3,4)\r\n",
    "a = torch.arange(12).view(3,4)\r\n",
    "# b = torch.rand(4)\r\n",
    "b = torch.arange(4)\r\n",
    "print(a, b)\r\n",
    "c = b * a\r\n",
    "print(c)"
   ],
   "outputs": [
    {
     "output_type": "stream",
     "name": "stdout",
     "text": [
      "tensor([[ 0,  1,  2,  3],\n",
      "        [ 4,  5,  6,  7],\n",
      "        [ 8,  9, 10, 11]]) tensor([0, 1, 2, 3])\n",
      "tensor([[ 0,  1,  4,  9],\n",
      "        [ 0,  5, 12, 21],\n",
      "        [ 0,  9, 20, 33]])\n"
     ]
    }
   ],
   "metadata": {
    "colab": {
     "base_uri": "https://localhost:8080/"
    },
    "executionInfo": {
     "elapsed": 492,
     "status": "ok",
     "timestamp": 1622308697540,
     "user": {
      "displayName": "吴景培",
      "photoUrl": "https://lh3.googleusercontent.com/a-/AOh14GjtHksei9WdAErhfi3yHKZLj_4XdYflB6cuhnlm=s64",
      "userId": "08596168006669582065"
     },
     "user_tz": -120
    },
    "id": "PINYdyr8HtDX",
    "outputId": "857c64a7-5761-4ae2-a477-8440e10fd70c"
   }
  },
  {
   "cell_type": "code",
   "execution_count": null,
   "source": [
    "import torch"
   ],
   "outputs": [],
   "metadata": {
    "id": "mFLr2YpiBqpD"
   }
  },
  {
   "cell_type": "code",
   "execution_count": null,
   "source": [
    "mat = torch.tensor([[0.6, 0.0, 1, 0.0],\r\n",
    "                    [0.0, 0.4, 0.0, 0.0],\r\n",
    "                    [0.0, 0.0, 1.2, 0.0],\r\n",
    "                    [0.0, 0.0, 0.0,-0.4]])\r\n",
    "idx = torch.nonzero(mat)"
   ],
   "outputs": [],
   "metadata": {
    "id": "I5v9nCHgBqpD"
   }
  },
  {
   "cell_type": "code",
   "execution_count": null,
   "source": [
    "mat[torch.where(mat==0)]"
   ],
   "outputs": [],
   "metadata": {
    "id": "C81XBaTvBqpE"
   }
  },
  {
   "cell_type": "code",
   "execution_count": null,
   "source": [
    "mat.max(1)"
   ],
   "outputs": [],
   "metadata": {
    "id": "Gv5Y0ExMBqpE"
   }
  },
  {
   "cell_type": "code",
   "execution_count": null,
   "source": [
    "torch.where(mat.max(1)[1] == 1)"
   ],
   "outputs": [],
   "metadata": {
    "id": "pJABMAYTBqpE"
   }
  },
  {
   "cell_type": "markdown",
   "source": [
    "# `dataset.py`"
   ],
   "metadata": {
    "id": "dnv-ub9GBqpE"
   }
  },
  {
   "cell_type": "code",
   "execution_count": 1,
   "source": [
    "from dataset import *"
   ],
   "outputs": [],
   "metadata": {
    "ExecuteTime": {
     "end_time": "2021-07-13T15:49:53.731323Z",
     "start_time": "2021-07-13T15:49:50.215350Z"
    },
    "id": "o52ihtO3BqpE"
   }
  },
  {
   "cell_type": "markdown",
   "source": [
    "## `TestDataset`"
   ],
   "metadata": {
    "id": "Kqe50Y9qBqpF"
   }
  },
  {
   "cell_type": "code",
   "execution_count": null,
   "source": [
    "aspect_init_file = \"./data/bags_and_cases.30.txt\"\r\n",
    "data_file = \"./data/bags_and_cases_test.json\""
   ],
   "outputs": [],
   "metadata": {
    "id": "MSjmom78BqpF"
   }
  },
  {
   "cell_type": "code",
   "execution_count": null,
   "source": [
    "test_ds = TestDataset(aspect_init_file, data_file)"
   ],
   "outputs": [
    {
     "output_type": "stream",
     "name": "stdout",
     "text": [
      "loading dataset...\n",
      "asp_category: 9\n",
      "bag_dim: 226\n",
      "length of data: 653; \tlength_of_labels: 653\n"
     ]
    }
   ],
   "metadata": {
    "id": "5CuLau2UBqpF",
    "outputId": "6ba8b7e8-7e7e-4edd-9bc7-582006b9148c"
   }
  },
  {
   "cell_type": "code",
   "execution_count": null,
   "source": [
    "from torch.utils.data import DataLoader"
   ],
   "outputs": [],
   "metadata": {
    "id": "F2S-LX95BqpG"
   }
  },
  {
   "cell_type": "code",
   "execution_count": null,
   "source": [
    "test_loader = DataLoader(test_ds, batch_size=500, num_workers=8)"
   ],
   "outputs": [],
   "metadata": {
    "id": "Sr8VgKQxBqpG"
   }
  },
  {
   "cell_type": "code",
   "execution_count": null,
   "source": [
    "idx, bow, labels = next(iter(test_loader))"
   ],
   "outputs": [],
   "metadata": {
    "id": "VP1xyOddBqpG"
   }
  },
  {
   "cell_type": "code",
   "execution_count": null,
   "source": [
    "print(labels)"
   ],
   "outputs": [],
   "metadata": {
    "id": "h9AJYQtxBqpG"
   }
  },
  {
   "cell_type": "markdown",
   "source": [
    "## `Dataset`"
   ],
   "metadata": {
    "id": "XdsGb9U0BqpH"
   }
  },
  {
   "cell_type": "markdown",
   "source": [
    "### data inspection"
   ],
   "metadata": {}
  },
  {
   "cell_type": "code",
   "execution_count": 2,
   "source": [
    "data_base_dir = './data/'\n",
    "domain = 'bags_and_cases'\n",
    "stu_params = {'pretrained': 'word2vec'}"
   ],
   "outputs": [],
   "metadata": {
    "ExecuteTime": {
     "end_time": "2021-07-13T15:49:53.739320Z",
     "start_time": "2021-07-13T15:49:53.735323Z"
    }
   }
  },
  {
   "cell_type": "code",
   "execution_count": 3,
   "source": [
    "ds = Dataset(data_base_dir, domain, stu_params)"
   ],
   "outputs": [
    {
     "output_type": "stream",
     "name": "stderr",
     "text": [
      "INFO:root:[bags_and_cases] dataset from following files: ./data/bags_and_cases_train.json, ./data/bags_and_cases_vocab_w2v.txt, ./data/bags_and_cases_train_supplement_w2v.pkl, ./data/bags_and_cases.30.txt\n",
      "INFO:root:[bags_and_cases] dataset_size: 588229\n",
      "INFO:root:[bags_and_cases] number of aspects: 9\n",
      "INFO:root:[bags_and_cases] number of unique seed words: 226\n"
     ]
    }
   ],
   "metadata": {
    "ExecuteTime": {
     "end_time": "2021-07-13T15:49:57.089410Z",
     "start_time": "2021-07-13T15:49:54.744763Z"
    },
    "scrolled": false
   }
  },
  {
   "cell_type": "code",
   "execution_count": 9,
   "source": [
    "# sorted(ds.data_orig, key=len)\n",
    "# ds.data_orig\n",
    "# ds.data_idx\n",
    "# ds.data_length"
   ],
   "outputs": [],
   "metadata": {
    "ExecuteTime": {
     "end_time": "2021-07-13T15:56:35.820646Z",
     "start_time": "2021-07-13T15:56:35.817646Z"
    }
   }
  },
  {
   "cell_type": "code",
   "execution_count": 8,
   "source": [
    "from nltk.tokenize import RegexpTokenizer\n",
    "tokenizer = RegexpTokenizer(r'\\w+')\n",
    "eg_str = \"you 've\"\n",
    "token_sent = tokenizer.tokenize(eg_str)    # \"you 've\"\n",
    "token_sent"
   ],
   "outputs": [
    {
     "output_type": "execute_result",
     "data": {
      "text/plain": [
       "['you', 've']"
      ]
     },
     "metadata": {},
     "execution_count": 8
    }
   ],
   "metadata": {
    "ExecuteTime": {
     "end_time": "2021-07-13T15:50:50.403019Z",
     "start_time": "2021-07-13T15:50:50.397023Z"
    }
   }
  },
  {
   "cell_type": "markdown",
   "source": [
    "### seed words, aspects, index"
   ],
   "metadata": {
    "id": "2tfeOdZ8vFj5"
   }
  },
  {
   "cell_type": "code",
   "execution_count": null,
   "source": [
    "aspect_init_file = \"./data/boots.5.txt\"\n",
    "data_file = \"./data/boots_train.json\""
   ],
   "outputs": [],
   "metadata": {
    "id": "7M5Va2R6BqpH"
   }
  },
  {
   "cell_type": "code",
   "execution_count": null,
   "source": [
    "ds = Dataset(aspect_init_file, data_file)"
   ],
   "outputs": [
    {
     "output_type": "stream",
     "name": "stderr",
     "text": [
      "INFO:filelock:Lock 140569514659088 acquired on /root/.cache/huggingface/transformers/45c3f7a79a80e1cf0a489e5c62b43f173c15db47864303a55d623bb3c96f72a5.d789d64ebfe299b0e416afc4a169632f903f693095b4629a7ea271d5a0cf2c99.lock\n"
     ]
    },
    {
     "output_type": "display_data",
     "data": {
      "text/plain": [
       "HBox(children=(FloatProgress(value=0.0, description='Downloading', max=231508.0, style=ProgressStyle(descripti…"
      ],
      "application/vnd.jupyter.widget-view+json": {
       "model_id": "2a3d5c43eb724a4289a2facafe1e5b61",
       "version_major": 2,
       "version_minor": 0
      }
     },
     "metadata": {
      "tags": []
     }
    },
    {
     "output_type": "stream",
     "name": "stderr",
     "text": [
      "INFO:filelock:Lock 140569514659088 released on /root/.cache/huggingface/transformers/45c3f7a79a80e1cf0a489e5c62b43f173c15db47864303a55d623bb3c96f72a5.d789d64ebfe299b0e416afc4a169632f903f693095b4629a7ea271d5a0cf2c99.lock\n"
     ]
    },
    {
     "output_type": "stream",
     "name": "stdout",
     "text": [
      "\n"
     ]
    },
    {
     "output_type": "stream",
     "name": "stderr",
     "text": [
      "INFO:filelock:Lock 140572138428368 acquired on /root/.cache/huggingface/transformers/534479488c54aeaf9c3406f647aa2ec13648c06771ffe269edabebd4c412da1d.7f2721073f19841be16f41b0a70b600ca6b880c8f3df6f3535cbc704371bdfa4.lock\n"
     ]
    },
    {
     "output_type": "display_data",
     "data": {
      "text/plain": [
       "HBox(children=(FloatProgress(value=0.0, description='Downloading', max=466062.0, style=ProgressStyle(descripti…"
      ],
      "application/vnd.jupyter.widget-view+json": {
       "model_id": "fad6056d3d22467c90c3353145d2fb32",
       "version_major": 2,
       "version_minor": 0
      }
     },
     "metadata": {
      "tags": []
     }
    },
    {
     "output_type": "stream",
     "name": "stderr",
     "text": [
      "INFO:filelock:Lock 140572138428368 released on /root/.cache/huggingface/transformers/534479488c54aeaf9c3406f647aa2ec13648c06771ffe269edabebd4c412da1d.7f2721073f19841be16f41b0a70b600ca6b880c8f3df6f3535cbc704371bdfa4.lock\n"
     ]
    },
    {
     "output_type": "stream",
     "name": "stdout",
     "text": [
      "\n"
     ]
    },
    {
     "output_type": "stream",
     "name": "stderr",
     "text": [
      "INFO:filelock:Lock 140569514555216 acquired on /root/.cache/huggingface/transformers/c1d7f0a763fb63861cc08553866f1fc3e5a6f4f07621be277452d26d71303b7e.20430bd8e10ef77a7d2977accefe796051e01bc2fc4aa146bc862997a1a15e79.lock\n"
     ]
    },
    {
     "output_type": "display_data",
     "data": {
      "text/plain": [
       "HBox(children=(FloatProgress(value=0.0, description='Downloading', max=28.0, style=ProgressStyle(description_w…"
      ],
      "application/vnd.jupyter.widget-view+json": {
       "model_id": "720c6d1a2bbb4fdf87a0f3fb6631f1d7",
       "version_major": 2,
       "version_minor": 0
      }
     },
     "metadata": {
      "tags": []
     }
    },
    {
     "output_type": "stream",
     "name": "stderr",
     "text": [
      "INFO:filelock:Lock 140569514555216 released on /root/.cache/huggingface/transformers/c1d7f0a763fb63861cc08553866f1fc3e5a6f4f07621be277452d26d71303b7e.20430bd8e10ef77a7d2977accefe796051e01bc2fc4aa146bc862997a1a15e79.lock\n"
     ]
    },
    {
     "output_type": "stream",
     "name": "stdout",
     "text": [
      "\n",
      "asp_category: 9\n",
      "bag_dim: 44\n"
     ]
    }
   ],
   "metadata": {
    "colab": {
     "base_uri": "https://localhost:8080/",
     "height": 332,
     "referenced_widgets": [
      "2a3d5c43eb724a4289a2facafe1e5b61",
      "f1fce37d0eb64cad9a4f7ca9ee4ebc1d",
      "0b1664e5689f44ac96c2083a0c774a35",
      "d068e9536e314918847dbc2cfb3b2d5b",
      "b5302061b4a54acb92fb437a852c9faf",
      "49cdf9603e7b4466abcd32db2d01742e",
      "d71f333e2c514308812e7f9e4c67230b",
      "879438b88aee4e3a937f657126fe5a4f",
      "fad6056d3d22467c90c3353145d2fb32",
      "b3fe174ba770471482992b55eb12326b",
      "ccb18fdff9d9486e942e8e8660539cee",
      "52b4010be04e4fa7bb4fbf467438a061",
      "4ddb1254b62f498184059f76132d8480",
      "a4543abd8999450a855ef898b9e91bd5",
      "db89ef3dd1974cbd91d1c1108206f600",
      "0a75e35471d645afb9bf3d7e33d9f3c3",
      "720c6d1a2bbb4fdf87a0f3fb6631f1d7",
      "bc2372901a384109a8358dd999b66532",
      "dfa37cd1034645a294fcd929767fd466",
      "2d70d5e1512242818ca0ade6ac98a831",
      "bd2ded8b190345d485c98a5d5da068b8",
      "ebdc977c19a240198ed9ca2d978aae31",
      "f3065a9b449f4337ab3653d6946e0461",
      "2a531f8a4c4a4ea39ab879e2c5d5c431"
     ]
    },
    "executionInfo": {
     "elapsed": 13428,
     "status": "ok",
     "timestamp": 1622587299174,
     "user": {
      "displayName": "吴景培",
      "photoUrl": "https://lh3.googleusercontent.com/a-/AOh14GjtHksei9WdAErhfi3yHKZLj_4XdYflB6cuhnlm=s64",
      "userId": "08596168006669582065"
     },
     "user_tz": -120
    },
    "id": "SsFoUuEdBqpH",
    "outputId": "1b56c605-9d72-48f9-fedf-d516c9a2a043"
   }
  },
  {
   "cell_type": "code",
   "execution_count": null,
   "source": [
    "print(ds.aspects, '\\n')\n",
    "print(ds.id2asp, '\\n')\n",
    "print(ds.asp2id, '\\n')\n",
    "print(ds.aspect_ids, '\\n')"
   ],
   "outputs": [
    {
     "output_type": "stream",
     "name": "stdout",
     "text": [
      "[['color', 'love', 'style', 'unbelievably', 'gorgeous'], ['comfortable', 'fit', 'foot', 'hurt', 'ankle'], ['rubber', 'quality', 'use', 'buckle', 'appear'], ['cute', 'look', 'looked', 'great', 'fringe'], ['leather', 'inside', 'fringe', 'material', 'heel'], ['return', 'pair', 'thought', 'year', 'boot'], ['worth', 'money', 'cheap', 'inexpensive', 'paid'], ['size', 'ordered', 'half', 'order', 'big'], ['dry', 'waterproof', 'rain', 'wet', 'water']] \n",
      "\n",
      "{0: 'ankle', 1: 'appear', 2: 'big', 3: 'boot', 4: 'buckle', 5: 'cheap', 6: 'color', 7: 'comfortable', 8: 'cute', 9: 'dry', 10: 'fit', 11: 'foot', 12: 'fringe', 13: 'gorgeous', 14: 'great', 15: 'half', 16: 'heel', 17: 'hurt', 18: 'inexpensive', 19: 'inside', 20: 'leather', 21: 'look', 22: 'looked', 23: 'love', 24: 'material', 25: 'money', 26: 'order', 27: 'ordered', 28: 'paid', 29: 'pair', 30: 'quality', 31: 'rain', 32: 'return', 33: 'rubber', 34: 'size', 35: 'style', 36: 'thought', 37: 'unbelievably', 38: 'use', 39: 'water', 40: 'waterproof', 41: 'wet', 42: 'worth', 43: 'year'} \n",
      "\n",
      "{'ankle': 0, 'appear': 1, 'big': 2, 'boot': 3, 'buckle': 4, 'cheap': 5, 'color': 6, 'comfortable': 7, 'cute': 8, 'dry': 9, 'fit': 10, 'foot': 11, 'fringe': 12, 'gorgeous': 13, 'great': 14, 'half': 15, 'heel': 16, 'hurt': 17, 'inexpensive': 18, 'inside': 19, 'leather': 20, 'look': 21, 'looked': 22, 'love': 23, 'material': 24, 'money': 25, 'order': 26, 'ordered': 27, 'paid': 28, 'pair': 29, 'quality': 30, 'rain': 31, 'return': 32, 'rubber': 33, 'size': 34, 'style': 35, 'thought': 36, 'unbelievably': 37, 'use': 38, 'water': 39, 'waterproof': 40, 'wet': 41, 'worth': 42, 'year': 43} \n",
      "\n",
      "[[6, 23, 35, 37, 13], [7, 10, 11, 17, 0], [33, 30, 38, 4, 1], [8, 21, 22, 14, 12], [20, 19, 12, 24, 16], [32, 29, 36, 43, 3], [42, 25, 5, 18, 28], [34, 27, 15, 26, 2], [9, 40, 31, 41, 39]] \n",
      "\n"
     ]
    }
   ],
   "metadata": {
    "id": "GThp_jJJBqpH",
    "outputId": "50827bca-9589-491a-9f8b-c46752488613"
   }
  },
  {
   "cell_type": "code",
   "execution_count": null,
   "source": [
    "word_dict = {}\n",
    "with open(aspect_init_file, 'r') as f:\n",
    "    for line in f.readlines():\n",
    "        l = line.strip().split(' ')\n",
    "        words = l[0:]\n",
    "        for w in words:\n",
    "            if w in word_dict.keys():\n",
    "                word_dict[w] += 1\n",
    "            else:\n",
    "                word_dict[w] = 1\n",
    "print(word_dict)\n",
    "# or use collections.Counter()"
   ],
   "outputs": [
    {
     "output_type": "stream",
     "name": "stdout",
     "text": [
      "{'color': 1, 'love': 1, 'style': 1, 'unbelievably': 1, 'gorgeous': 1, 'comfortable': 1, 'fit': 1, 'foot': 1, 'hurt': 1, 'ankle': 1, 'rubber': 1, 'quality': 1, 'use': 1, 'buckle': 1, 'appear': 1, 'cute': 1, 'look': 1, 'looked': 1, 'great': 1, 'fringe': 2, 'leather': 1, 'inside': 1, 'material': 1, 'heel': 1, 'return': 1, 'pair': 1, 'thought': 1, 'year': 1, 'boot': 1, 'worth': 1, 'money': 1, 'cheap': 1, 'inexpensive': 1, 'paid': 1, 'size': 1, 'ordered': 1, 'half': 1, 'order': 1, 'big': 1, 'dry': 1, 'waterproof': 1, 'rain': 1, 'wet': 1, 'water': 1}\n"
     ]
    }
   ],
   "metadata": {
    "id": "jjHYxuKzBqpI",
    "outputId": "9ce2ff76-d630-44f9-bf6f-4941436cc2a4"
   }
  },
  {
   "cell_type": "code",
   "execution_count": null,
   "source": [
    "idx2asp = ds.get_idx2asp()\n",
    "n_word_per_aspect = len(ds.aspects[0])\n",
    "print(idx2asp)\n",
    "print(len(idx2asp))\n",
    "print(idx2asp[ds.asp2id['fringe']])"
   ],
   "outputs": [
    {
     "output_type": "stream",
     "name": "stdout",
     "text": [
      "[1, 2, 7, 5, 2, 6, 0, 1, 3, 8, 1, 1, 3, 0, 3, 7, 4, 1, 6, 4, 4, 3, 3, 0, 4, 6, 7, 7, 6, 5, 2, 8, 5, 2, 7, 0, 5, 0, 2, 8, 8, 8, 6, 5]\n",
      "44\n",
      "3\n"
     ]
    }
   ],
   "metadata": {
    "id": "xuV7aTCtBqpI",
    "outputId": "1b90c039-00f4-4020-8d0d-780af529b3d8"
   }
  },
  {
   "cell_type": "markdown",
   "source": [
    "**Note**: word fringe appears twice, and it was assigned to the category in which it first appear"
   ],
   "metadata": {
    "id": "8kxv5bUGBqpI"
   }
  },
  {
   "cell_type": "code",
   "execution_count": null,
   "source": [
    "print(len(ds))"
   ],
   "outputs": [
    {
     "output_type": "stream",
     "name": "stdout",
     "text": [
      "963866\n"
     ]
    }
   ],
   "metadata": {
    "id": "eDQ_eQkqBqpJ",
    "outputId": "6945a42a-e8cf-4351-d455-f40a0defafa0"
   }
  },
  {
   "cell_type": "markdown",
   "source": [
    "### `__getitem__` method"
   ],
   "metadata": {
    "id": "_TATkMXWBqpJ"
   }
  },
  {
   "cell_type": "code",
   "execution_count": null,
   "source": [
    "from dataset import Dataset\n",
    "import torch"
   ],
   "outputs": [],
   "metadata": {
    "id": "7doFriAtcKKx"
   }
  },
  {
   "cell_type": "code",
   "execution_count": null,
   "source": [
    "aspect_init_file = \"./data/seedwords_30_coarse.txt\"\n",
    "data_file = \"./data/comment_train.json\"\n",
    "stu_param = {'pretrained': 'word2vec',   # word2vec, glove, bert-base-uncased, \n",
    "            'wv_file': './data/wv/w2v_corpus_trained.bin',\n",
    "            'pretrained_dim': 300,\n",
    "            'num_aspect': 9,\n",
    "            'freeze_emb': 1}"
   ],
   "outputs": [],
   "metadata": {
    "id": "VLVeLF6EcN2Z"
   }
  },
  {
   "cell_type": "code",
   "execution_count": null,
   "source": [
    "ds = Dataset(aspect_init_file, data_file, stu_param)"
   ],
   "outputs": [
    {
     "output_type": "stream",
     "name": "stdout",
     "text": [
      "asp_category: 6\n",
      "bag_dim: 168\n"
     ]
    }
   ],
   "metadata": {
    "colab": {
     "base_uri": "https://localhost:8080/"
    },
    "executionInfo": {
     "elapsed": 3141,
     "status": "ok",
     "timestamp": 1624847354230,
     "user": {
      "displayName": "吴景培",
      "photoUrl": "https://lh3.googleusercontent.com/a-/AOh14GjtHksei9WdAErhfi3yHKZLj_4XdYflB6cuhnlm=s64",
      "userId": "08596168006669582065"
     },
     "user_tz": -120
    },
    "id": "_HlFebs8cPI8",
    "outputId": "1a5c8359-8121-4dd3-d08d-1ede61bfbef5"
   }
  },
  {
   "cell_type": "code",
   "execution_count": null,
   "source": [
    "ds[1]"
   ],
   "outputs": [
    {
     "output_type": "execute_result",
     "data": {
      "text/plain": [
       "(tensor([0, 0, 0, 0, 0, 0, 0, 0, 0, 0, 0, 0, 0, 0, 0, 0, 0, 0, 0, 0, 0, 0, 0, 0,\n",
       "         0, 0, 0, 0, 0, 0, 0, 0, 0, 0, 0, 0, 0, 0, 0, 0, 0, 0, 0, 0, 0, 0, 0, 0,\n",
       "         0, 0, 0, 0, 0, 0, 0, 0, 0, 0, 0, 0, 0, 0, 0, 0, 0, 0, 0, 0, 0, 0, 0, 0,\n",
       "         0, 0, 0, 0, 0, 0, 0, 0, 0, 0, 0, 0, 0, 0, 0, 0, 0, 0, 0, 0, 0, 0, 0, 0,\n",
       "         0, 0, 0, 1, 0, 0, 0, 0, 0, 0, 0, 0, 0, 0, 0, 0, 0, 0, 0, 0, 0, 0, 0, 0,\n",
       "         0, 0, 0, 0, 0, 0, 0, 0, 0, 0, 0, 0, 0, 0, 0, 0, 0, 0, 0, 0, 0, 0, 0, 0,\n",
       "         0, 0, 0, 0, 0, 0, 0, 0, 0, 0, 0, 0, 0, 0, 0, 0, 0, 0, 0, 0, 0, 0, 0, 0]),\n",
       " tensor([   1,    6,    2, 3834,    1,    7,    1, 5353,  930,    7]),\n",
       " tensor([10]))"
      ]
     },
     "metadata": {
      "tags": []
     },
     "execution_count": 11
    }
   ],
   "metadata": {
    "colab": {
     "base_uri": "https://localhost:8080/"
    },
    "executionInfo": {
     "elapsed": 207,
     "status": "ok",
     "timestamp": 1624847360310,
     "user": {
      "displayName": "吴景培",
      "photoUrl": "https://lh3.googleusercontent.com/a-/AOh14GjtHksei9WdAErhfi3yHKZLj_4XdYflB6cuhnlm=s64",
      "userId": "08596168006669582065"
     },
     "user_tz": -120
    },
    "id": "2Ni4c26wcxJb",
    "outputId": "94ac87d3-80bb-4927-b94e-57d21e424c22"
   }
  },
  {
   "cell_type": "code",
   "execution_count": null,
   "source": [
    "eg = ds.data[740000]\n",
    "print(eg)\n",
    "bows = ds.vectorizer.transform([eg]).toarray()\n",
    "print(bows)\n",
    "print(np.where(bows==1))"
   ],
   "outputs": [
    {
     "output_type": "stream",
     "name": "stdout",
     "text": [
      "I disagree with other reviewers in terms of size .\n",
      "[[0 0 0 0 0 0 0 0 0 0 0 0 0 0 0 0 0 0 0 0 0 0 0 0 0 0 0 0 0 0 0 0 0 0 1 0\n",
      "  0 0 0 0 0 0 0 0]]\n",
      "(array([0], dtype=int64), array([34], dtype=int64))\n"
     ]
    }
   ],
   "metadata": {
    "id": "OvwPoPkJBqpJ",
    "outputId": "c2c3b207-48e2-481a-fd3b-8adab428dc95"
   }
  },
  {
   "cell_type": "code",
   "execution_count": null,
   "source": [
    "# dataset does not support batch fetching\n",
    "bow_batch, id_batch = ds[100]"
   ],
   "outputs": [],
   "metadata": {
    "id": "gBt-8xigvfTr"
   }
  },
  {
   "cell_type": "markdown",
   "source": [
    "# `extract_data.py`\n"
   ],
   "metadata": {
    "id": "IedeZQpfBqpK"
   }
  },
  {
   "cell_type": "code",
   "execution_count": null,
   "source": [
    "import h5py\n",
    "from tqdm import tqdm\n",
    "import json"
   ],
   "outputs": [],
   "metadata": {
    "id": "P6E5OURzBqpK"
   }
  },
  {
   "cell_type": "code",
   "execution_count": null,
   "source": [
    "source = \"./data/preprocessed/BOOTS_MATE.hdf5\"\n",
    "# source = \"./data/preprocessed/BOOTS_MATE_TEST.hdf5\"\n",
    "output = \"./data/boots_train.json\""
   ],
   "outputs": [],
   "metadata": {
    "id": "ZuM8SzFnBqpK"
   }
  },
  {
   "cell_type": "code",
   "execution_count": null,
   "source": [
    "def load_h5(f, label):\n",
    "    size = len(f.get(label))\n",
    "    result = [f.get(label).get(str(i))[()].squeeze().tolist() for i in tqdm(range(size))]\n",
    "    return result"
   ],
   "outputs": [],
   "metadata": {
    "id": "FWCdoMHWBqpK"
   }
  },
  {
   "cell_type": "code",
   "execution_count": null,
   "source": [
    "f.close()\n",
    "f = h5py.File(source, 'r')"
   ],
   "outputs": [],
   "metadata": {
    "id": "3kejSV0cBqpL"
   }
  },
  {
   "cell_type": "code",
   "execution_count": null,
   "source": [
    "print(len(f.get('original')))"
   ],
   "outputs": [
    {
     "output_type": "stream",
     "name": "stdout",
     "text": [
      "19278\n"
     ]
    }
   ],
   "metadata": {
    "id": "nX7u0oqpBqpL",
    "outputId": "6c5ef178-4561-4520-8406-9f323cef874f"
   }
  },
  {
   "cell_type": "code",
   "execution_count": null,
   "source": [
    "# a = f.get('original').get('1')[()].squeeze().tolist()\n",
    "a = f.get('data').get(str('12'))[()].tolist()\n",
    "print(a)\n",
    "print(type(a))\n",
    "print(len(a))\n",
    "print(a[0])\n",
    "print(type(a[0]) == bytes)\n",
    "isinstance(a[0], bytes)"
   ],
   "outputs": [
    {
     "output_type": "stream",
     "name": "stdout",
     "text": [
      "[[983, 96, 737, 99, 1364, 5071, 976, 1033, 973, 149, 12, 8810, 381, 3821]]\n",
      "<class 'list'>\n",
      "1\n",
      "[983, 96, 737, 99, 1364, 5071, 976, 1033, 973, 149, 12, 8810, 381, 3821]\n",
      "False\n"
     ]
    },
    {
     "output_type": "execute_result",
     "data": {
      "text/plain": [
       "False"
      ]
     },
     "metadata": {
      "tags": []
     },
     "execution_count": 78
    }
   ],
   "metadata": {
    "id": "GoMjI_09BqpL",
    "outputId": "84655b3b-d933-41e6-b839-6a45ea6de950"
   }
  },
  {
   "cell_type": "code",
   "execution_count": null,
   "source": [
    "list(map(lambda x:x.decode(), f.get('original').get('0')[()].squeeze().tolist()))"
   ],
   "outputs": [
    {
     "output_type": "execute_result",
     "data": {
      "text/plain": [
       "['that I love ,',\n",
       " 'but these are a disappointment .',\n",
       " 'I do not like them at all ,',\n",
       " 'returning them .',\n",
       " 'They are not comfortable .',\n",
       " 'they gave me .',\n",
       " 'how i will wrap these .',\n",
       " 'I requested .',\n",
       " 'They said',\n",
       " 'This is the day',\n",
       " 'that was the boots',\n",
       " \"do n't have !\",\n",
       " 'Thanks',\n",
       " 'I bought',\n",
       " 'wide',\n",
       " 'that ok am',\n",
       " 'enjoying them',\n",
       " 'and they were too small .',\n",
       " 'I thought',\n",
       " 'I like them .',\n",
       " 'but i guess',\n",
       " 'which is good !',\n",
       " 'But i love them',\n",
       " 'they were too big .',\n",
       " 'to try them out .',\n",
       " 'Do remember',\n",
       " 'after breaking them in , so',\n",
       " '1 .',\n",
       " '2 .',\n",
       " '3 .',\n",
       " '4 .',\n",
       " 'she wanted .',\n",
       " 'It took a while',\n",
       " 'to get them ;',\n",
       " 'I guess',\n",
       " 'to replace them .',\n",
       " 'I buy',\n",
       " 'and have to say',\n",
       " 'So , I bought',\n",
       " 'I know how',\n",
       " \"but did n't .\",\n",
       " 'it was the boots',\n",
       " 'I wore them',\n",
       " 'To be fair ,',\n",
       " 'what I need to do',\n",
       " 'Ridiculous !',\n",
       " 'and try them on .',\n",
       " 'so it swallowed me up :',\n",
       " 'and the boots',\n",
       " 'It was absurd -']"
      ]
     },
     "metadata": {
      "tags": []
     },
     "execution_count": 34
    }
   ],
   "metadata": {
    "id": "AA-mzsOiBqpL",
    "outputId": "135af87f-7090-4774-fc64-67bda90be695"
   }
  },
  {
   "cell_type": "code",
   "execution_count": null,
   "source": [
    "data = {'original': load_h5(f, 'original')}\n",
    "data['original'] = [[o] if isinstance(o, str) else o for o in data['original']]"
   ],
   "outputs": [
    {
     "output_type": "stream",
     "name": "stderr",
     "text": [
      "100%|██████████| 19278/19278 [00:06<00:00, 2934.68it/s]\n"
     ]
    }
   ],
   "metadata": {
    "id": "WXx0a2yXBqpM",
    "outputId": "7b580de9-1c6e-4f3a-89f2-5f544b5c5d21"
   }
  },
  {
   "cell_type": "code",
   "execution_count": null,
   "source": [
    "print(type(data['original']))\n",
    "for i in range(10):\n",
    "    print(data['original'][i])"
   ],
   "outputs": [
    {
     "output_type": "stream",
     "name": "stdout",
     "text": [
      "<class 'list'>\n",
      "[b'that I love ,', b'but these are a disappointment .', b'I do not like them at all ,', b'returning them .', b'They are not comfortable .', b'they gave me .', b'how i will wrap these .', b'I requested .', b'They said', b'This is the day', b'that was the boots', b\"do n't have !\", b'Thanks', b'I bought', b'wide', b'that ok am', b'enjoying them', b'and they were too small .', b'I thought', b'I like them .', b'but i guess', b'which is good !', b'But i love them', b'they were too big .', b'to try them out .', b'Do remember', b'after breaking them in , so', b'1 .', b'2 .', b'3 .', b'4 .', b'she wanted .', b'It took a while', b'to get them ;', b'I guess', b'to replace them .', b'I buy', b'and have to say', b'So , I bought', b'I know how', b\"but did n't .\", b'it was the boots', b'I wore them', b'To be fair ,', b'what I need to do', b'Ridiculous !', b'and try them on .', b'so it swallowed me up :', b'and the boots', b'It was absurd -']\n",
      "[b'The pair', b'No matter ,', b'And , they . are . hard .', b'I know', b'Tight .', b'to review these ,', b'or whatever .', b'Not so much .', b'Probably not .', b'and may then ,', b'Love', b'I expected and more .', b'They are comfy ,', b'when you walk .', b'The only complaint', b'the are giving ,', b'The only thing', b'that is a bit', b'bothersome is', b'turned in', b'when I walk .', b'have said ,', b'I like', b'and I am disappointed', b'they are too small ,', b'I love them !!', b'I guess', b'she is keeping them', b'but this was extreme -RRB- ,', b'-LRB- which was not surprising ,', b'but after a while It was fine .', b'I guess', b'which can be uncomfortable', b'I wear .', b'you understand !', b'Other than the initial', b'she loves them', b'before deciding on these .', b'I wore them', b'to get her .', b'I ended up', b'and she said', b'if you think', b'order up .', b'but its nothing', b'I will post again', b'They looked', b'wearing them ...', b'-LRB- in length -RRB- .', b'I did not reorder ...']\n",
      "[b'and I knew', b'that when I ordered', b'what I paid !', b'been looking all over', b'because they are so comfortable .', b'not a problem', b'and she gets', b'that I tried in', b'They are very comfortable !', b'and probably will ,', b'and they are very comfortable .', b'and I can say', b'like I was ,', b'all I can say', b'is get them !!!', b'that could be', b'I was not disappointed ,', b'It not only fits ,', b'I wanted .', b'When they arrived', b'The ones', b'Perfect .', b'I try ,', b'THANKS !', b'I was told &#34;', b'broken in !', b'from slipping down .', b'-LRB- the wide', b'and I love all of them .', b'They are comfortable', b'I read', b'Sizing -', b'The minute', b'they were delivered ,', b'These boots !', b'LOVE THEM !', b'and wore', b'them til', b\"'til now !!\", b'I worried', b'and decided', b'they were worth', b'a try .', b'are very comfortable', b'and I love them .', b'very &#34; bendable &#34;', b'and I have no complaints ...', b'a boot should with having', b'you get', b'like it should be too .']\n",
      "[b'They are so comfortable', b'and they are beautiful .', b'I am so glad', b'I read', b'-LRB- and had faith in -RRB-', b'Yes ,', b'COMFORT .', b'amazon -RRB- .', b'and I was in love !', b'If you are on the fence ,', b'hop on over', b'so they did fit', b\"'s\", b'because theirs has support under them .', b'This was disappointing .', b'-- this was the one', b'Very comfortable .', b'They were a disappoint .', b'but they were damaged', b'so I had to return them .', b'in being let down again ...', b'but these were cheap .', b'and it looked', b'because they are so cute', b'and they were expensive', b'I had to return these .', b'I had wanted', b'When they arrived ,', b'because I can just slip those on', b'i think', b'If they stretch', b'will be too big .', b'as I walk ,', b'to prevent', b'and am hoping', b'I wear', b'Just an FYI :', b'I love', b'how comfy they are', b'and tried', b'them on ended up', b'they are so comfortable : -RRB-', b'I am so happy', b'but so worth it .', b'It goes', b'LOVE !', b'when I wear these : -RRB-', b'My friend', b'so I can wear them more .', b'to slide in and out of them']\n",
      "[b'where i was bleeding', b'you notice', b'and just be patient ,', b'its worth it .', b'it took me a while', b'When I had the laces', b'they slid', b'I feel', b'they support them', b'You can dress them up or down .', b'Ahhhh !', b'and when I found them', b'and I love all of them .', b'They fit', b'as I expected', b'you need it .', b'and I imagine', b'I m a 9 .', b'So soft .', b'And 10mins off .', b'I have only worn these once ,', b'and these were so comfortable', b'so I ordered', b'I feel', b'and thinks', b'they are very stylish', b'They are comfy', b'The only problem is', b'I been wanting them for a while', b'and I think', b'Love these !', b'I am so happy', b'where I got them ,', b'and it has been a nightmare', b'and I know', b'but I heard', b'Love them !!!!', b'LOVE !', b'CHINA ???', b'where made ,', b'but provided', b'we should be ashamed', b'I like them ,', b'as soon', b'as I got them .', b'This is 2011 and these', b'I have the ones', b'and I loved them .', b'The slippers', b'that they were not the same quality .']\n",
      "[b'I have had these a few months', b'I recommend', b'and put them on ,', b'and then thought', b'to be comfortable .', b'I know', b'Darn .', b'she says', b'I returned them', b'-LRB- of which I was expecting -RRB-', b'out of 5 .', b'This is shoe', b'and does the job !', b'I wear', b'and I think', b'LOVE THEM .', b'and are now perfect .', b'as they stretch', b'I hope', b'they never do .', b'They looked', b'None of them', b'and just received them .', b'The only thing', b'I was not happy about', b'However , now', b'I have dogs', b'These are thick ,', b'and I believe', b'but these Minnetonkas have won me over .', b'I wish', b'they were precisely', b'as I had hoped', b'they would be .', b'I have no regrets', b'As a husband ,', b'she loves them .', b'before ordering', b'after squeezing into them', b'and wearing them a while .', b'These are marvelous !', b'and she loves them', b'I think ,', b'etc. .', b'which is nice ,', b'to compare them to ,', b'being said ,', b'I think', b'I had to return them', b'because they were just not wearable .']\n",
      "[b'They looked', b'but they were too loose .', b'I went for these', b'I like', b'the look', b'Go for it !', b'I seemed', b'Had to return .', b'I wore', b'to fix them', b'I ended up', b'pulling both of them off', b'I wear .', b'Q', b'for some time now .', b'and was SO disappointed .', b'what I tried', b'But they were too small ,', b'than what you really are .', b'when I got them', b'I expected .', b'-LRB- : These boots', b'I guess ,', b'Period .', b'You should be okay .', b'And the bad :', b'to get them on .', b'Just a bit .', b'and went ,', b'`` Oh no !', b'Then I tried the other ,', b'and I discovered', b'That helped .', b'to help you !', b'if you really ,', b'so I worry', b'-LRB- once you get them on -RRB- .', b'if you plan', b'on tucking them in', b'I wear', b'Just reordered', b'than you wear', b'and it will be perfect !', b'that said', b'and you should be just fine .', b'so i thought', b'and were so comfortable', b'but it was to large', b'I love them .', b'and they were very comfortable']\n",
      "[b'They are very stylish .', b'where I got them .', b'This does the trick .', b'I was concerned', b\"while I 've been\", b'wearing them .', b'They are just as described .', b'and felt', b'just to keep them on .', b'Love them .', b'These boots were', b'when ordering', b'and looks .', b'that you will have a problem', b'with sizing', b'When I wear these out I', b'not sure', b'they move with you -', b'no stiffness at all ;', b'before I put them on .', b'I put them on .', b'and had to be broken in .', b'Did I mention', b'we are from Texas ?', b'She wears them', b'but the size was off for me .', b'to return them .', b'I was wrong .', b'They showed up', b'I am very disappointed .', b'so I ordered', b'-LRB- 9 -RRB-', b'Wrong !', b'I ordered', b'it looks ,', b'to dance in .', b'I had was amazing .', b'after having them for a year .', b'After I sold them I', b'If you dont own these', b'not too bad ,', b'if you are worried ,', b'and have had these boots before .', b'Easy on/off .', b'NOT as insulating', b'as I had hoped', b\"I 've had\", b'-LRB- which my feet do', b'My only complaint is', b'Might be me']\n",
      "[b'being picky ,', b'I was disappointed', b'when I walk .', b'-LRB- not same brand -RRB- ,', b'there was no way', b'to fix it .', b'which does not please me .', b'I do have bunions', b'They handle', b'Just started', b'wearing them .', b'and dry', b'has been true for me .', b'because they are comfortable .', b'if need be .', b'but anticipate', b'I wear', b'They will have to be broken in .', b'to wear .', b'-LRB- in china -RRB-', b'I was very disappointing', b'The only thing', b'It was comfortable', b'I figured', b'when it was made .', b'as I expected .', b'as we are bridesmaids .', b'When they arrived', b'I just wish', b'When I received them', b'I was very annoyed .', b'NOT happy at all !', b'When I tried them on ,', b'I knew', b'to compare them .', b'I know', b\"so I 'm\", b'keeping both', b'choose !', b'I needed them', b'so I compromised', b'and skirts .', b'Returned .', b\"this is n't it ,\", b'No barrel', b'racing in these !', b'I returned these', b'I thought', b'but I was wrong .', b'because of size .']\n",
      "[b'for riding .', b'if I think', b'and had no problems .', b'I guess', b'than that they are great !', b'I can add', b'Which is just what I wanted .', b'but that is not to say', b'which surprised me .', b'so that was no problem for me .', b'The insert', b'acknowledges', b'-LRB- honestly ! -RRB-', b'which I guess', b'it seems', b'to slip .', b'So dark', b'They are growing on me .', b'I think', b'It said', b'I thought', b'which I was very surprised .', b'but they were too small', b'but was concerned', b'The boot', b'-LRB- red -RRB-', b'is not very shiny', b'but it is not suede', b'nor have unusualtexture .', b'-LRB- with a Luchese -RRB-', b'LOVE Them !', b'and I wondered', b'She loves them', b'Otherwise ,', b'and she will love them !', b'and I love', b'how they look .', b'on sizing', b'There is no way', b'and love them .', b'but I can tell', b'-LRB- black -RRB-', b'No complaints .', b'Enjoy them !', b'to be as comfortable', b'but I know', b'They are definitely', b'that I was afraid', b'it would be', b'that I ordered']\n"
     ]
    }
   ],
   "metadata": {
    "id": "ABuLfxj_BqpM",
    "outputId": "11948a1f-35a0-4eb0-92a3-b3f60856ac43",
    "tags": []
   }
  },
  {
   "cell_type": "code",
   "execution_count": null,
   "source": [
    "data['label'] = load_h5(f, 'labels')\n",
    "data['label'] = [[o] if isinstance(o[0], int) else o for o in data['label']]"
   ],
   "outputs": [
    {
     "output_type": "error",
     "ename": "TypeError",
     "evalue": "object of type 'NoneType' has no len()",
     "traceback": [
      "\u001b[1;31m---------------------------------------------------------------------------\u001b[0m",
      "\u001b[1;31mTypeError\u001b[0m                                 Traceback (most recent call last)",
      "\u001b[1;32m<ipython-input-9-571ffd89a0cc>\u001b[0m in \u001b[0;36m<module>\u001b[1;34m\u001b[0m\n\u001b[1;32m----> 1\u001b[1;33m \u001b[0mdata\u001b[0m\u001b[1;33m[\u001b[0m\u001b[1;34m'label'\u001b[0m\u001b[1;33m]\u001b[0m \u001b[1;33m=\u001b[0m \u001b[0mload_h5\u001b[0m\u001b[1;33m(\u001b[0m\u001b[0mf\u001b[0m\u001b[1;33m,\u001b[0m \u001b[1;34m'labels'\u001b[0m\u001b[1;33m)\u001b[0m\u001b[1;33m\u001b[0m\u001b[1;33m\u001b[0m\u001b[0m\n\u001b[0m\u001b[0;32m      2\u001b[0m \u001b[0mdata\u001b[0m\u001b[1;33m[\u001b[0m\u001b[1;34m'label'\u001b[0m\u001b[1;33m]\u001b[0m \u001b[1;33m=\u001b[0m \u001b[1;33m[\u001b[0m\u001b[1;33m[\u001b[0m\u001b[0mo\u001b[0m\u001b[1;33m]\u001b[0m \u001b[1;32mif\u001b[0m \u001b[0misinstance\u001b[0m\u001b[1;33m(\u001b[0m\u001b[0mo\u001b[0m\u001b[1;33m[\u001b[0m\u001b[1;36m0\u001b[0m\u001b[1;33m]\u001b[0m\u001b[1;33m,\u001b[0m \u001b[0mint\u001b[0m\u001b[1;33m)\u001b[0m \u001b[1;32melse\u001b[0m \u001b[0mo\u001b[0m \u001b[1;32mfor\u001b[0m \u001b[0mo\u001b[0m \u001b[1;32min\u001b[0m \u001b[0mdata\u001b[0m\u001b[1;33m[\u001b[0m\u001b[1;34m'label'\u001b[0m\u001b[1;33m]\u001b[0m\u001b[1;33m]\u001b[0m\u001b[1;33m\u001b[0m\u001b[1;33m\u001b[0m\u001b[0m\n",
      "\u001b[1;32m<ipython-input-2-36dd367b864b>\u001b[0m in \u001b[0;36mload_h5\u001b[1;34m(f, label)\u001b[0m\n\u001b[0;32m      1\u001b[0m \u001b[1;32mdef\u001b[0m \u001b[0mload_h5\u001b[0m\u001b[1;33m(\u001b[0m\u001b[0mf\u001b[0m\u001b[1;33m,\u001b[0m \u001b[0mlabel\u001b[0m\u001b[1;33m)\u001b[0m\u001b[1;33m:\u001b[0m\u001b[1;33m\u001b[0m\u001b[1;33m\u001b[0m\u001b[0m\n\u001b[1;32m----> 2\u001b[1;33m     \u001b[0msize\u001b[0m \u001b[1;33m=\u001b[0m \u001b[0mlen\u001b[0m\u001b[1;33m(\u001b[0m\u001b[0mf\u001b[0m\u001b[1;33m.\u001b[0m\u001b[0mget\u001b[0m\u001b[1;33m(\u001b[0m\u001b[0mlabel\u001b[0m\u001b[1;33m)\u001b[0m\u001b[1;33m)\u001b[0m\u001b[1;33m\u001b[0m\u001b[1;33m\u001b[0m\u001b[0m\n\u001b[0m\u001b[0;32m      3\u001b[0m     \u001b[0mresult\u001b[0m \u001b[1;33m=\u001b[0m \u001b[1;33m[\u001b[0m\u001b[0mf\u001b[0m\u001b[1;33m.\u001b[0m\u001b[0mget\u001b[0m\u001b[1;33m(\u001b[0m\u001b[0mlabel\u001b[0m\u001b[1;33m)\u001b[0m\u001b[1;33m.\u001b[0m\u001b[0mget\u001b[0m\u001b[1;33m(\u001b[0m\u001b[0mstr\u001b[0m\u001b[1;33m(\u001b[0m\u001b[0mi\u001b[0m\u001b[1;33m)\u001b[0m\u001b[1;33m)\u001b[0m\u001b[1;33m[\u001b[0m\u001b[1;33m(\u001b[0m\u001b[1;33m)\u001b[0m\u001b[1;33m]\u001b[0m\u001b[1;33m.\u001b[0m\u001b[0msqueeze\u001b[0m\u001b[1;33m(\u001b[0m\u001b[1;33m)\u001b[0m\u001b[1;33m.\u001b[0m\u001b[0mtolist\u001b[0m\u001b[1;33m(\u001b[0m\u001b[1;33m)\u001b[0m \u001b[1;32mfor\u001b[0m \u001b[0mi\u001b[0m \u001b[1;32min\u001b[0m \u001b[0mtqdm\u001b[0m\u001b[1;33m(\u001b[0m\u001b[0mrange\u001b[0m\u001b[1;33m(\u001b[0m\u001b[0msize\u001b[0m\u001b[1;33m)\u001b[0m\u001b[1;33m)\u001b[0m\u001b[1;33m]\u001b[0m\u001b[1;33m\u001b[0m\u001b[1;33m\u001b[0m\u001b[0m\n\u001b[0;32m      4\u001b[0m     \u001b[1;32mreturn\u001b[0m \u001b[0mresult\u001b[0m\u001b[1;33m\u001b[0m\u001b[1;33m\u001b[0m\u001b[0m\n",
      "\u001b[1;31mTypeError\u001b[0m: object of type 'NoneType' has no len()"
     ]
    }
   ],
   "metadata": {
    "id": "lremWjLZBqpM",
    "outputId": "081993fc-373c-4609-941c-7d9176f844bf"
   }
  },
  {
   "cell_type": "code",
   "execution_count": null,
   "source": [
    "with open(output, 'w') as f:\n",
    "    json.dump(data, f)"
   ],
   "outputs": [
    {
     "output_type": "error",
     "ename": "TypeError",
     "evalue": "Object of type bytes is not JSON serializable",
     "traceback": [
      "\u001b[1;31m---------------------------------------------------------------------------\u001b[0m",
      "\u001b[1;31mTypeError\u001b[0m                                 Traceback (most recent call last)",
      "\u001b[1;32m<ipython-input-14-6712ae71ebd1>\u001b[0m in \u001b[0;36m<module>\u001b[1;34m\u001b[0m\n\u001b[0;32m      1\u001b[0m \u001b[1;32mwith\u001b[0m \u001b[0mopen\u001b[0m\u001b[1;33m(\u001b[0m\u001b[0moutput\u001b[0m\u001b[1;33m,\u001b[0m \u001b[1;34m'w'\u001b[0m\u001b[1;33m)\u001b[0m \u001b[1;32mas\u001b[0m \u001b[0mf\u001b[0m\u001b[1;33m:\u001b[0m\u001b[1;33m\u001b[0m\u001b[1;33m\u001b[0m\u001b[0m\n\u001b[1;32m----> 2\u001b[1;33m     \u001b[0mjson\u001b[0m\u001b[1;33m.\u001b[0m\u001b[0mdump\u001b[0m\u001b[1;33m(\u001b[0m\u001b[0mdata\u001b[0m\u001b[1;33m,\u001b[0m \u001b[0mf\u001b[0m\u001b[1;33m)\u001b[0m\u001b[1;33m\u001b[0m\u001b[1;33m\u001b[0m\u001b[0m\n\u001b[0m",
      "\u001b[1;32mE:\\Anaconda3\\envs\\nlp\\lib\\json\\__init__.py\u001b[0m in \u001b[0;36mdump\u001b[1;34m(obj, fp, skipkeys, ensure_ascii, check_circular, allow_nan, cls, indent, separators, default, sort_keys, **kw)\u001b[0m\n\u001b[0;32m    177\u001b[0m     \u001b[1;31m# could accelerate with writelines in some versions of Python, at\u001b[0m\u001b[1;33m\u001b[0m\u001b[1;33m\u001b[0m\u001b[1;33m\u001b[0m\u001b[0m\n\u001b[0;32m    178\u001b[0m     \u001b[1;31m# a debuggability cost\u001b[0m\u001b[1;33m\u001b[0m\u001b[1;33m\u001b[0m\u001b[1;33m\u001b[0m\u001b[0m\n\u001b[1;32m--> 179\u001b[1;33m     \u001b[1;32mfor\u001b[0m \u001b[0mchunk\u001b[0m \u001b[1;32min\u001b[0m \u001b[0miterable\u001b[0m\u001b[1;33m:\u001b[0m\u001b[1;33m\u001b[0m\u001b[1;33m\u001b[0m\u001b[0m\n\u001b[0m\u001b[0;32m    180\u001b[0m         \u001b[0mfp\u001b[0m\u001b[1;33m.\u001b[0m\u001b[0mwrite\u001b[0m\u001b[1;33m(\u001b[0m\u001b[0mchunk\u001b[0m\u001b[1;33m)\u001b[0m\u001b[1;33m\u001b[0m\u001b[1;33m\u001b[0m\u001b[0m\n\u001b[0;32m    181\u001b[0m \u001b[1;33m\u001b[0m\u001b[0m\n",
      "\u001b[1;32mE:\\Anaconda3\\envs\\nlp\\lib\\json\\encoder.py\u001b[0m in \u001b[0;36m_iterencode\u001b[1;34m(o, _current_indent_level)\u001b[0m\n\u001b[0;32m    429\u001b[0m             \u001b[1;32myield\u001b[0m \u001b[1;32mfrom\u001b[0m \u001b[0m_iterencode_list\u001b[0m\u001b[1;33m(\u001b[0m\u001b[0mo\u001b[0m\u001b[1;33m,\u001b[0m \u001b[0m_current_indent_level\u001b[0m\u001b[1;33m)\u001b[0m\u001b[1;33m\u001b[0m\u001b[1;33m\u001b[0m\u001b[0m\n\u001b[0;32m    430\u001b[0m         \u001b[1;32melif\u001b[0m \u001b[0misinstance\u001b[0m\u001b[1;33m(\u001b[0m\u001b[0mo\u001b[0m\u001b[1;33m,\u001b[0m \u001b[0mdict\u001b[0m\u001b[1;33m)\u001b[0m\u001b[1;33m:\u001b[0m\u001b[1;33m\u001b[0m\u001b[1;33m\u001b[0m\u001b[0m\n\u001b[1;32m--> 431\u001b[1;33m             \u001b[1;32myield\u001b[0m \u001b[1;32mfrom\u001b[0m \u001b[0m_iterencode_dict\u001b[0m\u001b[1;33m(\u001b[0m\u001b[0mo\u001b[0m\u001b[1;33m,\u001b[0m \u001b[0m_current_indent_level\u001b[0m\u001b[1;33m)\u001b[0m\u001b[1;33m\u001b[0m\u001b[1;33m\u001b[0m\u001b[0m\n\u001b[0m\u001b[0;32m    432\u001b[0m         \u001b[1;32melse\u001b[0m\u001b[1;33m:\u001b[0m\u001b[1;33m\u001b[0m\u001b[1;33m\u001b[0m\u001b[0m\n\u001b[0;32m    433\u001b[0m             \u001b[1;32mif\u001b[0m \u001b[0mmarkers\u001b[0m \u001b[1;32mis\u001b[0m \u001b[1;32mnot\u001b[0m \u001b[1;32mNone\u001b[0m\u001b[1;33m:\u001b[0m\u001b[1;33m\u001b[0m\u001b[1;33m\u001b[0m\u001b[0m\n",
      "\u001b[1;32mE:\\Anaconda3\\envs\\nlp\\lib\\json\\encoder.py\u001b[0m in \u001b[0;36m_iterencode_dict\u001b[1;34m(dct, _current_indent_level)\u001b[0m\n\u001b[0;32m    403\u001b[0m                 \u001b[1;32melse\u001b[0m\u001b[1;33m:\u001b[0m\u001b[1;33m\u001b[0m\u001b[1;33m\u001b[0m\u001b[0m\n\u001b[0;32m    404\u001b[0m                     \u001b[0mchunks\u001b[0m \u001b[1;33m=\u001b[0m \u001b[0m_iterencode\u001b[0m\u001b[1;33m(\u001b[0m\u001b[0mvalue\u001b[0m\u001b[1;33m,\u001b[0m \u001b[0m_current_indent_level\u001b[0m\u001b[1;33m)\u001b[0m\u001b[1;33m\u001b[0m\u001b[1;33m\u001b[0m\u001b[0m\n\u001b[1;32m--> 405\u001b[1;33m                 \u001b[1;32myield\u001b[0m \u001b[1;32mfrom\u001b[0m \u001b[0mchunks\u001b[0m\u001b[1;33m\u001b[0m\u001b[1;33m\u001b[0m\u001b[0m\n\u001b[0m\u001b[0;32m    406\u001b[0m         \u001b[1;32mif\u001b[0m \u001b[0mnewline_indent\u001b[0m \u001b[1;32mis\u001b[0m \u001b[1;32mnot\u001b[0m \u001b[1;32mNone\u001b[0m\u001b[1;33m:\u001b[0m\u001b[1;33m\u001b[0m\u001b[1;33m\u001b[0m\u001b[0m\n\u001b[0;32m    407\u001b[0m             \u001b[0m_current_indent_level\u001b[0m \u001b[1;33m-=\u001b[0m \u001b[1;36m1\u001b[0m\u001b[1;33m\u001b[0m\u001b[1;33m\u001b[0m\u001b[0m\n",
      "\u001b[1;32mE:\\Anaconda3\\envs\\nlp\\lib\\json\\encoder.py\u001b[0m in \u001b[0;36m_iterencode_list\u001b[1;34m(lst, _current_indent_level)\u001b[0m\n\u001b[0;32m    323\u001b[0m                 \u001b[1;32melse\u001b[0m\u001b[1;33m:\u001b[0m\u001b[1;33m\u001b[0m\u001b[1;33m\u001b[0m\u001b[0m\n\u001b[0;32m    324\u001b[0m                     \u001b[0mchunks\u001b[0m \u001b[1;33m=\u001b[0m \u001b[0m_iterencode\u001b[0m\u001b[1;33m(\u001b[0m\u001b[0mvalue\u001b[0m\u001b[1;33m,\u001b[0m \u001b[0m_current_indent_level\u001b[0m\u001b[1;33m)\u001b[0m\u001b[1;33m\u001b[0m\u001b[1;33m\u001b[0m\u001b[0m\n\u001b[1;32m--> 325\u001b[1;33m                 \u001b[1;32myield\u001b[0m \u001b[1;32mfrom\u001b[0m \u001b[0mchunks\u001b[0m\u001b[1;33m\u001b[0m\u001b[1;33m\u001b[0m\u001b[0m\n\u001b[0m\u001b[0;32m    326\u001b[0m         \u001b[1;32mif\u001b[0m \u001b[0mnewline_indent\u001b[0m \u001b[1;32mis\u001b[0m \u001b[1;32mnot\u001b[0m \u001b[1;32mNone\u001b[0m\u001b[1;33m:\u001b[0m\u001b[1;33m\u001b[0m\u001b[1;33m\u001b[0m\u001b[0m\n\u001b[0;32m    327\u001b[0m             \u001b[0m_current_indent_level\u001b[0m \u001b[1;33m-=\u001b[0m \u001b[1;36m1\u001b[0m\u001b[1;33m\u001b[0m\u001b[1;33m\u001b[0m\u001b[0m\n",
      "\u001b[1;32mE:\\Anaconda3\\envs\\nlp\\lib\\json\\encoder.py\u001b[0m in \u001b[0;36m_iterencode_list\u001b[1;34m(lst, _current_indent_level)\u001b[0m\n\u001b[0;32m    323\u001b[0m                 \u001b[1;32melse\u001b[0m\u001b[1;33m:\u001b[0m\u001b[1;33m\u001b[0m\u001b[1;33m\u001b[0m\u001b[0m\n\u001b[0;32m    324\u001b[0m                     \u001b[0mchunks\u001b[0m \u001b[1;33m=\u001b[0m \u001b[0m_iterencode\u001b[0m\u001b[1;33m(\u001b[0m\u001b[0mvalue\u001b[0m\u001b[1;33m,\u001b[0m \u001b[0m_current_indent_level\u001b[0m\u001b[1;33m)\u001b[0m\u001b[1;33m\u001b[0m\u001b[1;33m\u001b[0m\u001b[0m\n\u001b[1;32m--> 325\u001b[1;33m                 \u001b[1;32myield\u001b[0m \u001b[1;32mfrom\u001b[0m \u001b[0mchunks\u001b[0m\u001b[1;33m\u001b[0m\u001b[1;33m\u001b[0m\u001b[0m\n\u001b[0m\u001b[0;32m    326\u001b[0m         \u001b[1;32mif\u001b[0m \u001b[0mnewline_indent\u001b[0m \u001b[1;32mis\u001b[0m \u001b[1;32mnot\u001b[0m \u001b[1;32mNone\u001b[0m\u001b[1;33m:\u001b[0m\u001b[1;33m\u001b[0m\u001b[1;33m\u001b[0m\u001b[0m\n\u001b[0;32m    327\u001b[0m             \u001b[0m_current_indent_level\u001b[0m \u001b[1;33m-=\u001b[0m \u001b[1;36m1\u001b[0m\u001b[1;33m\u001b[0m\u001b[1;33m\u001b[0m\u001b[0m\n",
      "\u001b[1;32mE:\\Anaconda3\\envs\\nlp\\lib\\json\\encoder.py\u001b[0m in \u001b[0;36m_iterencode\u001b[1;34m(o, _current_indent_level)\u001b[0m\n\u001b[0;32m    436\u001b[0m                     \u001b[1;32mraise\u001b[0m \u001b[0mValueError\u001b[0m\u001b[1;33m(\u001b[0m\u001b[1;34m\"Circular reference detected\"\u001b[0m\u001b[1;33m)\u001b[0m\u001b[1;33m\u001b[0m\u001b[1;33m\u001b[0m\u001b[0m\n\u001b[0;32m    437\u001b[0m                 \u001b[0mmarkers\u001b[0m\u001b[1;33m[\u001b[0m\u001b[0mmarkerid\u001b[0m\u001b[1;33m]\u001b[0m \u001b[1;33m=\u001b[0m \u001b[0mo\u001b[0m\u001b[1;33m\u001b[0m\u001b[1;33m\u001b[0m\u001b[0m\n\u001b[1;32m--> 438\u001b[1;33m             \u001b[0mo\u001b[0m \u001b[1;33m=\u001b[0m \u001b[0m_default\u001b[0m\u001b[1;33m(\u001b[0m\u001b[0mo\u001b[0m\u001b[1;33m)\u001b[0m\u001b[1;33m\u001b[0m\u001b[1;33m\u001b[0m\u001b[0m\n\u001b[0m\u001b[0;32m    439\u001b[0m             \u001b[1;32myield\u001b[0m \u001b[1;32mfrom\u001b[0m \u001b[0m_iterencode\u001b[0m\u001b[1;33m(\u001b[0m\u001b[0mo\u001b[0m\u001b[1;33m,\u001b[0m \u001b[0m_current_indent_level\u001b[0m\u001b[1;33m)\u001b[0m\u001b[1;33m\u001b[0m\u001b[1;33m\u001b[0m\u001b[0m\n\u001b[0;32m    440\u001b[0m             \u001b[1;32mif\u001b[0m \u001b[0mmarkers\u001b[0m \u001b[1;32mis\u001b[0m \u001b[1;32mnot\u001b[0m \u001b[1;32mNone\u001b[0m\u001b[1;33m:\u001b[0m\u001b[1;33m\u001b[0m\u001b[1;33m\u001b[0m\u001b[0m\n",
      "\u001b[1;32mE:\\Anaconda3\\envs\\nlp\\lib\\json\\encoder.py\u001b[0m in \u001b[0;36mdefault\u001b[1;34m(self, o)\u001b[0m\n\u001b[0;32m    177\u001b[0m \u001b[1;33m\u001b[0m\u001b[0m\n\u001b[0;32m    178\u001b[0m         \"\"\"\n\u001b[1;32m--> 179\u001b[1;33m         raise TypeError(f'Object of type {o.__class__.__name__} '\n\u001b[0m\u001b[0;32m    180\u001b[0m                         f'is not JSON serializable')\n\u001b[0;32m    181\u001b[0m \u001b[1;33m\u001b[0m\u001b[0m\n",
      "\u001b[1;31mTypeError\u001b[0m: Object of type bytes is not JSON serializable"
     ]
    }
   ],
   "metadata": {
    "id": "mqlNRif4BqpN",
    "outputId": "c554e63a-5631-4fed-adbd-d2a5b50c35bd"
   }
  },
  {
   "cell_type": "markdown",
   "source": [
    "# MISC"
   ],
   "metadata": {
    "id": "0WedFDEJNeoa"
   }
  },
  {
   "cell_type": "code",
   "execution_count": 1,
   "source": [
    "import json"
   ],
   "outputs": [],
   "metadata": {
    "executionInfo": {
     "elapsed": 229,
     "status": "ok",
     "timestamp": 1625531238311,
     "user": {
      "displayName": "吴景培",
      "photoUrl": "https://lh3.googleusercontent.com/a-/AOh14GjtHksei9WdAErhfi3yHKZLj_4XdYflB6cuhnlm=s64",
      "userId": "08596168006669582065"
     },
     "user_tz": -120
    },
    "id": "YgQPyN8BNeWm"
   }
  },
  {
   "cell_type": "code",
   "execution_count": 2,
   "source": [
    "%cd /content/drive/MyDrive/LeverageJustAFewKeywords/"
   ],
   "outputs": [
    {
     "output_type": "stream",
     "name": "stdout",
     "text": [
      "/content/drive/MyDrive/LeverageJustAFewKeywords\n"
     ]
    }
   ],
   "metadata": {
    "colab": {
     "base_uri": "https://localhost:8080/"
    },
    "executionInfo": {
     "elapsed": 231,
     "status": "ok",
     "timestamp": 1625531321244,
     "user": {
      "displayName": "吴景培",
      "photoUrl": "https://lh3.googleusercontent.com/a-/AOh14GjtHksei9WdAErhfi3yHKZLj_4XdYflB6cuhnlm=s64",
      "userId": "08596168006669582065"
     },
     "user_tz": -120
    },
    "id": "JK_GQEvFNy27",
    "outputId": "95dfe44b-04ba-49b0-e29f-e7ab306255ef"
   }
  },
  {
   "cell_type": "code",
   "execution_count": 4,
   "source": [
    "train_file = './data/bags_and_cases_train.json'\n",
    "with open(train_file, 'r') as f:\n",
    "    original = json.load(f)"
   ],
   "outputs": [],
   "metadata": {
    "executionInfo": {
     "elapsed": 1436,
     "status": "ok",
     "timestamp": 1625531388320,
     "user": {
      "displayName": "吴景培",
      "photoUrl": "https://lh3.googleusercontent.com/a-/AOh14GjtHksei9WdAErhfi3yHKZLj_4XdYflB6cuhnlm=s64",
      "userId": "08596168006669582065"
     },
     "user_tz": -120
    },
    "id": "QRT9Hn_eNhUX"
   }
  },
  {
   "cell_type": "code",
   "execution_count": 6,
   "source": [
    "total_length = 0\n",
    "for batch in original['original']:\n",
    "    total_length += len(batch)\n",
    "total_length"
   ],
   "outputs": [
    {
     "output_type": "execute_result",
     "data": {
      "text/plain": [
       "588229"
      ]
     },
     "metadata": {
      "tags": []
     },
     "execution_count": 6
    }
   ],
   "metadata": {
    "colab": {
     "base_uri": "https://localhost:8080/"
    },
    "executionInfo": {
     "elapsed": 207,
     "status": "ok",
     "timestamp": 1625531455211,
     "user": {
      "displayName": "吴景培",
      "photoUrl": "https://lh3.googleusercontent.com/a-/AOh14GjtHksei9WdAErhfi3yHKZLj_4XdYflB6cuhnlm=s64",
      "userId": "08596168006669582065"
     },
     "user_tz": -120
    },
    "id": "Bc6f88Y-OJnW",
    "outputId": "5f2f8edd-85cf-4d14-fb26-c28a423d13d4"
   }
  }
 ],
 "metadata": {
  "colab": {
   "authorship_tag": "ABX9TyMMWmHvYTJ8khWn4oxwdmTP",
   "collapsed_sections": [
    "JyEFHTszBqo_",
    "W1ANCvJ5kGLe",
    "X6GQBc2fuxbY",
    "HZyv3xKgDLoa",
    "UhpU54GJBqpD",
    "Kqe50Y9qBqpF",
    "2tfeOdZ8vFj5"
   ],
   "mount_file_id": "1ji-QXeDqgFKCHC__q8hMcRgRl-ieeSkc",
   "name": "draft_UnofficialLeverage.ipynb",
   "provenance": []
  },
  "kernelspec": {
   "display_name": "Python 3",
   "language": "python",
   "name": "python3"
  },
  "language_info": {
   "codemirror_mode": {
    "name": "ipython",
    "version": 3
   },
   "file_extension": ".py",
   "mimetype": "text/x-python",
   "name": "python",
   "nbconvert_exporter": "python",
   "pygments_lexer": "ipython3",
   "version": "3.7.10"
  },
  "toc": {
   "base_numbering": 1,
   "nav_menu": {},
   "number_sections": true,
   "sideBar": true,
   "skip_h1_title": false,
   "title_cell": "Table of Contents",
   "title_sidebar": "Contents",
   "toc_cell": false,
   "toc_position": {},
   "toc_section_display": true,
   "toc_window_display": true
  }
 },
 "nbformat": 4,
 "nbformat_minor": 1
}