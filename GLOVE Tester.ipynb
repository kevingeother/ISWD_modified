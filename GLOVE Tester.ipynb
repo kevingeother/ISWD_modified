{
 "cells": [
  {
   "cell_type": "code",
   "execution_count": 1,
   "metadata": {},
   "outputs": [
    {
     "name": "stderr",
     "output_type": "stream",
     "text": [
      "C:\\ProgramData\\Anaconda3\\lib\\site-packages\\sklearn\\utils\\deprecation.py:143: FutureWarning: The sklearn.feature_extraction.stop_words module is  deprecated in version 0.22 and will be removed in version 0.24. The corresponding classes / functions should instead be imported from sklearn.feature_extraction.text. Anything that cannot be imported from sklearn.feature_extraction.text is now part of the private API.\n",
      "  warnings.warn(message, FutureWarning)\n"
     ]
    }
   ],
   "source": [
    "import csv\n",
    "import numpy as np\n",
    "from collections import Counter\n",
    "from nltk.corpus import brown\n",
    "from mittens import GloVe, Mittens\n",
    "from sklearn.feature_extraction import stop_words\n",
    "from sklearn.feature_extraction.text import CountVectorizer\n"
   ]
  },
  {
   "cell_type": "code",
   "execution_count": 3,
   "metadata": {},
   "outputs": [],
   "source": [
    "def glove2dict(glove_filename):\n",
    "    with open(glove_filename, encoding='utf-8') as f:\n",
    "        reader = csv.reader(f, delimiter=' ', quoting=csv.QUOTE_NONE)\n",
    "        embed = {line[0]: np.array(list(map(float, line[1:])))\n",
    "                for line in reader}\n",
    "    return embed\n",
    "\n",
    "glove_path = \"glove.6B\\glove.6B.300d.txt\" # get it from https://nlp.stanford.edu/projects/glove\n",
    "pre_glove = glove2dict(glove_path)"
   ]
  },
  {
   "cell_type": "code",
   "execution_count": 4,
   "metadata": {},
   "outputs": [],
   "source": [
    "sw = list(stop_words.ENGLISH_STOP_WORDS)\n",
    "brown_data = brown.words()[:200000]\n",
    "brown_nonstop = [token.lower() for token in brown_data if (token.lower() not in sw)]\n",
    "oov = [token for token in brown_nonstop if token not in pre_glove.keys()]"
   ]
  },
  {
   "cell_type": "code",
   "execution_count": 18,
   "metadata": {},
   "outputs": [
    {
     "name": "stdout",
     "output_type": "stream",
     "text": [
      "['fulton', 'county', 'grand', 'jury', 'said', 'friday', 'investigation', \"atlanta's\", 'recent', 'primary', 'election', 'produced', '``', 'evidence', \"''\", 'irregularities', 'took', 'place', '.', 'jury', 'said', 'term-end', 'presentments', 'city', 'executive', 'committee', ',', 'over-all', 'charge', 'election', ',', '``', 'deserves', 'praise', 'thanks', 'city', 'atlanta', \"''\", 'manner', 'election', 'conducted', '.', 'september-october', 'term', 'jury', 'charged', 'fulton', 'superior', 'court', 'judge', 'durwood', 'pye', 'investigate', 'reports', 'possible', '``', 'irregularities', \"''\", 'hard-fought', 'primary', 'won', 'mayor-nominate', 'ivan', 'allen', 'jr.', '.', '``', 'relative', 'handful', 'reports', 'received', \"''\", ',', 'jury', 'said', ',', '``', 'considering', 'widespread', 'election', ',', 'number', 'voters', 'size', 'city', \"''\", '.', 'jury', 'said', 'did', \"georgia's\", 'registration', 'election', 'laws', '``', 'outmoded', 'inadequate', 'ambiguous', \"''\", '.']\n",
      "[\"atlanta's\", 'term-end', 'presentments', 'mayor-nominate', \"georgia's\", \"georgia's\", \"department's\", \"ordinary's\", \"court's\", 'unmeritorious', \"atlanta's\", \"commissioner's\", \"mayor's\", \"wife's\", \"mayor's\", \"mayor's\", \"governor's\", \"byrd's\", \"caldwell's\", '$100', '$30', \"georgia's\", '$3', '$4', '$50', \"body's\", '$10', '87-31', \"georgia's\", \"saturday's\", \"didn't\", \"didn't\", \"wasn't\", \"daniel's\", \"taxpayers'\", '$451,500', '$157,460', \"year's\", '$88,000', \"berry's\", \"we're\", \"i'm\", 'ex-gambler', \"department's\", '$1,000', '$12', \"formby's\", \"couldn't\", \"texas'\", '$5,000,000', '$15,000,000', \"cotten's\", \"bill's\", \"boy's\", \"year's\", \"master's\", 'co-signers', \"school's\", \"it's\", \"russia's\", \"karns'\", 'subpenas', 'altho', 'subpenaed', '$37', '$37', '$4,800', '$5,000', '$10', 'hospital-care', '$20', \"taxpayers'\", \"wouldn't\", \"president's\", \"nation's\", \"can't\", '$1,500', '$2,000', '$1,000', '$1,500', \"children's\", 'aged-care', \"president's\", \"nation's\", \"eisenhower's\", \"kennedy's\", \"another's\", \"members'\", \"rusk's\", \"rusk's\", \"rusk's\", \"states'\", \"nato's\", \"secretary's\", \"alliance's\", \"kennedy's\", \"didn't\", \"president's\", \"state's\", \"nation's\"]\n"
     ]
    }
   ],
   "source": [
    "print(brown_nonstop[:100])\n",
    "print(oov[:100])"
   ]
  },
  {
   "cell_type": "code",
   "execution_count": null,
   "metadata": {},
   "outputs": [],
   "source": [
    "def get_rareoov(xdict, val):\n",
    "    return [k for (k,v) in Counter(xdict).items() if v<=val]\n",
    "\n",
    "#oov_rare = get_rareoov(oov, 1)\n",
    "#corp_vocab = list(set(oov) - set(oov_rare))\n",
    "#brown_tokens = [token for token in brown_nonstop if token not in oov_rare]\n",
    "#brown_doc = [' '.join(brown_tokens)]"
   ]
  },
  {
   "cell_type": "code",
   "execution_count": 19,
   "metadata": {},
   "outputs": [
    {
     "name": "stderr",
     "output_type": "stream",
     "text": [
      "C:\\ProgramData\\Anaconda3\\lib\\site-packages\\scipy\\sparse\\_index.py:124: SparseEfficiencyWarning: Changing the sparsity structure of a csc_matrix is expensive. lil_matrix is more efficient.\n",
      "  self._set_arrayXarray(i, j, x)\n"
     ]
    }
   ],
   "source": [
    "corp_vocab = list(set(oov))\n",
    "brown_doc = [' '.join(brown_nonstop)]\n",
    "\n",
    "cv = CountVectorizer(ngram_range=(1,1), vocabulary=corp_vocab)\n",
    "X = cv.fit_transform(brown_doc)\n",
    "Xc = (X.T * X)\n",
    "Xc.setdiag(0)\n",
    "coocc_ar = Xc.toarray()"
   ]
  },
  {
   "cell_type": "code",
   "execution_count": 21,
   "metadata": {},
   "outputs": [
    {
     "name": "stderr",
     "output_type": "stream",
     "text": [
      "Iteration 1000: error 0.0272"
     ]
    },
    {
     "ename": "NameError",
     "evalue": "name 'pickle' is not defined",
     "output_type": "error",
     "traceback": [
      "\u001b[1;31m---------------------------------------------------------------------------\u001b[0m",
      "\u001b[1;31mNameError\u001b[0m                                 Traceback (most recent call last)",
      "\u001b[1;32m<ipython-input-21-de531ad4a5b4>\u001b[0m in \u001b[0;36m<module>\u001b[1;34m\u001b[0m\n\u001b[0;32m      8\u001b[0m \u001b[0mnewglove\u001b[0m \u001b[1;33m=\u001b[0m \u001b[0mdict\u001b[0m\u001b[1;33m(\u001b[0m\u001b[0mzip\u001b[0m\u001b[1;33m(\u001b[0m\u001b[0mcorp_vocab\u001b[0m\u001b[1;33m,\u001b[0m \u001b[0mnew_embeddings\u001b[0m\u001b[1;33m)\u001b[0m\u001b[1;33m)\u001b[0m\u001b[1;33m\u001b[0m\u001b[1;33m\u001b[0m\u001b[0m\n\u001b[0;32m      9\u001b[0m \u001b[0mf\u001b[0m \u001b[1;33m=\u001b[0m \u001b[0mopen\u001b[0m\u001b[1;33m(\u001b[0m\u001b[1;34m\"repo_glove.pkl\"\u001b[0m\u001b[1;33m,\u001b[0m\u001b[1;34m\"wb\"\u001b[0m\u001b[1;33m)\u001b[0m\u001b[1;33m\u001b[0m\u001b[1;33m\u001b[0m\u001b[0m\n\u001b[1;32m---> 10\u001b[1;33m \u001b[0mpickle\u001b[0m\u001b[1;33m.\u001b[0m\u001b[0mdump\u001b[0m\u001b[1;33m(\u001b[0m\u001b[0mnewglove\u001b[0m\u001b[1;33m,\u001b[0m \u001b[0mf\u001b[0m\u001b[1;33m)\u001b[0m\u001b[1;33m\u001b[0m\u001b[1;33m\u001b[0m\u001b[0m\n\u001b[0m\u001b[0;32m     11\u001b[0m \u001b[0mf\u001b[0m\u001b[1;33m.\u001b[0m\u001b[0mclose\u001b[0m\u001b[1;33m(\u001b[0m\u001b[1;33m)\u001b[0m\u001b[1;33m\u001b[0m\u001b[1;33m\u001b[0m\u001b[0m\n",
      "\u001b[1;31mNameError\u001b[0m: name 'pickle' is not defined"
     ]
    }
   ],
   "source": [
    "mittens_model = Mittens(n=300, max_iter=1000)\n",
    "\n",
    "new_embeddings = mittens_model.fit(\n",
    "    coocc_ar,\n",
    "    vocab=corp_vocab,\n",
    "    initial_embedding_dict= pre_glove)\n",
    "\n",
    "newglove = dict(zip(corp_vocab, new_embeddings))\n",
    "f = open(\"repo_glove.pkl\",\"wb\")\n",
    "pickle.dump(newglove, f)\n",
    "f.close()"
   ]
  },
  {
   "cell_type": "code",
   "execution_count": null,
   "metadata": {},
   "outputs": [],
   "source": []
  }
 ],
 "metadata": {
  "kernelspec": {
   "display_name": "Python 3",
   "language": "python",
   "name": "python3"
  },
  "language_info": {
   "codemirror_mode": {
    "name": "ipython",
    "version": 3
   },
   "file_extension": ".py",
   "mimetype": "text/x-python",
   "name": "python",
   "nbconvert_exporter": "python",
   "pygments_lexer": "ipython3",
   "version": "3.8.3"
  }
 },
 "nbformat": 4,
 "nbformat_minor": 4
}
