{
  "nbformat": 4,
  "nbformat_minor": 0,
  "metadata": {
    "colab": {
      "name": "result.ipynb",
      "provenance": []
    },
    "kernelspec": {
      "name": "python3",
      "display_name": "Python 3"
    },
    "language_info": {
      "name": "python"
    },
    "accelerator": "GPU"
  },
  "cells": [
    {
      "cell_type": "code",
      "metadata": {
        "id": "RQc1-8Ebs46B"
      },
      "source": [
        "%load_ext autoreload\n",
        "%autoreload 2\n",
        "\n",
        "from google.colab import drive\n",
        "drive.mount('/content/drive')\n",
        "# %cd /content/drive/MyDrive/group-1.3-master/group-1.3-master/LeverageJustAFewKeywords/\n",
        "# %cd /content/drive/MyDrive/LeverageJustAFewKeywords/\n",
        "%cd /content/drive/MyDrive/group-1.3/LeverageJustAFewKeywords/\n"
      ],
      "execution_count": null,
      "outputs": []
    },
    {
      "cell_type": "code",
      "metadata": {
        "id": "klDulS0Uod40"
      },
      "source": [
        "!pip install mittens transformers\n",
        "import nltk\n",
        "nltk.download(\"words\")"
      ],
      "execution_count": null,
      "outputs": []
    },
    {
      "cell_type": "code",
      "metadata": {
        "id": "qYVmC0Q8tbOp"
      },
      "source": [
        "import pickle\n",
        "import os\n",
        "import json\n",
        "import torch\n",
        "from sklearn.metrics import f1_score, recall_score, precision_score, confusion_matrix\n",
        "from collections import Counter\n",
        "import numpy as np\n",
        "\n",
        "import matplotlib.pyplot as plt\n"
      ],
      "execution_count": null,
      "outputs": []
    },
    {
      "cell_type": "code",
      "metadata": {
        "id": "aTb1J_AXtL2o",
        "colab": {
          "base_uri": "https://localhost:8080/",
          "height": 193
        },
        "outputId": "c1996fb7-0e16-407c-b5e1-79874de40381"
      },
      "source": [
        "result_dir_eg = '/content/drive/MyDrive/group-1.3/experiments/210725_110640-word2vec_organic'\n",
        "sub_dir = os.path.join(result_dir_eg, f\"v0\")\n",
        "plot_dir = '/content/drive/MyDrive/group-1.3/output/'"
      ],
      "execution_count": 1,
      "outputs": [
        {
          "output_type": "error",
          "ename": "NameError",
          "evalue": "ignored",
          "traceback": [
            "\u001b[0;31m---------------------------------------------------------------------------\u001b[0m",
            "\u001b[0;31mNameError\u001b[0m                                 Traceback (most recent call last)",
            "\u001b[0;32m<ipython-input-1-b82e2586eeb6>\u001b[0m in \u001b[0;36m<module>\u001b[0;34m()\u001b[0m\n\u001b[1;32m      1\u001b[0m \u001b[0mresult_dir_eg\u001b[0m \u001b[0;34m=\u001b[0m \u001b[0;34m'/content/drive/MyDrive/group-1.3/experiments/210725_110640-word2vec_organic'\u001b[0m\u001b[0;34m\u001b[0m\u001b[0;34m\u001b[0m\u001b[0m\n\u001b[0;32m----> 2\u001b[0;31m \u001b[0msub_dir\u001b[0m \u001b[0;34m=\u001b[0m \u001b[0mos\u001b[0m\u001b[0;34m.\u001b[0m\u001b[0mpath\u001b[0m\u001b[0;34m.\u001b[0m\u001b[0mjoin\u001b[0m\u001b[0;34m(\u001b[0m\u001b[0mresult_dir_eg\u001b[0m\u001b[0;34m,\u001b[0m \u001b[0;34mf\"v0\"\u001b[0m\u001b[0;34m)\u001b[0m\u001b[0;34m\u001b[0m\u001b[0;34m\u001b[0m\u001b[0m\n\u001b[0m\u001b[1;32m      3\u001b[0m \u001b[0mplot_dir\u001b[0m \u001b[0;34m=\u001b[0m \u001b[0;34m'/content/drive/MyDrive/group-1.3/output/'\u001b[0m\u001b[0;34m\u001b[0m\u001b[0;34m\u001b[0m\u001b[0m\n",
            "\u001b[0;31mNameError\u001b[0m: name 'os' is not defined"
          ]
        }
      ]
    },
    {
      "cell_type": "code",
      "metadata": {
        "id": "gKGXGwLStZJd"
      },
      "source": [
        "with open(os.path.join(sub_dir, 'result.pkl'), 'rb') as f:\n",
        "    result_dict = pickle.load(f)"
      ],
      "execution_count": null,
      "outputs": []
    },
    {
      "cell_type": "code",
      "metadata": {
        "colab": {
          "base_uri": "https://localhost:8080/"
        },
        "id": "y89n36wztrrc",
        "outputId": "cbec8423-501f-400e-8e10-e9ab4adcfec7"
      },
      "source": [
        "for keys, values in result_dict.items():\n",
        "    print(f\"{keys}:\\n{values}\\n\\n\")"
      ],
      "execution_count": null,
      "outputs": [
        {
          "output_type": "stream",
          "text": [
            "loss:\n",
            "[[1.2549798942963097, 1.2218851469909755, 1.2197938743613173, 1.2191849123408025], [1.1873129277759902, 1.1850707037983654, 1.1854753604541732], [1.1637538974216888, 1.163362322087948], [1.1480748330147188, 1.1476389520201031], [1.1335612793374703, 1.133052343293746], [1.127757496714035, 1.127342375326101]]\n",
            "\n",
            "\n",
            "agreement_ratio:\n",
            "[0.6480270028114319, 0.7174294590950012, 0.7473558783531189, 0.7902318239212036, 0.8053833246231079, 0.8094450235366821]\n",
            "\n",
            "\n",
            "micro_f1:\n",
            "[0.3400896095583529, 0.36291871132920844, 0.34969063366759123, 0.3371026242799232, 0.3313420098143802, 0.3309152976317474]\n",
            "\n",
            "\n",
            "macro_f1:\n",
            "[0.2586041815989559, 0.2101911319281887, 0.1640522218869084, 0.11944905853356559, 0.08887892897525651, 0.08358376546983733]\n",
            "\n",
            "\n",
            "precision:\n",
            "[array([0.39408867, 0.31325301, 0.17675255, 0.5626506 , 0.32142857,\n",
            "       0.30538922]), array([0.4083031 , 0.52631579, 0.19298246, 0.67741935, 0.        ,\n",
            "       0.28571429]), array([0.37001733, 0.        , 0.21868979, 0.70053476, 0.        ,\n",
            "       0.        ]), array([0.34134065, 0.        , 0.25503356, 0.66666667, 0.        ,\n",
            "       0.        ]), array([0.33175559, 0.        , 0.25      , 0.5       , 0.        ,\n",
            "       0.        ]), array([0.33069857, 0.        , 0.        , 0.75      , 0.        ,\n",
            "       0.        ])]\n",
            "\n",
            "\n",
            "recall:\n",
            "[array([0.46481601, 0.17567568, 0.61076605, 0.35540335, 0.015625  ,\n",
            "       0.108742  ]), array([0.6539703 , 0.03378378, 0.66045549, 0.2716895 , 0.        ,\n",
            "       0.00426439]), array([0.82698515, 0.        , 0.4699793 , 0.09969559, 0.        ,\n",
            "       0.        ]), array([0.96320207, 0.        , 0.1573499 , 0.00913242, 0.        ,\n",
            "       0.        ]), array([0.99548096, 0.        , 0.01656315, 0.00228311, 0.        ,\n",
            "       0.        ]), array([0.99935442, 0.        , 0.        , 0.00228311, 0.        ,\n",
            "       0.        ])]\n",
            "\n",
            "\n",
            "ground_class_distribution:\n",
            "{1: 296, 3: 1314, 0: 1549, 2: 483, 4: 576, 5: 469}\n",
            "\n",
            "\n",
            "prediction_distribution:\n",
            "[{0: 1827, 2: 1669, 3: 830, 4: 28, 5: 167, 1: 166}, {0: 2481, 2: 1653, 5: 7, 3: 527, 1: 19}, {0: 3462, 2: 1038, 3: 187}, {0: 4371, 2: 298, 3: 18}, {0: 4648, 2: 32, 4: 1, 3: 6}, {0: 4681, 3: 4, 4: 2}]\n",
            "\n",
            "\n",
            "confusion matrix:\n",
            "[array([[720,  58, 534, 153,  15,  69],\n",
            "       [105,  52, 107,  24,   2,   6],\n",
            "       [143,   5, 295,  37,   1,   2],\n",
            "       [399,  14, 405, 467,   1,  28],\n",
            "       [257,  26, 217,  56,   9,  11],\n",
            "       [203,  11, 111,  93,   0,  51]]), array([[1013,    5,  464,   65,    0,    2],\n",
            "       [ 165,   10,  107,   14,    0,    0],\n",
            "       [ 144,    1,  319,   17,    0,    2],\n",
            "       [ 479,    1,  476,  357,    0,    1],\n",
            "       [ 391,    1,  166,   18,    0,    0],\n",
            "       [ 289,    1,  121,   56,    0,    2]]), array([[1281,    0,  245,   23,    0,    0],\n",
            "       [ 243,    0,   50,    3,    0,    0],\n",
            "       [ 252,    0,  227,    4,    0,    0],\n",
            "       [ 812,    0,  371,  131,    0,    0],\n",
            "       [ 507,    0,   65,    4,    0,    0],\n",
            "       [ 367,    0,   80,   22,    0,    0]]), array([[1492,    0,   55,    2,    0,    0],\n",
            "       [ 287,    0,    9,    0,    0,    0],\n",
            "       [ 406,    0,   76,    1,    0,    0],\n",
            "       [1191,    0,  111,   12,    0,    0],\n",
            "       [ 556,    0,   19,    1,    0,    0],\n",
            "       [ 439,    0,   28,    2,    0,    0]]), array([[1542,    0,    7,    0,    0,    0],\n",
            "       [ 296,    0,    0,    0,    0,    0],\n",
            "       [ 474,    0,    8,    0,    1,    0],\n",
            "       [1296,    0,   15,    3,    0,    0],\n",
            "       [ 576,    0,    0,    0,    0,    0],\n",
            "       [ 464,    0,    2,    3,    0,    0]]), array([[1548,    0,    0,    1,    0,    0],\n",
            "       [ 296,    0,    0,    0,    0,    0],\n",
            "       [ 482,    0,    0,    0,    1,    0],\n",
            "       [1310,    0,    0,    3,    1,    0],\n",
            "       [ 576,    0,    0,    0,    0,    0],\n",
            "       [ 469,    0,    0,    0,    0,    0]])]\n",
            "\n",
            "\n"
          ],
          "name": "stdout"
        }
      ]
    },
    {
      "cell_type": "code",
      "metadata": {
        "colab": {
          "base_uri": "https://localhost:8080/"
        },
        "id": "p0I-EyhCuDg3",
        "outputId": "6496bc96-19f5-4e51-a7b8-773a12904a96"
      },
      "source": [
        "result['ground_class_distribution']"
      ],
      "execution_count": null,
      "outputs": [
        {
          "output_type": "execute_result",
          "data": {
            "text/plain": [
              "{0: 1549, 1: 296, 2: 483, 3: 1314, 4: 576, 5: 469}"
            ]
          },
          "metadata": {
            "tags": []
          },
          "execution_count": 8
        }
      ]
    },
    {
      "cell_type": "markdown",
      "metadata": {
        "id": "okrClev3ieQ4"
      },
      "source": [
        "## qualitative evaluation"
      ]
    },
    {
      "cell_type": "code",
      "metadata": {
        "colab": {
          "base_uri": "https://localhost:8080/"
        },
        "id": "Q9Marudfn81c",
        "outputId": "e1cd6d58-ae35-485e-a1e2-12faa5fcd119"
      },
      "source": [
        "%cd /content/drive/MyDrive/group-1.3/LeverageJustAFewKeywords/\n",
        "from model import Student\n",
        "from train import Trainer"
      ],
      "execution_count": null,
      "outputs": [
        {
          "output_type": "stream",
          "text": [
            "/content/drive/MyDrive/group-1.3/LeverageJustAFewKeywords\n"
          ],
          "name": "stdout"
        }
      ]
    },
    {
      "cell_type": "code",
      "metadata": {
        "id": "2CdyDI8Wob0I"
      },
      "source": [
        "with open(os.path.join(sub_dir, 'config.json'), 'rb') as f:\n",
        "    hparam = json.load(f)"
      ],
      "execution_count": null,
      "outputs": []
    },
    {
      "cell_type": "code",
      "metadata": {
        "colab": {
          "base_uri": "https://localhost:8080/"
        },
        "id": "5Iz3jf8Lo7lK",
        "outputId": "7bfe8bb1-84f0-4f8c-c781-0eaf61b49ca9"
      },
      "source": [
        "# student = Student(hparam['student'], 'organic')\n",
        "# ckpt_path = os.path.join(sub_dir, 'teacher_student.pt')\n",
        "# student.load_state_dict(torch.load(ckpt_path)['student'])"
      ],
      "execution_count": null,
      "outputs": [
        {
          "output_type": "stream",
          "text": [
            "INFO:gensim.models.utils_any2vec:loading projection weights from ../wv/w2v_corpus_wotf1_wostw_tuned.bin\n",
            "INFO:gensim.models.utils_any2vec:loaded (25694, 300) matrix from ../wv/w2v_corpus_wotf1_wostw_tuned.bin\n",
            "INFO:root:[organic] load pre-defined word vectors from ../wv/w2v_corpus_wotf1_wostw_tuned.bin\n"
          ],
          "name": "stderr"
        },
        {
          "output_type": "execute_result",
          "data": {
            "text/plain": [
              "<All keys matched successfully>"
            ]
          },
          "metadata": {
            "tags": []
          },
          "execution_count": 9
        }
      ]
    },
    {
      "cell_type": "code",
      "metadata": {
        "colab": {
          "base_uri": "https://localhost:8080/"
        },
        "id": "mWrI9jMRqWhs",
        "outputId": "6b4c9356-f30a-46b3-bd32-4a0ee8ac4cd1"
      },
      "source": [
        "trainer = Trainer(hparam, 'cuda')\n",
        "trainer.student.load_state_dict(torch.load(ckpt_path)['student'])\n",
        "trainer.z = torch.load(ckpt_path)['teacher_z']"
      ],
      "execution_count": null,
      "outputs": [
        {
          "output_type": "stream",
          "text": [
            "INFO:root:loading dataset...\n",
            "INFO:root:[organic] dataset from following files: ../processed/organic_train.json, ../processed/organic_vocab_w2v.txt, ../processed/organic_train_supplement_w2v.pkl, ../processed/seedwords_30_coarse.txt\n",
            "INFO:root:[organic] dataset_size: 438241\n",
            "INFO:root:[organic] number of aspects: 6\n",
            "INFO:root:[organic] number of unique seed words: 168\n",
            "INFO:root:[organic] test dataset from following files: ../processed/annotated_test_coarse.json, ../processed/organic_vocab_w2v.txt, ../processed/organic_test_coarse_supplement_w2v.pkl, ../processed/seedwords_30_coarse.txt\n",
            "INFO:root:[organic] test dataset size: 4687\n",
            "INFO:root:loading model...\n",
            "INFO:gensim.models.utils_any2vec:loading projection weights from ../wv/w2v_corpus_wotf1_wostw_tuned.bin\n",
            "INFO:gensim.models.utils_any2vec:loaded (25694, 300) matrix from ../wv/w2v_corpus_wotf1_wostw_tuned.bin\n",
            "INFO:root:[organic] load pre-defined word vectors from ../wv/w2v_corpus_wotf1_wostw_tuned.bin\n"
          ],
          "name": "stderr"
        }
      ]
    },
    {
      "cell_type": "code",
      "metadata": {
        "id": "2uRwF7xirHfa"
      },
      "source": [
        "trainer.student.eval()\n",
        "result = []\n",
        "ground = []\n",
        "for batch in trainer.test_loader:\n",
        "    idx, bow, labels, act_len = batch\n",
        "    idx, act_len = idx.to(trainer.device), act_len.to(trainer.device)\n",
        "    with torch.no_grad():\n",
        "        logits = trainer.student(idx, act_len)\n",
        "        result.append(logits.max(-1)[1].cpu())\n",
        "        ground.append(labels.max(-1)[1].cpu())\n",
        "result = torch.cat(result, dim=0).numpy()\n",
        "ground = torch.cat(ground, dim=0).numpy()\n",
        "micro_f1 = f1_score(ground, result, average='micro')"
      ],
      "execution_count": null,
      "outputs": []
    },
    {
      "cell_type": "code",
      "metadata": {
        "colab": {
          "base_uri": "https://localhost:8080/"
        },
        "id": "vKl25DcfynQ3",
        "outputId": "10766f76-bf83-4d45-b011-ccf9ce84c570"
      },
      "source": [
        "micro_f1"
      ],
      "execution_count": null,
      "outputs": [
        {
          "output_type": "execute_result",
          "data": {
            "text/plain": [
              "0.40558992959248985"
            ]
          },
          "metadata": {
            "tags": []
          },
          "execution_count": 12
        }
      ]
    },
    {
      "cell_type": "code",
      "metadata": {
        "colab": {
          "base_uri": "https://localhost:8080/"
        },
        "id": "V84jS9yI0CgG",
        "outputId": "ce72ef3b-3f87-43b2-84bc-6cafebad3899"
      },
      "source": [
        "ground_dist = dict(Counter(ground))\n",
        "pred_dist = dict(Counter(result))\n",
        "conf_mat = confusion_matrix(ground, result)\n",
        "print(sorted(ground_dist.items(), key=lambda d: d[0]))\n",
        "print(sorted(pred_dist.items(), key=lambda d: d[0]))\n",
        "print(conf_mat)"
      ],
      "execution_count": null,
      "outputs": [
        {
          "output_type": "stream",
          "text": [
            "[(0, 1549), (1, 296), (2, 483), (3, 1314), (4, 576), (5, 469)]\n",
            "[(0, 1998), (1, 34), (2, 1831), (3, 810), (5, 14)]\n",
            "[[933   1 515  97   0   3]\n",
            " [117  26 147   6   0   0]\n",
            " [ 86   1 370  26   0   0]\n",
            " [263   0 488 562   0   1]\n",
            " [371   3 174  28   0   0]\n",
            " [228   3 137  91   0  10]]\n"
          ],
          "name": "stdout"
        }
      ]
    },
    {
      "cell_type": "code",
      "metadata": {
        "id": "gtIad7Eb1LWA"
      },
      "source": [
        "idx_list = np.arange(len(ground))\n",
        "idx_storage = {}\n",
        "for cls in ground_dist.keys():\n",
        "    true_idx_mask = np.array(result == cls) & np.array(ground == cls) # & np.array(trainer.test_ds.data_length) > 5\n",
        "    false_idx_mask = np.array(result == cls) & np.array(ground != cls) # & np.array(trainer.test_ds.data_length) > 5\n",
        "    idx_storage[cls] = {}\n",
        "    idx_storage[cls]['true'] = idx_list[true_idx_mask]\n",
        "    idx_storage[cls]['false'] = idx_list[false_idx_mask]"
      ],
      "execution_count": null,
      "outputs": []
    },
    {
      "cell_type": "code",
      "metadata": {
        "id": "YxmLI1x1Dgwp"
      },
      "source": [
        "print_idx = idx_storage[1]['false']"
      ],
      "execution_count": null,
      "outputs": []
    },
    {
      "cell_type": "code",
      "metadata": {
        "colab": {
          "base_uri": "https://localhost:8080/"
        },
        "id": "oxKPBuAa9k1v",
        "outputId": "5e5c92f5-9e57-47ce-c667-7638d9e3a2e1"
      },
      "source": [
        "np.array(trainer.test_ds.data_orig)[print_idx]"
      ],
      "execution_count": null,
      "outputs": [
        {
          "output_type": "execute_result",
          "data": {
            "text/plain": [
              "array(['This adds to the cost of produce.',\n",
              "       '(Not enough to pay more for them, but still.)',\n",
              "       'They were even more profitable when the conventional-farming premiums were added to the cost.',\n",
              "       'Except on the basis of cost, for those who cannot afford to pay a premium for certified organic goods.',\n",
              "       'There is no getting away from the fact that Organic means more time, and less productivity, all that costs money.',\n",
              "       'This is the most notable in organic food which must pay extra regulation fees to use the term “organic”.',\n",
              "       'Their economic incentives are to try to reduce the costs of organic farming while still commanding the higher price that an organic label will get them.',\n",
              "       'Farmers that grow organic can charge a higher price to compensate for their reduced yield, and this guy can afford to pay extra if it makes him feel better.'],\n",
              "      dtype='<U979')"
            ]
          },
          "metadata": {
            "tags": []
          },
          "execution_count": 43
        }
      ]
    },
    {
      "cell_type": "code",
      "metadata": {
        "colab": {
          "base_uri": "https://localhost:8080/"
        },
        "id": "BJ2S9H8fBI4i",
        "outputId": "38c9df83-e62b-4f2b-8e5c-cc921761d6c5"
      },
      "source": [
        "ground[print_idx]"
      ],
      "execution_count": null,
      "outputs": [
        {
          "output_type": "execute_result",
          "data": {
            "text/plain": [
              "array([0, 2, 5, 4, 5, 4, 4, 5])"
            ]
          },
          "metadata": {
            "tags": []
          },
          "execution_count": 44
        }
      ]
    },
    {
      "cell_type": "markdown",
      "metadata": {
        "id": "tKnSRyvviVnS"
      },
      "source": [
        "## distribution"
      ]
    },
    {
      "cell_type": "code",
      "metadata": {
        "colab": {
          "base_uri": "https://localhost:8080/",
          "height": 417
        },
        "id": "WspbqDWyGn1S",
        "outputId": "59aa72a4-17f2-4aef-f74f-4537864b1d62"
      },
      "source": [
        "# plt.figure(figsize=(16,10))\n",
        "fig, (ax1, ax2) = plt.subplots(1, 2, sharey=True)\n",
        "fig.suptitle('distribution comparison')\n",
        "fig.set_size_inches(16,6)\n",
        "# ax1.hist(ground, bins=len(ground_dist))\n",
        "ax1.hist(ground)\n",
        "ax1.set_xticklabels(organic_aspect)\n",
        "ax1.set_title(\"ground-truth distribution\")\n",
        "ax2.hist(result, bins=len(ground_dist))\n",
        "ax2.set_title(\"prediction distribution\")\n",
        "# axs[1].hist(result, title='prediction distribution')\n",
        "# plt.tight_layout()\n",
        "plt.savefig(os.path.join(plot_dir, 'distribution.jpg'))\n",
        "plt.show()\n"
      ],
      "execution_count": null,
      "outputs": [
        {
          "output_type": "display_data",
          "data": {
            "image/png": "[encoded data removed]",
            "text/plain": [
              "<Figure size 1152x432 with 2 Axes>"
            ]
          },
          "metadata": {
            "tags": [],
            "needs_background": "light"
          }
        }
      ]
    },
    {
      "cell_type": "code",
      "metadata": {
        "colab": {
          "base_uri": "https://localhost:8080/",
          "height": 266
        },
        "id": "KeRF3DlRkJh0",
        "outputId": "8fc6df5d-ba1a-4c16-ce68-2bca4c4d232c"
      },
      "source": [
        "plt.hist(ground, bins=6, align='left')\n",
        "# plt.xticks(x, organic_aspect)\n",
        "plt.show()"
      ],
      "execution_count": null,
      "outputs": [
        {
          "output_type": "display_data",
          "data": {
            "image/png": "[encoded data removed]",
            "text/plain": [
              "<Figure size 432x288 with 1 Axes>"
            ]
          },
          "metadata": {
            "tags": [],
            "needs_background": "light"
          }
        }
      ]
    },
    {
      "cell_type": "markdown",
      "metadata": {
        "id": "YqoCSbl3iRf4"
      },
      "source": [
        "## confusion_matrix"
      ]
    },
    {
      "cell_type": "code",
      "metadata": {
        "colab": {
          "base_uri": "https://localhost:8080/"
        },
        "id": "7H7aJAdoe9ea",
        "outputId": "5fc58603-4190-4aa8-c054-3ded8797cb29"
      },
      "source": [
        "import pandas as pd\n",
        "with open('../processed/organic_aspect_name_coarse.txt', 'r') as f:\n",
        "    line = f.readline()\n",
        "    organic_aspect = line.strip().split('|')\n",
        "organic_aspect"
      ],
      "execution_count": null,
      "outputs": [
        {
          "output_type": "execute_result",
          "data": {
            "text/plain": [
              "['general',\n",
              " 'price',\n",
              " 'experienced quality',\n",
              " 'safety and healthiness',\n",
              " 'trustworthy sources',\n",
              " 'environment']"
            ]
          },
          "metadata": {
            "tags": []
          },
          "execution_count": 80
        }
      ]
    },
    {
      "cell_type": "code",
      "metadata": {
        "colab": {
          "base_uri": "https://localhost:8080/",
          "height": 235
        },
        "id": "NkjjH2L2fmVv",
        "outputId": "5775d4f8-2f20-4a83-8b17-478f97640991"
      },
      "source": [
        "pd.DataFrame(conf_mat, organic_aspect, organic_aspect)"
      ],
      "execution_count": null,
      "outputs": [
        {
          "output_type": "execute_result",
          "data": {
            "text/html": [
              "<div>\n",
              "<style scoped>\n",
              "    .dataframe tbody tr th:only-of-type {\n",
              "        vertical-align: middle;\n",
              "    }\n",
              "\n",
              "    .dataframe tbody tr th {\n",
              "        vertical-align: top;\n",
              "    }\n",
              "\n",
              "    .dataframe thead th {\n",
              "        text-align: right;\n",
              "    }\n",
              "</style>\n",
              "<table border=\"1\" class=\"dataframe\">\n",
              "  <thead>\n",
              "    <tr style=\"text-align: right;\">\n",
              "      <th></th>\n",
              "      <th>general</th>\n",
              "      <th>price</th>\n",
              "      <th>experienced quality</th>\n",
              "      <th>safety and healthiness</th>\n",
              "      <th>trustworthy sources</th>\n",
              "      <th>environment</th>\n",
              "    </tr>\n",
              "  </thead>\n",
              "  <tbody>\n",
              "    <tr>\n",
              "      <th>general</th>\n",
              "      <td>933</td>\n",
              "      <td>1</td>\n",
              "      <td>515</td>\n",
              "      <td>97</td>\n",
              "      <td>0</td>\n",
              "      <td>3</td>\n",
              "    </tr>\n",
              "    <tr>\n",
              "      <th>price</th>\n",
              "      <td>117</td>\n",
              "      <td>26</td>\n",
              "      <td>147</td>\n",
              "      <td>6</td>\n",
              "      <td>0</td>\n",
              "      <td>0</td>\n",
              "    </tr>\n",
              "    <tr>\n",
              "      <th>experienced quality</th>\n",
              "      <td>86</td>\n",
              "      <td>1</td>\n",
              "      <td>370</td>\n",
              "      <td>26</td>\n",
              "      <td>0</td>\n",
              "      <td>0</td>\n",
              "    </tr>\n",
              "    <tr>\n",
              "      <th>safety and healthiness</th>\n",
              "      <td>263</td>\n",
              "      <td>0</td>\n",
              "      <td>488</td>\n",
              "      <td>562</td>\n",
              "      <td>0</td>\n",
              "      <td>1</td>\n",
              "    </tr>\n",
              "    <tr>\n",
              "      <th>trustworthy sources</th>\n",
              "      <td>371</td>\n",
              "      <td>3</td>\n",
              "      <td>174</td>\n",
              "      <td>28</td>\n",
              "      <td>0</td>\n",
              "      <td>0</td>\n",
              "    </tr>\n",
              "    <tr>\n",
              "      <th>environment</th>\n",
              "      <td>228</td>\n",
              "      <td>3</td>\n",
              "      <td>137</td>\n",
              "      <td>91</td>\n",
              "      <td>0</td>\n",
              "      <td>10</td>\n",
              "    </tr>\n",
              "  </tbody>\n",
              "</table>\n",
              "</div>"
            ],
            "text/plain": [
              "                        general  price  ...  trustworthy sources  environment\n",
              "general                     933      1  ...                    0            3\n",
              "price                       117     26  ...                    0            0\n",
              "experienced quality          86      1  ...                    0            0\n",
              "safety and healthiness      263      0  ...                    0            1\n",
              "trustworthy sources         371      3  ...                    0            0\n",
              "environment                 228      3  ...                    0           10\n",
              "\n",
              "[6 rows x 6 columns]"
            ]
          },
          "metadata": {
            "tags": []
          },
          "execution_count": 81
        }
      ]
    },
    {
      "cell_type": "code",
      "metadata": {
        "colab": {
          "base_uri": "https://localhost:8080/"
        },
        "id": "-UFyFhl2gOjm",
        "outputId": "c9d5132a-0c05-4c47-eb53-7638b2279757"
      },
      "source": [
        "!pip install prettytable"
      ],
      "execution_count": null,
      "outputs": [
        {
          "output_type": "stream",
          "text": [
            "Requirement already satisfied: prettytable in /usr/local/lib/python3.7/dist-packages (2.1.0)\n",
            "Requirement already satisfied: wcwidth in /usr/local/lib/python3.7/dist-packages (from prettytable) (0.2.5)\n",
            "Requirement already satisfied: importlib-metadata in /usr/local/lib/python3.7/dist-packages (from prettytable) (4.6.1)\n",
            "Requirement already satisfied: typing-extensions>=3.6.4 in /usr/local/lib/python3.7/dist-packages (from importlib-metadata->prettytable) (3.7.4.3)\n",
            "Requirement already satisfied: zipp>=0.5 in /usr/local/lib/python3.7/dist-packages (from importlib-metadata->prettytable) (3.5.0)\n"
          ],
          "name": "stdout"
        }
      ]
    },
    {
      "cell_type": "code",
      "metadata": {
        "colab": {
          "base_uri": "https://localhost:8080/"
        },
        "id": "CtpaJ48ggsEO",
        "outputId": "04720e84-cd5b-49f8-c6f0-efd61bce0148"
      },
      "source": [
        "from prettytable import PrettyTable\n",
        "t = PrettyTable([''] + organic_aspect)\n",
        "for i, r in enumerate(conf_mat):\n",
        "    t.add_row([organic_aspect[i]] + list(r))\n",
        "    # print([organic_aspect[i]] + r)\n",
        "print(t)"
      ],
      "execution_count": null,
      "outputs": [
        {
          "output_type": "stream",
          "text": [
            "+------------------------+---------+-------+---------------------+------------------------+---------------------+-------------+\n",
            "|                        | general | price | experienced quality | safety and healthiness | trustworthy sources | environment |\n",
            "+------------------------+---------+-------+---------------------+------------------------+---------------------+-------------+\n",
            "|        general         |   933   |   1   |         515         |           97           |          0          |      3      |\n",
            "|         price          |   117   |   26  |         147         |           6            |          0          |      0      |\n",
            "|  experienced quality   |    86   |   1   |         370         |           26           |          0          |      0      |\n",
            "| safety and healthiness |   263   |   0   |         488         |          562           |          0          |      1      |\n",
            "|  trustworthy sources   |   371   |   3   |         174         |           28           |          0          |      0      |\n",
            "|      environment       |   228   |   3   |         137         |           91           |          0          |      10     |\n",
            "+------------------------+---------+-------+---------------------+------------------------+---------------------+-------------+\n"
          ],
          "name": "stdout"
        }
      ]
    },
    {
      "cell_type": "markdown",
      "metadata": {
        "id": "pkluQZfLdqvv"
      },
      "source": [
        "# oposum dataset average result"
      ]
    },
    {
      "cell_type": "code",
      "metadata": {
        "id": "bYBcLDwwalk4"
      },
      "source": [
        "import pickle\n",
        "import numpy as np"
      ],
      "execution_count": null,
      "outputs": []
    },
    {
      "cell_type": "code",
      "metadata": {
        "id": "ExqqqKG1XGA4"
      },
      "source": [
        "oposum_result_path = '/content/drive/MyDrive/group-1.3/LeverageJustAFewKeywords/experiments/IMPORTANT-210714_064936-word2vec'"
      ],
      "execution_count": null,
      "outputs": []
    },
    {
      "cell_type": "code",
      "metadata": {
        "id": "xP6CDvevaczp"
      },
      "source": [
        "with open(os.path.join(oposum_result_path, 'bags_and_cases', 'v0', 'result.pkl'), 'rb') as f:\n",
        "    oposum_result = pickle.load(f)"
      ],
      "execution_count": null,
      "outputs": []
    },
    {
      "cell_type": "code",
      "metadata": {
        "colab": {
          "base_uri": "https://localhost:8080/"
        },
        "id": "3jX2nj3sa1QE",
        "outputId": "ab2f3982-bdda-4654-f4db-e9e933b53cd7"
      },
      "source": [
        "np.max(oposum_result['micro_f1'])"
      ],
      "execution_count": null,
      "outputs": [
        {
          "output_type": "execute_result",
          "data": {
            "text/plain": [
              "0.4777947932618683"
            ]
          },
          "metadata": {
            "tags": []
          },
          "execution_count": 77
        }
      ]
    },
    {
      "cell_type": "code",
      "metadata": {
        "colab": {
          "base_uri": "https://localhost:8080/"
        },
        "id": "-su4z7Rqbgvb",
        "outputId": "1c1b2db2-5abb-48c9-ed18-e94a8d7ed709"
      },
      "source": [
        "oposum_domains = ['bags_and_cases', 'bluetooth', 'boots', 'keyboards', 'tv', 'vacuums']\n",
        "key_interest = 'micro_f1'\n",
        "value_interest = []\n",
        "for domain in oposum_domains:\n",
        "    for i in range(5):\n",
        "        with open(os.path.join(oposum_result_path, domain, f'v{i}', 'result.pkl'), 'rb') as f:\n",
        "            oposum_result = pickle.load(f)\n",
        "        v = np.max(oposum_result[key_interest])\n",
        "        value_interest.append(v)\n",
        "    print(f\"[{domain}] {key_interest}: {np.mean(value_interest)}\\n\")"
      ],
      "execution_count": null,
      "outputs": [
        {
          "output_type": "stream",
          "text": [
            "[bags_and_cases] micro_f1: 0.4756508422664624\n",
            "\n",
            "[bluetooth] micro_f1: 0.5396245215830063\n",
            "\n",
            "[boots] micro_f1: 0.5257296070986551\n",
            "\n",
            "[keyboards] micro_f1: 0.5357012167853094\n",
            "\n",
            "[tv] micro_f1: 0.542487674998928\n",
            "\n",
            "[vacuums] micro_f1: 0.5462251092827324\n",
            "\n"
          ],
          "name": "stdout"
        }
      ]
    }
  ]
}