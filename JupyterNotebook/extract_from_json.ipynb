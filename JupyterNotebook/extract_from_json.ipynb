{
 "cells": [
  {
   "cell_type": "markdown",
   "metadata": {},
   "source": [
    "# extract articles and comments from .json\n",
    "\n",
    "- output .pkl: from `article_text` and `processed_comment_text` to `articles.pkl` and `processd_comments.pkl` \n",
    "- from `articles.pkl` to `processed_articles.pkl`\n",
    "- update `processed_comments.pkl` because the official `Data_curation_language.ipynb` has some problem"
   ]
  },
  {
   "cell_type": "code",
   "execution_count": 20,
   "metadata": {
    "ExecuteTime": {
     "end_time": "2021-07-16T01:42:52.606472Z",
     "start_time": "2021-07-16T01:42:52.216695Z"
    }
   },
   "outputs": [
    {
     "name": "stdout",
     "output_type": "stream",
     "text": [
      "The autoreload extension is already loaded. To reload it, use:\n",
      "  %reload_ext autoreload\n"
     ]
    }
   ],
   "source": [
    "import os\n",
    "import pandas as pd\n",
    "import pickle\n",
    "\n",
    "%load_ext autoreload\n",
    "%autoreload 2"
   ]
  },
  {
   "cell_type": "markdown",
   "metadata": {},
   "source": [
    "# Extract articles and process_comments\n",
    "\n",
    "extract `article_text` and `process_comments_text` from `.json` files"
   ]
  },
  {
   "cell_type": "code",
   "execution_count": 2,
   "metadata": {
    "ExecuteTime": {
     "end_time": "2021-07-16T01:22:51.895794Z",
     "start_time": "2021-07-16T01:22:51.826834Z"
    }
   },
   "outputs": [
    {
     "name": "stdout",
     "output_type": "stream",
     "text": [
      "total number of json files: 17 \n",
      "list of json files: ['../curated-source-dataset/english\\\\biased\\\\fb.json', '../curated-source-dataset/english\\\\biased\\\\foodbabe.json', '../curated-source-dataset/english\\\\biased\\\\foodrevolution.json', '../curated-source-dataset/english\\\\biased\\\\organicauthority.json', '../curated-source-dataset/english\\\\biased\\\\organicconsumers.json', '../curated-source-dataset/english\\\\unbiased\\\\Forum\\\\cafemom.json', '../curated-source-dataset/english\\\\unbiased\\\\Forum\\\\disqus.json', '../curated-source-dataset/english\\\\unbiased\\\\Forum\\\\quora.json', '../curated-source-dataset/english\\\\unbiased\\\\Forum\\\\reddit.json', '../curated-source-dataset/english\\\\unbiased\\\\Forum\\\\usmessageboard.json', '../curated-source-dataset/english\\\\unbiased\\\\newssites\\\\chicagotribune.json', '../curated-source-dataset/english\\\\unbiased\\\\newssites\\\\huffingtonpost.json', '../curated-source-dataset/english\\\\unbiased\\\\newssites\\\\latimes.json', '../curated-source-dataset/english\\\\unbiased\\\\newssites\\\\nypost.json', '../curated-source-dataset/english\\\\unbiased\\\\newssites\\\\nytimes.json', '../curated-source-dataset/english\\\\unbiased\\\\newssites\\\\usatoday.json', '../curated-source-dataset/english\\\\unbiased\\\\newssites\\\\washingtonpost.json']\n"
     ]
    }
   ],
   "source": [
    "# data_base_path = \"../curated-source-dataset/english/unbiased\"\n",
    "data_base_path = \"../curated-source-dataset/english\"\n",
    "json_list = []\n",
    "for root, dirs, files in os.walk(data_base_path):\n",
    "    for file in files:\n",
    "        if file.endswith('.json'):\n",
    "            json_list.append(os.path.join(root, file))\n",
    "print(\"total number of json files:\", len(json_list), '\\nlist of json files:', json_list)"
   ]
  },
  {
   "cell_type": "markdown",
   "metadata": {},
   "source": [
    "an example json file"
   ]
  },
  {
   "cell_type": "code",
   "execution_count": 5,
   "metadata": {},
   "outputs": [
    {
     "name": "stdout",
     "output_type": "stream",
     "text": [
      "                                        article_title  \\\n",
      "0   My Favorite Organic Non-GMO Snacks and Party F...   \n",
      "1                             Is Organic Food A Scam?   \n",
      "2                                 Organic Trip Tricks   \n",
      "3   Full List of Non Organic Ingredients Allowed i...   \n",
      "4   This New Label On Food Will Keep You From Gett...   \n",
      "5   The Shocking Difference Between Organic & Non-...   \n",
      "6   This Information Could Change Your Grocery Sho...   \n",
      "7   Fast Food - The Quickest Organic Burrito You'l...   \n",
      "8   After You Read This You'll Never Look At Milk ...   \n",
      "9                                Is Subway Real Food?   \n",
      "10             Chemical Warfare with \"Natural Flavor\"   \n",
      "11                     How To Eat Organic On A Budget   \n",
      "12  Monsanto Is Scrambling To Bury This Breaking S...   \n",
      "13      How to Find the Safest Organic Infant Formula   \n",
      "14                       What Is Trader Joe's Hiding?   \n",
      "\n",
      "                            article_author        article_time  \\\n",
      "0   [{'article_author_name': 'Food Babe'}] 2017-02-02 10:36:50   \n",
      "1   [{'article_author_name': 'Food Babe'}] 2017-03-20 11:18:24   \n",
      "2   [{'article_author_name': 'Food Babe'}] 2011-06-28 22:29:02   \n",
      "3   [{'article_author_name': 'Food Babe'}] 2012-05-24 20:30:14   \n",
      "4   [{'article_author_name': 'Food Babe'}] 2017-04-11 12:13:20   \n",
      "5   [{'article_author_name': 'Food Babe'}] 2015-02-26 14:54:58   \n",
      "6   [{'article_author_name': 'Food Babe'}] 2015-05-15 12:56:04   \n",
      "7   [{'article_author_name': 'Food Babe'}] 2012-08-14 09:00:47   \n",
      "8   [{'article_author_name': 'Food Babe'}] 2014-10-29 13:54:17   \n",
      "9   [{'article_author_name': 'Food Babe'}] 2012-06-12 21:46:36   \n",
      "10  [{'article_author_name': 'Food Babe'}] 2011-12-01 21:09:13   \n",
      "11  [{'article_author_name': 'Food Babe'}] 2013-05-20 11:01:39   \n",
      "12  [{'article_author_name': 'Food Babe'}] 2016-11-15 13:01:21   \n",
      "13  [{'article_author_name': 'Food Babe'}] 2013-05-28 20:33:17   \n",
      "14  [{'article_author_name': 'Food Babe'}] 2013-08-07 21:35:24   \n",
      "\n",
      "                                         article_text article_source  \\\n",
      "0   I know many of you are watching sports these d...      Food Babe   \n",
      "1   I choose to eat organic food whenever possible...      Food Babe   \n",
      "2   Aerial Shot of Turks and Caicos taken from the...      Food Babe   \n",
      "3   Today I posted an article my cousin sent me on...      Food Babe   \n",
      "4   A large body of peer reviewed research links g...      Food Babe   \n",
      "5   One of the things I love to do every year is v...      Food Babe   \n",
      "6   My decisions are simple when I go grocery shop...      Food Babe   \n",
      "7   My latest investigation has left me with Mexic...      Food Babe   \n",
      "8   I find it disturbing that there are people who...      Food Babe   \n",
      "9   Subway is the single largest chain restaurant ...      Food Babe   \n",
      "10  I am so happy I don’t have to watch the news o...      Food Babe   \n",
      "11  The one tried and true worry I get about livin...      Food Babe   \n",
      "12  I am frankly shocked this information is not m...      Food Babe   \n",
      "13  I am honored to share this guest post by Charl...      Food Babe   \n",
      "14  The answer to that question is easy – A LOT.\\n...      Food Babe   \n",
      "\n",
      "                                             comments  search_query  \\\n",
      "0   [{'comment_id': 'comment-2808922', 'comment_au...  organic food   \n",
      "1   [{'comment_id': 'comment-2809762', 'comment_au...  organic food   \n",
      "2   [{'comment_id': 'comment-169', 'comment_author...  organic food   \n",
      "3   [{'comment_id': 'comment-15602', 'comment_auth...  organic food   \n",
      "4   [{'comment_id': 'comment-2810330', 'comment_au...  organic food   \n",
      "5   [{'comment_id': 'comment-2588337', 'comment_au...  organic food   \n",
      "6   [{'comment_id': 'comment-2788643', 'comment_au...  organic food   \n",
      "7   [{'comment_id': 'comment-23342', 'comment_auth...  organic food   \n",
      "8   [{'comment_id': 'comment-1785879', 'comment_au...  organic food   \n",
      "9   [{'comment_id': 'comment-110459', 'comment_aut...  organic food   \n",
      "10  [{'comment_id': 'comment-1616', 'comment_autho...  organic food   \n",
      "11  [{'comment_id': 'comment-121620', 'comment_aut...  organic food   \n",
      "12  [{'comment_id': 'comment-2807032', 'comment_au...  organic food   \n",
      "13  [{'comment_id': 'comment-126252', 'comment_aut...  organic food   \n",
      "14  [{'comment_id': 'comment-179911', 'comment_aut...  organic food   \n",
      "\n",
      "                                          article_url resource_type  relevant  \n",
      "0   https://foodbabe.com/2017/02/02/favorite-organ...          blog         0  \n",
      "1   https://foodbabe.com/2017/03/20/is-organic-foo...          blog         1  \n",
      "2   https://foodbabe.com/2011/06/28/organic-trip-t...          blog         0  \n",
      "3   https://foodbabe.com/2012/05/24/full-list-of-n...          blog         1  \n",
      "4   https://foodbabe.com/2017/04/11/this-new-label...          blog         1  \n",
      "5   https://foodbabe.com/2015/02/26/difference-bet...          blog         1  \n",
      "6   https://foodbabe.com/2015/05/15/organic-grocer...          blog         1  \n",
      "7   https://foodbabe.com/2012/08/14/fast-food-the-...          blog         0  \n",
      "8       https://foodbabe.com/2014/10/29/organic-milk/          blog         1  \n",
      "9   https://foodbabe.com/2012/06/12/is-subway-real...          blog         1  \n",
      "10  https://foodbabe.com/2011/12/01/chemical-warfa...          blog         1  \n",
      "11  https://foodbabe.com/2013/05/20/how-to-eat-org...          blog         1  \n",
      "12          https://foodbabe.com/2016/11/15/monsanto/          blog         1  \n",
      "13  https://foodbabe.com/2013/05/28/how-to-find-th...          blog         1  \n",
      "14  https://foodbabe.com/2013/08/07/what-is-trader...          blog         1  \n",
      "article_title             object\n",
      "article_author            object\n",
      "article_time      datetime64[ns]\n",
      "article_text              object\n",
      "article_source            object\n",
      "comments                  object\n",
      "search_query              object\n",
      "article_url               object\n",
      "resource_type             object\n",
      "relevant                   int64\n",
      "dtype: object\n"
     ]
    }
   ],
   "source": [
    "df_eg = pd.read_json(json_list[1])\n",
    "print(df_eg)\n",
    "print(df_eg.dtypes)"
   ]
  },
  {
   "cell_type": "code",
   "execution_count": 3,
   "metadata": {
    "ExecuteTime": {
     "end_time": "2021-07-16T01:23:07.882572Z",
     "start_time": "2021-07-16T01:23:07.799627Z"
    }
   },
   "outputs": [],
   "source": [
    "# def extract_comment(df):\n",
    "#     df_new = pd.DataFrame()\n",
    "#     df_new['comment'] = ''\n",
    "#     # print(df.shape)\n",
    "#     df = df[(df.relevant == 1)]     # filter out not relevant articles\n",
    "#     # print(df.shape)\n",
    "#     for comments in df['comments']:\n",
    "#         for comment in comments:\n",
    "#             if comment['processed_comment_text'] != '':     # filter out blank comment\n",
    "#                 df_new = df_new.append({'comment': comment['processed_comment_text'],}, ignore_index=True)\n",
    "#     return df_new\n",
    "\n",
    "def extract_comment(df):\n",
    "    n_article = len(df)\n",
    "    df = df[df['relevant'] == 1]\n",
    "    n_article_rel = len(df)\n",
    "    print(\"{:.1f}% of articles are relevant\".format(n_article_rel / n_article * 100))\n",
    "    comment_list = []\n",
    "    for comments in df['comments']:\n",
    "        for comment in comments:\n",
    "            if comment[\"processed_comment_text\"] != '':\n",
    "                comment_list.append(comment[\"processed_comment_text\"])\n",
    "    df_comment = pd.DataFrame(comment_list, columns=['comment'])\n",
    "    return df_comment\n",
    "\n",
    "def extract_article_comment(df):\n",
    "    n_article = len(df)\n",
    "    df = df[df['relevant'] == 1]\n",
    "    n_article_rel = len(df)\n",
    "    rel_ratio = n_article_rel / n_article\n",
    "    # print(\"relevant ratio: {:.1f}%\".format(rel_ratio * 100))\n",
    "    comment_list = []\n",
    "    article_list = []\n",
    "    for index, row in df.iterrows():\n",
    "        # processed_article_text -> in separate step\n",
    "        if row['article_text'] != '':\n",
    "            article_list.append(row['article_text'].replace('\\n', ' '))\n",
    "        for comment in row['comments']:\n",
    "            if comment[\"processed_comment_text\"] != '':\n",
    "                comment_list.append(comment[\"processed_comment_text\"])\n",
    "    df_article = pd.DataFrame(article_list, columns=['article'])\n",
    "    df_comment = pd.DataFrame(comment_list, columns=['comment'])\n",
    "    return df_article, df_comment, rel_ratio\n"
   ]
  },
  {
   "cell_type": "code",
   "execution_count": 9,
   "metadata": {},
   "outputs": [
    {
     "name": "stdout",
     "output_type": "stream",
     "text": [
      "                                              article\n",
      "0   I choose to eat organic food whenever possible...\n",
      "1   Today I posted an article my cousin sent me on...\n",
      "2   A large body of peer reviewed research links g...\n",
      "3   One of the things I love to do every year is v...\n",
      "4   My decisions are simple when I go grocery shop...\n",
      "5   I find it disturbing that there are people who...\n",
      "6   Subway is the single largest chain restaurant ...\n",
      "7   I am so happy I don’t have to watch the news o...\n",
      "8   The one tried and true worry I get about livin...\n",
      "9   I am frankly shocked this information is not m...\n",
      "10  I am honored to share this guest post by Charl...\n",
      "11  The answer to that question is easy – A LOT. A...\n",
      "                                                comment\n",
      "0     I would NEVER take food/nutrition advise from ...\n",
      "1     If you think FoodBabe is not a business orient...\n",
      "2     You are funny Emma, if you know anything about...\n",
      "3     I love how people knock down those that get pa...\n",
      "4     Love you, Food Babe, and I’m part of your army...\n",
      "...                                                 ...\n",
      "3688  Glad to see this article. And there’s probably...\n",
      "3689  I used to shop at Trader’s Joe’s, but when I w...\n",
      "3690  Testing DOES cost money and I’m sticking with ...\n",
      "3691  Don’t forget the soya lecithin. If it’s not or...\n",
      "3692  A vast majority of Trader Joe’s products are m...\n",
      "\n",
      "[3693 rows x 1 columns]\n"
     ]
    }
   ],
   "source": [
    "df_eg_art, df_eg_com, _ = extract_article_comment(df_eg)\n",
    "print(df_eg_art)\n",
    "print(df_eg_com)"
   ]
  },
  {
   "cell_type": "code",
   "execution_count": 10,
   "metadata": {},
   "outputs": [
    {
     "name": "stdout",
     "output_type": "stream",
     "text": [
      "I choose to eat organic food whenever possible because I believe it’s better for my health, the environment, and the farmers who grow our food. But not everyone agrees with me. There are a lot of people who think organic food is too expensive, a waste of money, and a scam. Do you feel that way? It’s no wonder people feel this way, with headlines like these… “Buying organic veggies at the supermarket is a waste of money” – Quartz “The USDA ‘Organic’ Label Misleads And Rips Off Consumers” – Forbes “Organic Foods Are Just A ‘Marketing Label” – Business Insider “Don’t Believe the (Organic) Hype” – NPR “Is organic food worth the higher price? Experts say no” – Portland Tribune One of the biggest perpetrators of these beliefs is Monsanto (and other big biotech companies like Syngenta and Bayer). Think about it: their best-selling products like Roundup and GMO seeds are banned on organic farms. If all farms were organic their biggest products would bite the dust! Any messaging that organic food is better than conventionally grown food is harmful to their business and they have deep pockets to fight against this type of information. Just like the millions of dollars that big food and agrochemical companies spent to fight GMO labels, it’s easy for them to put big money into advertising and ag front groups to spin the message that organic food is a scam. They don’t want Americans to question how our food is produced in large industrial operations. And, they don’t want to spend more money buying and growing organic ingredients, because that cuts into their bottom line. I’m going to present the case here for organic food, so you can decide what is best for yourself and your family. You owe it to yourself to take a hard look at what you choose to eat every day and how it can affect your health. Do the research it takes so you can make an informed decision about whether organic food is worth it to you, and don’t just blindly believe what anyone (including me) tells you. I want you to feel informed and empowered! One of the most fascinating reports about organic food comes from a large project recently commissioned by the European Parliament. Experts from throughout the world were asked to study whether organic food and farming is healthier for us – and their conclusions counter everything that you may have heard about organic food. The researchers concluded (quoting Harvard): In conventional food, there are pesticide residues that remain in the food even after it’s washed. Organic foods are produced virtually without pesticides. Three long-term birth cohort studies in the U.S. suggest that pesticides are harming children’s brains. Women’s exposure to pesticides during pregnancy, measured through urine samples, was associated with negative impacts on their children’s IQ and neurobehavioral development, as well as with ADHD. The gray matter was thinner in children the higher their mothers’ exposure to organophosphates, which are used widely in pesticides. Pregnant and breastfeeding women, and women planning to become pregnant, may wish to eat organic foods as a precautionary measure because of the significant and possibly irreversible consequences for children’s health. An important takeaway: When you choose organic, you’re eating food with less (or without) pesticides. The whole basis of organic farming is to produce food without the need to use toxic pesticides. Crops are managed in a way that prevents the need to use chemicals. When produce from farms has been tested, organic has far less pesticide residue compared with conventional (non-organic). By eating organic you can significantly decrease your exposure to pesticides! “Organic is a strictly regulated term, so you can trust that you’re getting produce grown with minimal if any synthetic pesticides.” – Consumer Reports: Pesticides In Produce, 2015 There are MAJOR health consequences to eating pesticides. It’s no joke! Many of the pesticides used on conventional farms are hormone disruptors, neurotoxins, or reproductive toxins which are strongly linked to many diseases and health issues: Cancer Alzheimer’s Parkinson’s Type 2 Diabetes Obesity Food Allergies Autism Infertility Pesticides are even MORE damaging to children because their metabolism is different than adults and toxins remain longer in their body. The damage starts in the womb! “Epidemiologic evidence demonstrates associations between early life exposure to pesticides and pediatric cancers, decreased cognitive function, and behavioral problems… Recognizing and reducing problematic exposures will require attention to current inadequacies in medical training, public health tracking, and regulatory action on pesticides.” – American Academy of Pediatrics Let’s not forget about the impact on farmers… Tens of thousands of farm workers are poisoned by pesticides each year in the U.S. according to EPA reports – and there are likely many incidents that go unreported. The effects on farmers and nearby communities are devastating! If this is what happens on the farm, what are these chemicals doing to our bodies when we eat them in small amounts day after day? Critics say the amount of pesticides on food is too small to do any damage – but that isn’t the case when talking about endocrine-disruptors! “The entire U.S. population is exposed on a daily basis to numerous agricultural chemicals… Many of these chemicals have known or suspected carcinogenic or endocrine-disrupting properties.” – President’s Cancer Panel When it comes to endocrine disruptors, chronic small exposures are the MOST damaging – “the dose makes the poison” mantra does not apply! What about just peeling and washing the pesticides off? It’s not that easy. Many of the chemicals used on conventional food are systemic – meaning they’re absorbed into the food and you can’t simply just wash it off. When it comes to non-organic packaged food, almost all of it is filled with GMOs that absorb and contain glyphosate weedkiller strongly linked to cancer and numerous diseases. This weedkiller is used on non-GMO crops too – but banned on organic! There are often MULTIPLE pesticides in each fruit or vegetable – and residue rates are rising. Several pesticide residues are usually found and there’s no legal limit on the number of different pesticides allowed on food. And, the problem is getting worse: “One sample of strawberries contained residues of 20 pesticides, according to the “Pesticide Data Program” (PDP) report issued this month by the USDA’s Agricultural Marketing Service… Notably, the agency said only 15 percent of the 10,187 samples tested were free from any detectable pesticide residues. That’s a marked difference from 2014, when the USDA found that over 41 percent of samples were “clean” or showed no detectable pesticide residues.” ~ Carey Gillam, U.S. Right To Know, November 2016. Pesticides are destroying the environment and not helping to “feed the world”… Experts at the U.N. recently warned that pesticides end up in our water systems, damage our ecological system, contaminate soils, are responsible for bee deaths, and are a huge environmental threat to the future of food production. The issue of world hunger is due to poverty, inequality and distribution – not lack of food. “It is time to overturn the myth that pesticides are necessary to feed the world and create a global process to transition toward safer and healthier food and agricultural production.” ~ U.N. Special Rapporteurs on Toxics and the Right to Food, March 2017 Are pesticides used to grow organic food? It’s true that organic food is not always pesticide free – but that doesn’t mean you should throw the baby out with the bathwater. The best way to keep toxic chemicals out of your food is to choose organic. Pesticides aren’t used often on organics because other methods are required to be used first to control pests like cover crops, mechanical weeding, and rotations to create a soil diversity and a healthy ecosystem. Organic-approved pesticides are only allowed to be used as a “last resort” on organic crops, when these other methods fail – and farmers have to demonstrate the need to their organic certifier. In general, organic farmers are reluctant to use pesticides. When pesticides are used, organic farmers generally use natural and non-toxic substances derived from plants or bacteria. Before a pesticide can be approved for organics, it goes through many hoops and is more rigorously reviewed than other pesticides. That’s why there are only about 25 synthetic products permitted on organic farms, while non-organic farms have upwards of 900 agrochemicals to use at their disposal! Just because some pesticides are permitted on organic food, doesn’t mean that farmers are using them. There is a difference between something being permitted and something actually being used. For example – the FDA allows all kinds of nasty food additives, but that doesn’t mean that every food producer is guilty of using them. Tested organic produce contains much lower pesticide residues than non-organic. This is further evidence that organic farmers aren’t using pesticides just because they are permitted. No, toxic rotenone isn’t being sprayed all over organic food either… Critics argue that “horribly toxic pesticides” are used on organic crops, and that they’re used in much greater amounts. One of the pesticides they routinely bring up is rotenone – but this pesticide isn’t even being used! It was once approved for organic crops, but the EPA has banned it from U.S. crops. Some other countries still use rotenone, but the National Organic Standards Board has passed a recommendation to prohibit it outright. Another one that gets brought up is copper sulfate. This can be used by both organic and conventional fruit farmers as a fungicide – but conventional farmers reportedly use more of it and their versions contain riskier “non-active” ingredients. Organic farmers are required to monitor copper sulfate use and aren’t permitted to continue if it accumulates in high levels in the soil. Choosing organic goes beyond just avoiding toxic pesticides… By choosing certified organic food you’ll automatically avoid many dangerous food additives – like TBHQ, BHT, artificial sweeteners (aspartame, sucralose) and artificial food dyes (yellow #5, etc) which are all banned from certified organic products. Carrageenan is on the organic chopping block as well. Although you ALWAYS need to read the ingredient list – even on organic products – it’s easier to find products without a crazy long list of additives and that actually contain real food! If you eat meat or dairy, choosing organic is even MORE important… Conventional meat, eggs, and dairy can be contaminated with even more synthetic pesticides than plant-based foods. Pesticides used on feed accumulate in animal tissues over time – and pesticide residues have been found in conventional beef, egg, milk, pork, and poultry samples. Using only certified organic feed is required when raising organic animals. Most conventional animals are also raised on growth-promoting steroids, antibiotics, and other drugs – and these residues have been found in meat too. The overuse of growth-promoting antibiotics is creating superbugs that contaminate the meat, putting us at greater risk of antibiotic-resistant infections. These drugs are prohibited in the raising of organic animals! Safeguarding organic regulations already on the books and strengthening them is very important to protecting our food. With bigger food companies moving into organics, they are surely trying to water down the system. There are some bad guys out there not following the rules and some organic food is contaminated, but we all have to eat and organic food remains the lowest risk. Ultimately, it’s best to buy organic food grown on small local farms where you can shake the farmer’s hand and ask questions. Your local farmers market is perfect for this and you can also check the Local Harvest website for local growers. Organic can be more expensive, but it’s worth it. I believe that buying quality organic food and eating the most nutritious foods on the planet will save you big bucks down the road in medical costs, prescription drugs and doctor visits – It’s totally up to us to make it a priority. I’ve got over 75 organic budgeting tips here to help. When I switched to eating primarily organic whole foods, everything changed in my life. I went from someone overweight and sick to a new being of vibrant health. I want everyone to feel this way! Next time you hear that organic food is a scam, who are you going to believe? I’ve learned to be careful about who I trust for health information and seek out experts who don’t use Monsanto’s talking points and aren’t muddled with industry ties. Ultimately, the only person you can trust is yourself. Make the switch to organic food and see how you feel. I think you’ll be pleasantly surprised! Share this post with anyone who tells you organic is not worth the money and is a scam. We need to keep spreading the truth. Xo, Vani Please subscribe here to get CUTTING EDGE HEALTH information like this sent straight to your inbox for FREE…\n"
     ]
    }
   ],
   "source": [
    "print(df_eg_art.iloc[0].article)"
   ]
  },
  {
   "cell_type": "code",
   "execution_count": 4,
   "metadata": {
    "ExecuteTime": {
     "end_time": "2021-07-16T01:26:21.110238Z",
     "start_time": "2021-07-16T01:26:10.041550Z"
    }
   },
   "outputs": [
    {
     "name": "stdout",
     "output_type": "stream",
     "text": [
      "fb.json (5035, 13) (1464, 1) (77145, 1)\n",
      "foodbabe.json (15, 10) (12, 1) (3693, 1)\n",
      "foodrevolution.json (78, 10) (47, 1) (1323, 1)\n",
      "organicauthority.json (66, 10) (43, 1) (0, 1)\n",
      "organicconsumers.json (64, 10) (43, 1) (0, 1)\n",
      "cafemom.json (88, 10) (24, 1) (329, 1)\n",
      "disqus.json (42, 12) (33, 1) (7573, 1)\n",
      "quora.json (1703, 10) (484, 1) (8634, 1)\n",
      "reddit.json (256, 13) (63, 1) (8134, 1)\n",
      "usmessageboard.json (382, 10) (0, 1) (1954, 1)\n",
      "chicagotribune.json (2328, 10) (572, 1) (151, 1)\n",
      "huffingtonpost.json (880, 10) (668, 1) (0, 1)\n",
      "latimes.json (1522, 10) (270, 1) (14, 1)\n",
      "nypost.json (106, 10) (33, 1) (0, 1)\n",
      "nytimes.json (438, 10) (327, 1) (11567, 1)\n",
      "usatoday.json (95, 10) (61, 1) (191, 1)\n",
      "washingtonpost.json (1563, 12) (489, 1) (14771, 1)\n",
      "Wall time: 11 s\n"
     ]
    }
   ],
   "source": [
    "%%time\n",
    "df_article_list = []\n",
    "df_comment_list = []\n",
    "for file in json_list:\n",
    "    df = pd.read_json(file)\n",
    "    # df_new = extract_comment(df)\n",
    "    df_arti, df_comm, rel_ratio = extract_article_comment(df)\n",
    "    print(os.path.basename(file), df.shape, df_arti.shape, df_comm.shape)\n",
    "    df_article_list.append(df_arti)\n",
    "    df_comment_list.append(df_comm)\n",
    "df_article = pd.concat(df_article_list, axis=0, ignore_index=True)\n",
    "df_comment = pd.concat(df_comment_list, axis=0, ignore_index=True)"
   ]
  },
  {
   "cell_type": "code",
   "execution_count": 5,
   "metadata": {
    "ExecuteTime": {
     "end_time": "2021-07-16T01:26:39.107900Z",
     "start_time": "2021-07-16T01:26:39.029939Z"
    }
   },
   "outputs": [
    {
     "name": "stdout",
     "output_type": "stream",
     "text": [
      "(4633, 1)\n",
      "(135479, 1)\n",
      "                                             article\n",
      "0  Supposed climate independent food research gro...\n",
      "1  A form of what is now called regenerative agri...\n",
      "2  Did you know the majority of olive oil sold in...\n",
      "3  Even light doses of glyphosate can cause disea...\n",
      "4  NEW REPORT: Natural climate solutions—includin...\n",
      "                                             comment\n",
      "0                   That was another administration.\n",
      "1  Why is the ex CEO of Monsanto appointed head o...\n",
      "2  because he greased the palms of our \"elected\" ...\n",
      "3  the photo shown above is from a feed lot in Ca...\n",
      "4  THAT IS NOT GRASS FED MEET! NO GRASS THERE! YO...\n"
     ]
    }
   ],
   "source": [
    "print(df_article.shape)\n",
    "print(df_comment.shape)\n",
    "print(df_article.head())\n",
    "print(df_comment.head())\n",
    "# (4633, 1)\n",
    "# (135479, 1)"
   ]
  },
  {
   "cell_type": "code",
   "execution_count": 6,
   "metadata": {
    "ExecuteTime": {
     "end_time": "2021-07-16T01:28:02.704015Z",
     "start_time": "2021-07-16T01:28:01.717583Z"
    }
   },
   "outputs": [],
   "source": [
    "processed_path = \"../processed\"\n",
    "os.makedirs(processed_path, exist_ok=True)\n",
    "with open(os.path.join(processed_path, 'processed_comments.pkl'), 'wb') as f:\n",
    "    pickle.dump(df_comment, f)\n",
    "with open(os.path.join(processed_path, 'articles.pkl'), 'wb') as f:\n",
    "    pickle.dump(df_article, f)"
   ]
  },
  {
   "cell_type": "code",
   "execution_count": 7,
   "metadata": {
    "ExecuteTime": {
     "end_time": "2021-07-16T01:28:24.878239Z",
     "start_time": "2021-07-16T01:28:23.387085Z"
    },
    "scrolled": true
   },
   "outputs": [
    {
     "data": {
      "text/html": [
       "<div>\n",
       "<style scoped>\n",
       "    .dataframe tbody tr th:only-of-type {\n",
       "        vertical-align: middle;\n",
       "    }\n",
       "\n",
       "    .dataframe tbody tr th {\n",
       "        vertical-align: top;\n",
       "    }\n",
       "\n",
       "    .dataframe thead th {\n",
       "        text-align: right;\n",
       "    }\n",
       "</style>\n",
       "<table border=\"1\" class=\"dataframe\">\n",
       "  <thead>\n",
       "    <tr style=\"text-align: right;\">\n",
       "      <th></th>\n",
       "      <th>comment</th>\n",
       "    </tr>\n",
       "  </thead>\n",
       "  <tbody>\n",
       "    <tr>\n",
       "      <th>0</th>\n",
       "      <td>That was another administration.</td>\n",
       "    </tr>\n",
       "    <tr>\n",
       "      <th>1</th>\n",
       "      <td>Why is the ex CEO of Monsanto appointed head o...</td>\n",
       "    </tr>\n",
       "    <tr>\n",
       "      <th>2</th>\n",
       "      <td>because he greased the palms of our \"elected\" ...</td>\n",
       "    </tr>\n",
       "    <tr>\n",
       "      <th>3</th>\n",
       "      <td>the photo shown above is from a feed lot in Ca...</td>\n",
       "    </tr>\n",
       "    <tr>\n",
       "      <th>4</th>\n",
       "      <td>THAT IS NOT GRASS FED MEET! NO GRASS THERE! YO...</td>\n",
       "    </tr>\n",
       "    <tr>\n",
       "      <th>...</th>\n",
       "      <td>...</td>\n",
       "    </tr>\n",
       "    <tr>\n",
       "      <th>135474</th>\n",
       "      <td>Recognizing the power of Branding, the Amish s...</td>\n",
       "    </tr>\n",
       "    <tr>\n",
       "      <th>135475</th>\n",
       "      <td>Amish tend to avoid 'branding' anything they m...</td>\n",
       "    </tr>\n",
       "    <tr>\n",
       "      <th>135476</th>\n",
       "      <td>The Amish community around Lancaster, PA love ...</td>\n",
       "    </tr>\n",
       "    <tr>\n",
       "      <th>135477</th>\n",
       "      <td>Look for Organic Valley dairy products. You ca...</td>\n",
       "    </tr>\n",
       "    <tr>\n",
       "      <th>135478</th>\n",
       "      <td>Branding their milk may be against basic Amish...</td>\n",
       "    </tr>\n",
       "  </tbody>\n",
       "</table>\n",
       "<p>135479 rows × 1 columns</p>\n",
       "</div>"
      ],
      "text/plain": [
       "                                                  comment\n",
       "0                        That was another administration.\n",
       "1       Why is the ex CEO of Monsanto appointed head o...\n",
       "2       because he greased the palms of our \"elected\" ...\n",
       "3       the photo shown above is from a feed lot in Ca...\n",
       "4       THAT IS NOT GRASS FED MEET! NO GRASS THERE! YO...\n",
       "...                                                   ...\n",
       "135474  Recognizing the power of Branding, the Amish s...\n",
       "135475  Amish tend to avoid 'branding' anything they m...\n",
       "135476  The Amish community around Lancaster, PA love ...\n",
       "135477  Look for Organic Valley dairy products. You ca...\n",
       "135478  Branding their milk may be against basic Amish...\n",
       "\n",
       "[135479 rows x 1 columns]"
      ]
     },
     "execution_count": 7,
     "metadata": {},
     "output_type": "execute_result"
    }
   ],
   "source": [
    "with open(os.path.join(processed_path, 'processed_comments.pkl'), 'rb') as f:\n",
    "    df_comment = pickle.load(f)\n",
    "df_comment\n",
    "# 135479 rows × 1 columns"
   ]
  },
  {
   "cell_type": "code",
   "execution_count": 9,
   "metadata": {
    "ExecuteTime": {
     "end_time": "2021-07-16T01:29:34.655836Z",
     "start_time": "2021-07-16T01:29:34.587874Z"
    }
   },
   "outputs": [
    {
     "data": {
      "text/plain": [
       "'Coincidentally, yesterday I just watched, \"What the Dairy Industry does not Want You to Know\" by Neal Barnard MD (https://www.youtube.com/watch?v=h3c_D0s391Q&amp;t=150s) and that sure makes a strong case against dairy of any kind, organic or not. And I grew up on a farm too! I will stick to buying Amish furniture I guess. there is a place in my town that is called, \"Amish Woodcrafts\".'"
      ]
     },
     "execution_count": 9,
     "metadata": {},
     "output_type": "execute_result"
    }
   ],
   "source": [
    "df_comment.comment.iloc[-21]"
   ]
  },
  {
   "cell_type": "code",
   "execution_count": 12,
   "metadata": {},
   "outputs": [
    {
     "data": {
      "text/html": [
       "<div>\n",
       "<style scoped>\n",
       "    .dataframe tbody tr th:only-of-type {\n",
       "        vertical-align: middle;\n",
       "    }\n",
       "\n",
       "    .dataframe tbody tr th {\n",
       "        vertical-align: top;\n",
       "    }\n",
       "\n",
       "    .dataframe thead th {\n",
       "        text-align: right;\n",
       "    }\n",
       "</style>\n",
       "<table border=\"1\" class=\"dataframe\">\n",
       "  <thead>\n",
       "    <tr style=\"text-align: right;\">\n",
       "      <th></th>\n",
       "      <th>article</th>\n",
       "    </tr>\n",
       "  </thead>\n",
       "  <tbody>\n",
       "    <tr>\n",
       "      <td>0</td>\n",
       "      <td>Supposed climate independent food research gro...</td>\n",
       "    </tr>\n",
       "    <tr>\n",
       "      <td>1</td>\n",
       "      <td>A form of what is now called regenerative agri...</td>\n",
       "    </tr>\n",
       "    <tr>\n",
       "      <td>2</td>\n",
       "      <td>Did you know the majority of olive oil sold in...</td>\n",
       "    </tr>\n",
       "    <tr>\n",
       "      <td>3</td>\n",
       "      <td>Even light doses of glyphosate can cause disea...</td>\n",
       "    </tr>\n",
       "    <tr>\n",
       "      <td>4</td>\n",
       "      <td>NEW REPORT: Natural climate solutions—includin...</td>\n",
       "    </tr>\n",
       "    <tr>\n",
       "      <td>...</td>\n",
       "      <td>...</td>\n",
       "    </tr>\n",
       "    <tr>\n",
       "      <td>4628</td>\n",
       "      <td>Attention, shoppers: Whole Foods Market is now...</td>\n",
       "    </tr>\n",
       "    <tr>\n",
       "      <td>4629</td>\n",
       "      <td>Most of us don’t spend our days plowing fields...</td>\n",
       "    </tr>\n",
       "    <tr>\n",
       "      <td>4630</td>\n",
       "      <td>Bogus “organic” products may be reaching the U...</td>\n",
       "    </tr>\n",
       "    <tr>\n",
       "      <td>4631</td>\n",
       "      <td>BLYTHEVILLE, ARK. — Clay Mayes slams on the br...</td>\n",
       "    </tr>\n",
       "    <tr>\n",
       "      <td>4632</td>\n",
       "      <td>KALONA, Iowa — This small town has become a la...</td>\n",
       "    </tr>\n",
       "  </tbody>\n",
       "</table>\n",
       "<p>4633 rows × 1 columns</p>\n",
       "</div>"
      ],
      "text/plain": [
       "                                                article\n",
       "0     Supposed climate independent food research gro...\n",
       "1     A form of what is now called regenerative agri...\n",
       "2     Did you know the majority of olive oil sold in...\n",
       "3     Even light doses of glyphosate can cause disea...\n",
       "4     NEW REPORT: Natural climate solutions—includin...\n",
       "...                                                 ...\n",
       "4628  Attention, shoppers: Whole Foods Market is now...\n",
       "4629  Most of us don’t spend our days plowing fields...\n",
       "4630  Bogus “organic” products may be reaching the U...\n",
       "4631  BLYTHEVILLE, ARK. — Clay Mayes slams on the br...\n",
       "4632  KALONA, Iowa — This small town has become a la...\n",
       "\n",
       "[4633 rows x 1 columns]"
      ]
     },
     "execution_count": 12,
     "metadata": {},
     "output_type": "execute_result"
    }
   ],
   "source": [
    "with open(os.path.join(processed_path, 'articles.pkl'), 'rb') as f:\n",
    "    df_article = pickle.load(f)\n",
    "df_article\n",
    "# 4633 rows instead of 5887 rows when filter out article with ''"
   ]
  },
  {
   "cell_type": "code",
   "execution_count": 14,
   "metadata": {},
   "outputs": [
    {
     "name": "stdout",
     "output_type": "stream",
     "text": [
      "With all the recent interest in locally grown, farm-fresh and organic foods, it’s no wonder the number of U.S. farmers markets has more than tripled in the past 15 years. There are now more than 7,175 across the country, according to the Agriculture Department . Buying local means products are picked at peak ripeness, providing the top freshness, flavor and nutrients. The foods are transported fewer miles and are coming directly from the people who grow them. And you can feel good about supporting your local economy and strengthening the local food system. Most farmers markets in our area open in April or May. So now is the time to get exploring, to discover new produce and fresh or potted herbs that your supermarket might not feature. For an interactive map of markets in the Washington area, go to washingtonpost.com/food . Feeling inspired? This salad recipe makes use of seasonal greens including peppery arugula and watercress, buttery bib lettuce and velvety mache (also known as lamb’s lettuce). Spinach is also in season starting in April and works well with this salad. Kale is available starting in May. This salad gets a sweet and earthy flavor boost from another farmers market favorite: beets, a nutrition powerhouse. Beets are full of phytonutrients, iron, fiber and folate. They are most often found in the deep purple variety, but farmers markets might also carry golden yellow, pink or white varieties. It is best to purchase smaller beets, as they are more tender and sweeter — one to 1 1 / 2 inches is the ideal diameter. You want the green leaves to be fresh and not wilted. As soon as you get home from the market, trim off most of the greens, leaving only one inch attached to the bulb. This prevents the leaves from stealing moisture from the bulbs. You can then store the bulbs in a plastic bag in your refrigerator for up to three weeks. Be sure to wash them thoroughly before using them, as they probably will be covered in dirt. They are, after all, root vegetables. In addition to salad greens and beets, this recipe features an herb dressing loaded with dill and oniony chives. Nothing flavors a dish better than fresh herbs, which boost flavor and add depth to dishes without overdoing sodium, sugar and fat. Plus, many herbs contain disease-fighting antioxidants. To prevent spoiling, make sure they are dry when you store them in the fridge. Wrap them in a dry paper towel and they’ll last up to a week. And one last bonus: The olive oil from the dressing not only ties all those herbs together but also helps your body absorb those nutrients and feel more satisfied. Farmers market salad with herbed vinaigrette Proper preparation can help make a good experience great. Follow these guidelines to get the most out of your farmers market: ●Bring reusable, clean bags to carry your goodies home. Use separate bags for raw and cooked foods. ●Bring storage containers for delicate produce such as berries and cherry tomatoes that might otherwise get crushed when combined with other products. ●Arrive early in the day before the crowds for the best selection. That perfectly plump tomato will be the first to go. However, if you do go toward the end of the day, you might get some good deals. ●Bring cash in small bills with a bag for change. ●Go in with an open mind. My first experience with garlic scapes was because one of the vendors pointed it out to me and said you could make an amazing pesto out of the twisty, curly plant. Garlic scapes, available starting in May in our area, are now something I very much look forward to and can’t find anywhere but at the market. ●Take the time to scope out the entire market, as different farmers offer different selections and prices of the same items. And be sure to ask the farmers how long produce will stay fresh to make sure you don’t overbuy. They also usually can provide good storage tips. Gordon, a master of public health professional and a master certified health education specialist, is creator of the healthy recipe site EatingbyElaine.com. Salad Spinner Looking for more ways to use those new veggies? Try The Post’s Salad Spinner tool . Recipe Finder The Post’s Food section has healthful recipes at washingtonpost.com/recipes .\n"
     ]
    }
   ],
   "source": [
    "print(df_article.iloc[4324].article)"
   ]
  },
  {
   "cell_type": "code",
   "execution_count": null,
   "metadata": {},
   "outputs": [],
   "source": []
  },
  {
   "cell_type": "markdown",
   "metadata": {},
   "source": [
    "# process article"
   ]
  },
  {
   "cell_type": "markdown",
   "metadata": {},
   "source": [
    "https://gitlab.lrz.de/social-rom/datasets/organic-dataset/curated-source-dataset/-/blob/master/english/Data_curation_language.ipynb\n"
   ]
  },
  {
   "cell_type": "code",
   "execution_count": 42,
   "metadata": {
    "ExecuteTime": {
     "end_time": "2021-07-16T02:17:16.668790Z",
     "start_time": "2021-07-16T02:17:16.569828Z"
    },
    "scrolled": true
   },
   "outputs": [
    {
     "name": "stdout",
     "output_type": "stream",
     "text": [
      "C:\\Project\\group-1.3\\scripts\n"
     ]
    }
   ],
   "source": [
    "%cd ../scripts/"
   ]
  },
  {
   "cell_type": "code",
   "execution_count": 11,
   "metadata": {
    "ExecuteTime": {
     "end_time": "2021-07-16T01:30:38.117524Z",
     "start_time": "2021-07-16T01:30:13.080674Z"
    }
   },
   "outputs": [],
   "source": [
    "from utils import filter_articles_pandas\n",
    "import pickle\n",
    "import regex as re"
   ]
  },
  {
   "cell_type": "code",
   "execution_count": 12,
   "metadata": {
    "ExecuteTime": {
     "end_time": "2021-07-16T01:30:38.642223Z",
     "start_time": "2021-07-16T01:30:38.119523Z"
    }
   },
   "outputs": [],
   "source": [
    "processed_path = \"../processed\"\n",
    "with open(os.path.join(processed_path, 'articles.pkl'), 'rb') as f:\n",
    "    df_article = pickle.load(f)"
   ]
  },
  {
   "cell_type": "code",
   "execution_count": 43,
   "metadata": {
    "ExecuteTime": {
     "end_time": "2021-07-16T02:17:27.452777Z",
     "start_time": "2021-07-16T02:17:26.795157Z"
    },
    "scrolled": true
   },
   "outputs": [],
   "source": [
    "df_article.to_csv('../processed/articles.csv', sep='\\t')"
   ]
  },
  {
   "cell_type": "code",
   "execution_count": 17,
   "metadata": {
    "ExecuteTime": {
     "end_time": "2021-07-16T01:38:25.501253Z",
     "start_time": "2021-07-16T01:38:25.351339Z"
    }
   },
   "outputs": [
    {
     "data": {
      "text/plain": [
       "4633"
      ]
     },
     "execution_count": 17,
     "metadata": {},
     "output_type": "execute_result"
    }
   ],
   "source": [
    "len(df_article) # 4633"
   ]
  },
  {
   "cell_type": "markdown",
   "metadata": {},
   "source": [
    "clean articles a little bit"
   ]
  },
  {
   "cell_type": "code",
   "execution_count": 21,
   "metadata": {
    "ExecuteTime": {
     "end_time": "2021-07-16T01:44:39.930866Z",
     "start_time": "2021-07-16T01:43:08.366379Z"
    }
   },
   "outputs": [
    {
     "name": "stdout",
     "output_type": "stream",
     "text": [
      "Inital count:  (4633, 1)\n",
      "removing Devanagari...\n",
      "do some hard-coded replacement...\n",
      "removing url...\n",
      "calculating filtering criteria...\n",
      "Final count (4479, 1)\n",
      "completed\n",
      "Wall time: 1min 31s\n"
     ]
    }
   ],
   "source": [
    "%%time\n",
    "# Loading dataset as pandas df\n",
    "\n",
    "# Load your comments file as pandas dataframe 'df_article'. ENSURE it has a COLUMN named 'article'\n",
    "\n",
    "print('Inital count: ', df_article.shape)\n",
    "\n",
    "#Filtering relevant comments\n",
    "article_filtered = filter_articles_pandas(df_article)\n",
    "article_filtered.reset_index(drop=True, inplace=True)\n",
    "\n",
    "#Mention the directory to save the output\n",
    "\n",
    "#Exporting the filtered comment to text file\n",
    "# file_output_txt_filename = directory + \"/output/filtered_comments.txt\" \n",
    "# json_filtered.to_csv(file_output_txt_filename, header=False, index=False, sep='\\t', mode='w+')\n",
    "\n",
    "print('Final count',article_filtered.shape)\n",
    "print('completed')\n",
    "# 4451 rows × 1 columns\n",
    "# (4479, 1) after fixing no punctuation mark issue "
   ]
  },
  {
   "cell_type": "code",
   "execution_count": 25,
   "metadata": {
    "ExecuteTime": {
     "end_time": "2021-07-16T01:47:15.323520Z",
     "start_time": "2021-07-16T01:47:15.208585Z"
    }
   },
   "outputs": [
    {
     "data": {
      "text/plain": [
       "'Who loses when farmers go organic? Well, agrochemical companies that supply pesticides, herbicides and fungicides. '"
      ]
     },
     "execution_count": 25,
     "metadata": {},
     "output_type": "execute_result"
    }
   ],
   "source": [
    "#Testing the final filterd dataframe\n",
    "# article_filtered.rename(columns={'tidy_article': 'article'}, inplace=True)\n",
    "article_filtered.iloc[38].article"
   ]
  },
  {
   "cell_type": "code",
   "execution_count": 26,
   "metadata": {
    "ExecuteTime": {
     "end_time": "2021-07-16T01:47:54.512912Z",
     "start_time": "2021-07-16T01:47:54.397980Z"
    }
   },
   "outputs": [
    {
     "data": {
      "text/plain": [
       "'Who loses when farmers go organic? Well, agrochemical companies that supply pesticides, herbicides and fungicides. http://orgcns.org/2rVgITa'"
      ]
     },
     "execution_count": 26,
     "metadata": {},
     "output_type": "execute_result"
    }
   ],
   "source": [
    "df_article['article'][39]"
   ]
  },
  {
   "cell_type": "code",
   "execution_count": 27,
   "metadata": {
    "ExecuteTime": {
     "end_time": "2021-07-16T01:48:07.460444Z",
     "start_time": "2021-07-16T01:48:07.308532Z"
    }
   },
   "outputs": [],
   "source": [
    "with open(os.path.join(processed_path, 'processed_articles.pkl'), 'wb') as f:\n",
    "    pickle.dump(article_filtered, f)"
   ]
  },
  {
   "cell_type": "code",
   "execution_count": 28,
   "metadata": {
    "ExecuteTime": {
     "end_time": "2021-07-16T01:48:08.279971Z",
     "start_time": "2021-07-16T01:48:08.172034Z"
    }
   },
   "outputs": [
    {
     "data": {
      "text/plain": [
       "'NEW REPORT: Natural climate solutions—including regenerative farming and land management—could reduce emissions by 11.3 billion tons per year by 2030. '"
      ]
     },
     "execution_count": 28,
     "metadata": {},
     "output_type": "execute_result"
    }
   ],
   "source": [
    "article_filtered['article'][4]"
   ]
  },
  {
   "cell_type": "code",
   "execution_count": 44,
   "metadata": {
    "ExecuteTime": {
     "end_time": "2021-07-16T02:19:03.297862Z",
     "start_time": "2021-07-16T02:19:02.724193Z"
    }
   },
   "outputs": [],
   "source": [
    "article_filtered.to_csv(\"../processed/processed_articles.csv\", sep='\\t')"
   ]
  },
  {
   "cell_type": "code",
   "execution_count": null,
   "metadata": {},
   "outputs": [],
   "source": [
    "# # Loading dataset as json files\n",
    "\n",
    "# import os, json\n",
    "# import pandas as pd\n",
    "# import regex as re\n",
    "\n",
    "\n",
    "# # provide folder path of json files\n",
    "# path_to_json = #####\n",
    "# json_files = [pos_json for pos_json in os.listdir(path_to_json) if pos_json.endswith('.json')]\n",
    "\n",
    "# print('No. of files read: ', len(json_files))\n",
    "# print('Names of files read: ', json_files)\n",
    "\n",
    "\n",
    "# # we need both the json and an index number so use enumerate()\n",
    "# for index, js in enumerate(json_files):\n",
    "#     output_file = path_to_json + '/processed_' + js\n",
    "#     with open(os.path.join(path_to_json, js), encoding='utf-8') as json_file:\n",
    "#         json_text = json.load(json_file)\n",
    "#         print('filename: ', js)\n",
    "#         print('no. of rows in file: ', len(json_text))\n",
    "        \n",
    "#         i = 1\n",
    "#         for data in json_text:           \n",
    "#             for commentdata in data['comments']:\n",
    "       \n",
    "#                 commentdata['processed_comment_text'] = filter_comments_json(commentdata['comment_text']) if commentdata['comment_text'] != '' else commentdata['comment_text']\n",
    "\n",
    "# #             print(i)                \n",
    "#             i = i + 1\n",
    "    \n",
    "#         #Output will be saved as processed_filename.json in same folder\n",
    "#         with open(output_file, 'w') as json_out_file:\n",
    "#                 json.dump(json_text, json_out_file)\n",
    "                \n",
    "# print('completed')\n"
   ]
  },
  {
   "cell_type": "markdown",
   "metadata": {},
   "source": [
    "# update `processed_comments`"
   ]
  },
  {
   "cell_type": "code",
   "execution_count": 29,
   "metadata": {
    "ExecuteTime": {
     "end_time": "2021-07-16T01:48:34.619512Z",
     "start_time": "2021-07-16T01:48:34.507578Z"
    },
    "scrolled": true
   },
   "outputs": [
    {
     "name": "stdout",
     "output_type": "stream",
     "text": [
      "C:\\Project\\group-1.3\n"
     ]
    }
   ],
   "source": [
    "# print(sys.path)\n",
    "%cd .."
   ]
  },
  {
   "cell_type": "code",
   "execution_count": 30,
   "metadata": {
    "ExecuteTime": {
     "end_time": "2021-07-16T01:48:41.241690Z",
     "start_time": "2021-07-16T01:48:40.894889Z"
    }
   },
   "outputs": [
    {
     "name": "stdout",
     "output_type": "stream",
     "text": [
      "The autoreload extension is already loaded. To reload it, use:\n",
      "  %reload_ext autoreload\n"
     ]
    }
   ],
   "source": [
    "from scripts.utils import filter_comments_pandas\n",
    "import pickle\n",
    "import regex as re\n",
    "%load_ext autoreload\n",
    "%autoreload 2"
   ]
  },
  {
   "cell_type": "code",
   "execution_count": 31,
   "metadata": {
    "ExecuteTime": {
     "end_time": "2021-07-16T01:48:58.279876Z",
     "start_time": "2021-07-16T01:48:57.398371Z"
    }
   },
   "outputs": [
    {
     "data": {
      "text/html": [
       "<div>\n",
       "<style scoped>\n",
       "    .dataframe tbody tr th:only-of-type {\n",
       "        vertical-align: middle;\n",
       "    }\n",
       "\n",
       "    .dataframe tbody tr th {\n",
       "        vertical-align: top;\n",
       "    }\n",
       "\n",
       "    .dataframe thead th {\n",
       "        text-align: right;\n",
       "    }\n",
       "</style>\n",
       "<table border=\"1\" class=\"dataframe\">\n",
       "  <thead>\n",
       "    <tr style=\"text-align: right;\">\n",
       "      <th></th>\n",
       "      <th>comment</th>\n",
       "    </tr>\n",
       "  </thead>\n",
       "  <tbody>\n",
       "    <tr>\n",
       "      <th>0</th>\n",
       "      <td>That was another administration.</td>\n",
       "    </tr>\n",
       "    <tr>\n",
       "      <th>1</th>\n",
       "      <td>Why is the ex CEO of Monsanto appointed head o...</td>\n",
       "    </tr>\n",
       "    <tr>\n",
       "      <th>2</th>\n",
       "      <td>because he greased the palms of our \"elected\" ...</td>\n",
       "    </tr>\n",
       "    <tr>\n",
       "      <th>3</th>\n",
       "      <td>the photo shown above is from a feed lot in Ca...</td>\n",
       "    </tr>\n",
       "    <tr>\n",
       "      <th>4</th>\n",
       "      <td>THAT IS NOT GRASS FED MEET! NO GRASS THERE! YO...</td>\n",
       "    </tr>\n",
       "    <tr>\n",
       "      <th>...</th>\n",
       "      <td>...</td>\n",
       "    </tr>\n",
       "    <tr>\n",
       "      <th>135474</th>\n",
       "      <td>Recognizing the power of Branding, the Amish s...</td>\n",
       "    </tr>\n",
       "    <tr>\n",
       "      <th>135475</th>\n",
       "      <td>Amish tend to avoid 'branding' anything they m...</td>\n",
       "    </tr>\n",
       "    <tr>\n",
       "      <th>135476</th>\n",
       "      <td>The Amish community around Lancaster, PA love ...</td>\n",
       "    </tr>\n",
       "    <tr>\n",
       "      <th>135477</th>\n",
       "      <td>Look for Organic Valley dairy products. You ca...</td>\n",
       "    </tr>\n",
       "    <tr>\n",
       "      <th>135478</th>\n",
       "      <td>Branding their milk may be against basic Amish...</td>\n",
       "    </tr>\n",
       "  </tbody>\n",
       "</table>\n",
       "<p>135479 rows × 1 columns</p>\n",
       "</div>"
      ],
      "text/plain": [
       "                                                  comment\n",
       "0                        That was another administration.\n",
       "1       Why is the ex CEO of Monsanto appointed head o...\n",
       "2       because he greased the palms of our \"elected\" ...\n",
       "3       the photo shown above is from a feed lot in Ca...\n",
       "4       THAT IS NOT GRASS FED MEET! NO GRASS THERE! YO...\n",
       "...                                                   ...\n",
       "135474  Recognizing the power of Branding, the Amish s...\n",
       "135475  Amish tend to avoid 'branding' anything they m...\n",
       "135476  The Amish community around Lancaster, PA love ...\n",
       "135477  Look for Organic Valley dairy products. You ca...\n",
       "135478  Branding their milk may be against basic Amish...\n",
       "\n",
       "[135479 rows x 1 columns]"
      ]
     },
     "execution_count": 31,
     "metadata": {},
     "output_type": "execute_result"
    }
   ],
   "source": [
    "processed_path = './processed'\n",
    "with open(os.path.join(processed_path, 'processed_comments.pkl'), 'rb') as f:\n",
    "    df_comments = pickle.load(f)\n",
    "df_comments\n",
    "# 135479 rows × 1 columns"
   ]
  },
  {
   "cell_type": "code",
   "execution_count": 26,
   "metadata": {},
   "outputs": [
    {
     "data": {
      "text/plain": [
       "0"
      ]
     },
     "execution_count": 26,
     "metadata": {},
     "output_type": "execute_result"
    }
   ],
   "source": [
    "next(df_comments.iterrows())[0]\n",
    "next(df_comments.iterrows())[1]['comment']"
   ]
  },
  {
   "cell_type": "markdown",
   "metadata": {},
   "source": [
    "how many comments include urls"
   ]
  },
  {
   "cell_type": "code",
   "execution_count": 32,
   "metadata": {
    "ExecuteTime": {
     "end_time": "2021-07-16T01:49:47.616403Z",
     "start_time": "2021-07-16T01:49:34.362050Z"
    }
   },
   "outputs": [
    {
     "data": {
      "text/plain": [
       "5971"
      ]
     },
     "execution_count": 32,
     "metadata": {},
     "output_type": "execute_result"
    }
   ],
   "source": [
    "url_idx_list = []\n",
    "for x in df_comments.iterrows():\n",
    "    idx = x[0]\n",
    "    cont = x[1]['comment']\n",
    "    if re.search(r'(http|https|www)\\S+', cont):\n",
    "        # print(cont)\n",
    "        url_idx_list.append(idx)\n",
    "len(url_idx_list)\n",
    "# 5971"
   ]
  },
  {
   "cell_type": "markdown",
   "metadata": {},
   "source": [
    "clean comments, mainly remove urls"
   ]
  },
  {
   "cell_type": "code",
   "execution_count": 33,
   "metadata": {
    "ExecuteTime": {
     "end_time": "2021-07-16T02:06:46.050219Z",
     "start_time": "2021-07-16T01:49:57.548675Z"
    },
    "scrolled": true
   },
   "outputs": [
    {
     "name": "stdout",
     "output_type": "stream",
     "text": [
      "original length: (135479, 1) \t length after filter out blank: (135479, 1)\n",
      "removing Devanagari...\n",
      "do some hard-coded replacement...\n",
      "removing url...\n",
      "calculating filtering criteria...\n",
      "final dataframe length: (130516, 1)\n",
      "Wall time: 16min 48s\n"
     ]
    }
   ],
   "source": [
    "%%time\n",
    "reprocessed_comment = filter_comments_pandas(df_comments)\n",
    "# (135479, 1) -> (129307, 1)\n",
    "# -> (130516, 1) after fixing issue of missing punctuation marks\n",
    "# 17min"
   ]
  },
  {
   "cell_type": "code",
   "execution_count": 36,
   "metadata": {
    "ExecuteTime": {
     "end_time": "2021-07-16T02:08:13.418550Z",
     "start_time": "2021-07-16T02:08:13.299617Z"
    }
   },
   "outputs": [
    {
     "data": {
      "text/plain": [
       "'Coincidentally, yesterday I just watched, \"What the Dairy Industry does not Want You to Know\" by Neal Barnard MD ( and that sure makes a strong case against dairy of any kind, organic or not. And I grew up on a farm too! I will stick to buying Amish furniture I guess. there is a place in my town that is called, \"Amish Woodcrafts\".'"
      ]
     },
     "execution_count": 36,
     "metadata": {},
     "output_type": "execute_result"
    }
   ],
   "source": [
    "reprocessed_comment.reset_index(drop=True, inplace=True)\n",
    "# reprocessed_comment.rename(columns={'tidy_comment': 'comment'}, inplace=True)\n",
    "# reprocessed_comment\n",
    "reprocessed_comment['comment'].iloc[-21]"
   ]
  },
  {
   "cell_type": "code",
   "execution_count": 37,
   "metadata": {
    "ExecuteTime": {
     "end_time": "2021-07-16T02:08:37.614595Z",
     "start_time": "2021-07-16T02:08:37.499659Z"
    }
   },
   "outputs": [
    {
     "data": {
      "text/plain": [
       "'Coincidentally, yesterday I just watched, \"What the Dairy Industry does not Want You to Know\" by Neal Barnard MD (https://www.youtube.com/watch?v=h3c_D0s391Q&amp;t=150s) and that sure makes a strong case against dairy of any kind, organic or not. And I grew up on a farm too! I will stick to buying Amish furniture I guess. there is a place in my town that is called, \"Amish Woodcrafts\".'"
      ]
     },
     "execution_count": 37,
     "metadata": {},
     "output_type": "execute_result"
    }
   ],
   "source": [
    "# for comparison\n",
    "df_comment['comment'].iloc[-21]"
   ]
  },
  {
   "cell_type": "code",
   "execution_count": 9,
   "metadata": {},
   "outputs": [],
   "source": [
    "import os\n",
    "# os.rename('./processed/processed_comments.pkl', './processed/processed_comments_orig.pkl')"
   ]
  },
  {
   "cell_type": "code",
   "execution_count": 38,
   "metadata": {
    "ExecuteTime": {
     "end_time": "2021-07-16T02:10:15.033155Z",
     "start_time": "2021-07-16T02:10:14.377533Z"
    }
   },
   "outputs": [],
   "source": [
    "with open(os.path.join(processed_path, 'processed_comments.pkl'), 'wb') as f:\n",
    "    pickle.dump(reprocessed_comment, f)"
   ]
  },
  {
   "cell_type": "code",
   "execution_count": 46,
   "metadata": {
    "ExecuteTime": {
     "end_time": "2021-07-16T02:26:29.043692Z",
     "start_time": "2021-07-16T02:26:27.692069Z"
    }
   },
   "outputs": [],
   "source": [
    "reprocessed_comment.to_csv('../processed/processed_comments.csv', sep='\\t')"
   ]
  },
  {
   "cell_type": "code",
   "execution_count": 39,
   "metadata": {
    "ExecuteTime": {
     "end_time": "2021-07-16T02:10:18.450183Z",
     "start_time": "2021-07-16T02:10:18.064405Z"
    }
   },
   "outputs": [
    {
     "data": {
      "text/html": [
       "<div>\n",
       "<style scoped>\n",
       "    .dataframe tbody tr th:only-of-type {\n",
       "        vertical-align: middle;\n",
       "    }\n",
       "\n",
       "    .dataframe tbody tr th {\n",
       "        vertical-align: top;\n",
       "    }\n",
       "\n",
       "    .dataframe thead th {\n",
       "        text-align: right;\n",
       "    }\n",
       "</style>\n",
       "<table border=\"1\" class=\"dataframe\">\n",
       "  <thead>\n",
       "    <tr style=\"text-align: right;\">\n",
       "      <th></th>\n",
       "      <th>comment</th>\n",
       "    </tr>\n",
       "  </thead>\n",
       "  <tbody>\n",
       "    <tr>\n",
       "      <th>0</th>\n",
       "      <td>That was another administration.</td>\n",
       "    </tr>\n",
       "    <tr>\n",
       "      <th>1</th>\n",
       "      <td>Why is the ex CEO of Monsanto appointed head o...</td>\n",
       "    </tr>\n",
       "    <tr>\n",
       "      <th>2</th>\n",
       "      <td>because he greased the palms of our \"elected\" ...</td>\n",
       "    </tr>\n",
       "    <tr>\n",
       "      <th>3</th>\n",
       "      <td>the photo shown above is from a feed lot in Ca...</td>\n",
       "    </tr>\n",
       "    <tr>\n",
       "      <th>4</th>\n",
       "      <td>THAT IS NOT GRASS FED MEET! NO GRASS THERE! YO...</td>\n",
       "    </tr>\n",
       "    <tr>\n",
       "      <th>...</th>\n",
       "      <td>...</td>\n",
       "    </tr>\n",
       "    <tr>\n",
       "      <th>130511</th>\n",
       "      <td>Recognizing the power of Branding, the Amish s...</td>\n",
       "    </tr>\n",
       "    <tr>\n",
       "      <th>130512</th>\n",
       "      <td>Amish tend to avoid 'branding' anything they m...</td>\n",
       "    </tr>\n",
       "    <tr>\n",
       "      <th>130513</th>\n",
       "      <td>The Amish community around Lancaster, PA love ...</td>\n",
       "    </tr>\n",
       "    <tr>\n",
       "      <th>130514</th>\n",
       "      <td>Look for Organic Valley dairy products. You ca...</td>\n",
       "    </tr>\n",
       "    <tr>\n",
       "      <th>130515</th>\n",
       "      <td>Branding their milk may be against basic Amish...</td>\n",
       "    </tr>\n",
       "  </tbody>\n",
       "</table>\n",
       "<p>130516 rows × 1 columns</p>\n",
       "</div>"
      ],
      "text/plain": [
       "                                                  comment\n",
       "0                        That was another administration.\n",
       "1       Why is the ex CEO of Monsanto appointed head o...\n",
       "2       because he greased the palms of our \"elected\" ...\n",
       "3       the photo shown above is from a feed lot in Ca...\n",
       "4       THAT IS NOT GRASS FED MEET! NO GRASS THERE! YO...\n",
       "...                                                   ...\n",
       "130511  Recognizing the power of Branding, the Amish s...\n",
       "130512  Amish tend to avoid 'branding' anything they m...\n",
       "130513  The Amish community around Lancaster, PA love ...\n",
       "130514  Look for Organic Valley dairy products. You ca...\n",
       "130515  Branding their milk may be against basic Amish...\n",
       "\n",
       "[130516 rows x 1 columns]"
      ]
     },
     "execution_count": 39,
     "metadata": {},
     "output_type": "execute_result"
    }
   ],
   "source": [
    "with open(os.path.join(processed_path, 'processed_comments.pkl'), 'rb') as f:\n",
    "    processed_comment = pickle.load(f)\n",
    "processed_comment"
   ]
  }
 ],
 "metadata": {
  "interpreter": {
   "hash": "d7be162faa9619c70b8a448037d12fbee0f966914265961e1eb040c7257eee03"
  },
  "kernelspec": {
   "display_name": "Python 3",
   "language": "python",
   "name": "python3"
  },
  "language_info": {
   "codemirror_mode": {
    "name": "ipython",
    "version": 3
   },
   "file_extension": ".py",
   "mimetype": "text/x-python",
   "name": "python",
   "nbconvert_exporter": "python",
   "pygments_lexer": "ipython3",
   "version": "3.7.10"
  },
  "toc": {
   "base_numbering": 1,
   "nav_menu": {},
   "number_sections": true,
   "sideBar": true,
   "skip_h1_title": false,
   "title_cell": "Table of Contents",
   "title_sidebar": "Contents",
   "toc_cell": false,
   "toc_position": {},
   "toc_section_display": true,
   "toc_window_display": false
  }
 },
 "nbformat": 4,
 "nbformat_minor": 2
}
