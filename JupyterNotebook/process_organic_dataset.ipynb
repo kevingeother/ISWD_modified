{
  "nbformat": 4,
  "nbformat_minor": 0,
  "metadata": {
    "kernelspec": {
      "display_name": "Python 3",
      "language": "python",
      "name": "python3"
    },
    "language_info": {
      "codemirror_mode": {
        "name": "ipython",
        "version": 3
      },
      "file_extension": ".py",
      "mimetype": "text/x-python",
      "name": "python",
      "nbconvert_exporter": "python",
      "pygments_lexer": "ipython3",
      "version": "3.7.10"
    },
    "toc": {
      "base_numbering": 1,
      "nav_menu": {},
      "number_sections": true,
      "sideBar": true,
      "skip_h1_title": false,
      "title_cell": "Table of Contents",
      "title_sidebar": "Contents",
      "toc_cell": false,
      "toc_position": {},
      "toc_section_display": true,
      "toc_window_display": true
    },
    "colab": {
      "name": "process_organic_dataset.ipynb",
      "provenance": [],
      "toc_visible": true
    }
  },
  "cells": [
    {
      "cell_type": "markdown",
      "metadata": {
        "id": "JV3TngarFWKV"
      },
      "source": [
        "# organic dataset processing\n",
        "\n",
        "read and process `.json` data file to get some auxiliary files, e.g. indexed data, for fast data loading\n",
        "\n",
        "- dealing with vocab, which is loaded from **word2vec** model\n",
        "- transform sentence string to index using vocab, save for easy accessibility, `data_idx`\n",
        "- also the length of corresponding sentence, `data_length`"
      ]
    },
    {
      "cell_type": "code",
      "metadata": {
        "colab": {
          "base_uri": "https://localhost:8080/"
        },
        "id": "c956AjdUuF1j",
        "outputId": "6dd1a350-7965-4f29-87f2-e19833dadecb"
      },
      "source": [
        "%load_ext autoreload\n",
        "%autoreload 2\n",
        "\n",
        "from google.colab import drive\n",
        "drive.mount('/content/drive')\n",
        "# %cd /content/drive/MyDrive/group-1.3-master/group-1.3-master/LeverageJustAFewKeywords/\n",
        "# %cd /content/drive/MyDrive/LeverageJustAFewKeywords/\n",
        "%cd /content/drive/MyDrive/group-1.3/LeverageJustAFewKeywords/\n"
      ],
      "execution_count": 1,
      "outputs": [
        {
          "output_type": "stream",
          "text": [
            "Mounted at /content/drive\n",
            "/content/drive/.shortcut-targets-by-id/1n0oSoMBR4TlxDwAce51xBgon3LxJjCkE/group-1.3/LeverageJustAFewKeywords\n"
          ],
          "name": "stdout"
        }
      ]
    },
    {
      "cell_type": "code",
      "metadata": {
        "ExecuteTime": {
          "end_time": "2021-07-13T15:44:29.448936Z",
          "start_time": "2021-07-13T15:44:27.389110Z"
        },
        "scrolled": false,
        "colab": {
          "base_uri": "https://localhost:8080/"
        },
        "id": "nVbDc_3XNpnc",
        "outputId": "5fcddbdc-993d-484d-8a0e-0520a093ff04"
      },
      "source": [
        "import nltk\n",
        "nltk.download('words')\n",
        "nltk.download('stopwords')\n",
        "nltk.download('wordnet')\n",
        "import os\n",
        "import json\n",
        "import gensim\n",
        "from utils import *\n",
        "from tqdm import tqdm\n",
        "import numpy as np\n",
        "import pickle"
      ],
      "execution_count": 2,
      "outputs": [
        {
          "output_type": "stream",
          "text": [
            "[nltk_data] Downloading package words to /root/nltk_data...\n",
            "[nltk_data]   Unzipping corpora/words.zip.\n",
            "[nltk_data] Downloading package stopwords to /root/nltk_data...\n",
            "[nltk_data]   Unzipping corpora/stopwords.zip.\n",
            "[nltk_data] Downloading package wordnet to /root/nltk_data...\n",
            "[nltk_data]   Unzipping corpora/wordnet.zip.\n"
          ],
          "name": "stdout"
        }
      ]
    },
    {
      "cell_type": "code",
      "metadata": {
        "ExecuteTime": {
          "end_time": "2021-07-17T00:59:57.270916Z",
          "start_time": "2021-07-17T00:59:57.241932Z"
        },
        "scrolled": false,
        "colab": {
          "base_uri": "https://localhost:8080/"
        },
        "id": "stdHWVHXFWKv",
        "outputId": "96b8c6ab-9e8e-499f-fb7a-ee84bb14be8c"
      },
      "source": [
        " import os\n",
        "import json\n",
        "import gensim\n",
        "from tqdm import tqdm\n",
        "import numpy as np\n",
        "import pickle\n",
        "\n",
        "%cd ../LeverageJustAFewKeywords/\n",
        "from utils import *"
      ],
      "execution_count": 3,
      "outputs": [
        {
          "output_type": "stream",
          "text": [
            "/content/drive/.shortcut-targets-by-id/1n0oSoMBR4TlxDwAce51xBgon3LxJjCkE/group-1.3/LeverageJustAFewKeywords\n"
          ],
          "name": "stdout"
        }
      ]
    },
    {
      "cell_type": "markdown",
      "metadata": {
        "id": "7Fs4PWc1FWKy"
      },
      "source": [
        "# parameter setting and function definition"
      ]
    },
    {
      "cell_type": "code",
      "metadata": {
        "ExecuteTime": {
          "end_time": "2021-07-17T00:02:33.945914Z",
          "start_time": "2021-07-17T00:02:33.930940Z"
        },
        "id": "bDsyFV00FWKz"
      },
      "source": [
        "domain = 'organic'\n",
        "dataset_mode = 'train'\n",
        "w2v_folder = '../wv/'\n",
        "wv_mode = 'tuned'# 'pretrained'\n",
        "data_folder = '../processed/'\n",
        "processed_folder = './processed/'\n",
        "wv_type = 'glove' #'w2v'\n",
        "\n",
        "# wv_file = \"../wv/w2v_corpus_wotf1_wostw_tuned.bin\""
      ],
      "execution_count": 47,
      "outputs": []
    },
    {
      "cell_type": "code",
      "metadata": {
        "ExecuteTime": {
          "end_time": "2021-07-17T00:05:44.019114Z",
          "start_time": "2021-07-17T00:05:44.008122Z"
        },
        "id": "SlCyACX1FWK0"
      },
      "source": [
        "def load_data(file):\n",
        "    '''we use our own vocab, loading original maybe enough'''\n",
        "    with open(file, 'r', encoding='utf-8') as f:\n",
        "        data = json.load(f)\n",
        "    # data = [s for d in data['original'] for s in d]\n",
        "    data = data['original']\n",
        "    return data\n",
        "\n",
        "def build_shift_vocab_word2vec(model_file, num_tag=2):\n",
        "    emb = gensim.models.KeyedVectors.load_word2vec_format(model_file, binary=True)\n",
        "    shift = num_tag\n",
        "    vocab = {token: i + shift for i, token in enumerate(emb.wv.index2word)}\n",
        "    vocab['<PAD>'] = 0\n",
        "    vocab['<UNK>'] = 1\n",
        "    return vocab\n",
        "\n",
        "def build_shift_vocab_glove(glove_filename, num_tag=2):\n",
        "    shift = num_tag\n",
        "    with open(glove_filename, 'rb') as f:\n",
        "      glove = pickle.load(f)\n",
        "    vocab = {token: i + shift for i, token in enumerate(glove.keys())}\n",
        "    vocab['<PAD>'] = 0\n",
        "    vocab['<UNK>'] = 1\n",
        "    return vocab\n",
        "    \n",
        "def build_text_index(sentence, vocab):\n",
        "    '''transform sentence string to index according to vocab'''\n",
        "    senc = tokenize_sentence(sentence)\n",
        "    # senc = sentence.split() # oposum dataset don't need tokenizer, just .split()\n",
        "    senc = lemmatize_sentence(senc)\n",
        "    senc = remove_wordlist(senc, set(stopwords.words('english')))\n",
        "    idx = [vocab.get(token, vocab['<UNK>']) for token in senc]  # not existing token is <UNK>\n",
        "    if len(idx) == 0:\n",
        "        idx = [vocab['<UNK>']]\n",
        "    return idx\n",
        "\n",
        "def write_vocab(vocab, file_name):\n",
        "    with open(file_name, 'w', encoding='utf-8') as f:\n",
        "        for token, idx in vocab.items():\n",
        "            f.write(f\"{token}\\t{idx}\\n\")"
      ],
      "execution_count": 48,
      "outputs": []
    },
    {
      "cell_type": "markdown",
      "metadata": {
        "id": "fF1WTi_KFWK2"
      },
      "source": [
        "# train dataset"
      ]
    },
    {
      "cell_type": "code",
      "metadata": {
        "ExecuteTime": {
          "end_time": "2021-07-17T00:06:10.186260Z",
          "start_time": "2021-07-17T00:06:09.659565Z"
        },
        "scrolled": false,
        "colab": {
          "base_uri": "https://localhost:8080/"
        },
        "id": "upPWr6uhFWK2",
        "outputId": "0e4d5ee9-1649-49c9-c881-563850d183a3"
      },
      "source": [
        "data_file = os.path.join(data_folder, f'{domain}_{dataset_mode}.json')\n",
        "data_orig = load_data(data_file)\n",
        "print(len(data_orig))\n",
        "print(data_orig[:5])"
      ],
      "execution_count": 49,
      "outputs": [
        {
          "output_type": "stream",
          "text": [
            "438241\n",
            "['That was another administration.', 'Why is the ex CEO of Monsanto appointed head of the FDA ?', 'because he greased the palms of our \"elected\" leaders.', 'and judges too', 'the photo shown above is from a feed lot in California.it is labeled as such in the article.the claims are that the environmental impact of grass fed cows and feed lot cows are the same.which of course is not.just like you said- animals that graze on pastures continue the growth/life cycle of the forage if managed well']\n"
          ],
          "name": "stdout"
        }
      ]
    },
    {
      "cell_type": "markdown",
      "metadata": {
        "id": "sLMLfUfLFWK3"
      },
      "source": [
        "vocab"
      ]
    },
    {
      "cell_type": "code",
      "metadata": {
        "ExecuteTime": {
          "end_time": "2021-07-17T00:07:43.634704Z",
          "start_time": "2021-07-17T00:07:42.595302Z"
        },
        "scrolled": true,
        "colab": {
          "base_uri": "https://localhost:8080/"
        },
        "id": "Gp10Ns4UFWK4",
        "outputId": "afecd87f-36fa-4fad-ac44-916542ddf12f"
      },
      "source": [
        "model_file = os.path.join(w2v_folder, f\"{wv_type}_corpus_wotf1_wostw_{wv_mode}.bin\")\n",
        "if wv_type == 'w2v':\n",
        "  vocab = build_shift_vocab_word2vec(model_file)\n",
        "elif wv_type == 'glove':\n",
        "  vocab = build_shift_vocab_glove(model_file)\n",
        "\n",
        "print(len(vocab))\n",
        "# 25658 -> 25696 after fixing issue of missing punctuation marks"
      ],
      "execution_count": 50,
      "outputs": [
        {
          "output_type": "stream",
          "text": [
            "44082\n"
          ],
          "name": "stdout"
        }
      ]
    },
    {
      "cell_type": "markdown",
      "metadata": {
        "id": "HZjjSa4zFWK5"
      },
      "source": [
        "index representation"
      ]
    },
    {
      "cell_type": "code",
      "metadata": {
        "ExecuteTime": {
          "end_time": "2021-07-17T00:11:56.817666Z",
          "start_time": "2021-07-17T00:08:50.512238Z"
        },
        "scrolled": true,
        "colab": {
          "base_uri": "https://localhost:8080/"
        },
        "id": "KREZHMRxFWK6",
        "outputId": "9434b200-f59b-451e-c472-ed730e2bf78b"
      },
      "source": [
        "data_idx = []\n",
        "for s in tqdm(data_orig):\n",
        "    data_idx.append(build_text_index(s, vocab))\n",
        "# data_idx = [build_text_index(s, vocab) for s in data_orig]"
      ],
      "execution_count": 51,
      "outputs": [
        {
          "output_type": "stream",
          "text": [
            "100%|██████████| 438241/438241 [01:49<00:00, 3994.87it/s]\n"
          ],
          "name": "stderr"
        }
      ]
    },
    {
      "cell_type": "code",
      "metadata": {
        "ExecuteTime": {
          "end_time": "2021-07-17T00:18:45.949273Z",
          "start_time": "2021-07-17T00:18:45.946273Z"
        },
        "scrolled": true,
        "id": "UfH53gRoFWK-"
      },
      "source": [
        "# sorted(data_idx, key=len)"
      ],
      "execution_count": null,
      "outputs": []
    },
    {
      "cell_type": "markdown",
      "metadata": {
        "id": "48NQ9tqbFWK_"
      },
      "source": [
        "data length"
      ]
    },
    {
      "cell_type": "code",
      "metadata": {
        "ExecuteTime": {
          "end_time": "2021-07-17T00:17:30.262333Z",
          "start_time": "2021-07-17T00:17:30.193373Z"
        },
        "id": "jJ1NVL-VFWLA"
      },
      "source": [
        "data_length = [len(s) for s in data_idx]"
      ],
      "execution_count": 52,
      "outputs": []
    },
    {
      "cell_type": "code",
      "metadata": {
        "ExecuteTime": {
          "end_time": "2021-07-17T00:17:44.322572Z",
          "start_time": "2021-07-17T00:17:44.318573Z"
        },
        "colab": {
          "base_uri": "https://localhost:8080/"
        },
        "id": "D8hp3UpXFWLA",
        "outputId": "1366a22d-1e9d-497c-b045-2b250a97c18a"
      },
      "source": [
        "len(data_length)"
      ],
      "execution_count": 53,
      "outputs": [
        {
          "output_type": "execute_result",
          "data": {
            "text/plain": [
              "438241"
            ]
          },
          "metadata": {
            "tags": []
          },
          "execution_count": 53
        }
      ]
    },
    {
      "cell_type": "code",
      "metadata": {
        "ExecuteTime": {
          "end_time": "2021-07-17T01:00:07.569992Z",
          "start_time": "2021-07-17T01:00:07.429073Z"
        },
        "scrolled": true,
        "colab": {
          "base_uri": "https://localhost:8080/",
          "height": 134
        },
        "id": "GGYaOGn2FWLB",
        "outputId": "20e9e075-93af-43e2-fe6a-8cd325da117a"
      },
      "source": [
        "# np.max(data_length)\n",
        "max_id = np.argmax(data_length)\n",
        "print(data_length[max_id])\n",
        "data_orig[max_id]"
      ],
      "execution_count": 54,
      "outputs": [
        {
          "output_type": "stream",
          "text": [
            "211\n"
          ],
          "name": "stdout"
        },
        {
          "output_type": "execute_result",
          "data": {
            "application/vnd.google.colaboratory.intrinsic+json": {
              "type": "string"
            },
            "text/plain": [
              "'In which of the following fields would you actually suggest that no progress, no improvement in fallibility, has been made over the last few centuries:Agricultural EconomicsAgricultural Animal BreedingAnimal NutritionPoultry ScienceAnimal ScienceAgronomy and Crop ScienceAgricultural and Horticultural Plant BreedingPlant Pathology/PhytopathologyPlant SciencesFood ScienceFood Science and Food TechnologySoil Chemistry/MicrobiologySoil SciencesHorticulture ScienceFishing and Fisheries Sciences/Fisheries managementForest Sciences and BiologyForest/Resources ManagementWood Science and Pulp/Paper TechnologyNatural resources/ConservationForestry and Related ScienceWildlife/Range ManagementEnvironmental ScienceAgriculture, GeneralAgricultural ScienceBiochemistryBiomedical sciencesBiophysicsBiotechnologyBacteriologyPlant geneticsPlant Pathology/PhytopathologyPlant PhysiologyBotany/Plant BiologyAnatomyBiometrics and BiostatisticsCell/Cellular Biology and HistologyEcologyDevelopmental biology/EmbryologyEndocrinologyEntomologyImmunologyMolecular BiologyMicrobiologyNeuroscienceNutrition scienceParasitologyToxicologyGenetics, Human and AnimalPathology, Human and AnimalPharmacology, Human and AnimalPhysiology, Human and AnimalZoologyBiology/Biological sciences, GeneralBiology/Biomedical sciences,Speech-Language Pathology and AudiologyEnvironmental HealthEnvironmental toxicologyHealth Systems/Service AdministrationPublic HealthEpidemiologyKinesiology/Exercise scienceNursing sciencesPharmacyRehabilitation/Therapeutic ServicesPhysician AssistantVeterinary MedicineHealth Sciences, GeneralHealth SciencesAerospace, Aeronautical and Astronautical EngineeringAgricultural engineeringBioengineering and Biomedical engineeringCeramic sciencesChemical engineeringCivil engineeringCommunications engineeringComputer engineeringElectrical, Electronics and CommunicationsEngineering MechanicsEngineering PhysicsEngineering ScienceEnvironmental Health EngineeringIndustrial and manufacturing engineeringMaterials scienceMechanical engineeringMetallurgical engineeringMining and MineralNuclear engineeringOcean engineeringOperations ResearchPetroleum engineeringPolymer and Plastics engineeringSystems engineeringEngineering, GeneralEngineering,Computer ScienceInformation Science and Information SystemsRoboticsComputer and Information sciencesApplied MathematicsAlgebraAnalysis and Functional AnalysisGeometry/Geometric AnalysisMathematical LogicNumber TheoryStatisticsTopology, FoundationsComputing Theory and PracticeOperations ResearchMathematics/Statistics, GeneralMathematics/Statistics,AstronomyAstrophysicsAtmospheric chemistry and ClimatologyAtmospheric physics and Atmospheric dynamicsMeteorologyAtmospheric science/Meteorology, GeneralAtmospheric science/MeteorologyAnalytical chemistryInorganic chemistryOrganic chemistryMedicinal/Pharmaceutical chemistryPhysical chemistryPolymerTheoretical chemistryChemistry, GeneralChemistryGeologyGeochemistryGeophysics and SeismologyPaleontologyMineralogy and PetrologyStratigraphy and SedimentationGeomorphology and Glacial GeologyGeological and Earth Sciences, GeneralGeological and Earth SciencesAcousticsAtomic/Molecular/Chemical physicsParticle (Elementary) physicsBiophysicsNuclear PhysicsOptics/PhotonicsFusion and Plasma physicsPolymer physicsCondensed Matter/Low temperature physicsApplied PhysicsGeneral PhysicsPhysicsHydrology and Water ResourcesOceanography, Chemical and PhysicalMarine Sciences,Ocean/Marine SciencesEh?'"
            ]
          },
          "metadata": {
            "tags": []
          },
          "execution_count": 54
        }
      ]
    },
    {
      "cell_type": "code",
      "metadata": {
        "ExecuteTime": {
          "end_time": "2021-07-17T01:00:10.509312Z",
          "start_time": "2021-07-17T01:00:10.503315Z"
        },
        "colab": {
          "base_uri": "https://localhost:8080/"
        },
        "id": "I_lNlMotFWLC",
        "outputId": "1f351de3-adc3-4379-e285-0283c7d815b2"
      },
      "source": [
        "# data_orig\n",
        "vocab['<PAD>']\n",
        "# print(vocab)\n",
        "# np.max(data_length)"
      ],
      "execution_count": 55,
      "outputs": [
        {
          "output_type": "execute_result",
          "data": {
            "text/plain": [
              "0"
            ]
          },
          "metadata": {
            "tags": []
          },
          "execution_count": 55
        }
      ]
    },
    {
      "cell_type": "code",
      "metadata": {
        "ExecuteTime": {
          "end_time": "2021-07-17T01:00:23.833851Z",
          "start_time": "2021-07-17T01:00:23.777897Z"
        },
        "scrolled": true,
        "id": "Hck2oljoFWLC"
      },
      "source": [
        "vocab_file = os.path.join(data_folder, f'{domain}_vocab_{wv_type}.txt')\n",
        "write_vocab(vocab, vocab_file)\n",
        "\n",
        "# vocab_file = os.path.join(data_folder, f'{domain}_vocab_w2v.txt')\n",
        "# write_vocab(vocab, vocab_file)"
      ],
      "execution_count": 56,
      "outputs": []
    },
    {
      "cell_type": "code",
      "metadata": {
        "ExecuteTime": {
          "end_time": "2021-07-17T01:00:37.135178Z",
          "start_time": "2021-07-17T01:00:37.130183Z"
        },
        "id": "ujPBnUKkFWLD"
      },
      "source": [
        "supplement_data = {'data_idx': data_idx, 'data_length': data_length}\n",
        "supplement_data_path = os.path.join(data_folder, f'{domain}_{dataset_mode}_supplement_{wv_type}.pkl')\n",
        "\n",
        "# supplement_data = {'data_idx': data_idx, 'data_length': data_length}\n",
        "# supplement_data_path = os.path.join(data_folder, f'{domain}_{dataset_mode}_supplement_w2v.pkl')"
      ],
      "execution_count": 57,
      "outputs": []
    },
    {
      "cell_type": "code",
      "metadata": {
        "ExecuteTime": {
          "end_time": "2021-07-17T01:00:44.953845Z",
          "start_time": "2021-07-17T01:00:44.442141Z"
        },
        "id": "3MndWU91FWLD"
      },
      "source": [
        "with open(supplement_data_path, 'wb') as f:\n",
        "    pickle.dump(supplement_data, f)"
      ],
      "execution_count": 58,
      "outputs": []
    },
    {
      "cell_type": "markdown",
      "metadata": {
        "id": "-POplg9oFWLE"
      },
      "source": [
        "# test dataset"
      ]
    },
    {
      "cell_type": "code",
      "metadata": {
        "ExecuteTime": {
          "end_time": "2021-07-17T01:01:42.196306Z",
          "start_time": "2021-07-17T01:01:42.193307Z"
        },
        "id": "86jwIvdHFWLE"
      },
      "source": [
        "dataset_mode = 'test'"
      ],
      "execution_count": 59,
      "outputs": []
    },
    {
      "cell_type": "code",
      "metadata": {
        "ExecuteTime": {
          "end_time": "2021-07-17T01:01:59.243458Z",
          "start_time": "2021-07-17T01:01:59.153511Z"
        },
        "colab": {
          "base_uri": "https://localhost:8080/"
        },
        "id": "6kwSpyyJFWLF",
        "outputId": "f70ed7c1-a3c0-41b1-e7b0-f2018f2ab66a"
      },
      "source": [
        "data_folder = '../processed'\n",
        "data_file_test = os.path.join(data_folder, f'annotated_test_coarse.json')\n",
        "with open(data_file_test, 'r', encoding='utf-8') as f:\n",
        "    data = json.load(f)\n",
        "data_orig_test = data['original']\n",
        "data_label_test = data['label']\n",
        "print(len(data_orig_test))"
      ],
      "execution_count": 60,
      "outputs": [
        {
          "output_type": "stream",
          "text": [
            "4687\n"
          ],
          "name": "stdout"
        }
      ]
    },
    {
      "cell_type": "code",
      "metadata": {
        "ExecuteTime": {
          "end_time": "2021-07-15T17:13:47.021297Z",
          "start_time": "2021-07-15T17:13:47.016298Z"
        },
        "colab": {
          "base_uri": "https://localhost:8080/"
        },
        "id": "AI0UC5KvFWLG",
        "outputId": "baef0f87-c2a7-455e-86e6-07fe6b1c0870"
      },
      "source": [
        "a = [[2,3], [1,3]]\n",
        "b = [4]\n",
        "print(np.shape(a))\n",
        "print(np.size(a))\n",
        "b.extend(a)\n",
        "print(b)"
      ],
      "execution_count": 61,
      "outputs": [
        {
          "output_type": "stream",
          "text": [
            "(2, 2)\n",
            "4\n",
            "[4, [2, 3], [1, 3]]\n"
          ],
          "name": "stdout"
        }
      ]
    },
    {
      "cell_type": "code",
      "metadata": {
        "ExecuteTime": {
          "end_time": "2021-07-15T17:13:52.680414Z",
          "start_time": "2021-07-15T17:13:52.664441Z"
        },
        "colab": {
          "base_uri": "https://localhost:8080/"
        },
        "id": "OJR1Rw4pFWLH",
        "outputId": "cd9ccfa9-2b59-4219-d127-1b719fdf3be7"
      },
      "source": [
        "print(np.shape(data_orig_test))\n",
        "print(np.shape([['str1', 'str2'], ['str3', 'str4']]))\n",
        "print(np.shape([['str1', 'str2'], ['str3', 'str4', 'str5']]))"
      ],
      "execution_count": 62,
      "outputs": [
        {
          "output_type": "stream",
          "text": [
            "(4687,)\n",
            "(2, 2)\n",
            "(2,)\n"
          ],
          "name": "stdout"
        },
        {
          "output_type": "stream",
          "text": [
            "/usr/local/lib/python3.7/dist-packages/numpy/core/_asarray.py:83: VisibleDeprecationWarning: Creating an ndarray from ragged nested sequences (which is a list-or-tuple of lists-or-tuples-or ndarrays with different lengths or shapes) is deprecated. If you meant to do this, you must specify 'dtype=object' when creating the ndarray\n",
            "  return array(a, dtype, copy=False, order=order)\n"
          ],
          "name": "stderr"
        }
      ]
    },
    {
      "cell_type": "code",
      "metadata": {
        "ExecuteTime": {
          "end_time": "2021-07-17T01:02:52.488766Z",
          "start_time": "2021-07-17T01:02:52.476771Z"
        },
        "scrolled": true,
        "colab": {
          "base_uri": "https://localhost:8080/"
        },
        "id": "aIAL95FuFWLI",
        "outputId": "a06d5574-a813-418d-b7ed-caa50b6c0f64"
      },
      "source": [
        "np.shape(data_label_test)"
      ],
      "execution_count": 63,
      "outputs": [
        {
          "output_type": "execute_result",
          "data": {
            "text/plain": [
              "(4687, 6)"
            ]
          },
          "metadata": {
            "tags": []
          },
          "execution_count": 63
        }
      ]
    },
    {
      "cell_type": "code",
      "metadata": {
        "ExecuteTime": {
          "end_time": "2021-07-17T01:02:53.654106Z",
          "start_time": "2021-07-17T01:02:53.648106Z"
        },
        "colab": {
          "base_uri": "https://localhost:8080/",
          "height": 35
        },
        "id": "zyRBgz7tFWLI",
        "outputId": "1b0fbe04-38a0-438a-fd98-ea4485ac5ec8"
      },
      "source": [
        "data_orig_test[0]"
      ],
      "execution_count": 64,
      "outputs": [
        {
          "output_type": "execute_result",
          "data": {
            "application/vnd.google.colaboratory.intrinsic+json": {
              "type": "string"
            },
            "text/plain": [
              "'Industrialization is everything about productivity and efficiency.'"
            ]
          },
          "metadata": {
            "tags": []
          },
          "execution_count": 64
        }
      ]
    },
    {
      "cell_type": "code",
      "metadata": {
        "ExecuteTime": {
          "end_time": "2021-07-17T01:03:01.302697Z",
          "start_time": "2021-07-17T01:02:59.034006Z"
        },
        "colab": {
          "base_uri": "https://localhost:8080/"
        },
        "id": "07QiAK_hFWLJ",
        "outputId": "2c9b0976-33f7-42b4-d690-f0af082d7095"
      },
      "source": [
        "data_idx_test = []\n",
        "for s in tqdm(data_orig_test):\n",
        "    data_idx_test.append(build_text_index(s, vocab))"
      ],
      "execution_count": 65,
      "outputs": [
        {
          "output_type": "stream",
          "text": [
            "100%|██████████| 4687/4687 [00:01<00:00, 3374.85it/s]\n"
          ],
          "name": "stderr"
        }
      ]
    },
    {
      "cell_type": "code",
      "metadata": {
        "ExecuteTime": {
          "end_time": "2021-07-17T01:03:06.225857Z",
          "start_time": "2021-07-17T01:03:06.219861Z"
        },
        "id": "K-pikRYyFWLJ"
      },
      "source": [
        "data_length_test = [len(s) for s in data_idx_test]"
      ],
      "execution_count": 66,
      "outputs": []
    },
    {
      "cell_type": "code",
      "metadata": {
        "ExecuteTime": {
          "end_time": "2021-07-17T01:03:09.136181Z",
          "start_time": "2021-07-17T01:03:09.132182Z"
        },
        "id": "YMjKvGnHFWLK"
      },
      "source": [
        "supplement_data = {'data_idx': data_idx_test, 'data_length': data_length_test}\n",
        "supplement_data_path = os.path.join(data_folder, f'{domain}_{dataset_mode}_supplement_{wv_type}.pkl')\n",
        "\n",
        "# supplement_data = {'data_idx': data_idx_test, 'data_length': data_length_test}\n",
        "# supplement_data_path = os.path.join(data_folder, f'{domain}_{dataset_mode}_coarse_supplement_w2v.pkl')"
      ],
      "execution_count": 67,
      "outputs": []
    },
    {
      "cell_type": "code",
      "metadata": {
        "ExecuteTime": {
          "end_time": "2021-07-17T01:03:17.494359Z",
          "start_time": "2021-07-17T01:03:17.485362Z"
        },
        "id": "q8QpyuqsFWLK"
      },
      "source": [
        "with open(supplement_data_path, 'wb') as f:\n",
        "    pickle.dump(supplement_data, f)"
      ],
      "execution_count": 68,
      "outputs": []
    },
    {
      "cell_type": "markdown",
      "metadata": {
        "id": "r60T2MW9FWLL"
      },
      "source": [
        "# data inspection\n",
        "\n",
        "not useful"
      ]
    },
    {
      "cell_type": "code",
      "metadata": {
        "ExecuteTime": {
          "end_time": "2021-07-15T02:02:02.212706Z",
          "start_time": "2021-07-15T02:01:47.012480Z"
        },
        "id": "hvXiZ23jFWLL"
      },
      "source": [
        "assist_data = pickle_load(\"../processed/organic_train_supplement_glove.pkl\")"
      ],
      "execution_count": 72,
      "outputs": []
    },
    {
      "cell_type": "code",
      "metadata": {
        "ExecuteTime": {
          "end_time": "2021-07-15T02:02:21.385706Z",
          "start_time": "2021-07-15T02:02:21.381709Z"
        },
        "id": "dy-wGMQsFWLM"
      },
      "source": [
        "data_idx = assist_data['data_idx']\n",
        "data_length = assist_data['data_length']"
      ],
      "execution_count": 73,
      "outputs": []
    },
    {
      "cell_type": "code",
      "metadata": {
        "ExecuteTime": {
          "end_time": "2021-07-15T02:05:01.400715Z",
          "start_time": "2021-07-15T02:05:01.314752Z"
        },
        "id": "VoiwI2T5FWLN"
      },
      "source": [
        "# sorted(data_idx, key=len)\n",
        "for i, idx in enumerate(data_idx):\n",
        "    if len(idx) == 0:\n",
        "        print(data_orig[i])"
      ],
      "execution_count": 74,
      "outputs": []
    },
    {
      "cell_type": "code",
      "metadata": {
        "ExecuteTime": {
          "end_time": "2021-07-15T02:06:57.788155Z",
          "start_time": "2021-07-15T02:06:57.764170Z"
        },
        "colab": {
          "base_uri": "https://localhost:8080/"
        },
        "id": "NTMqZcccFWLN",
        "outputId": "6db3a399-3aa5-4219-f847-77349c39bd1f"
      },
      "source": [
        "build_text_index('administration', vocab)"
      ],
      "execution_count": 77,
      "outputs": [
        {
          "output_type": "execute_result",
          "data": {
            "text/plain": [
              "[32640]"
            ]
          },
          "metadata": {
            "tags": []
          },
          "execution_count": 77
        }
      ]
    },
    {
      "cell_type": "code",
      "metadata": {
        "ExecuteTime": {
          "end_time": "2021-07-15T02:28:22.751041Z",
          "start_time": "2021-07-15T02:28:19.189081Z"
        },
        "id": "yb8L92DWFWLO"
      },
      "source": [
        "comment = pickle_load('../processed/processed_comments.pkl')"
      ],
      "execution_count": 76,
      "outputs": []
    },
    {
      "cell_type": "code",
      "metadata": {
        "ExecuteTime": {
          "end_time": "2021-07-15T02:28:28.448743Z",
          "start_time": "2021-07-15T02:28:28.443746Z"
        },
        "colab": {
          "base_uri": "https://localhost:8080/"
        },
        "id": "dLkdiHjvFWLP",
        "outputId": "dd11c4f5-d093-4c9a-d8fb-64dc9c276886"
      },
      "source": [
        "len(comment)"
      ],
      "execution_count": 78,
      "outputs": [
        {
          "output_type": "execute_result",
          "data": {
            "text/plain": [
              "130516"
            ]
          },
          "metadata": {
            "tags": []
          },
          "execution_count": 78
        }
      ]
    },
    {
      "cell_type": "code",
      "metadata": {
        "id": "dpx035x-Pfnj"
      },
      "source": [
        ""
      ],
      "execution_count": null,
      "outputs": []
    }
  ]
}