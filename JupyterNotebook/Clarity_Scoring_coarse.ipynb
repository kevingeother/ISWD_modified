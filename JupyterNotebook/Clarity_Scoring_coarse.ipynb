{
 "cells": [
  {
   "cell_type": "markdown",
   "metadata": {},
   "source": [
    "# Clarity Scoring Function\n"
   ]
  },
  {
   "cell_type": "code",
   "execution_count": 1,
   "metadata": {},
   "outputs": [
    {
     "name": "stderr",
     "output_type": "stream",
     "text": [
      "[nltk_data] Downloading package stopwords to\n",
      "[nltk_data]     C:\\Users\\ccche\\AppData\\Roaming\\nltk_data...\n",
      "[nltk_data]   Package stopwords is already up-to-date!\n"
     ]
    }
   ],
   "source": [
    "import sys\n",
    "import re\n",
    "# import os.path\n",
    "from os import makedirs\n",
    "from pprint import pprint\n",
    "from sklearn.feature_extraction.text import TfidfVectorizer\n",
    "from sklearn.feature_extraction.text import CountVectorizer\n",
    "from sklearn.feature_extraction.text import HashingVectorizer\n",
    "from numpy import log\n",
    "from scipy.special import rel_entr\n",
    "import pandas as pd\n",
    "import nltk\n",
    "nltk.download('stopwords')\n",
    "from nltk.corpus import stopwords\n",
    "from nltk.stem.wordnet import WordNetLemmatizer\n"
   ]
  },
  {
   "cell_type": "code",
   "execution_count": 2,
   "metadata": {},
   "outputs": [],
   "source": [
    "header_columns = 'Author_ID|Author_name|Comment_number|Sentence_number|Domain_Relevance|Sentiment|Entity|Attribute|Sentence|Source_file|Annotator|Aspect'.split('|')\n",
    "# domain_relevance_classes = ['0', '9']\n",
    "# entity_classes = ['g', 'p', 'f', 'c', 'cg', 'cp', 'cf', 'cc', 'gg']\n",
    "attribute_classes = ['g', 'p', 't', 'q', 's', 'h', 'c', 'll', 'or', 'l', 'av', 'e', 'a', 'pp']\n",
    "coarse_attributes_classes = ['g', 'p', 'eq', 'sh','ts', 'e']\n",
    "fine_coarse_attributes_classes = [['g'],['p'],['t','q'],['s','h','c'],['ll','or','l','av'],['e','a','pp']]\n",
    "\n",
    "# sentiment_classes = ['p', 'n', '0']\n",
    "# print(len(attribute_classes) * len(entity_classes))"
   ]
  },
  {
   "cell_type": "code",
   "execution_count": 3,
   "metadata": {},
   "outputs": [
    {
     "name": "stdout",
     "output_type": "stream",
     "text": [
      "8824\n",
      "Wall time: 89 ms\n"
     ]
    },
    {
     "data": {
      "text/plain": "            Author_ID      Author_name Comment_number Sentence_number  \\\n4542                0        Anonymous            964               2   \n1483   Iida-Ruishalme   Iida Ruishalme           1699              18   \n1070  Justine-Kimball  Justine Kimball            123               4   \n5679  Shellie-Bowdoin  Shellie Bowdoin            941               5   \n7153       Craig-Good       Craig Good           1240               1   \n\n     Domain_Relevance Sentiment Entity Attribute  \\\n4542                9         0      f         g   \n1483                0       NaN    NaN       NaN   \n1070                9         p      c         h   \n5679                0       NaN    NaN       NaN   \n7153                9         0      p         g   \n\n                                               Sentence Source_file  \\\n4542  The thing with organic farming is that one nee...  quora.json   \n1483  Pesticides all have to be some kind of chemica...  quora.json   \n1070  That said, I love Whole Foods and their effort...  quora.json   \n5679  Unfortunately, there are a lot of hidden eleme...  quora.json   \n7153            Maybe, but not because they’re organic.  quora.json   \n\n      Annotator   Aspect  \n4542  sebastian      f-g  \n1483      felix  nan-nan  \n1070     hannah      c-h  \n5679  sebastian  nan-nan  \n7153    florian      p-g  ",
      "text/html": "<div>\n<style scoped>\n    .dataframe tbody tr th:only-of-type {\n        vertical-align: middle;\n    }\n\n    .dataframe tbody tr th {\n        vertical-align: top;\n    }\n\n    .dataframe thead th {\n        text-align: right;\n    }\n</style>\n<table border=\"1\" class=\"dataframe\">\n  <thead>\n    <tr style=\"text-align: right;\">\n      <th></th>\n      <th>Author_ID</th>\n      <th>Author_name</th>\n      <th>Comment_number</th>\n      <th>Sentence_number</th>\n      <th>Domain_Relevance</th>\n      <th>Sentiment</th>\n      <th>Entity</th>\n      <th>Attribute</th>\n      <th>Sentence</th>\n      <th>Source_file</th>\n      <th>Annotator</th>\n      <th>Aspect</th>\n    </tr>\n  </thead>\n  <tbody>\n    <tr>\n      <th>4542</th>\n      <td>0</td>\n      <td>Anonymous</td>\n      <td>964</td>\n      <td>2</td>\n      <td>9</td>\n      <td>0</td>\n      <td>f</td>\n      <td>g</td>\n      <td>The thing with organic farming is that one nee...</td>\n      <td>quora.json</td>\n      <td>sebastian</td>\n      <td>f-g</td>\n    </tr>\n    <tr>\n      <th>1483</th>\n      <td>Iida-Ruishalme</td>\n      <td>Iida Ruishalme</td>\n      <td>1699</td>\n      <td>18</td>\n      <td>0</td>\n      <td>NaN</td>\n      <td>NaN</td>\n      <td>NaN</td>\n      <td>Pesticides all have to be some kind of chemica...</td>\n      <td>quora.json</td>\n      <td>felix</td>\n      <td>nan-nan</td>\n    </tr>\n    <tr>\n      <th>1070</th>\n      <td>Justine-Kimball</td>\n      <td>Justine Kimball</td>\n      <td>123</td>\n      <td>4</td>\n      <td>9</td>\n      <td>p</td>\n      <td>c</td>\n      <td>h</td>\n      <td>That said, I love Whole Foods and their effort...</td>\n      <td>quora.json</td>\n      <td>hannah</td>\n      <td>c-h</td>\n    </tr>\n    <tr>\n      <th>5679</th>\n      <td>Shellie-Bowdoin</td>\n      <td>Shellie Bowdoin</td>\n      <td>941</td>\n      <td>5</td>\n      <td>0</td>\n      <td>NaN</td>\n      <td>NaN</td>\n      <td>NaN</td>\n      <td>Unfortunately, there are a lot of hidden eleme...</td>\n      <td>quora.json</td>\n      <td>sebastian</td>\n      <td>nan-nan</td>\n    </tr>\n    <tr>\n      <th>7153</th>\n      <td>Craig-Good</td>\n      <td>Craig Good</td>\n      <td>1240</td>\n      <td>1</td>\n      <td>9</td>\n      <td>0</td>\n      <td>p</td>\n      <td>g</td>\n      <td>Maybe, but not because they’re organic.</td>\n      <td>quora.json</td>\n      <td>florian</td>\n      <td>p-g</td>\n    </tr>\n  </tbody>\n</table>\n</div>"
     },
     "execution_count": 3,
     "metadata": {},
     "output_type": "execute_result"
    }
   ],
   "source": [
    "%%time\n",
    "df = pd.read_csv('../dataframe.csv', sep='|', names = header_columns)\n",
    "print(len(df))\n",
    "df.sample(5)"
   ]
  },
  {
   "cell_type": "code",
   "execution_count": 4,
   "metadata": {},
   "outputs": [
    {
     "name": "stdout",
     "output_type": "stream",
     "text": [
      "4687\n"
     ]
    },
    {
     "data": {
      "text/plain": "             Author_ID   Author_name Comment_number Sentence_number  \\\n1209        Kari-Lloyd    Kari Lloyd            772              16   \n5010      Ryan-Carlyle  Ryan Carlyle            751               2   \n6361  Seema-Sharma-246  Seema Sharma           1322               6   \n7886                 0     Anonymous           1610               1   \n4818           Anju-95          Anju             29               2   \n\n     Domain_Relevance Sentiment Entity Attribute  \\\n1209                9         p      p         h   \n5010                9         n      p         q   \n6361                9         n      g         g   \n7886                9         p      p         h   \n4818                9         p      p        av   \n\n                                               Sentence Source_file Annotator  \\\n1209  Organic grains, beans and pastas all make quic...  quora.json   sarthak   \n5010  I worked in a grocery store produce department...  quora.json   sarthak   \n6361  At this point of time, organic foods were defi...  quora.json   florian   \n7886  A well-balanced organic cat food diet ensures ...  quora.json      omar   \n4818  People can buy the varieties of unpolished and...  quora.json    hannah   \n\n     Aspect  \n1209    p-h  \n5010    p-q  \n6361    g-g  \n7886    p-h  \n4818   p-av  ",
      "text/html": "<div>\n<style scoped>\n    .dataframe tbody tr th:only-of-type {\n        vertical-align: middle;\n    }\n\n    .dataframe tbody tr th {\n        vertical-align: top;\n    }\n\n    .dataframe thead th {\n        text-align: right;\n    }\n</style>\n<table border=\"1\" class=\"dataframe\">\n  <thead>\n    <tr style=\"text-align: right;\">\n      <th></th>\n      <th>Author_ID</th>\n      <th>Author_name</th>\n      <th>Comment_number</th>\n      <th>Sentence_number</th>\n      <th>Domain_Relevance</th>\n      <th>Sentiment</th>\n      <th>Entity</th>\n      <th>Attribute</th>\n      <th>Sentence</th>\n      <th>Source_file</th>\n      <th>Annotator</th>\n      <th>Aspect</th>\n    </tr>\n  </thead>\n  <tbody>\n    <tr>\n      <th>1209</th>\n      <td>Kari-Lloyd</td>\n      <td>Kari Lloyd</td>\n      <td>772</td>\n      <td>16</td>\n      <td>9</td>\n      <td>p</td>\n      <td>p</td>\n      <td>h</td>\n      <td>Organic grains, beans and pastas all make quic...</td>\n      <td>quora.json</td>\n      <td>sarthak</td>\n      <td>p-h</td>\n    </tr>\n    <tr>\n      <th>5010</th>\n      <td>Ryan-Carlyle</td>\n      <td>Ryan Carlyle</td>\n      <td>751</td>\n      <td>2</td>\n      <td>9</td>\n      <td>n</td>\n      <td>p</td>\n      <td>q</td>\n      <td>I worked in a grocery store produce department...</td>\n      <td>quora.json</td>\n      <td>sarthak</td>\n      <td>p-q</td>\n    </tr>\n    <tr>\n      <th>6361</th>\n      <td>Seema-Sharma-246</td>\n      <td>Seema Sharma</td>\n      <td>1322</td>\n      <td>6</td>\n      <td>9</td>\n      <td>n</td>\n      <td>g</td>\n      <td>g</td>\n      <td>At this point of time, organic foods were defi...</td>\n      <td>quora.json</td>\n      <td>florian</td>\n      <td>g-g</td>\n    </tr>\n    <tr>\n      <th>7886</th>\n      <td>0</td>\n      <td>Anonymous</td>\n      <td>1610</td>\n      <td>1</td>\n      <td>9</td>\n      <td>p</td>\n      <td>p</td>\n      <td>h</td>\n      <td>A well-balanced organic cat food diet ensures ...</td>\n      <td>quora.json</td>\n      <td>omar</td>\n      <td>p-h</td>\n    </tr>\n    <tr>\n      <th>4818</th>\n      <td>Anju-95</td>\n      <td>Anju</td>\n      <td>29</td>\n      <td>2</td>\n      <td>9</td>\n      <td>p</td>\n      <td>p</td>\n      <td>av</td>\n      <td>People can buy the varieties of unpolished and...</td>\n      <td>quora.json</td>\n      <td>hannah</td>\n      <td>p-av</td>\n    </tr>\n  </tbody>\n</table>\n</div>"
     },
     "execution_count": 4,
     "metadata": {},
     "output_type": "execute_result"
    }
   ],
   "source": [
    "# taking only relvant\n",
    "df_relevant = df.loc[df['Domain_Relevance'] == '9']\n",
    "print(len(df_relevant))\n",
    "df_relevant.sample(5)"
   ]
  },
  {
   "cell_type": "code",
   "execution_count": 5,
   "metadata": {},
   "outputs": [],
   "source": [
    "# lemmatize and stop word\n",
    "lemmatize = True\n",
    "remove_stopwords = True\n",
    "\n",
    "if lemmatize:\n",
    "    lemmatizer = WordNetLemmatizer()\n",
    "else:\n",
    "    lemmatizer = None\n",
    "\n",
    "if remove_stopwords:\n",
    "    stop_words = set(stopwords.words('english'))\n",
    "else:\n",
    "    stop_words = set()"
   ]
  },
  {
   "cell_type": "code",
   "execution_count": 6,
   "metadata": {},
   "outputs": [],
   "source": [
    "token_pattern = re.compile(r'(?u)\\b\\w\\w+\\b')"
   ]
  },
  {
   "cell_type": "code",
   "execution_count": 7,
   "metadata": {},
   "outputs": [
    {
     "name": "stdout",
     "output_type": "stream",
     "text": [
      "['g', 'p', 't', 'q', 's', 'h', 'c', 'll', 'or', 'l', 'av', 'e', 'a', 'pp']\n",
      "{'g': [], 'p': [], 't': [], 'q': [], 's': [], 'h': [], 'c': [], 'll': [], 'or': [], 'l': [], 'av': [], 'e': [], 'a': [], 'pp': []}\n"
     ]
    }
   ],
   "source": [
    "# taking aspects to be attributes\n",
    "aspects = attribute_classes\n",
    "print(aspects)\n",
    "\n",
    "# a dictionary of aspects and segments associated with that aspect\n",
    "aspect_segments = dict([(aspect, []) for aspect in aspects])\n",
    "print(aspect_segments)\n",
    "\n",
    "# a list for all segments\n",
    "all_segs = []\n"
   ]
  },
  {
   "cell_type": "code",
   "execution_count": 8,
   "outputs": [
    {
     "name": "stdout",
     "output_type": "stream",
     "text": [
      "['g', 'p', 'eq', 'sh', 'ts', 'e']\n",
      "{'g': [], 'p': [], 'eq': [], 'sh': [], 'ts': [], 'e': []}\n"
     ]
    }
   ],
   "source": [
    "# for coarse aspects\n",
    "# taking coarse aspects to be attributes\n",
    "coarse_aspects = coarse_attributes_classes\n",
    "print(coarse_aspects)\n",
    "# a dictionary of aspects and segments associated with that aspect\n",
    "coarse_aspect_segments = dict([(aspect, []) for aspect in coarse_aspects])\n",
    "print(coarse_aspect_segments)\n"
   ],
   "metadata": {
    "collapsed": false,
    "pycharm": {
     "name": "#%%\n"
    }
   }
  },
  {
   "cell_type": "code",
   "execution_count": 9,
   "metadata": {},
   "outputs": [],
   "source": [
    "# labelling scheme of annotated dataset round 3\n",
    "df_asp = pd.read_excel('../Labeling Workshop_updated_18-10-19.xlsx', sheet_name='Labeling Scheme')\n",
    "\n",
    "# a dictionary with aspect codes and its labels\n",
    "asp_meaning = {}\n",
    "for index, row in df_asp.iterrows():\n",
    "    if(row[0] == 'attribute'):\n",
    "        asp_meaning[row[1]] = row[2]\n",
    "#pprint(asp_meaning, sort_dicts= False)"
   ]
  },
  {
   "cell_type": "code",
   "execution_count": 20,
   "outputs": [],
   "source": [
    "#for coarse aspects\n",
    "coarse_asp_meaning={'g':'general', 'p':'price', 'eq':'experienced quality', 'sh':'safety and healthiness','ts':'trustworthy sources','e':'environment'}\n"
   ],
   "metadata": {
    "collapsed": false,
    "pycharm": {
     "name": "#%%\n"
    }
   }
  },
  {
   "cell_type": "code",
   "execution_count": 28,
   "metadata": {},
   "outputs": [
    {
     "name": "stdout",
     "output_type": "stream",
     "text": [
      "['innate chicken disease prone raised', 'look healthy factory farmed chicken free range chicken factory farmed bird crowded living others defecation', 'achieve number packed tight space', 'certainly better tight cage disease still huge problem nature many chicken would area', 'think meat chicken used killed co2 gas breaking neck let call recently added maceration form euthanasia newly born chicken', 'think people think organic meat automatically humanely raised meat', 'someone grew farm find people awareness modern farming method abysmal', 'example recently came hen certain type free range enviroments actually worse battery hen', 'example recently came hen certain type free range enviroments actually worse battery hen', 'packed shed within legal minimum called free range enough room roam healthily become stressed attack one another', 'another good reason eating organic food ethical reason', 'lastly ethic concerning treatment factory farmed animal', 'many vegitarians vegan could probably list many book website explain show horrific thing take place factory place farm mass produce beef pork chicken etc neither compare organic animal husbandry practice', 'conventional egg production chicken life entire life tiny cage typically cage often two year enforce slaughtered chick stock dog food', 'often lose feather due stress disease always live two year', 'life meat chicken much better', 'breed chicken used meat typically bread large possible', 'mean grow full potential get heavy leg carry leg break', 'chicken live thousand cramped together huge hall', 'pretty much living top', 'pork beef industry much better either', 'go animal live tiny cage get fed cheapest possible food', 'due proneness catching disease weaned early live close together get pumped full antibiotic turn create superbug cannot killed', 'organic farming hand treat animal treat nature consideration', 'animal treated better considering feed space roam often outside spend whole life cage without even seeing sky companionship mean animal often stay mother longer live milk', 'lot benifits regarding creature health', 'belief breed creature sole purpose eating ethical path treat right make sure decent life treated respect kill', 'buy mostly organic want increase animal welfare stricter regulation treatment animal danish equivalent organic avoid spreading pesticide certain type fertilizer overuse antibiotic etc', 'buy mostly organic want increase animal welfare stricter regulation treatment animal danish equivalent organic avoid spreading pesticide certain type fertilizer overuse antibiotic etc', 'large majority cow u anyway fed corn point point life', 'corn silage lot fiber energy form starch microbe cow rumen use conjunction protein sugar make milk keep cow blood urea level check', 'kind deal', 'plant pasture mix combine nutrient important cow microbe would complete feed needing supplemental corn', 'yes always easiest thing host reason', 'cow absolute minimum access pasture shoveled massive pile organic corn feed rather conventional corn feed', 'fair trade partly organic way ban certain nasty pesticide etc many also high animal welfare standard', 'fear modernity love planet specie call home although would rather live without bedbug', 'addition animal given space move around access outdoors help keep animal healthy', 'legitimate illness prevention organic offer specifically sense explicit requirement organic meat livestock feed cannot contain animal byproduct thereby reduces risk mad cow disease really nothing else explicitly tie organic food', 'degree correlation organic lower incidence cruel treatment livestock', 'debatable much related political image maintenance organic food much merely possible since organic still smaller subset overall food market', 'yes care much buy believe using power consumer support local agriculture reduce pesticide fossil fuel use support cruel factory farming practice', 'winner good dairy award award recognises farm higher welfare standard cow calf', 'animal welfare animal welfare important aspect producing organic milk organic meat organic poultry organic fish', 'people feel happy animal confined miserable caged life eat organic animal product', 'organic livestock raised meat egg dairy product must access outdoors given organic feed', 'practice dying detrimental cow expensive', 'think fair say cow organic system treated humanely', 'cow conventional system abused allowed freedom pasture raised cow', 'cruel keep animal cage life', 'example non organic fruit vegetable normally sprayed chemical pesticide reduce crop spoilage non organic animal routinely fed antibiotic growth hormone make ready slaughter unnaturally short time frame', 'germany european country similar main difference type feed allowed minimum area way area equipped access outdoors per chicken required type amount pharmaceutical allowed facility chicken kept must designed allow engage natural behaviour like roosting digging taking sand bath roaming around', 'need access outdoor pasture least third time allowed uninterrupted rest period without artificial light eight hour per day', 'maximum amount chicken per coop 3000 six per m² still many little space imho better form industrial egg production', 'coop need permanently admit fresh air natural light', 'sum buy egg europe except local farmer chicken kept small number even space small shell certificate higher standard treatment chicken well worth least', 'help make keeping chicken worse condition unviable business model', 'help make keeping chicken worse condition unviable business model', 'organic definitely better wildlife worth paying extra imo', 'organically raised animal given antibiotic growth hormone fed animal byproduct', 'come meat etc also feel little ease conscience organic livestock required access outdoors', 'know egg organic cage free actually coming hen hen house half pecked death bos hen terrible death human allowed stop abusive pecking death required make living condition hen exactly would like wild', 'depends organic principal want land animal healthy clean possable want spread organic message', 'organic production may holistic system designed optimize productivity fitness numerous community inside agro ecosystem together soil organism plant placental mammal people', 'zero difference taste health organic food real organic food substantially better wildlife live field vegetable grown', 'would also argue organic animal husbandry equal cruelty', 'definition organic meat poultry egg dairy product come animal given antibiotic growth hormone', 'well nourished plant turn offer nutrient animal human eat plant', 'organic livestock must access outdoors given organic feed', 'may given antibiotic growth hormone animal product', 'deeper sense term growing popularity organic food reflects desire many people eat food grown responsibly thoughtfully among thing might involve care animal well care people work concern happens downstream farm interest building maintaining dynamic sustainable rural community desire create system agriculture endure indefinite future since current system industrial agriculture cannot', 'get growing organic food concerned health quality carrot egg rather process strives build health bigger way soil farmer farm animal wild animal farmer community consumer relies biodiversity general earth sake various ecological service provides pollinator sort beneficial insect people', 'preference animal fed natural feed cow naturally eat grass corn', 'organic necessarily mean animal treated humanely free roam around', 'ideally probably want chicken go peck live healthy life guarantee organic food', 'one hand cow organic herd post calving infection need antibiotic must removed herd forever', 'animal fed pesticide laden gmo crap plus absence added hormone antibiotic contribute fair share problem disease', 'mean healthier animal artificially bulked bring market faster', 'usa includes ensuring cow fed organically grown feed mean pesticide fertilizer', 'new rule ensure cow kept outside pasture certain period time fed certain amount grass natural diet instead grain common feed', 'source usda imposes new standard milk qualify organic necessarily good cow pasture deadly wrong climate overly rainy cold one', 'giving cow antibiotic great reducing antibiotic resistance caused medication downright cruel cow genuinely sick antibiotic would cure', 'requirement organic food strict necessarily cow best interest question current factory farming fun cow', 'non organic milk rbst free might mean farm cow raised caring cow well cannot quite meet requirement', 'let say care cow care health', 'comparison humanely raising animal animal health', 'ethical issue human health issue', 'many people aware care worry life animal eat many people concerned health', 'substituting organic animal product conventional one without drastic reduction consumption clearly reasonable large scale plan', 'importantly organic farming giving guilt free feeling come treatment animal plant involved', 'one cow fed organic pesticide feed given routine anti biotics', 'antibiotic daily feed mean fed mainly grass much healthier corn fed cow get highly acidic get sort sore ulcer nasty stuff anti biotics daily feed', 'rbst help one reason overfeed cow corn pump artificial hormone get milk', 'hormone le feed le sore disease milk cow milk', 'fish farmed sea conventional fish farm fish space swim', 'organic meat come certified farm chemicles put land fertilise animal eaten reared organic cow pig lamb veal reared feed containing chemicles neither given antibiotic', 'example according organic trade association dairy product considered organic animal treated humanely many non organic kind fed organic feed given preventative antibiotic hormone', 'labor transportation cost distribution chain le food production health risk farmer environmental enhancement protection example higher price organic cash crop compensate low financial return rotational period necessary build soil fertility higher standard animal welfare credit food agriculture organization united nation', 'let see way le toxin artificial pesticide fertilizer heavy metal herbicide pollution related substance gmos growth hormone animal growing decent condition enough space sunlight animal eating organic food much enough incentive imo', 'sure worse denying animal modern medicine shallow selfrighteous ideal espousing ideal decrying conventional farming practice simply sake projecting false image', 'sound like exercise trying make human feel better rather making milk healthy efficient manner', 'organic egg production production egg organic mean', 'process poultry fed organic feed', 'according united state department agriculture organic mean laying hen must access outdoors cannot raised cage', 'innate chicken disease prone raised', 'look healthy factory farmed chicken free range chicken factory farmed bird crowded living others defecation', 'achieve number packed tight space', 'certainly better tight cage disease still huge problem nature many chicken would area', 'think meat chicken used killed co2 gas breaking neck let call recently added maceration form euthanasia newly born chicken', 'think people think organic meat automatically humanely raised meat', 'someone grew farm find people awareness modern farming method abysmal', 'example recently came hen certain type free range enviroments actually worse battery hen', 'example recently came hen certain type free range enviroments actually worse battery hen', 'packed shed within legal minimum called free range enough room roam healthily become stressed attack one another', 'another good reason eating organic food ethical reason', 'lastly ethic concerning treatment factory farmed animal', 'many vegitarians vegan could probably list many book website explain show horrific thing take place factory place farm mass produce beef pork chicken etc neither compare organic animal husbandry practice', 'conventional egg production chicken life entire life tiny cage typically cage often two year enforce slaughtered chick stock dog food', 'often lose feather due stress disease always live two year', 'life meat chicken much better', 'breed chicken used meat typically bread large possible', 'mean grow full potential get heavy leg carry leg break', 'chicken live thousand cramped together huge hall', 'pretty much living top', 'pork beef industry much better either', 'go animal live tiny cage get fed cheapest possible food', 'due proneness catching disease weaned early live close together get pumped full antibiotic turn create superbug cannot killed', 'organic farming hand treat animal treat nature consideration', 'animal treated better considering feed space roam often outside spend whole life cage without even seeing sky companionship mean animal often stay mother longer live milk', 'lot benifits regarding creature health', 'belief breed creature sole purpose eating ethical path treat right make sure decent life treated respect kill', 'buy mostly organic want increase animal welfare stricter regulation treatment animal danish equivalent organic avoid spreading pesticide certain type fertilizer overuse antibiotic etc', 'buy mostly organic want increase animal welfare stricter regulation treatment animal danish equivalent organic avoid spreading pesticide certain type fertilizer overuse antibiotic etc', 'large majority cow u anyway fed corn point point life', 'corn silage lot fiber energy form starch microbe cow rumen use conjunction protein sugar make milk keep cow blood urea level check', 'kind deal', 'plant pasture mix combine nutrient important cow microbe would complete feed needing supplemental corn', 'yes always easiest thing host reason', 'cow absolute minimum access pasture shoveled massive pile organic corn feed rather conventional corn feed', 'fair trade partly organic way ban certain nasty pesticide etc many also high animal welfare standard', 'fear modernity love planet specie call home although would rather live without bedbug', 'addition animal given space move around access outdoors help keep animal healthy', 'legitimate illness prevention organic offer specifically sense explicit requirement organic meat livestock feed cannot contain animal byproduct thereby reduces risk mad cow disease really nothing else explicitly tie organic food', 'degree correlation organic lower incidence cruel treatment livestock', 'debatable much related political image maintenance organic food much merely possible since organic still smaller subset overall food market', 'yes care much buy believe using power consumer support local agriculture reduce pesticide fossil fuel use support cruel factory farming practice', 'winner good dairy award award recognises farm higher welfare standard cow calf', 'animal welfare animal welfare important aspect producing organic milk organic meat organic poultry organic fish', 'people feel happy animal confined miserable caged life eat organic animal product', 'organic livestock raised meat egg dairy product must access outdoors given organic feed', 'practice dying detrimental cow expensive', 'think fair say cow organic system treated humanely', 'cow conventional system abused allowed freedom pasture raised cow', 'cruel keep animal cage life', 'example non organic fruit vegetable normally sprayed chemical pesticide reduce crop spoilage non organic animal routinely fed antibiotic growth hormone make ready slaughter unnaturally short time frame', 'germany european country similar main difference type feed allowed minimum area way area equipped access outdoors per chicken required type amount pharmaceutical allowed facility chicken kept must designed allow engage natural behaviour like roosting digging taking sand bath roaming around', 'need access outdoor pasture least third time allowed uninterrupted rest period without artificial light eight hour per day', 'maximum amount chicken per coop 3000 six per m² still many little space imho better form industrial egg production', 'coop need permanently admit fresh air natural light', 'sum buy egg europe except local farmer chicken kept small number even space small shell certificate higher standard treatment chicken well worth least', 'help make keeping chicken worse condition unviable business model', 'help make keeping chicken worse condition unviable business model', 'organic definitely better wildlife worth paying extra imo', 'organically raised animal given antibiotic growth hormone fed animal byproduct', 'come meat etc also feel little ease conscience organic livestock required access outdoors', 'know egg organic cage free actually coming hen hen house half pecked death bos hen terrible death human allowed stop abusive pecking death required make living condition hen exactly would like wild', 'depends organic principal want land animal healthy clean possable want spread organic message', 'organic production may holistic system designed optimize productivity fitness numerous community inside agro ecosystem together soil organism plant placental mammal people', 'zero difference taste health organic food real organic food substantially better wildlife live field vegetable grown', 'would also argue organic animal husbandry equal cruelty', 'definition organic meat poultry egg dairy product come animal given antibiotic growth hormone', 'well nourished plant turn offer nutrient animal human eat plant', 'organic livestock must access outdoors given organic feed', 'may given antibiotic growth hormone animal product', 'deeper sense term growing popularity organic food reflects desire many people eat food grown responsibly thoughtfully among thing might involve care animal well care people work concern happens downstream farm interest building maintaining dynamic sustainable rural community desire create system agriculture endure indefinite future since current system industrial agriculture cannot', 'get growing organic food concerned health quality carrot egg rather process strives build health bigger way soil farmer farm animal wild animal farmer community consumer relies biodiversity general earth sake various ecological service provides pollinator sort beneficial insect people', 'preference animal fed natural feed cow naturally eat grass corn', 'organic necessarily mean animal treated humanely free roam around', 'ideally probably want chicken go peck live healthy life guarantee organic food', 'one hand cow organic herd post calving infection need antibiotic must removed herd forever', 'animal fed pesticide laden gmo crap plus absence added hormone antibiotic contribute fair share problem disease', 'mean healthier animal artificially bulked bring market faster', 'usa includes ensuring cow fed organically grown feed mean pesticide fertilizer', 'new rule ensure cow kept outside pasture certain period time fed certain amount grass natural diet instead grain common feed', 'source usda imposes new standard milk qualify organic necessarily good cow pasture deadly wrong climate overly rainy cold one', 'giving cow antibiotic great reducing antibiotic resistance caused medication downright cruel cow genuinely sick antibiotic would cure', 'requirement organic food strict necessarily cow best interest question current factory farming fun cow', 'non organic milk rbst free might mean farm cow raised caring cow well cannot quite meet requirement', 'let say care cow care health', 'comparison humanely raising animal animal health', 'ethical issue human health issue', 'many people aware care worry life animal eat many people concerned health', 'substituting organic animal product conventional one without drastic reduction consumption clearly reasonable large scale plan', 'importantly organic farming giving guilt free feeling come treatment animal plant involved', 'one cow fed organic pesticide feed given routine anti biotics', 'antibiotic daily feed mean fed mainly grass much healthier corn fed cow get highly acidic get sort sore ulcer nasty stuff anti biotics daily feed', 'rbst help one reason overfeed cow corn pump artificial hormone get milk', 'hormone le feed le sore disease milk cow milk', 'fish farmed sea conventional fish farm fish space swim', 'organic meat come certified farm chemicles put land fertilise animal eaten reared organic cow pig lamb veal reared feed containing chemicles neither given antibiotic', 'example according organic trade association dairy product considered organic animal treated humanely many non organic kind fed organic feed given preventative antibiotic hormone', 'labor transportation cost distribution chain le food production health risk farmer environmental enhancement protection example higher price organic cash crop compensate low financial return rotational period necessary build soil fertility higher standard animal welfare credit food agriculture organization united nation', 'let see way le toxin artificial pesticide fertilizer heavy metal herbicide pollution related substance gmos growth hormone animal growing decent condition enough space sunlight animal eating organic food much enough incentive imo', 'sure worse denying animal modern medicine shallow selfrighteous ideal espousing ideal decrying conventional farming practice simply sake projecting false image', 'sound like exercise trying make human feel better rather making milk healthy efficient manner', 'organic egg production production egg organic mean', 'process poultry fed organic feed', 'according united state department agriculture organic mean laying hen must access outdoors cannot raised cage', 'innate chicken disease prone raised', 'look healthy factory farmed chicken free range chicken factory farmed bird crowded living others defecation', 'achieve number packed tight space', 'certainly better tight cage disease still huge problem nature many chicken would area', 'think meat chicken used killed co2 gas breaking neck let call recently added maceration form euthanasia newly born chicken', 'think people think organic meat automatically humanely raised meat', 'someone grew farm find people awareness modern farming method abysmal', 'example recently came hen certain type free range enviroments actually worse battery hen', 'example recently came hen certain type free range enviroments actually worse battery hen', 'packed shed within legal minimum called free range enough room roam healthily become stressed attack one another', 'another good reason eating organic food ethical reason', 'lastly ethic concerning treatment factory farmed animal', 'many vegitarians vegan could probably list many book website explain show horrific thing take place factory place farm mass produce beef pork chicken etc neither compare organic animal husbandry practice', 'conventional egg production chicken life entire life tiny cage typically cage often two year enforce slaughtered chick stock dog food', 'often lose feather due stress disease always live two year', 'life meat chicken much better', 'breed chicken used meat typically bread large possible', 'mean grow full potential get heavy leg carry leg break', 'chicken live thousand cramped together huge hall', 'pretty much living top', 'pork beef industry much better either', 'go animal live tiny cage get fed cheapest possible food', 'due proneness catching disease weaned early live close together get pumped full antibiotic turn create superbug cannot killed', 'organic farming hand treat animal treat nature consideration', 'animal treated better considering feed space roam often outside spend whole life cage without even seeing sky companionship mean animal often stay mother longer live milk', 'lot benifits regarding creature health', 'belief breed creature sole purpose eating ethical path treat right make sure decent life treated respect kill', 'buy mostly organic want increase animal welfare stricter regulation treatment animal danish equivalent organic avoid spreading pesticide certain type fertilizer overuse antibiotic etc', 'buy mostly organic want increase animal welfare stricter regulation treatment animal danish equivalent organic avoid spreading pesticide certain type fertilizer overuse antibiotic etc', 'large majority cow u anyway fed corn point point life', 'corn silage lot fiber energy form starch microbe cow rumen use conjunction protein sugar make milk keep cow blood urea level check', 'kind deal', 'plant pasture mix combine nutrient important cow microbe would complete feed needing supplemental corn', 'yes always easiest thing host reason', 'cow absolute minimum access pasture shoveled massive pile organic corn feed rather conventional corn feed', 'fair trade partly organic way ban certain nasty pesticide etc many also high animal welfare standard', 'fear modernity love planet specie call home although would rather live without bedbug', 'addition animal given space move around access outdoors help keep animal healthy', 'legitimate illness prevention organic offer specifically sense explicit requirement organic meat livestock feed cannot contain animal byproduct thereby reduces risk mad cow disease really nothing else explicitly tie organic food', 'degree correlation organic lower incidence cruel treatment livestock', 'debatable much related political image maintenance organic food much merely possible since organic still smaller subset overall food market', 'yes care much buy believe using power consumer support local agriculture reduce pesticide fossil fuel use support cruel factory farming practice', 'winner good dairy award award recognises farm higher welfare standard cow calf', 'animal welfare animal welfare important aspect producing organic milk organic meat organic poultry organic fish', 'people feel happy animal confined miserable caged life eat organic animal product', 'organic livestock raised meat egg dairy product must access outdoors given organic feed', 'practice dying detrimental cow expensive', 'think fair say cow organic system treated humanely', 'cow conventional system abused allowed freedom pasture raised cow', 'cruel keep animal cage life', 'example non organic fruit vegetable normally sprayed chemical pesticide reduce crop spoilage non organic animal routinely fed antibiotic growth hormone make ready slaughter unnaturally short time frame', 'germany european country similar main difference type feed allowed minimum area way area equipped access outdoors per chicken required type amount pharmaceutical allowed facility chicken kept must designed allow engage natural behaviour like roosting digging taking sand bath roaming around', 'need access outdoor pasture least third time allowed uninterrupted rest period without artificial light eight hour per day', 'maximum amount chicken per coop 3000 six per m² still many little space imho better form industrial egg production', 'coop need permanently admit fresh air natural light', 'sum buy egg europe except local farmer chicken kept small number even space small shell certificate higher standard treatment chicken well worth least', 'help make keeping chicken worse condition unviable business model', 'help make keeping chicken worse condition unviable business model', 'organic definitely better wildlife worth paying extra imo', 'organically raised animal given antibiotic growth hormone fed animal byproduct', 'come meat etc also feel little ease conscience organic livestock required access outdoors', 'know egg organic cage free actually coming hen hen house half pecked death bos hen terrible death human allowed stop abusive pecking death required make living condition hen exactly would like wild', 'depends organic principal want land animal healthy clean possable want spread organic message', 'organic production may holistic system designed optimize productivity fitness numerous community inside agro ecosystem together soil organism plant placental mammal people', 'zero difference taste health organic food real organic food substantially better wildlife live field vegetable grown', 'would also argue organic animal husbandry equal cruelty', 'definition organic meat poultry egg dairy product come animal given antibiotic growth hormone', 'well nourished plant turn offer nutrient animal human eat plant', 'organic livestock must access outdoors given organic feed', 'may given antibiotic growth hormone animal product', 'deeper sense term growing popularity organic food reflects desire many people eat food grown responsibly thoughtfully among thing might involve care animal well care people work concern happens downstream farm interest building maintaining dynamic sustainable rural community desire create system agriculture endure indefinite future since current system industrial agriculture cannot', 'get growing organic food concerned health quality carrot egg rather process strives build health bigger way soil farmer farm animal wild animal farmer community consumer relies biodiversity general earth sake various ecological service provides pollinator sort beneficial insect people', 'preference animal fed natural feed cow naturally eat grass corn', 'organic necessarily mean animal treated humanely free roam around', 'ideally probably want chicken go peck live healthy life guarantee organic food', 'one hand cow organic herd post calving infection need antibiotic must removed herd forever', 'animal fed pesticide laden gmo crap plus absence added hormone antibiotic contribute fair share problem disease', 'mean healthier animal artificially bulked bring market faster', 'usa includes ensuring cow fed organically grown feed mean pesticide fertilizer', 'new rule ensure cow kept outside pasture certain period time fed certain amount grass natural diet instead grain common feed', 'source usda imposes new standard milk qualify organic necessarily good cow pasture deadly wrong climate overly rainy cold one', 'giving cow antibiotic great reducing antibiotic resistance caused medication downright cruel cow genuinely sick antibiotic would cure', 'requirement organic food strict necessarily cow best interest question current factory farming fun cow', 'non organic milk rbst free might mean farm cow raised caring cow well cannot quite meet requirement', 'let say care cow care health', 'comparison humanely raising animal animal health', 'ethical issue human health issue', 'many people aware care worry life animal eat many people concerned health', 'substituting organic animal product conventional one without drastic reduction consumption clearly reasonable large scale plan', 'importantly organic farming giving guilt free feeling come treatment animal plant involved', 'one cow fed organic pesticide feed given routine anti biotics', 'antibiotic daily feed mean fed mainly grass much healthier corn fed cow get highly acidic get sort sore ulcer nasty stuff anti biotics daily feed', 'rbst help one reason overfeed cow corn pump artificial hormone get milk', 'hormone le feed le sore disease milk cow milk', 'fish farmed sea conventional fish farm fish space swim', 'organic meat come certified farm chemicles put land fertilise animal eaten reared organic cow pig lamb veal reared feed containing chemicles neither given antibiotic', 'example according organic trade association dairy product considered organic animal treated humanely many non organic kind fed organic feed given preventative antibiotic hormone', 'labor transportation cost distribution chain le food production health risk farmer environmental enhancement protection example higher price organic cash crop compensate low financial return rotational period necessary build soil fertility higher standard animal welfare credit food agriculture organization united nation', 'let see way le toxin artificial pesticide fertilizer heavy metal herbicide pollution related substance gmos growth hormone animal growing decent condition enough space sunlight animal eating organic food much enough incentive imo', 'sure worse denying animal modern medicine shallow selfrighteous ideal espousing ideal decrying conventional farming practice simply sake projecting false image', 'sound like exercise trying make human feel better rather making milk healthy efficient manner', 'organic egg production production egg organic mean', 'process poultry fed organic feed', 'according united state department agriculture organic mean laying hen must access outdoors cannot raised cage', 'innate chicken disease prone raised', 'look healthy factory farmed chicken free range chicken factory farmed bird crowded living others defecation', 'achieve number packed tight space', 'certainly better tight cage disease still huge problem nature many chicken would area', 'think meat chicken used killed co2 gas breaking neck let call recently added maceration form euthanasia newly born chicken', 'think people think organic meat automatically humanely raised meat', 'someone grew farm find people awareness modern farming method abysmal', 'example recently came hen certain type free range enviroments actually worse battery hen', 'example recently came hen certain type free range enviroments actually worse battery hen', 'packed shed within legal minimum called free range enough room roam healthily become stressed attack one another', 'another good reason eating organic food ethical reason', 'lastly ethic concerning treatment factory farmed animal', 'many vegitarians vegan could probably list many book website explain show horrific thing take place factory place farm mass produce beef pork chicken etc neither compare organic animal husbandry practice', 'conventional egg production chicken life entire life tiny cage typically cage often two year enforce slaughtered chick stock dog food', 'often lose feather due stress disease always live two year', 'life meat chicken much better', 'breed chicken used meat typically bread large possible', 'mean grow full potential get heavy leg carry leg break', 'chicken live thousand cramped together huge hall', 'pretty much living top', 'pork beef industry much better either', 'go animal live tiny cage get fed cheapest possible food', 'due proneness catching disease weaned early live close together get pumped full antibiotic turn create superbug cannot killed', 'organic farming hand treat animal treat nature consideration', 'animal treated better considering feed space roam often outside spend whole life cage without even seeing sky companionship mean animal often stay mother longer live milk', 'lot benifits regarding creature health', 'belief breed creature sole purpose eating ethical path treat right make sure decent life treated respect kill', 'buy mostly organic want increase animal welfare stricter regulation treatment animal danish equivalent organic avoid spreading pesticide certain type fertilizer overuse antibiotic etc', 'buy mostly organic want increase animal welfare stricter regulation treatment animal danish equivalent organic avoid spreading pesticide certain type fertilizer overuse antibiotic etc', 'large majority cow u anyway fed corn point point life', 'corn silage lot fiber energy form starch microbe cow rumen use conjunction protein sugar make milk keep cow blood urea level check', 'kind deal', 'plant pasture mix combine nutrient important cow microbe would complete feed needing supplemental corn', 'yes always easiest thing host reason', 'cow absolute minimum access pasture shoveled massive pile organic corn feed rather conventional corn feed', 'fair trade partly organic way ban certain nasty pesticide etc many also high animal welfare standard', 'fear modernity love planet specie call home although would rather live without bedbug', 'addition animal given space move around access outdoors help keep animal healthy', 'legitimate illness prevention organic offer specifically sense explicit requirement organic meat livestock feed cannot contain animal byproduct thereby reduces risk mad cow disease really nothing else explicitly tie organic food', 'degree correlation organic lower incidence cruel treatment livestock', 'debatable much related political image maintenance organic food much merely possible since organic still smaller subset overall food market', 'yes care much buy believe using power consumer support local agriculture reduce pesticide fossil fuel use support cruel factory farming practice', 'winner good dairy award award recognises farm higher welfare standard cow calf', 'animal welfare animal welfare important aspect producing organic milk organic meat organic poultry organic fish', 'people feel happy animal confined miserable caged life eat organic animal product', 'organic livestock raised meat egg dairy product must access outdoors given organic feed', 'practice dying detrimental cow expensive', 'think fair say cow organic system treated humanely', 'cow conventional system abused allowed freedom pasture raised cow', 'cruel keep animal cage life', 'example non organic fruit vegetable normally sprayed chemical pesticide reduce crop spoilage non organic animal routinely fed antibiotic growth hormone make ready slaughter unnaturally short time frame', 'germany european country similar main difference type feed allowed minimum area way area equipped access outdoors per chicken required type amount pharmaceutical allowed facility chicken kept must designed allow engage natural behaviour like roosting digging taking sand bath roaming around', 'need access outdoor pasture least third time allowed uninterrupted rest period without artificial light eight hour per day', 'maximum amount chicken per coop 3000 six per m² still many little space imho better form industrial egg production', 'coop need permanently admit fresh air natural light', 'sum buy egg europe except local farmer chicken kept small number even space small shell certificate higher standard treatment chicken well worth least', 'help make keeping chicken worse condition unviable business model', 'help make keeping chicken worse condition unviable business model', 'organic definitely better wildlife worth paying extra imo', 'organically raised animal given antibiotic growth hormone fed animal byproduct', 'come meat etc also feel little ease conscience organic livestock required access outdoors', 'know egg organic cage free actually coming hen hen house half pecked death bos hen terrible death human allowed stop abusive pecking death required make living condition hen exactly would like wild', 'depends organic principal want land animal healthy clean possable want spread organic message', 'organic production may holistic system designed optimize productivity fitness numerous community inside agro ecosystem together soil organism plant placental mammal people', 'zero difference taste health organic food real organic food substantially better wildlife live field vegetable grown', 'would also argue organic animal husbandry equal cruelty', 'definition organic meat poultry egg dairy product come animal given antibiotic growth hormone', 'well nourished plant turn offer nutrient animal human eat plant', 'organic livestock must access outdoors given organic feed', 'may given antibiotic growth hormone animal product', 'deeper sense term growing popularity organic food reflects desire many people eat food grown responsibly thoughtfully among thing might involve care animal well care people work concern happens downstream farm interest building maintaining dynamic sustainable rural community desire create system agriculture endure indefinite future since current system industrial agriculture cannot', 'get growing organic food concerned health quality carrot egg rather process strives build health bigger way soil farmer farm animal wild animal farmer community consumer relies biodiversity general earth sake various ecological service provides pollinator sort beneficial insect people', 'preference animal fed natural feed cow naturally eat grass corn', 'organic necessarily mean animal treated humanely free roam around', 'ideally probably want chicken go peck live healthy life guarantee organic food', 'one hand cow organic herd post calving infection need antibiotic must removed herd forever', 'animal fed pesticide laden gmo crap plus absence added hormone antibiotic contribute fair share problem disease', 'mean healthier animal artificially bulked bring market faster', 'usa includes ensuring cow fed organically grown feed mean pesticide fertilizer', 'new rule ensure cow kept outside pasture certain period time fed certain amount grass natural diet instead grain common feed', 'source usda imposes new standard milk qualify organic necessarily good cow pasture deadly wrong climate overly rainy cold one', 'giving cow antibiotic great reducing antibiotic resistance caused medication downright cruel cow genuinely sick antibiotic would cure', 'requirement organic food strict necessarily cow best interest question current factory farming fun cow', 'non organic milk rbst free might mean farm cow raised caring cow well cannot quite meet requirement', 'let say care cow care health', 'comparison humanely raising animal animal health', 'ethical issue human health issue', 'many people aware care worry life animal eat many people concerned health', 'substituting organic animal product conventional one without drastic reduction consumption clearly reasonable large scale plan', 'importantly organic farming giving guilt free feeling come treatment animal plant involved', 'one cow fed organic pesticide feed given routine anti biotics', 'antibiotic daily feed mean fed mainly grass much healthier corn fed cow get highly acidic get sort sore ulcer nasty stuff anti biotics daily feed', 'rbst help one reason overfeed cow corn pump artificial hormone get milk', 'hormone le feed le sore disease milk cow milk', 'fish farmed sea conventional fish farm fish space swim', 'organic meat come certified farm chemicles put land fertilise animal eaten reared organic cow pig lamb veal reared feed containing chemicles neither given antibiotic', 'example according organic trade association dairy product considered organic animal treated humanely many non organic kind fed organic feed given preventative antibiotic hormone', 'labor transportation cost distribution chain le food production health risk farmer environmental enhancement protection example higher price organic cash crop compensate low financial return rotational period necessary build soil fertility higher standard animal welfare credit food agriculture organization united nation', 'let see way le toxin artificial pesticide fertilizer heavy metal herbicide pollution related substance gmos growth hormone animal growing decent condition enough space sunlight animal eating organic food much enough incentive imo', 'sure worse denying animal modern medicine shallow selfrighteous ideal espousing ideal decrying conventional farming practice simply sake projecting false image', 'sound like exercise trying make human feel better rather making milk healthy efficient manner', 'organic egg production production egg organic mean', 'process poultry fed organic feed', 'according united state department agriculture organic mean laying hen must access outdoors cannot raised cage']\n",
      "Wall time: 1.56 s\n"
     ]
    }
   ],
   "source": [
    "%%time\n",
    "for i, row in df_relevant.iterrows():  \n",
    "    if row['Attribute']!='NaN':\n",
    "        seg_body = row['Sentence']\n",
    "        seg_aspect = row['Attribute']\n",
    "        seg_words = [word for word in token_pattern.findall(seg_body.lower())\n",
    "                              if word not in stop_words]\n",
    "\n",
    "        if lemmatizer is not None:\n",
    "            seg_words = [lemmatizer.lemmatize(word) for word in seg_words]\n",
    "        # prepared segment\n",
    "        seg_prep = ' '.join(seg_words)\n",
    "        # add to aspect-segment dictionary\n",
    "        aspect_segments[seg_aspect].append(seg_prep)\n",
    "        # add to all segments list\n",
    "        all_segs.append(seg_prep)\n",
    "print(aspect_segments['a'])\n"
   ]
  },
  {
   "cell_type": "code",
   "execution_count": 31,
   "outputs": [
    {
     "name": "stdout",
     "output_type": "stream",
     "text": [
      "5256\n"
     ]
    }
   ],
   "source": [
    "# for coarse aspects\n",
    "# add to coarse aspects\n",
    "coarse_aspect_segments['g']=aspect_segments['g']\n",
    "coarse_aspect_segments['p']=aspect_segments['p']\n",
    "coarse_aspect_segments['eq']=aspect_segments['t'] + aspect_segments['q']\n",
    "coarse_aspect_segments['sh']=aspect_segments['s'] + aspect_segments['h'] + aspect_segments['c']\n",
    "coarse_aspect_segments['ts']=aspect_segments['ll'] + aspect_segments['or'] + aspect_segments['l'] + aspect_segments['av']\n",
    "coarse_aspect_segments['e']=aspect_segments['e'] + aspect_segments['a'] + aspect_segments['pp']\n",
    "print(len(coarse_aspect_segments['sh']))\n"
   ],
   "metadata": {
    "collapsed": false,
    "pycharm": {
     "name": "#%%\n"
    }
   }
  },
  {
   "cell_type": "code",
   "execution_count": 32,
   "metadata": {},
   "outputs": [
    {
     "name": "stdout",
     "output_type": "stream",
     "text": [
      "5828\n"
     ]
    }
   ],
   "source": [
    "# compute tfidf scores\n",
    "vectorizer = TfidfVectorizer(stop_words='english' if remove_stopwords else None,\n",
    "        norm='l1', use_idf=True)\n",
    "vectorizer.fit(all_segs)\n",
    "gl_freq = vectorizer.transform([' '.join(all_segs)]).toarray()[0]\n",
    "print(len(gl_freq))"
   ]
  },
  {
   "cell_type": "code",
   "execution_count": 33,
   "metadata": {},
   "outputs": [
    {
     "name": "stdout",
     "output_type": "stream",
     "text": [
      "5828\n"
     ]
    }
   ],
   "source": [
    "# global scores\n",
    "gl_scores = {}\n",
    "for term, idx in vectorizer.vocabulary_.items():\n",
    "    gl_scores[term] = gl_freq[idx]\n",
    "print (len(gl_scores))\n"
   ]
  },
  {
   "cell_type": "code",
   "execution_count": 21,
   "metadata": {},
   "outputs": [
    {
     "name": "stdout",
     "output_type": "stream",
     "text": [
      "Wall time: 164 ms\n"
     ]
    }
   ],
   "source": [
    "%%time\n",
    "asp_scores = dict([(aspect, {}) for aspect in aspect_segments.keys()])\n",
    "sorted_asp_scores = dict([(aspect, {}) for aspect in aspect_segments.keys()])\n",
    "score_seed_words = dict([(aspect, []) for aspect in asp_meaning.values()])\n",
    "\n",
    "for aspect, segments in aspect_segments.items():\n",
    "    # aspect-specific scores\n",
    "    asp_freq = vectorizer.transform([' '.join(segments)]).toarray()[0]\n",
    "    \n",
    "    # entropies correspond to clarity scores\n",
    "    entropies = rel_entr(asp_freq, gl_freq) / log(2)\n",
    "    for term, idx in vectorizer.vocabulary_.items():\n",
    "        asp_scores[aspect][term] = entropies[idx]\n",
    "        \n",
    "    # sort by score and write to sorted_asp_scores if > 0\n",
    "    scores = sorted(asp_scores[aspect].items(), reverse=True, key=lambda x:x[1])\n",
    "    for term, cla in scores[0:30]:\n",
    "        if cla > 0:\n",
    "            sorted_asp_scores[aspect][term] = cla\n",
    "            score_seed_words[asp_meaning[aspect]].append(term)\n",
    "\n",
    "#pprint(sorted_asp_scores, sort_dicts=False)\n",
    "#pprint(score_seed_words, sort_dicts=False)\n",
    "\n",
    "df_out = pd.DataFrame.from_dict(data=score_seed_words, orient='index')\n",
    "\n",
    "if remove_stopwords:\n",
    "    df_out.to_excel('../processed/score_seed_words_remove_stop.xlsx')\n",
    "else:\n",
    "    df_out.to_excel('../processed/score_seed_words.xlsx')"
   ]
  },
  {
   "cell_type": "code",
   "execution_count": 35,
   "outputs": [
    {
     "name": "stdout",
     "output_type": "stream",
     "text": [
      "{'g': {'gmo': 0.0034220729016981124, 'farming': 0.003251384551384033, 'store': 0.0026979023506027502, 'organic': 0.0024181960176268683, 'india': 0.002208064794842297, 'definition': 0.002202229252914021, 'online': 0.0018898598216810533, 'farm': 0.0018530984385520955, 'seed': 0.0018348630535307273, 'start': 0.0016768723632866682, 'best': 0.001656168123002347, 'dairy': 0.0016352527818798814, 'gmos': 0.0015955780189251085, 'cent': 0.0015725143114748688, 'egg': 0.001529844604986125, 'big': 0.0014552920117768364, 'farmer': 0.0013613723033514854, 'thing': 0.0013335629401660326, 'purchase': 0.0013257227395019554, 'market': 0.0013242001489428316, 'soybean': 0.0013223493838421954, 'monsanto': 0.0012629831189050185, 'buy': 0.0012507066326750212, 'dollar': 0.0012476833126939882, 'item': 0.001236022971720407, 'soy': 0.001224503650968605, 'like': 0.0011994535209259602, 'agriculture': 0.0011941462297654613, 'product': 0.001191512495915708, 'genetic': 0.0011886119434208677, 'method': 0.001175152824786539, 'group': 0.001112321689780113, 'production': 0.0010919927829470522, 'company': 0.0010856582823156108, 'word': 0.0010729346455328151}, 'p': {'price': 0.06969165242701048, 'expensive': 0.06486773095176739, 'cost': 0.05694932520237483, 'pay': 0.022982904275084096, 'money': 0.021085423295672256, 'demand': 0.020078259090423163, 'higher': 0.01834142692215315, 'extra': 0.018102085815163742, 'charge': 0.014367569833549717, 'afford': 0.013964905868784256, 'cheaper': 0.01249979954829764, 'spend': 0.012137779159698834, 'premium': 0.010938174837839217, 'cheap': 0.01041256676775861, 'wallet': 0.009940404423854162, 'supply': 0.009870476643565034, 'buying': 0.00867623052205531, 'worth': 0.008177566279477163, 'willing': 0.007653721988142664, 'dent': 0.007582947649384856, 'budget': 0.007575838327554535, 'www': 0.00725065102688633, 'farmer': 0.006967072965158994, 'produce': 0.006914904315262118, '20': 0.0067206462972940854, 'buy': 0.006716241482386312, '99': 0.006616508518889751, 'tender': 0.0065474068317351265, 'coconut': 0.0065474068317351265, 'breed': 0.006524027475996948, 'people': 0.006361980392028306, 'paying': 0.006073690222208347, 'market': 0.0060328091960822165, 'lower': 0.0060231590108160375, 'paid': 0.0058715288123057435}, 'eq': {'taste': 0.06492319043287526, 'nutrient': 0.02317521472905853, 'better': 0.019107697771934294, 'nutritional': 0.01813831095626989, 'nutritious': 0.01805707073611153, 'quality': 0.01759988683343568, 'difference': 0.016142921447175086, 'vitamin': 0.01444043822150023, 'nutrition': 0.012240836536775258, 'antioxidant': 0.011760917207455965, 'flavor': 0.011623469624884579, 'milk': 0.010294281675856621, 'higher': 0.010039490580202124, 'fruit': 0.00974953428247476, 'tomato': 0.008838783262881874, 'non': 0.008128175273402361, 'tasty': 0.006576256484698079, 'fresh': 0.0064060397393385345, 'fresher': 0.006243041280117611, 'nutritionally': 0.006080628514383042, 'counterpart': 0.005405795087901116, 'superior': 0.005168771337829578, 'food': 0.0051648107538826375, 'content': 0.005159119582362117, 'study': 0.005140389485078538, 'grown': 0.005102209942335449, 'conventionally': 0.004936848613864426, 'vegetable': 0.004896531487625225, 'truly': 0.004866391076527384, 'value': 0.004820303665277874, 'longer': 0.004781635751415844, 'delicious': 0.004700974322497827, 'tasting': 0.004685772566889082, 'advantage': 0.0045970615825084915, 'conventional': 0.0044446590454925205}, 'sh': {'pesticide': 0.026025262406148924, 'chemical': 0.015770565695715527, 'health': 0.010651953839796436, 'fertilizer': 0.0067257735145291086, 'healthy': 0.006602013750304589, 'healthier': 0.006459837418437744, 'synthetic': 0.005639052318806247, 'use': 0.004887812293066635, 'residue': 0.0047711937798712925, 'toxic': 0.004740084768507602, 'safe': 0.004423918398193789, 'harmful': 0.004394523238995542, 'safer': 0.004383488132898876, 'used': 0.0036866439441472364, 'body': 0.003513823404136497, 'disease': 0.003441676244696517, 'cancer': 0.003397261915583753, 'risk': 0.0032736199502225926, 'dangerous': 0.0032682414954418744, 'benefit': 0.0032597970485637564, 'human': 0.003251315807679601, 'study': 0.0031747252444284005, 'herbicide': 0.003007939473796892, 'safety': 0.002992863553185121, 'evidence': 0.0029694998346067297, 'contain': 0.002916127206988842, 'cause': 0.0027706673852264363, 'pest': 0.002716912446681822, 'toxin': 0.0027151459348476264, 'food': 0.0026755636655164936, 'effect': 0.0025987506610487313, 'antibiotic': 0.002492150413226974, 'poison': 0.0024750269558840277, 'level': 0.0024450037638295194, 'powder': 0.0024210071069022334}, 'ts': {'label': 0.02799884961996078, 'certified': 0.018562453838832163, 'certification': 0.01848865717398391, 'usda': 0.01218588456692193, 'local': 0.008723259981246196, 'marketing': 0.007866341121243034, 'market': 0.007591958224290542, 'organic': 0.007582717925155609, 'labeled': 0.006437276858061338, 'labelled': 0.006437276858061338, 'sell': 0.006042423853508262, 'product': 0.005621368543940709, 'certifying': 0.005603196212643204, 'sale': 0.005462326929590338, 'brand': 0.005426922526724785, 'standard': 0.005237001354950882, 'country': 0.00498969057090072, 'ingredient': 0.004921003211476763, 'online': 0.004578018240839855, 'context': 0.004562235750535017, '100': 0.004540675022728731, 'labeling': 0.004507803575422432, 'accredited': 0.004483337737891519, 'store': 0.0040430465647012526, 'locally': 0.003964740689683714, 'company': 0.0038759369592653585, 'illegal': 0.0038699276671942265, 'buy': 0.0038236327525761117, 'shop': 0.0037513472901446092, 'apeda': 0.0037262175954765196, 'supermarket': 0.0034763930305006727, 'india': 0.003470890965053672, 'eu': 0.0033767602053432298, 'bio': 0.003335594181921617, 'vendor': 0.00331719192364294}, 'e': {'environment': 0.02214174936533569, 'soil': 0.016563798054381653, 'farming': 0.013152636665743305, 'yield': 0.013049428488772335, 'animal': 0.01265181558393686, 'land': 0.010913958868119081, 'crop': 0.009520819848898734, 'feed': 0.008469213368687271, 'cow': 0.007675901644878618, 'environmental': 0.007553997537410075, 'impact': 0.007487491598776966, 'sustainable': 0.006853110782382776, 'le': 0.006526508601419173, 'environmentally': 0.00627378431456225, 'worse': 0.006125425509506714, 'chicken': 0.005799449281238159, 'welfare': 0.0057777800751749216, 'practice': 0.005776476868621537, 'hen': 0.005624180907425373, 'destructive': 0.005462209592328859, 'equally': 0.005245953511307948, 'access': 0.004923741221994125, 'production': 0.004920217510353464, 'water': 0.004470328907389985, 'resource': 0.004434602136088041, 'productivity': 0.004156409660802568, 'pollution': 0.004125167896384557, 'inside': 0.003908441551868622, 'cage': 0.0038755184699236097, 'method': 0.0037825985417920763, 'outdoors': 0.003766303284863719, 'fertility': 0.003759626279771036, 'fed': 0.003678743667803319, 'zone': 0.003533086389793081, 'accumulating': 0.003533086389793081}}\n",
      "{'general': ['gmo', 'farming', 'store', 'organic', 'india', 'definition', 'online', 'farm', 'seed', 'start', 'best', 'dairy', 'gmos', 'cent', 'egg', 'big', 'farmer', 'thing', 'purchase', 'market', 'soybean', 'monsanto', 'buy', 'dollar', 'item', 'soy', 'like', 'agriculture', 'product', 'genetic', 'method', 'group', 'production', 'company', 'word'], 'price': ['price', 'expensive', 'cost', 'pay', 'money', 'demand', 'higher', 'extra', 'charge', 'afford', 'cheaper', 'spend', 'premium', 'cheap', 'wallet', 'supply', 'buying', 'worth', 'willing', 'dent', 'budget', 'www', 'farmer', 'produce', '20', 'buy', '99', 'tender', 'coconut', 'breed', 'people', 'paying', 'market', 'lower', 'paid'], 'experienced quality': ['taste', 'nutrient', 'better', 'nutritional', 'nutritious', 'quality', 'difference', 'vitamin', 'nutrition', 'antioxidant', 'flavor', 'milk', 'higher', 'fruit', 'tomato', 'non', 'tasty', 'fresh', 'fresher', 'nutritionally', 'counterpart', 'superior', 'food', 'content', 'study', 'grown', 'conventionally', 'vegetable', 'truly', 'value', 'longer', 'delicious', 'tasting', 'advantage', 'conventional'], 'safety and healthiness': ['pesticide', 'chemical', 'health', 'fertilizer', 'healthy', 'healthier', 'synthetic', 'use', 'residue', 'toxic', 'safe', 'harmful', 'safer', 'used', 'body', 'disease', 'cancer', 'risk', 'dangerous', 'benefit', 'human', 'study', 'herbicide', 'safety', 'evidence', 'contain', 'cause', 'pest', 'toxin', 'food', 'effect', 'antibiotic', 'poison', 'level', 'powder'], 'trustworthy sources': ['label', 'certified', 'certification', 'usda', 'local', 'marketing', 'market', 'organic', 'labeled', 'labelled', 'sell', 'product', 'certifying', 'sale', 'brand', 'standard', 'country', 'ingredient', 'online', 'context', '100', 'labeling', 'accredited', 'store', 'locally', 'company', 'illegal', 'buy', 'shop', 'apeda', 'supermarket', 'india', 'eu', 'bio', 'vendor'], 'environment': ['environment', 'soil', 'farming', 'yield', 'animal', 'land', 'crop', 'feed', 'cow', 'environmental', 'impact', 'sustainable', 'le', 'environmentally', 'worse', 'chicken', 'welfare', 'practice', 'hen', 'destructive', 'equally', 'access', 'production', 'water', 'resource', 'productivity', 'pollution', 'inside', 'cage', 'method', 'outdoors', 'fertility', 'fed', 'zone', 'accumulating']}\n"
     ]
    }
   ],
   "source": [
    "#for coarse aspects\n",
    "asp_scores = dict([(aspect, {}) for aspect in coarse_aspect_segments.keys()])\n",
    "sorted_asp_scores = dict([(aspect, {}) for aspect in coarse_aspect_segments.keys()])\n",
    "score_seed_words = dict([(aspect, []) for aspect in coarse_asp_meaning.values()])\n",
    "\n",
    "for aspect, segments in coarse_aspect_segments.items():\n",
    "    # aspect-specific scores\n",
    "    asp_freq = vectorizer.transform([' '.join(segments)]).toarray()[0]\n",
    "\n",
    "    # entropies correspond to clarity scores\n",
    "    entropies = rel_entr(asp_freq, gl_freq) / log(2)\n",
    "    for term, idx in vectorizer.vocabulary_.items():\n",
    "        asp_scores[aspect][term] = entropies[idx]\n",
    "\n",
    "    # sort by score and write to sorted_asp_scores if > 0\n",
    "    scores = sorted(asp_scores[aspect].items(), reverse=True, key=lambda x:x[1])\n",
    "    for term, cla in scores[0:35]:\n",
    "        if cla > 0:\n",
    "            sorted_asp_scores[aspect][term] = cla\n",
    "            score_seed_words[coarse_asp_meaning[aspect]].append(term)\n",
    "\n",
    "print(sorted_asp_scores)\n",
    "print(score_seed_words)\n",
    "\n",
    "df_out = pd.DataFrame.from_dict(data=score_seed_words, orient='index')\n",
    "\n",
    "if remove_stopwords:\n",
    "    df_out.to_excel('../processed/score_seed_words_remove_stop_coarse.xlsx')\n",
    "else:\n",
    "    df_out.to_excel('../processed/score_seed_words_coarse.xlsx')"
   ],
   "metadata": {
    "collapsed": false,
    "pycharm": {
     "name": "#%%\n"
    }
   }
  }
 ],
 "metadata": {
  "kernelspec": {
   "name": "pycharm-8c6bb530",
   "language": "python",
   "display_name": "PyCharm (nlp-lab)"
  },
  "language_info": {
   "codemirror_mode": {
    "name": "ipython",
    "version": 3
   },
   "file_extension": ".py",
   "mimetype": "text/x-python",
   "name": "python",
   "nbconvert_exporter": "python",
   "pygments_lexer": "ipython3",
   "version": "3.8.3"
  }
 },
 "nbformat": 4,
 "nbformat_minor": 2
}