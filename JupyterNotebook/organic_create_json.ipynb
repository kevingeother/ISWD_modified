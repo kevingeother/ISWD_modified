{
 "cells": [
  {
   "cell_type": "code",
   "execution_count": 1,
   "metadata": {
    "ExecuteTime": {
     "end_time": "2021-07-16T02:20:29.371844Z",
     "start_time": "2021-07-16T02:20:21.799213Z"
    }
   },
   "outputs": [],
   "source": [
    "import pickle\n",
    "import pandas as pd\n",
    "import json\n",
    "\n",
    "%load_ext autoreload\n",
    "%autoreload 2"
   ]
  },
  {
   "cell_type": "markdown",
   "metadata": {},
   "source": [
    "# sentencize\n",
    "\n",
    "load `processed_comments.pkl` file and separate comments into sentences, save as `.json` file for training"
   ]
  },
  {
   "cell_type": "code",
   "execution_count": 2,
   "metadata": {
    "ExecuteTime": {
     "end_time": "2021-07-16T02:21:33.543776Z",
     "start_time": "2021-07-16T02:21:28.649468Z"
    }
   },
   "outputs": [],
   "source": [
    "df = pd.read_pickle(\"../processed/processed_comments.pkl\")"
   ]
  },
  {
   "cell_type": "code",
   "execution_count": 3,
   "metadata": {
    "ExecuteTime": {
     "end_time": "2021-07-16T02:22:01.489548Z",
     "start_time": "2021-07-16T02:22:01.350052Z"
    },
    "scrolled": true
   },
   "outputs": [
    {
     "name": "stdout",
     "output_type": "stream",
     "text": [
      "130516\n",
      "['Recognizing the power of Branding, the Amish should simply abandon organic and label their milk Amish. Come up with a definition of what it means, start your own private certification (a la halal or kosher), and people will pay. I pay premium for free range organic eggs. I would certainly do the same for locally sourced, clean milk from a small farmer. Take down Big Milk!', \"Amish tend to avoid 'branding' anything they make or produce as Amish per se. We live near a large Amish farm area in Ohio and they use terms such as 'homemade' or 'locally produced' rather than use a term they see as potentially prideful.\", 'The Amish community around Lancaster, PA love to sell their \"Amish\" products all over the region.', 'Look for Organic Valley dairy products. You can put in your zip code on their site and see the farm families who produce your milk and butter. I also like that their co-op stood their ground in negotiations with Walmart. They eventually lost out to Horizon because they insisted on a fair price for their farmers. I get to feel virtuous by paying an extra $.50 to support local farmers over big Agra.', 'Branding their milk may be against basic Amish principles of being plain.']\n"
     ]
    }
   ],
   "source": [
    "comments = df['comment'].astype('str').tolist()\n",
    "print(len(comments))    # 130516\n",
    "print(comments[-5:])"
   ]
  },
  {
   "cell_type": "markdown",
   "metadata": {},
   "source": [
    "sentencize"
   ]
  },
  {
   "cell_type": "code",
   "execution_count": 4,
   "metadata": {
    "ExecuteTime": {
     "end_time": "2021-07-16T02:23:04.160565Z",
     "start_time": "2021-07-16T02:22:12.274509Z"
    }
   },
   "outputs": [],
   "source": [
    "from nltk.tokenize import sent_tokenize"
   ]
  },
  {
   "cell_type": "code",
   "execution_count": 6,
   "metadata": {
    "ExecuteTime": {
     "end_time": "2021-07-16T02:24:37.683323Z",
     "start_time": "2021-07-16T02:24:22.689915Z"
    }
   },
   "outputs": [],
   "source": [
    "comments_sentences = []\n",
    "for c in comments:\n",
    "    sents = sent_tokenize(c)\n",
    "    # print(c)\n",
    "    # print(sents)\n",
    "    # print()\n",
    "    comments_sentences.extend(sents)"
   ]
  },
  {
   "cell_type": "code",
   "execution_count": 9,
   "metadata": {
    "ExecuteTime": {
     "end_time": "2021-07-16T02:27:24.793256Z",
     "start_time": "2021-07-16T02:27:24.696324Z"
    },
    "scrolled": true
   },
   "outputs": [
    {
     "name": "stdout",
     "output_type": "stream",
     "text": [
      "442184\n"
     ]
    },
    {
     "data": {
      "text/plain": [
       "['That was another administration.',\n",
       " 'Why is the ex CEO of Monsanto appointed head of the FDA ?',\n",
       " 'because he greased the palms of our \"elected\" leaders.',\n",
       " 'and judges too',\n",
       " 'the photo shown above is from a feed lot in California.it is labeled as such in the article.the claims are that the environmental impact of grass fed cows and feed lot cows are the same.which of course is not.just like you said- animals that graze on pastures continue the growth/life cycle of the forage if managed well',\n",
       " 'THAT IS NOT GRASS FED MEET!',\n",
       " 'NO GRASS THERE!',\n",
       " 'YOU ARE FAKE NEWS!',\n",
       " 'IF ANIMALS COULD RUN THE RANGE LIKE THEY USED TO, THE POOP FERTILIZES THE GRASS AND THE GRASS GROWS AND THE RAIN COMES AND WE ARE ALL HAPPY!',\n",
       " 'LYING NWO HACKS!']"
      ]
     },
     "execution_count": 9,
     "metadata": {},
     "output_type": "execute_result"
    }
   ],
   "source": [
    "print(len(comments_sentences))    # 442184\n",
    "comments_sentences[:10]"
   ]
  },
  {
   "cell_type": "code",
   "execution_count": 10,
   "metadata": {
    "ExecuteTime": {
     "end_time": "2021-07-16T02:35:09.819308Z",
     "start_time": "2021-07-16T02:35:05.936479Z"
    }
   },
   "outputs": [],
   "source": [
    "comments_json = {'original': comments_sentences}"
   ]
  },
  {
   "cell_type": "code",
   "execution_count": 12,
   "metadata": {
    "ExecuteTime": {
     "end_time": "2021-07-16T02:36:48.030338Z",
     "start_time": "2021-07-16T02:36:47.366703Z"
    }
   },
   "outputs": [],
   "source": [
    "with open('../processed/organic_train.json', 'w') as f:\n",
    "    json.dump(comments_json, f)"
   ]
  },
  {
   "cell_type": "markdown",
   "metadata": {},
   "source": [
    "# remove training data that exist in test set"
   ]
  },
  {
   "cell_type": "code",
   "execution_count": 46,
   "metadata": {
    "ExecuteTime": {
     "end_time": "2021-07-16T22:00:42.145721Z",
     "start_time": "2021-07-16T22:00:42.141721Z"
    }
   },
   "outputs": [],
   "source": [
    "import json\n",
    "from tqdm import tqdm"
   ]
  },
  {
   "cell_type": "code",
   "execution_count": 56,
   "metadata": {
    "ExecuteTime": {
     "end_time": "2021-07-16T22:32:29.931359Z",
     "start_time": "2021-07-16T22:32:29.644525Z"
    }
   },
   "outputs": [],
   "source": [
    "with open('../processed/organic_train.json', 'rb') as f:\n",
    "    train = json.load(f)\n",
    "train = train['original']"
   ]
  },
  {
   "cell_type": "code",
   "execution_count": 57,
   "metadata": {
    "ExecuteTime": {
     "end_time": "2021-07-16T22:32:30.423115Z",
     "start_time": "2021-07-16T22:32:30.370146Z"
    }
   },
   "outputs": [],
   "source": [
    "with open('../processed/annotated_test_coarse.json', 'rb') as f:\n",
    "    test = json.load(f)\n",
    "test = test['original']\n",
    "test_set = set(test)"
   ]
  },
  {
   "cell_type": "code",
   "execution_count": 58,
   "metadata": {
    "ExecuteTime": {
     "end_time": "2021-07-16T22:32:31.178700Z",
     "start_time": "2021-07-16T22:32:31.043777Z"
    }
   },
   "outputs": [
    {
     "name": "stdout",
     "output_type": "stream",
     "text": [
      "442184\n",
      "414368\n",
      "4687\n",
      "4183\n"
     ]
    }
   ],
   "source": [
    "print(len(train))    # 442184\n",
    "print(len(set(train)))    # 414368\n",
    "print(len(test))    # 4687\n",
    "print(len(test_set))    # 4183"
   ]
  },
  {
   "cell_type": "markdown",
   "metadata": {},
   "source": [
    "## approach 1"
   ]
  },
  {
   "cell_type": "code",
   "execution_count": 50,
   "metadata": {
    "ExecuteTime": {
     "end_time": "2021-07-16T22:00:46.037126Z",
     "start_time": "2021-07-16T22:00:46.031128Z"
    }
   },
   "outputs": [],
   "source": [
    "def remove_items(source, target):\n",
    "    output = source.copy()\n",
    "    overlap_count = 0\n",
    "    for sent in tqdm(target):\n",
    "        if sent in output:\n",
    "            overlap_count += 1\n",
    "            output.remove(sent)\n",
    "    print(f'remove {overlap_count} items, from {len(source)} -> {len(output)}')\n",
    "    return output, overlap_count"
   ]
  },
  {
   "cell_type": "code",
   "execution_count": 53,
   "metadata": {
    "ExecuteTime": {
     "end_time": "2021-07-16T22:31:59.308987Z",
     "start_time": "2021-07-16T22:07:27.043954Z"
    },
    "scrolled": true
   },
   "outputs": [
    {
     "name": "stderr",
     "output_type": "stream",
     "text": [
      "100%|██████████████████████████████████████████████████████████████████████████████| 4183/4183 [00:59<00:00, 70.24it/s]\n",
      "  0%|▏                                                                                | 8/4183 [00:00<00:54, 76.23it/s]"
     ]
    },
    {
     "name": "stdout",
     "output_type": "stream",
     "text": [
      "remove 3647 items, from 442184 -> 438537\n"
     ]
    },
    {
     "name": "stderr",
     "output_type": "stream",
     "text": [
      "100%|██████████████████████████████████████████████████████████████████████████████| 4183/4183 [00:47<00:00, 88.28it/s]\n",
      "  0%|▏                                                                                | 9/4183 [00:00<00:49, 84.16it/s]"
     ]
    },
    {
     "name": "stdout",
     "output_type": "stream",
     "text": [
      "remove 168 items, from 438537 -> 438369\n"
     ]
    },
    {
     "name": "stderr",
     "output_type": "stream",
     "text": [
      "100%|██████████████████████████████████████████████████████████████████████████████| 4183/4183 [00:46<00:00, 90.00it/s]\n",
      "  0%|▏                                                                               | 10/4183 [00:00<00:45, 90.97it/s]"
     ]
    },
    {
     "name": "stdout",
     "output_type": "stream",
     "text": [
      "remove 55 items, from 438369 -> 438314\n"
     ]
    },
    {
     "name": "stderr",
     "output_type": "stream",
     "text": [
      "100%|██████████████████████████████████████████████████████████████████████████████| 4183/4183 [00:49<00:00, 84.70it/s]\n",
      "  0%|▏                                                                                | 9/4183 [00:00<00:50, 81.86it/s]"
     ]
    },
    {
     "name": "stdout",
     "output_type": "stream",
     "text": [
      "remove 17 items, from 438314 -> 438297\n"
     ]
    },
    {
     "name": "stderr",
     "output_type": "stream",
     "text": [
      "100%|██████████████████████████████████████████████████████████████████████████████| 4183/4183 [00:51<00:00, 82.00it/s]\n",
      "  0%|▏                                                                               | 10/4183 [00:00<00:45, 91.80it/s]"
     ]
    },
    {
     "name": "stdout",
     "output_type": "stream",
     "text": [
      "remove 13 items, from 438297 -> 438284\n"
     ]
    },
    {
     "name": "stderr",
     "output_type": "stream",
     "text": [
      "100%|██████████████████████████████████████████████████████████████████████████████| 4183/4183 [00:48<00:00, 86.71it/s]\n",
      "  0%|▏                                                                               | 10/4183 [00:00<00:44, 93.50it/s]"
     ]
    },
    {
     "name": "stdout",
     "output_type": "stream",
     "text": [
      "remove 11 items, from 438284 -> 438273\n"
     ]
    },
    {
     "name": "stderr",
     "output_type": "stream",
     "text": [
      "100%|██████████████████████████████████████████████████████████████████████████████| 4183/4183 [00:50<00:00, 82.72it/s]\n",
      "  0%|▏                                                                               | 10/4183 [00:00<00:45, 92.65it/s]"
     ]
    },
    {
     "name": "stdout",
     "output_type": "stream",
     "text": [
      "remove 6 items, from 438273 -> 438267\n"
     ]
    },
    {
     "name": "stderr",
     "output_type": "stream",
     "text": [
      "100%|██████████████████████████████████████████████████████████████████████████████| 4183/4183 [00:47<00:00, 88.00it/s]\n",
      "  0%|▏                                                                               | 10/4183 [00:00<00:44, 94.38it/s]"
     ]
    },
    {
     "name": "stdout",
     "output_type": "stream",
     "text": [
      "remove 6 items, from 438267 -> 438261\n"
     ]
    },
    {
     "name": "stderr",
     "output_type": "stream",
     "text": [
      "100%|██████████████████████████████████████████████████████████████████████████████| 4183/4183 [00:47<00:00, 87.54it/s]\n",
      "  0%|▏                                                                               | 10/4183 [00:00<00:46, 90.14it/s]"
     ]
    },
    {
     "name": "stdout",
     "output_type": "stream",
     "text": [
      "remove 2 items, from 438261 -> 438259\n"
     ]
    },
    {
     "name": "stderr",
     "output_type": "stream",
     "text": [
      "100%|██████████████████████████████████████████████████████████████████████████████| 4183/4183 [00:48<00:00, 86.99it/s]\n",
      "  0%|▏                                                                                | 8/4183 [00:00<00:54, 76.23it/s]"
     ]
    },
    {
     "name": "stdout",
     "output_type": "stream",
     "text": [
      "remove 2 items, from 438259 -> 438257\n"
     ]
    },
    {
     "name": "stderr",
     "output_type": "stream",
     "text": [
      "100%|██████████████████████████████████████████████████████████████████████████████| 4183/4183 [00:48<00:00, 86.69it/s]\n",
      "  0%|▏                                                                                | 9/4183 [00:00<00:46, 89.16it/s]"
     ]
    },
    {
     "name": "stdout",
     "output_type": "stream",
     "text": [
      "remove 1 items, from 438257 -> 438256\n"
     ]
    },
    {
     "name": "stderr",
     "output_type": "stream",
     "text": [
      "100%|██████████████████████████████████████████████████████████████████████████████| 4183/4183 [00:47<00:00, 87.36it/s]\n",
      "  0%|▏                                                                               | 10/4183 [00:00<00:44, 93.51it/s]"
     ]
    },
    {
     "name": "stdout",
     "output_type": "stream",
     "text": [
      "remove 1 items, from 438256 -> 438255\n"
     ]
    },
    {
     "name": "stderr",
     "output_type": "stream",
     "text": [
      "100%|██████████████████████████████████████████████████████████████████████████████| 4183/4183 [00:48<00:00, 86.94it/s]\n",
      "  0%|▏                                                                               | 10/4183 [00:00<00:44, 94.39it/s]"
     ]
    },
    {
     "name": "stdout",
     "output_type": "stream",
     "text": [
      "remove 1 items, from 438255 -> 438254\n"
     ]
    },
    {
     "name": "stderr",
     "output_type": "stream",
     "text": [
      "100%|██████████████████████████████████████████████████████████████████████████████| 4183/4183 [00:50<00:00, 83.63it/s]\n",
      "  0%|▏                                                                                | 8/4183 [00:00<00:57, 72.77it/s]"
     ]
    },
    {
     "name": "stdout",
     "output_type": "stream",
     "text": [
      "remove 1 items, from 438254 -> 438253\n"
     ]
    },
    {
     "name": "stderr",
     "output_type": "stream",
     "text": [
      "100%|██████████████████████████████████████████████████████████████████████████████| 4183/4183 [00:47<00:00, 87.89it/s]\n",
      "  0%|▏                                                                               | 10/4183 [00:00<00:44, 93.51it/s]"
     ]
    },
    {
     "name": "stdout",
     "output_type": "stream",
     "text": [
      "remove 1 items, from 438253 -> 438252\n"
     ]
    },
    {
     "name": "stderr",
     "output_type": "stream",
     "text": [
      "100%|██████████████████████████████████████████████████████████████████████████████| 4183/4183 [00:46<00:00, 89.30it/s]\n",
      "  0%|▏                                                                                | 8/4183 [00:00<00:52, 79.26it/s]"
     ]
    },
    {
     "name": "stdout",
     "output_type": "stream",
     "text": [
      "remove 1 items, from 438252 -> 438251\n"
     ]
    },
    {
     "name": "stderr",
     "output_type": "stream",
     "text": [
      "100%|██████████████████████████████████████████████████████████████████████████████| 4183/4183 [00:46<00:00, 89.34it/s]\n",
      "  0%|▏                                                                               | 10/4183 [00:00<00:44, 93.50it/s]"
     ]
    },
    {
     "name": "stdout",
     "output_type": "stream",
     "text": [
      "remove 1 items, from 438251 -> 438250\n"
     ]
    },
    {
     "name": "stderr",
     "output_type": "stream",
     "text": [
      "100%|██████████████████████████████████████████████████████████████████████████████| 4183/4183 [00:48<00:00, 86.74it/s]\n",
      "  0%|▏                                                                               | 10/4183 [00:00<00:43, 95.29it/s]"
     ]
    },
    {
     "name": "stdout",
     "output_type": "stream",
     "text": [
      "remove 1 items, from 438250 -> 438249\n"
     ]
    },
    {
     "name": "stderr",
     "output_type": "stream",
     "text": [
      "100%|██████████████████████████████████████████████████████████████████████████████| 4183/4183 [00:47<00:00, 88.72it/s]\n",
      "  0%|▏                                                                                | 9/4183 [00:00<00:47, 87.43it/s]"
     ]
    },
    {
     "name": "stdout",
     "output_type": "stream",
     "text": [
      "remove 1 items, from 438249 -> 438248\n"
     ]
    },
    {
     "name": "stderr",
     "output_type": "stream",
     "text": [
      "100%|██████████████████████████████████████████████████████████████████████████████| 4183/4183 [00:49<00:00, 85.24it/s]\n",
      "  0%|▏                                                                               | 10/4183 [00:00<00:44, 94.39it/s]"
     ]
    },
    {
     "name": "stdout",
     "output_type": "stream",
     "text": [
      "remove 1 items, from 438248 -> 438247\n"
     ]
    },
    {
     "name": "stderr",
     "output_type": "stream",
     "text": [
      "100%|██████████████████████████████████████████████████████████████████████████████| 4183/4183 [00:47<00:00, 88.29it/s]\n",
      "  0%|▏                                                                               | 10/4183 [00:00<00:45, 92.64it/s]"
     ]
    },
    {
     "name": "stdout",
     "output_type": "stream",
     "text": [
      "remove 1 items, from 438247 -> 438246\n"
     ]
    },
    {
     "name": "stderr",
     "output_type": "stream",
     "text": [
      "100%|██████████████████████████████████████████████████████████████████████████████| 4183/4183 [00:51<00:00, 81.38it/s]\n",
      "  0%|▏                                                                               | 10/4183 [00:00<00:45, 92.64it/s]"
     ]
    },
    {
     "name": "stdout",
     "output_type": "stream",
     "text": [
      "remove 1 items, from 438246 -> 438245\n"
     ]
    },
    {
     "name": "stderr",
     "output_type": "stream",
     "text": [
      "100%|██████████████████████████████████████████████████████████████████████████████| 4183/4183 [00:46<00:00, 89.12it/s]\n",
      "  0%|▏                                                                                | 7/4183 [00:00<01:04, 64.85it/s]"
     ]
    },
    {
     "name": "stdout",
     "output_type": "stream",
     "text": [
      "remove 1 items, from 438245 -> 438244\n"
     ]
    },
    {
     "name": "stderr",
     "output_type": "stream",
     "text": [
      "100%|██████████████████████████████████████████████████████████████████████████████| 4183/4183 [00:46<00:00, 89.03it/s]\n",
      "  0%|▏                                                                               | 10/4183 [00:00<00:42, 97.14it/s]"
     ]
    },
    {
     "name": "stdout",
     "output_type": "stream",
     "text": [
      "remove 1 items, from 438244 -> 438243\n"
     ]
    },
    {
     "name": "stderr",
     "output_type": "stream",
     "text": [
      "100%|██████████████████████████████████████████████████████████████████████████████| 4183/4183 [00:52<00:00, 79.88it/s]\n",
      "  0%|▏                                                                               | 10/4183 [00:00<00:42, 97.14it/s]"
     ]
    },
    {
     "name": "stdout",
     "output_type": "stream",
     "text": [
      "remove 1 items, from 438243 -> 438242\n"
     ]
    },
    {
     "name": "stderr",
     "output_type": "stream",
     "text": [
      "100%|██████████████████████████████████████████████████████████████████████████████| 4183/4183 [01:00<00:00, 69.48it/s]\n",
      "  0%|▏                                                                                | 9/4183 [00:00<00:48, 85.76it/s]"
     ]
    },
    {
     "name": "stdout",
     "output_type": "stream",
     "text": [
      "remove 1 items, from 438242 -> 438241\n"
     ]
    },
    {
     "name": "stderr",
     "output_type": "stream",
     "text": [
      "100%|██████████████████████████████████████████████████████████████████████████████| 4183/4183 [00:59<00:00, 70.31it/s]\n",
      "  0%|                                                                                 | 6/4183 [00:00<01:11, 58.29it/s]"
     ]
    },
    {
     "name": "stdout",
     "output_type": "stream",
     "text": [
      "remove 0 items, from 438241 -> 438241\n"
     ]
    },
    {
     "name": "stderr",
     "output_type": "stream",
     "text": [
      "100%|██████████████████████████████████████████████████████████████████████████████| 4183/4183 [01:05<00:00, 63.68it/s]\n",
      "  0%|▏                                                                              | 11/4183 [00:00<00:41, 100.06it/s]"
     ]
    },
    {
     "name": "stdout",
     "output_type": "stream",
     "text": [
      "remove 0 items, from 438241 -> 438241\n"
     ]
    },
    {
     "name": "stderr",
     "output_type": "stream",
     "text": [
      "100%|██████████████████████████████████████████████████████████████████████████████| 4183/4183 [00:46<00:00, 89.79it/s]\n",
      "  0%|▏                                                                                | 7/4183 [00:00<01:03, 65.46it/s]"
     ]
    },
    {
     "name": "stdout",
     "output_type": "stream",
     "text": [
      "remove 0 items, from 438241 -> 438241\n"
     ]
    },
    {
     "name": "stderr",
     "output_type": "stream",
     "text": [
      " 36%|███████████████████████████▊                                                  | 1492/4183 [00:18<00:33, 80.21it/s]\n"
     ]
    },
    {
     "ename": "KeyboardInterrupt",
     "evalue": "",
     "output_type": "error",
     "traceback": [
      "\u001b[1;31m---------------------------------------------------------------------------\u001b[0m",
      "\u001b[1;31mKeyboardInterrupt\u001b[0m                         Traceback (most recent call last)",
      "\u001b[1;32m<ipython-input-53-847686c1d914>\u001b[0m in \u001b[0;36m<module>\u001b[1;34m\u001b[0m\n\u001b[0;32m      1\u001b[0m \u001b[0moverlap_count\u001b[0m \u001b[1;33m=\u001b[0m \u001b[1;33m-\u001b[0m\u001b[1;36m1\u001b[0m\u001b[1;33m\u001b[0m\u001b[1;33m\u001b[0m\u001b[0m\n\u001b[0;32m      2\u001b[0m \u001b[1;32mwhile\u001b[0m \u001b[0moverlap_count\u001b[0m \u001b[1;33m!=\u001b[0m \u001b[1;36m0\u001b[0m\u001b[1;33m:\u001b[0m\u001b[1;33m\u001b[0m\u001b[1;33m\u001b[0m\u001b[0m\n\u001b[1;32m----> 3\u001b[1;33m     \u001b[0mtrain\u001b[0m \u001b[1;33m=\u001b[0m \u001b[0mremove_items\u001b[0m\u001b[1;33m(\u001b[0m\u001b[0mtrain\u001b[0m\u001b[1;33m,\u001b[0m \u001b[0mtest_set\u001b[0m\u001b[1;33m)\u001b[0m\u001b[1;33m\u001b[0m\u001b[1;33m\u001b[0m\u001b[0m\n\u001b[0m",
      "\u001b[1;32m<ipython-input-50-e45f1bcbee59>\u001b[0m in \u001b[0;36mremove_items\u001b[1;34m(source, target)\u001b[0m\n\u001b[0;32m      2\u001b[0m     \u001b[0moutput\u001b[0m \u001b[1;33m=\u001b[0m \u001b[0msource\u001b[0m\u001b[1;33m.\u001b[0m\u001b[0mcopy\u001b[0m\u001b[1;33m(\u001b[0m\u001b[1;33m)\u001b[0m\u001b[1;33m\u001b[0m\u001b[1;33m\u001b[0m\u001b[0m\n\u001b[0;32m      3\u001b[0m     \u001b[0moverlap_count\u001b[0m \u001b[1;33m=\u001b[0m \u001b[1;36m0\u001b[0m\u001b[1;33m\u001b[0m\u001b[1;33m\u001b[0m\u001b[0m\n\u001b[1;32m----> 4\u001b[1;33m     \u001b[1;32mfor\u001b[0m \u001b[0msent\u001b[0m \u001b[1;32min\u001b[0m \u001b[0mtqdm\u001b[0m\u001b[1;33m(\u001b[0m\u001b[0mtarget\u001b[0m\u001b[1;33m)\u001b[0m\u001b[1;33m:\u001b[0m\u001b[1;33m\u001b[0m\u001b[1;33m\u001b[0m\u001b[0m\n\u001b[0m\u001b[0;32m      5\u001b[0m         \u001b[1;32mif\u001b[0m \u001b[0msent\u001b[0m \u001b[1;32min\u001b[0m \u001b[0moutput\u001b[0m\u001b[1;33m:\u001b[0m\u001b[1;33m\u001b[0m\u001b[1;33m\u001b[0m\u001b[0m\n\u001b[0;32m      6\u001b[0m             \u001b[0moverlap_count\u001b[0m \u001b[1;33m+=\u001b[0m \u001b[1;36m1\u001b[0m\u001b[1;33m\u001b[0m\u001b[1;33m\u001b[0m\u001b[0m\n",
      "\u001b[1;32mE:\\Anaconda3\\envs\\nlp\\lib\\site-packages\\tqdm\\std.py\u001b[0m in \u001b[0;36m__iter__\u001b[1;34m(self)\u001b[0m\n\u001b[0;32m   1135\u001b[0m                 \u001b[1;31m# Update and possibly print the progressbar.\u001b[0m\u001b[1;33m\u001b[0m\u001b[1;33m\u001b[0m\u001b[1;33m\u001b[0m\u001b[0m\n\u001b[0;32m   1136\u001b[0m                 \u001b[1;31m# Note: does not call self.update(1) for speed optimisation.\u001b[0m\u001b[1;33m\u001b[0m\u001b[1;33m\u001b[0m\u001b[1;33m\u001b[0m\u001b[0m\n\u001b[1;32m-> 1137\u001b[1;33m                 \u001b[0mn\u001b[0m \u001b[1;33m+=\u001b[0m \u001b[1;36m1\u001b[0m\u001b[1;33m\u001b[0m\u001b[1;33m\u001b[0m\u001b[0m\n\u001b[0m\u001b[0;32m   1138\u001b[0m                 \u001b[1;31m# check counter first to avoid calls to time()\u001b[0m\u001b[1;33m\u001b[0m\u001b[1;33m\u001b[0m\u001b[1;33m\u001b[0m\u001b[0m\n\u001b[0;32m   1139\u001b[0m                 \u001b[1;32mif\u001b[0m \u001b[0mn\u001b[0m \u001b[1;33m-\u001b[0m \u001b[0mlast_print_n\u001b[0m \u001b[1;33m>=\u001b[0m \u001b[0mself\u001b[0m\u001b[1;33m.\u001b[0m\u001b[0mminiters\u001b[0m\u001b[1;33m:\u001b[0m\u001b[1;33m\u001b[0m\u001b[1;33m\u001b[0m\u001b[0m\n",
      "\u001b[1;31mKeyboardInterrupt\u001b[0m: "
     ]
    }
   ],
   "source": [
    "overlap_count = -1\n",
    "while overlap_count != 0:\n",
    "    train, overlap_count = remove_items(train, test_set)"
   ]
  },
  {
   "cell_type": "code",
   "execution_count": 55,
   "metadata": {
    "ExecuteTime": {
     "end_time": "2021-07-16T22:32:15.862475Z",
     "start_time": "2021-07-16T22:32:15.843487Z"
    }
   },
   "outputs": [
    {
     "name": "stdout",
     "output_type": "stream",
     "text": [
      "438241\n"
     ]
    }
   ],
   "source": [
    "output_1 = train.copy()\n",
    "print(len(output_1))"
   ]
  },
  {
   "cell_type": "code",
   "execution_count": 68,
   "metadata": {
    "ExecuteTime": {
     "end_time": "2021-07-16T22:35:08.791464Z",
     "start_time": "2021-07-16T22:35:08.785465Z"
    }
   },
   "outputs": [
    {
     "data": {
      "text/plain": [
       "['Chemical fertilizers are made from natural gas and since Reliance is big into oil and gas production, and Reliance foundation is philanthrophy partner, this could be the reason why this issue was not brought up.',\n",
       " 'It is also unlikely that the issue of global warming [which 98 % of the scientists world wide agree is a big problem] which can affect agriculture in India very negatively [besides other problems it will cause] will be brought up in any episode because acknowledging global warming means decreasing use of petrol, coal and natural gas, which is essentially the bread and butter of Reliance and much of the industry [including bollywood in which Aamir works] depends a lot on petroleum.',\n",
       " \"Another big issue the show will never directly cover is overpopulation problem, although it is addressing it indirectly by bringing up women's issues.\",\n",
       " 'very old issue though, it should be pursued in right earnest.',\n",
       " 'After Bhopal gas disaster, some NGOs took up such issues along with Bhopal disaster, but could not achieve success because of lack of mass consciousness.',\n",
       " \"Let's now all unite with more vigour so that the menace of poisonous pesticides may be eradicated for ever.\",\n",
       " 'Bravo Amir!',\n",
       " 'Another great episode Aamir and I agree lot of work to be done in this matter to bring the change but I was thinking the formation of the team you suggested in the episode who will test and do the surveys on the usage of the pesticides is worth making only when they work honestly.',\n",
       " 'As everyone is aware that people have really bad habit of taking bribe in our country which I think encourages people more to act negligently.',\n",
       " \"They start thinking 'doesn't matter of what is going to happen, they will give some money to police or whoever comes and they will be free with everything'.\"]"
      ]
     },
     "execution_count": 68,
     "metadata": {},
     "output_type": "execute_result"
    }
   ],
   "source": [
    "output_1[200000:200010]"
   ]
  },
  {
   "cell_type": "markdown",
   "metadata": {},
   "source": [
    "## approach 2"
   ]
  },
  {
   "cell_type": "code",
   "execution_count": 61,
   "metadata": {
    "ExecuteTime": {
     "end_time": "2021-07-16T22:33:08.370925Z",
     "start_time": "2021-07-16T22:33:08.082094Z"
    }
   },
   "outputs": [
    {
     "name": "stderr",
     "output_type": "stream",
     "text": [
      "100%|█████████████████████████████████████████████████████████████████████| 442184/442184 [00:00<00:00, 1603054.69it/s]\n"
     ]
    }
   ],
   "source": [
    "output_2 = []\n",
    "for sent in tqdm(train):\n",
    "    if sent not in test_set:\n",
    "        output_2.append(sent)"
   ]
  },
  {
   "cell_type": "code",
   "execution_count": 60,
   "metadata": {
    "ExecuteTime": {
     "end_time": "2021-07-16T22:32:57.163712Z",
     "start_time": "2021-07-16T22:32:57.157714Z"
    }
   },
   "outputs": [
    {
     "data": {
      "text/plain": [
       "438241"
      ]
     },
     "execution_count": 60,
     "metadata": {},
     "output_type": "execute_result"
    }
   ],
   "source": [
    "len(output_2)"
   ]
  },
  {
   "cell_type": "code",
   "execution_count": 67,
   "metadata": {
    "ExecuteTime": {
     "end_time": "2021-07-16T22:34:59.116521Z",
     "start_time": "2021-07-16T22:34:59.109525Z"
    },
    "scrolled": true
   },
   "outputs": [
    {
     "data": {
      "text/plain": [
       "['Chemical fertilizers are made from natural gas and since Reliance is big into oil and gas production, and Reliance foundation is philanthrophy partner, this could be the reason why this issue was not brought up.',\n",
       " 'It is also unlikely that the issue of global warming [which 98 % of the scientists world wide agree is a big problem] which can affect agriculture in India very negatively [besides other problems it will cause] will be brought up in any episode because acknowledging global warming means decreasing use of petrol, coal and natural gas, which is essentially the bread and butter of Reliance and much of the industry [including bollywood in which Aamir works] depends a lot on petroleum.',\n",
       " \"Another big issue the show will never directly cover is overpopulation problem, although it is addressing it indirectly by bringing up women's issues.\",\n",
       " 'very old issue though, it should be pursued in right earnest.',\n",
       " 'After Bhopal gas disaster, some NGOs took up such issues along with Bhopal disaster, but could not achieve success because of lack of mass consciousness.',\n",
       " \"Let's now all unite with more vigour so that the menace of poisonous pesticides may be eradicated for ever.\",\n",
       " 'Bravo Amir!',\n",
       " 'Another great episode Aamir and I agree lot of work to be done in this matter to bring the change but I was thinking the formation of the team you suggested in the episode who will test and do the surveys on the usage of the pesticides is worth making only when they work honestly.',\n",
       " 'As everyone is aware that people have really bad habit of taking bribe in our country which I think encourages people more to act negligently.',\n",
       " \"They start thinking 'doesn't matter of what is going to happen, they will give some money to police or whoever comes and they will be free with everything'.\"]"
      ]
     },
     "execution_count": 67,
     "metadata": {},
     "output_type": "execute_result"
    }
   ],
   "source": [
    "output_2[200000:200010]"
   ]
  },
  {
   "cell_type": "code",
   "execution_count": 71,
   "metadata": {
    "ExecuteTime": {
     "end_time": "2021-07-16T22:37:32.951733Z",
     "start_time": "2021-07-16T22:37:32.947734Z"
    }
   },
   "outputs": [],
   "source": [
    "dump_data = {'original': output_2}"
   ]
  },
  {
   "cell_type": "code",
   "execution_count": 72,
   "metadata": {
    "ExecuteTime": {
     "end_time": "2021-07-16T22:37:45.731380Z",
     "start_time": "2021-07-16T22:37:44.912833Z"
    }
   },
   "outputs": [],
   "source": [
    "with open('../processed/organic_train.json', 'w') as f:\n",
    "    json.dump(dump_data, f)"
   ]
  },
  {
   "cell_type": "code",
   "execution_count": 76,
   "metadata": {
    "ExecuteTime": {
     "end_time": "2021-07-16T22:40:32.959082Z",
     "start_time": "2021-07-16T22:40:32.651259Z"
    }
   },
   "outputs": [
    {
     "data": {
      "text/plain": [
       "['You can put in your zip code on their site and see the farm families who produce your milk and butter.',\n",
       " 'I also like that their co-op stood their ground in negotiations with Walmart.',\n",
       " 'They eventually lost out to Horizon because they insisted on a fair price for their farmers.',\n",
       " 'I get to feel virtuous by paying an extra $.50 to support local farmers over big Agra.',\n",
       " 'Branding their milk may be against basic Amish principles of being plain.']"
      ]
     },
     "execution_count": 76,
     "metadata": {},
     "output_type": "execute_result"
    }
   ],
   "source": [
    "with open('../processed/organic_train.json', 'rb') as f:\n",
    "    load_data = json.load(f)\n",
    "load_data['original'][-5:]"
   ]
  },
  {
   "cell_type": "code",
   "execution_count": null,
   "metadata": {
    "ExecuteTime": {
     "end_time": "2021-07-16T21:30:40.413674Z",
     "start_time": "2021-07-16T21:30:40.257764Z"
    }
   },
   "outputs": [],
   "source": [
    "sorted(train, key=len)"
   ]
  },
  {
   "cell_type": "markdown",
   "metadata": {},
   "source": [
    "# debugging \n",
    "\n",
    "not useful anymore"
   ]
  },
  {
   "cell_type": "code",
   "execution_count": 27,
   "metadata": {
    "ExecuteTime": {
     "end_time": "2021-07-15T22:47:14.666586Z",
     "start_time": "2021-07-15T22:47:14.098915Z"
    }
   },
   "outputs": [],
   "source": [
    "with open('../processed/organic_train.json', 'r', encoding='utf-8') as f:\n",
    "    orig_json_file = json.load(f)\n",
    "orig_json_file = [s for batch in orig_json_file['original'] for s in batch]"
   ]
  },
  {
   "cell_type": "code",
   "execution_count": 28,
   "metadata": {
    "ExecuteTime": {
     "end_time": "2021-07-15T22:47:16.922285Z",
     "start_time": "2021-07-15T22:47:16.823355Z"
    }
   },
   "outputs": [
    {
     "data": {
      "text/plain": [
       "135479"
      ]
     },
     "execution_count": 28,
     "metadata": {},
     "output_type": "execute_result"
    }
   ],
   "source": [
    "len(orig_json_file)"
   ]
  },
  {
   "cell_type": "code",
   "execution_count": 41,
   "metadata": {
    "ExecuteTime": {
     "end_time": "2021-07-16T01:13:51.165363Z",
     "start_time": "2021-07-16T01:13:50.981468Z"
    }
   },
   "outputs": [
    {
     "name": "stdout",
     "output_type": "stream",
     "text": [
      "Coincidentally, yesterday I just watched, \"What the Dairy Industry does not Want You to Know\" by Neal Barnard MD (https://www.youtube.com/watch?v=h3c_D0s391Q&amp;t=150s) and that sure makes a strong case against dairy of any kind, organic or not. And I grew up on a farm too! I will stick to buying Amish furniture I guess. there is a place in my town that is called, \"Amish Woodcrafts\".\n"
     ]
    }
   ],
   "source": [
    "eg_df = pd.DataFrame({'comment': [orig_json_file[-21]]})\n",
    "print(eg_df.iloc[0].comment)"
   ]
  },
  {
   "cell_type": "code",
   "execution_count": 30,
   "metadata": {
    "ExecuteTime": {
     "end_time": "2021-07-15T22:47:36.286172Z",
     "start_time": "2021-07-15T22:47:36.173238Z"
    },
    "scrolled": true
   },
   "outputs": [
    {
     "name": "stdout",
     "output_type": "stream",
     "text": [
      "C:\\Project\\group-1.3\\scripts\n"
     ]
    }
   ],
   "source": [
    "%cd ../scripts\n",
    "from utils import  *"
   ]
  },
  {
   "cell_type": "code",
   "execution_count": 42,
   "metadata": {
    "ExecuteTime": {
     "end_time": "2021-07-16T01:13:53.601957Z",
     "start_time": "2021-07-16T01:13:53.017295Z"
    },
    "scrolled": false
   },
   "outputs": [
    {
     "name": "stdout",
     "output_type": "stream",
     "text": [
      "original length: (1, 1) \t length after filter out blank: (1, 1)\n",
      "removing Devanagari...\n",
      "do some hard-coded replacement...\n",
      "removing url...\n",
      "calculating filtering criteria...\n",
      "final dataframe length: (1, 1)\n"
     ]
    }
   ],
   "source": [
    "df, final_df = filter_comments_pandas(eg_df)"
   ]
  },
  {
   "cell_type": "code",
   "execution_count": 43,
   "metadata": {
    "ExecuteTime": {
     "end_time": "2021-07-16T01:13:57.286869Z",
     "start_time": "2021-07-16T01:13:57.179929Z"
    },
    "scrolled": false
   },
   "outputs": [
    {
     "name": "stdout",
     "output_type": "stream",
     "text": [
      "Coincidentally, yesterday I just watched, \"What the Dairy Industry does not Want You to Know\" by Neal Barnard MD ( and that sure makes a strong case against dairy of any kind, organic or not. And I grew up on a farm too! I will stick to buying Amish furniture I guess. there is a place in my town that is called, \"Amish Woodcrafts\".\n",
      "Coincidentally yesterday I just watched What the Dairy Industry does not Want You to Know by Neal Barnard MD and that sure makes a strong case against dairy of any kind organic or not And I grew up on a farm too I will stick to buying Amish furniture I guess there is a place in my town that is called Amish Woodcrafts\n"
     ]
    }
   ],
   "source": [
    "print(df.iloc[0].comment)\n",
    "print(df.iloc[0].tidy_comment)\n",
    "# print(df.tidy_comment)"
   ]
  },
  {
   "cell_type": "code",
   "execution_count": 46,
   "metadata": {
    "ExecuteTime": {
     "end_time": "2021-07-16T01:18:14.775847Z",
     "start_time": "2021-07-16T01:18:14.633911Z"
    }
   },
   "outputs": [
    {
     "data": {
      "text/plain": [
       "'Coincidentally, yesterday I just watched, \"What the Dairy Industry does not Want You to Know\" by Neal Barnard MD ( and that sure makes a strong case against dairy of any kind, organic or not. And I grew up on a farm too! I will stick to buying Amish furniture I guess. there is a place in my town that is called, \"Amish Woodcrafts\".'"
      ]
     },
     "execution_count": 46,
     "metadata": {},
     "output_type": "execute_result"
    }
   ],
   "source": [
    "final_df.iloc[0].comment"
   ]
  },
  {
   "cell_type": "code",
   "execution_count": null,
   "metadata": {},
   "outputs": [],
   "source": []
  }
 ],
 "metadata": {
  "kernelspec": {
   "display_name": "Python 3",
   "language": "python",
   "name": "python3"
  },
  "language_info": {
   "codemirror_mode": {
    "name": "ipython",
    "version": 3
   },
   "file_extension": ".py",
   "mimetype": "text/x-python",
   "name": "python",
   "nbconvert_exporter": "python",
   "pygments_lexer": "ipython3",
   "version": "3.7.10"
  },
  "toc": {
   "base_numbering": 1,
   "nav_menu": {},
   "number_sections": true,
   "sideBar": true,
   "skip_h1_title": false,
   "title_cell": "Table of Contents",
   "title_sidebar": "Contents",
   "toc_cell": false,
   "toc_position": {},
   "toc_section_display": true,
   "toc_window_display": false
  }
 },
 "nbformat": 4,
 "nbformat_minor": 2
}
